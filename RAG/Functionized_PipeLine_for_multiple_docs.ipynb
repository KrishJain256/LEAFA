{
 "cells": [
  {
   "cell_type": "code",
   "metadata": {
    "ExecuteTime": {
     "end_time": "2024-11-05T21:28:59.673686Z",
     "start_time": "2024-11-05T21:28:52.401698Z"
    }
   },
   "source": [
    "import os\n",
    "import os\n",
    "import json\n",
    "from llama_index.core import SimpleDirectoryReader\n",
    "import ollama\n",
    "from groq import Groq\n",
    "from langchain import PromptTemplate\n",
    "# from langchain.chat_models import ChatOpenAI\n",
    "from langchain.chains.summarize import load_summarize_chain\n",
    "from langchain.text_splitter import RecursiveCharacterTextSplitter\n",
    "from PyPDF2 import PdfReader\n",
    "from langchain.docstore.document import Document\n",
    "from langchain_community.vectorstores import FAISS\n",
    "from pathlib import Path\n",
    "import json\n",
    "from langchain_google_genai import ChatGoogleGenerativeAI\n",
    "from langchain_core.output_parsers import StrOutputParser\n",
    "from langchain_core.runnables import RunnablePassthrough\n",
    "import pickle\n",
    "import time"
   ],
   "outputs": [],
   "execution_count": 1
  },
  {
   "cell_type": "code",
   "metadata": {
    "ExecuteTime": {
     "end_time": "2024-11-05T21:29:14.023190Z",
     "start_time": "2024-11-05T21:29:14.018890Z"
    }
   },
   "source": [
    "#Importiong api keys\n",
    "GROQ_API_KEY = os.getenv(\"GROQ_API_KEY\")\n",
    "GEMINI_API_KEY = os.getenv(\"GEMINI_API\")"
   ],
   "outputs": [],
   "execution_count": 2
  },
  {
   "cell_type": "code",
   "metadata": {
    "ExecuteTime": {
     "end_time": "2024-11-05T21:29:14.503823Z",
     "start_time": "2024-11-05T21:29:14.499027Z"
    }
   },
   "source": [
    "Parent_directory = Path('Papers')\n",
    "File_paths = Path.rglob(Parent_directory, '*.pdf')"
   ],
   "outputs": [],
   "execution_count": 3
  },
  {
   "cell_type": "code",
   "metadata": {
    "ExecuteTime": {
     "end_time": "2024-11-05T21:29:15.012447Z",
     "start_time": "2024-11-05T21:29:14.985179Z"
    }
   },
   "source": [
    "File_paths"
   ],
   "outputs": [
    {
     "data": {
      "text/plain": [
       "<generator object Path.rglob at 0x7fdeadd0b560>"
      ]
     },
     "execution_count": 4,
     "metadata": {},
     "output_type": "execute_result"
    }
   ],
   "execution_count": 4
  },
  {
   "cell_type": "code",
   "metadata": {
    "ExecuteTime": {
     "end_time": "2024-11-05T21:29:17.842732Z",
     "start_time": "2024-11-05T21:29:17.835073Z"
    }
   },
   "source": [
    "File_paths = [str(i) for i in File_paths]"
   ],
   "outputs": [],
   "execution_count": 5
  },
  {
   "cell_type": "code",
   "metadata": {
    "ExecuteTime": {
     "end_time": "2024-11-05T21:29:20.221682Z",
     "start_time": "2024-11-05T21:29:20.214765Z"
    }
   },
   "source": [
    "File_paths"
   ],
   "outputs": [
    {
     "data": {
      "text/plain": [
       "['Papers/Attention_is_all_you_need.pdf',\n",
       " 'Papers/Fast-RCNN.pdf',\n",
       " 'Papers/Mamba.pdf',\n",
       " 'Papers/Variational Auto encoders.pdf',\n",
       " 'Papers/SORT.pdf',\n",
       " 'Papers/Mask RCNN.pdf',\n",
       " 'Papers/DCGAN-notes.pdf',\n",
       " 'Papers/The Power of Linear Recurrent Neural Networks.pdf',\n",
       " 'Papers/StackGAN_original_paper.pdf',\n",
       " 'Papers/Image_Augmentation_IllusionCraft.pdf',\n",
       " 'Papers/StackGAN.pdf',\n",
       " 'Papers/Word2Vec Paper.pdf',\n",
       " 'Papers/DeepSORT.pdf',\n",
       " 'Papers/Mismatching_images___Keeping_a_check_on_the_generator (1).pdf',\n",
       " 'Papers/GANs_Paper.pdf',\n",
       " 'Papers/ESO201/Lecture 17.pdf',\n",
       " 'Papers/ESO201/Lecture 14.pdf',\n",
       " 'Papers/ESO201/Lecture 19.pdf',\n",
       " 'Papers/ESO201/Lecture 19_0.pdf',\n",
       " 'Papers/ESO201/Lecture 4.pdf',\n",
       " 'Papers/ESO201/T_H_E_R_M_O_D_Y_N_A_M_I_C_S_AN_ENGINEERI.pdf',\n",
       " 'Papers/ESO201/Lecture 11.pdf',\n",
       " 'Papers/ESO201/Lecture 2.pdf',\n",
       " 'Papers/ESO201/Lecture 3.pdf',\n",
       " 'Papers/ESO201/Property tables and charts.pdf',\n",
       " 'Papers/ESO201/Lecture 1.pdf',\n",
       " 'Papers/ESO201/Lecture 8.pdf',\n",
       " 'Papers/ESO201/Lecture 15.pdf',\n",
       " 'Papers/ESO201/Chem Thermo 2.pdf',\n",
       " 'Papers/ESO201/Lecture 7.pdf',\n",
       " 'Papers/ESO201/thermo_solution_8thedi.pdf',\n",
       " 'Papers/ESO201/Lecture 6.pdf',\n",
       " 'Papers/ESO201/Lecture 5.pdf',\n",
       " 'Papers/ESO201/Lecture 16.pdf',\n",
       " 'Papers/ESO201/Lecture 10.pdf',\n",
       " 'Papers/ESO201/Lecture 13.pdf',\n",
       " 'Papers/ESO201/Chem Thermo 1.pdf',\n",
       " 'Papers/ESO201/Lecture 9.pdf',\n",
       " 'Papers/ESO201/Lecture 18.pdf',\n",
       " 'Papers/ESO201/Lecture 12.pdf',\n",
       " 'Papers/MSO notes/Lecture6_7.pdf',\n",
       " 'Papers/MSO notes/MSO202Lect11.pdf',\n",
       " 'Papers/MSO notes/MSO202Lect6.pdf',\n",
       " 'Papers/MSO notes/MSO202Lect4.pdf',\n",
       " 'Papers/MSO notes/MSO202Lect15.pdf',\n",
       " 'Papers/MSO notes/MSO202Lect3.pdf',\n",
       " 'Papers/MSO notes/MSO202Lect13.pdf',\n",
       " 'Papers/MSO notes/MSO202Lect10.pdf',\n",
       " 'Papers/MSO notes/MSO202Lect9.pdf',\n",
       " 'Papers/MSO notes/MSO202M_Endsem_Y22.pdf',\n",
       " 'Papers/MSO notes/MSO202Lect8.pdf',\n",
       " 'Papers/MSO notes/MSO202Lect5.pdf',\n",
       " 'Papers/MSO notes/MSO202Lect1.pdf',\n",
       " 'Papers/MSO notes/MSO202Lect14.pdf',\n",
       " 'Papers/MSO notes/MSO202Lect7.pdf',\n",
       " 'Papers/MSO notes/MSO202Lect2.pdf',\n",
       " 'Papers/MSO notes/Lecture5.pdf',\n",
       " 'Papers/MSO notes/MSO202Lect12.pdf',\n",
       " 'Papers/ESC201/Lecture6_7.pdf',\n",
       " 'Papers/ESC201/Lecture9.pdf',\n",
       " 'Papers/ESC201/Lecture17.pdf',\n",
       " 'Papers/ESC201/Lecture19.pdf',\n",
       " 'Papers/ESC201/Lecture12b.pdf',\n",
       " 'Papers/ESC201/Lecture20_21.pdf',\n",
       " 'Papers/ESC201/Lecture12a.pdf',\n",
       " 'Papers/ESC201/Lecture22.pdf',\n",
       " 'Papers/ESC201/Lecture10.pdf',\n",
       " 'Papers/ESC201/Lecture18.pdf',\n",
       " 'Papers/ESC201/Lecture13.pdf',\n",
       " 'Papers/ESC201/Lecture15.pdf',\n",
       " 'Papers/ESC201/Lecture8.pdf',\n",
       " 'Papers/ESC201/Lecture16.pdf',\n",
       " 'Papers/ESC201/Lecture5.pdf',\n",
       " 'Papers/ESC201/Lecture9b.pdf',\n",
       " 'Papers/ESC201/Lecture11.pdf',\n",
       " 'Papers/ESC201/PYQ/Midsem 2020 II.pdf',\n",
       " 'Papers/ESC201/PYQ/Midsem 2020 I.pdf',\n",
       " 'Papers/ESC201/PYQ/Midsem sol_to_showw.pdf',\n",
       " 'Papers/ESC201/PYQ/1820448fe9c9eaac0b9d32f1384599b7c8fab6b5697e7748eafba52c66470b96_Midsem sol_to_showw.pdf',\n",
       " 'Papers/ESC201/PYQ/Lec14_MOSFET_I-V_characteristics.pdf']"
      ]
     },
     "execution_count": 6,
     "metadata": {},
     "output_type": "execute_result"
    }
   ],
   "execution_count": 6
  },
  {
   "cell_type": "markdown",
   "metadata": {},
   "source": [
    "#### Using LangSimth for monitoring"
   ]
  },
  {
   "cell_type": "code",
   "metadata": {
    "ExecuteTime": {
     "end_time": "2024-11-05T21:48:14.345067Z",
     "start_time": "2024-11-05T21:48:14.340472Z"
    }
   },
   "source": [
    "# Using langsmith to monitor the progress of the summarization\n",
    "#! If you want to use langsmith, please set the environment variable LANGCHAIN_API to your langsmith api key\n",
    "# if os.environ.get(\"LANGCHAIN_API\")!=\"\":\n",
    "#     os.environ[\"LANGCHAIN_TRACING_V2\"] = \"true\"\n",
    "#     os.environ[\"LANGCHAIN_API_KEY\"]=os.environ.get(\"LANGCHAIN_API\")\n",
    "#     os.environ[\"LANGCHAIN_ENDPOINT\"]=\"https://api.smith.langchain.com\"\n",
    "#     os.environ[\"LANGCHAIN_PROJECT\"]=\"LearnLang\"\n",
    "os.environ[\"LANGCHAIN_TRACING_V2\"] = \"true\"\n",
    "os.environ[\"LANGCHAIN_API_KEY\"]=\"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\"\n",
    "os.environ[\"LANGCHAIN_ENDPOINT\"]=\"https://api.smith.langchain.com\"\n",
    "os.environ[\"LANGCHAIN_PROJECT\"]=\"LearnLang\""
   ],
   "outputs": [],
   "execution_count": 25
  },
  {
   "cell_type": "markdown",
   "metadata": {},
   "source": [
    "### Summarization"
   ]
  },
  {
   "cell_type": "code",
   "metadata": {
    "ExecuteTime": {
     "end_time": "2024-11-05T21:48:18.851089Z",
     "start_time": "2024-11-05T21:48:18.844115Z"
    }
   },
   "source": [
    "# Functionizing till split_chunks\n",
    "def input_llm_pdf(File_path): #!Pass the file path of the pdf, this function will return the split_chunks\n",
    "    # Reading the pdf file\n",
    "    pdfreader = PdfReader(File_path)\n",
    "    text = ''\n",
    "    for i, page in enumerate(pdfreader.pages):\n",
    "        content = page.extract_text()\n",
    "        if content:\n",
    "            text += content\n",
    "    # Converting the text of the pdf of Document object\n",
    "    docs = [Document(page_content=text)]\n",
    "    docs\n",
    "    ## Splittting the text\n",
    "    text_splitter = RecursiveCharacterTextSplitter(chunk_size=300000, chunk_overlap=200) # 300k characters per chunk, or nearly 75,000 tokens\n",
    "    chunks = text_splitter.create_documents([text])\n",
    "    split_chunks = []\n",
    "    for x in range(0,len(chunks),12):\n",
    "        split_chunks.append(chunks[x:x+12])\n",
    "    return split_chunks"
   ],
   "outputs": [],
   "execution_count": 26
  },
  {
   "cell_type": "code",
   "metadata": {
    "ExecuteTime": {
     "end_time": "2024-11-05T21:48:19.188463Z",
     "start_time": "2024-11-05T21:48:19.183599Z"
    }
   },
   "source": [
    "# Functionizing till split_chunks\n",
    "def input_llm_pdf_hf(File_path): #!Pass the file path of the pdf, this function will return the split_chunks\n",
    "    # Reading the pdf file\n",
    "    pdfreader = PdfReader(File_path)\n",
    "    text = ''\n",
    "    for i, page in enumerate(pdfreader.pages):\n",
    "        content = page.extract_text()\n",
    "        if content:\n",
    "            text += content\n",
    "    # Converting the text of the pdf of Document object\n",
    "    docs = [Document(page_content=text)]\n",
    "    docs\n",
    "    ## Splittting the text\n",
    "    text_splitter = RecursiveCharacterTextSplitter(chunk_size=70000, chunk_overlap=200) # 300k characters per chunk, or nearly 75,000 tokens\n",
    "    chunks = text_splitter.create_documents([text])\n",
    "    return chunks"
   ],
   "outputs": [],
   "execution_count": 27
  },
  {
   "cell_type": "markdown",
   "metadata": {},
   "source": [
    "#### Prompts for summarizing"
   ]
  },
  {
   "cell_type": "code",
   "metadata": {
    "ExecuteTime": {
     "end_time": "2024-11-05T21:48:20.722932Z",
     "start_time": "2024-11-05T21:48:20.717017Z"
    }
   },
   "source": [
    "chunks_prompt=\"\"\"\n",
    "Sumarise the bellow document, it will be used to later match the document with a user query, so capture the most important informations.\n",
    "Document:`{text}'.Also in a line return the keywords in the document, these keywords must include the vast majority of the important points in the document.Use the maximum number of characters to express the summary under 20,000 characters.\n",
    "Summary:\n",
    "\"\"\"\n",
    "map_prompt_template=PromptTemplate(input_variables=['text'],\n",
    "                                    template=chunks_prompt)"
   ],
   "outputs": [],
   "execution_count": 28
  },
  {
   "cell_type": "code",
   "metadata": {
    "ExecuteTime": {
     "end_time": "2024-11-05T21:48:21.512458Z",
     "start_time": "2024-11-05T21:48:21.503784Z"
    }
   },
   "source": [
    "final_combine_prompt='''\n",
    "Provide a final summary of the entire document with these important points, this will be used to match the document with a user query, so capture the most important informations.Also in a line return the keywords in the document, these keywords must include the vast majority of the important points in the document.Use the maximum number of characters to express the summary under 20,000 characters.\n",
    "Document: `{text}`\n",
    "'''\n",
    "final_combine_prompt_template=PromptTemplate(input_variables=['text'],\n",
    "                                             template=final_combine_prompt)"
   ],
   "outputs": [],
   "execution_count": 29
  },
  {
   "cell_type": "code",
   "metadata": {
    "ExecuteTime": {
     "end_time": "2024-11-05T21:48:22.563461Z",
     "start_time": "2024-11-05T21:48:22.552957Z"
    }
   },
   "source": [
    "from langchain_google_genai import ChatGoogleGenerativeAI\n",
    "from langchain_core.rate_limiters import InMemoryRateLimiter\n",
    "\n",
    "rate_limiter = InMemoryRateLimiter(\n",
    "    requests_per_second=0.25,  # <-- Super slow! We can only make a request once every 10 seconds!!\n",
    "    check_every_n_seconds=0.1,  # Wake up every 100 ms to check whether allowed to make a request,\n",
    "    max_bucket_size = 15,  # Controls the maximum burst size.\n",
    ")\n",
    "GEMINI_API_KEY=os.environ.get(\"GEMINI_API\")\n",
    "gemini_llm = ChatGoogleGenerativeAI(model=\"gemini-1.5-flash\",api_key=GEMINI_API_KEY,rate_limiter=rate_limiter)"
   ],
   "outputs": [],
   "execution_count": 30
  },
  {
   "cell_type": "code",
   "metadata": {
    "ExecuteTime": {
     "end_time": "2024-11-05T21:48:25.071769Z",
     "start_time": "2024-11-05T21:48:25.064991Z"
    }
   },
   "source": [
    "from langchain_huggingface import ChatHuggingFace\n",
    "from langchain_huggingface import HuggingFaceEndpoint\n",
    "import os"
   ],
   "outputs": [],
   "execution_count": 31
  },
  {
   "cell_type": "code",
   "metadata": {
    "ExecuteTime": {
     "end_time": "2024-11-05T21:48:25.404492Z",
     "start_time": "2024-11-05T21:48:25.400325Z"
    }
   },
   "source": [
    "# if os.getenv(\"HUGGINGFACE_API\"):\n",
    "#     os.environ[\"HUGGINGFACEHUB_API_TOKEN\"] = os.getenv(\"HUGGINGFACE_API\")"
   ],
   "outputs": [],
   "execution_count": 32
  },
  {
   "cell_type": "code",
   "metadata": {
    "ExecuteTime": {
     "end_time": "2024-11-05T21:48:25.676504Z",
     "start_time": "2024-11-05T21:48:25.672593Z"
    }
   },
   "source": [
    "# llm = HuggingFaceEndpoint(\n",
    "#     repo_id=\"HuggingFaceH4/zephyr-7b-beta\",\n",
    "#     # model_id=model_id,\n",
    "#     task=\"text-generation\",\n",
    "#     max_new_tokens=2048,\n",
    "#     do_sample=False,\n",
    "#     repetition_penalty=1.03,\n",
    "# )\n",
    "\n",
    "# # pipeline = transformers.pipeline(\n",
    "# #     \"text-generation\",\n",
    "# #     model=model_id,\n",
    "# #     model_kwargs={\"torch_dtype\": torch.bfloat16},\n",
    "# #     device_map=\"auto\",\n",
    "# # )\n",
    "# chat_model = ChatHuggingFace(llm=llm)"
   ],
   "outputs": [],
   "execution_count": 33
  },
  {
   "cell_type": "code",
   "metadata": {
    "ExecuteTime": {
     "end_time": "2024-11-05T21:48:40.858197Z",
     "start_time": "2024-11-05T21:48:40.850874Z"
    }
   },
   "source": [
    "import concurrent.futures\n",
    "import time\n",
    "os.environ[\"LANGCHAIN_TRACING_V2\"] = \"false\"\n",
    "os.environ[\"LANGCHAIN_API_KEY\"]=\"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\"\n",
    "os.environ[\"LANGCHAIN_ENDPOINT\"]=\"https://api.smith.langchain.com\"\n",
    "os.environ[\"LANGCHAIN_PROJECT\"]=\"LearnLang\"\n",
    "## Splittting the text\n",
    "text_splitter = RecursiveCharacterTextSplitter(chunk_size=200000, chunk_overlap=200) # 300k characters per chunk, or nearly 75,000 tokens\n",
    "# summary_chain = []\n",
    "summary_chain = load_summarize_chain(\n",
    "    llm=gemini_llm,\n",
    "    chain_type='map_reduce',\n",
    "    map_prompt=map_prompt_template,\n",
    "    combine_prompt=final_combine_prompt_template,\n",
    "    verbose=False\n",
    ")\n"
   ],
   "outputs": [],
   "execution_count": 35
  },
  {
   "cell_type": "code",
   "metadata": {
    "ExecuteTime": {
     "end_time": "2024-11-05T21:48:58.950786Z",
     "start_time": "2024-11-05T21:48:58.939099Z"
    }
   },
   "source": [
    "#  llama-3.1-70b-versatile\n",
    "def process_file(index, file_path, requests_in_this_minute, start_time):\n",
    "    output = ''\n",
    "    file_path = str(File_paths[index])\n",
    "    print(f\"\\nProcessing file: {file_path}\")\n",
    "    print(f\"Index {index+1} of {len(File_paths)} completed\\n\")  \n",
    "    split_chunks = input_llm_pdf(file_path)\n",
    "    for chunks in split_chunks:\n",
    "        output += summary_chain.run(chunks)\n",
    "        endtime = time.time()\n",
    "    # output_doc = Document(page_content=output)\n",
    "    chunks = text_splitter.create_documents([output])\n",
    "    requests_in_this_minute += len(chunks)\n",
    "\n",
    "    final_summary = summary_chain.run(chunks)\n",
    "    final_summary = f\"File_path: {File_paths[index]} \\n\"+final_summary\n",
    "    index+=1\n",
    "    # summarized_documents.append([Document(page_content=final_summary)])\n",
    "    print(f\"\\nProcessed file: {file_path}\")\n",
    "    return final_summary\n",
    "def process_file_hf(index, file_path, requests_in_this_minute, start_time):\n",
    "    output = ''\n",
    "    file_path = str(File_paths[index])\n",
    "    print(f\"\\nProcessing file: {file_path}\")\n",
    "    print(f\"Index {index+1} of {len(File_paths)} completed\\n\")  \n",
    "    chunks = input_llm_pdf_hf(file_path)\n",
    "    output += summary_chain.run(chunks)\n",
    "    endtime = time.time()\n",
    "    # output_doc = Document(page_content=output)\n",
    "    chunks = text_splitter.create_documents([output])\n",
    "    requests_in_this_minute += len(chunks)\n",
    "\n",
    "    final_summary = summary_chain.run(chunks)\n",
    "    final_summary = f\"File_path: {File_paths[index]} \\n\"+final_summary\n",
    "    index+=1\n",
    "    # summarized_documents.append([Document(page_content=final_summary)])\n",
    "    print(f\"\\nProcessed file: {file_path}\")\n",
    "    return final_summary\n",
    "\n",
    "\n",
    "\n",
    "def parallel_process_files():\n",
    "    # Initialize some shared variables\n",
    "    requests_in_this_minute = 0\n",
    "    start_time = time.time()\n",
    "    summarized_documents = []\n",
    "    \n",
    "    # Create a ThreadPoolExecutor for parallelizing the operations\n",
    "    with concurrent.futures.ThreadPoolExecutor(max_workers=15) as executor:\n",
    "        future_to_index = {executor.submit(process_file, i, File_paths[i], requests_in_this_minute, start_time): i for i in range(len(File_paths))}\n",
    "        \n",
    "        # Collect results\n",
    "        for future in concurrent.futures.as_completed(future_to_index):\n",
    "            index = future_to_index[future]\n",
    "            try:\n",
    "                result = future.result()\n",
    "                if result is not None:\n",
    "                    summarized_documents.append([Document(page_content=result)])\n",
    "            except Exception as e:\n",
    "                print(f\"File at index {index} raised an exception: {e}\")\n",
    "    \n",
    "    return summarized_documents\n",
    "\n"
   ],
   "outputs": [],
   "execution_count": 36
  },
  {
   "cell_type": "code",
   "metadata": {
    "ExecuteTime": {
     "end_time": "2024-11-05T21:54:58.017862Z",
     "start_time": "2024-11-05T21:49:00.982587Z"
    }
   },
   "source": [
    "\n",
    "# Start the parallel processing\n",
    "summarized_documents = parallel_process_files()\n"
   ],
   "outputs": [
    {
     "name": "stdout",
     "output_type": "stream",
     "text": [
      "\n",
      "Processing file: Papers/Attention_is_all_you_need.pdf\n",
      "Index 1 of 80 completed\n",
      "\n",
      "\n",
      "Processing file: Papers/Fast-RCNN.pdf\n",
      "Index 2 of 80 completed\n",
      "\n",
      "\n",
      "Processing file: Papers/Mamba.pdf\n",
      "Index 3 of 80 completed\n",
      "\n",
      "\n",
      "Processing file: Papers/Variational Auto encoders.pdf\n",
      "Index 4 of 80 completed\n",
      "\n",
      "\n",
      "Processing file: Papers/SORT.pdf\n",
      "Index 5 of 80 completed\n",
      "\n",
      "\n",
      "Processing file: Papers/Mask RCNN.pdf\n",
      "Index 6 of 80 completed\n",
      "\n",
      "\n",
      "Processing file: Papers/DCGAN-notes.pdf\n",
      "Index 7 of 80 completed\n",
      "\n",
      "\n",
      "Processing file: Papers/The Power of Linear Recurrent Neural Networks.pdf\n",
      "Index 8 of 80 completed\n",
      "\n",
      "\n",
      "Processing file: Papers/StackGAN_original_paper.pdf\n",
      "Index 9 of 80 completed\n",
      "\n",
      "\n",
      "Processing file: Papers/Image_Augmentation_IllusionCraft.pdf\n",
      "Index 10 of 80 completed\n",
      "\n",
      "\n",
      "Processing file: Papers/StackGAN.pdf\n",
      "Index 11 of 80 completed\n",
      "\n",
      "\n",
      "Processing file: Papers/Word2Vec Paper.pdf\n",
      "Index 12 of 80 completed\n",
      "\n",
      "\n",
      "Processing file: Papers/DeepSORT.pdf\n",
      "Index 13 of 80 completed\n",
      "\n",
      "\n",
      "Processing file: Papers/Mismatching_images___Keeping_a_check_on_the_generator (1).pdf\n",
      "Index 14 of 80 completed\n",
      "\n",
      "\n",
      "Processing file: Papers/GANs_Paper.pdf\n",
      "Index 15 of 80 completed\n",
      "\n"
     ]
    },
    {
     "name": "stderr",
     "output_type": "stream",
     "text": [
      "/tmp/ipykernel_14020/2162810904.py:9: LangChainDeprecationWarning: The method `Chain.run` was deprecated in langchain 0.1.0 and will be removed in 1.0. Use :meth:`~invoke` instead.\n",
      "  output += summary_chain.run(chunks)\n",
      "/tmp/ipykernel_14020/2162810904.py:9: LangChainDeprecationWarning: The method `Chain.run` was deprecated in langchain 0.1.0 and will be removed in 1.0. Use :meth:`~invoke` instead.\n",
      "  output += summary_chain.run(chunks)\n",
      "Retrying langchain_google_genai.chat_models._chat_with_retry.<locals>._chat_with_retry in 2.0 seconds as it raised PermissionDenied: 403 Request had insufficient authentication scopes. [reason: \"ACCESS_TOKEN_SCOPE_INSUFFICIENT\"\n",
      "domain: \"googleapis.com\"\n",
      "metadata {\n",
      "  key: \"service\"\n",
      "  value: \"generativelanguage.googleapis.com\"\n",
      "}\n",
      "metadata {\n",
      "  key: \"method\"\n",
      "  value: \"google.ai.generativelanguage.v1beta.GenerativeService.GenerateContent\"\n",
      "}\n",
      "].\n",
      "Retrying langchain_google_genai.chat_models._chat_with_retry.<locals>._chat_with_retry in 2.0 seconds as it raised PermissionDenied: 403 Request had insufficient authentication scopes. [reason: \"ACCESS_TOKEN_SCOPE_INSUFFICIENT\"\n",
      "domain: \"googleapis.com\"\n",
      "metadata {\n",
      "  key: \"service\"\n",
      "  value: \"generativelanguage.googleapis.com\"\n",
      "}\n",
      "metadata {\n",
      "  key: \"method\"\n",
      "  value: \"google.ai.generativelanguage.v1beta.GenerativeService.GenerateContent\"\n",
      "}\n",
      "].\n"
     ]
    },
    {
     "name": "stdout",
     "output_type": "stream",
     "text": [
      "\n",
      "Processing file: Papers/ESO201/Lecture 17.pdf\n",
      "Index 16 of 80 completed\n",
      "\n",
      "File at index 6 raised an exception: 403 Request had insufficient authentication scopes. [reason: \"ACCESS_TOKEN_SCOPE_INSUFFICIENT\"\n",
      "domain: \"googleapis.com\"\n",
      "metadata {\n",
      "  key: \"service\"\n",
      "  value: \"generativelanguage.googleapis.com\"\n",
      "}\n",
      "metadata {\n",
      "  key: \"method\"\n",
      "  value: \"google.ai.generativelanguage.v1beta.GenerativeService.GenerateContent\"\n",
      "}\n",
      "]\n",
      "\n",
      "Processing file: Papers/ESO201/Lecture 14.pdf\n",
      "Index 17 of 80 completed\n",
      "\n",
      "File at index 15 raised an exception: PyCryptodome is required for AES algorithm\n",
      "\n",
      "Processing file: Papers/ESO201/Lecture 19.pdf\n",
      "Index 18 of 80 completed\n",
      "\n",
      "File at index 16 raised an exception: PyCryptodome is required for AES algorithm\n",
      "\n",
      "Processing file: Papers/ESO201/Lecture 19_0.pdf\n",
      "Index 19 of 80 completed\n",
      "\n",
      "File at index 17 raised an exception: PyCryptodome is required for AES algorithm\n",
      "\n",
      "Processing file: Papers/ESO201/Lecture 4.pdfFile at index 18 raised an exception: PyCryptodome is required for AES algorithm\n",
      "\n",
      "Index 20 of 80 completed\n",
      "\n",
      "\n",
      "Processing file: Papers/ESO201/T_H_E_R_M_O_D_Y_N_A_M_I_C_S_AN_ENGINEERI.pdf\n",
      "Index 21 of 80 completed\n",
      "\n",
      "File at index 19 raised an exception: PyCryptodome is required for AES algorithm\n",
      "\n",
      "Processing file: Papers/ESO201/Lecture 11.pdf\n",
      "Index 22 of 80 completed\n",
      "\n",
      "File at index 3 raised an exception: 403 Request had insufficient authentication scopes. [reason: \"ACCESS_TOKEN_SCOPE_INSUFFICIENT\"\n",
      "domain: \"googleapis.com\"\n",
      "metadata {\n",
      "  key: \"service\"\n",
      "  value: \"generativelanguage.googleapis.com\"\n",
      "}\n",
      "metadata {\n",
      "  key: \"method\"\n",
      "  value: \"google.ai.generativelanguage.v1beta.GenerativeService.GenerateContent\"\n",
      "}\n",
      "]\n",
      "\n",
      "Processing file: Papers/ESO201/Lecture 2.pdf\n",
      "Index 23 of 80 completed\n",
      "\n",
      "File at index 21 raised an exception: PyCryptodome is required for AES algorithm\n"
     ]
    },
    {
     "name": "stderr",
     "output_type": "stream",
     "text": [
      "Retrying langchain_google_genai.chat_models._chat_with_retry.<locals>._chat_with_retry in 2.0 seconds as it raised PermissionDenied: 403 Request had insufficient authentication scopes. [reason: \"ACCESS_TOKEN_SCOPE_INSUFFICIENT\"\n",
      "domain: \"googleapis.com\"\n",
      "metadata {\n",
      "  key: \"service\"\n",
      "  value: \"generativelanguage.googleapis.com\"\n",
      "}\n",
      "metadata {\n",
      "  key: \"method\"\n",
      "  value: \"google.ai.generativelanguage.v1beta.GenerativeService.GenerateContent\"\n",
      "}\n",
      "].\n"
     ]
    },
    {
     "name": "stdout",
     "output_type": "stream",
     "text": [
      "\n",
      "Processing file: Papers/ESO201/Lecture 3.pdfFile at index 7 raised an exception: 403 Request had insufficient authentication scopes. [reason: \"ACCESS_TOKEN_SCOPE_INSUFFICIENT\"\n",
      "domain: \"googleapis.com\"\n",
      "metadata {\n",
      "  key: \"service\"\n",
      "  value: \"generativelanguage.googleapis.com\"\n",
      "}\n",
      "metadata {\n",
      "  key: \"method\"\n",
      "  value: \"google.ai.generativelanguage.v1beta.GenerativeService.GenerateContent\"\n",
      "}\n",
      "]\n",
      "\n",
      "Index 24 of 80 completed\n",
      "\n",
      "\n",
      "Processing file: Papers/ESO201/Property tables and charts.pdf\n",
      "Index 25 of 80 completed\n",
      "\n",
      "File at index 23 raised an exception: PyCryptodome is required for AES algorithm\n"
     ]
    },
    {
     "name": "stderr",
     "output_type": "stream",
     "text": [
      "Retrying langchain_google_genai.chat_models._chat_with_retry.<locals>._chat_with_retry in 2.0 seconds as it raised PermissionDenied: 403 Request had insufficient authentication scopes. [reason: \"ACCESS_TOKEN_SCOPE_INSUFFICIENT\"\n",
      "domain: \"googleapis.com\"\n",
      "metadata {\n",
      "  key: \"service\"\n",
      "  value: \"generativelanguage.googleapis.com\"\n",
      "}\n",
      "metadata {\n",
      "  key: \"method\"\n",
      "  value: \"google.ai.generativelanguage.v1beta.GenerativeService.GenerateContent\"\n",
      "}\n",
      "].\n"
     ]
    },
    {
     "name": "stdout",
     "output_type": "stream",
     "text": [
      "\n",
      "Processing file: Papers/ESO201/Lecture 1.pdf\n",
      "Index 26 of 80 completed\n",
      "\n",
      "File at index 14 raised an exception: 403 Request had insufficient authentication scopes. [reason: \"ACCESS_TOKEN_SCOPE_INSUFFICIENT\"\n",
      "domain: \"googleapis.com\"\n",
      "metadata {\n",
      "  key: \"service\"\n",
      "  value: \"generativelanguage.googleapis.com\"\n",
      "}\n",
      "metadata {\n",
      "  key: \"method\"\n",
      "  value: \"google.ai.generativelanguage.v1beta.GenerativeService.GenerateContent\"\n",
      "}\n",
      "]\n"
     ]
    },
    {
     "name": "stderr",
     "output_type": "stream",
     "text": [
      "Retrying langchain_google_genai.chat_models._chat_with_retry.<locals>._chat_with_retry in 2.0 seconds as it raised PermissionDenied: 403 Request had insufficient authentication scopes. [reason: \"ACCESS_TOKEN_SCOPE_INSUFFICIENT\"\n",
      "domain: \"googleapis.com\"\n",
      "metadata {\n",
      "  key: \"service\"\n",
      "  value: \"generativelanguage.googleapis.com\"\n",
      "}\n",
      "metadata {\n",
      "  key: \"method\"\n",
      "  value: \"google.ai.generativelanguage.v1beta.GenerativeService.GenerateContent\"\n",
      "}\n",
      "].\n",
      "Retrying langchain_google_genai.chat_models._chat_with_retry.<locals>._chat_with_retry in 2.0 seconds as it raised PermissionDenied: 403 Request had insufficient authentication scopes. [reason: \"ACCESS_TOKEN_SCOPE_INSUFFICIENT\"\n",
      "domain: \"googleapis.com\"\n",
      "metadata {\n",
      "  key: \"service\"\n",
      "  value: \"generativelanguage.googleapis.com\"\n",
      "}\n",
      "metadata {\n",
      "  key: \"method\"\n",
      "  value: \"google.ai.generativelanguage.v1beta.GenerativeService.GenerateContent\"\n",
      "}\n",
      "].\n"
     ]
    },
    {
     "name": "stdout",
     "output_type": "stream",
     "text": [
      "\n",
      "Processing file: Papers/ESO201/Lecture 8.pdf\n",
      "Index 27 of 80 completed\n",
      "\n",
      "File at index 5 raised an exception: 403 Request had insufficient authentication scopes. [reason: \"ACCESS_TOKEN_SCOPE_INSUFFICIENT\"\n",
      "domain: \"googleapis.com\"\n",
      "metadata {\n",
      "  key: \"service\"\n",
      "  value: \"generativelanguage.googleapis.com\"\n",
      "}\n",
      "metadata {\n",
      "  key: \"method\"\n",
      "  value: \"google.ai.generativelanguage.v1beta.GenerativeService.GenerateContent\"\n",
      "}\n",
      "]\n",
      "\n",
      "Processing file: Papers/ESO201/Lecture 15.pdf\n",
      "Index 28 of 80 completed\n",
      "\n",
      "File at index 26 raised an exception: PyCryptodome is required for AES algorithm\n",
      "\n",
      "Processing file: Papers/ESO201/Chem Thermo 2.pdf\n",
      "Index 29 of 80 completed\n",
      "\n",
      "File at index 27 raised an exception: PyCryptodome is required for AES algorithm\n",
      "\n",
      "Processing file: Papers/ESO201/Lecture 7.pdf\n",
      "Index 30 of 80 completed\n",
      "\n",
      "File at index 25 raised an exception: 403 Request had insufficient authentication scopes. [reason: \"ACCESS_TOKEN_SCOPE_INSUFFICIENT\"\n",
      "domain: \"googleapis.com\"\n",
      "metadata {\n",
      "  key: \"service\"\n",
      "  value: \"generativelanguage.googleapis.com\"\n",
      "}\n",
      "metadata {\n",
      "  key: \"method\"\n",
      "  value: \"google.ai.generativelanguage.v1beta.GenerativeService.GenerateContent\"\n",
      "}\n",
      "]\n",
      "\n",
      "Processing file: Papers/ESO201/thermo_solution_8thedi.pdf\n",
      "Index 31 of 80 completed\n",
      "\n",
      "File at index 29 raised an exception: PyCryptodome is required for AES algorithm\n"
     ]
    },
    {
     "name": "stderr",
     "output_type": "stream",
     "text": [
      "Retrying langchain_google_genai.chat_models._chat_with_retry.<locals>._chat_with_retry in 2.0 seconds as it raised PermissionDenied: 403 Request had insufficient authentication scopes. [reason: \"ACCESS_TOKEN_SCOPE_INSUFFICIENT\"\n",
      "domain: \"googleapis.com\"\n",
      "metadata {\n",
      "  key: \"service\"\n",
      "  value: \"generativelanguage.googleapis.com\"\n",
      "}\n",
      "metadata {\n",
      "  key: \"method\"\n",
      "  value: \"google.ai.generativelanguage.v1beta.GenerativeService.GenerateContent\"\n",
      "}\n",
      "].\n"
     ]
    },
    {
     "name": "stdout",
     "output_type": "stream",
     "text": [
      "\n",
      "Processing file: Papers/ESO201/Lecture 6.pdf\n",
      "Index 32 of 80 completed\n",
      "\n",
      "File at index 22 raised an exception: 403 Request had insufficient authentication scopes. [reason: \"ACCESS_TOKEN_SCOPE_INSUFFICIENT\"\n",
      "domain: \"googleapis.com\"\n",
      "metadata {\n",
      "  key: \"service\"\n",
      "  value: \"generativelanguage.googleapis.com\"\n",
      "}\n",
      "metadata {\n",
      "  key: \"method\"\n",
      "  value: \"google.ai.generativelanguage.v1beta.GenerativeService.GenerateContent\"\n",
      "}\n",
      "]\n",
      "\n",
      "Processing file: Papers/ESO201/Lecture 5.pdf\n",
      "Index 33 of 80 completed\n",
      "\n",
      "File at index 31 raised an exception: PyCryptodome is required for AES algorithm\n",
      "\n",
      "Processing file: Papers/ESO201/Lecture 16.pdf\n",
      "Index 34 of 80 completed\n",
      "\n",
      "File at index 32 raised an exception: PyCryptodome is required for AES algorithm\n",
      "\n",
      "Processing file: Papers/ESO201/Lecture 10.pdf\n",
      "Index 35 of 80 completed\n",
      "\n",
      "File at index 33 raised an exception: PyCryptodome is required for AES algorithm\n",
      "\n",
      "Processing file: Papers/ESO201/Lecture 13.pdf\n",
      "Index 36 of 80 completed\n",
      "\n",
      "File at index 34 raised an exception: PyCryptodome is required for AES algorithm\n",
      "\n",
      "Processing file: Papers/ESO201/Chem Thermo 1.pdf\n",
      "Index 37 of 80 completed\n",
      "\n",
      "File at index 35 raised an exception: PyCryptodome is required for AES algorithm\n"
     ]
    },
    {
     "name": "stderr",
     "output_type": "stream",
     "text": [
      "Retrying langchain_google_genai.chat_models._chat_with_retry.<locals>._chat_with_retry in 2.0 seconds as it raised PermissionDenied: 403 Request had insufficient authentication scopes. [reason: \"ACCESS_TOKEN_SCOPE_INSUFFICIENT\"\n",
      "domain: \"googleapis.com\"\n",
      "metadata {\n",
      "  key: \"service\"\n",
      "  value: \"generativelanguage.googleapis.com\"\n",
      "}\n",
      "metadata {\n",
      "  key: \"method\"\n",
      "  value: \"google.ai.generativelanguage.v1beta.GenerativeService.GenerateContent\"\n",
      "}\n",
      "].\n"
     ]
    },
    {
     "name": "stdout",
     "output_type": "stream",
     "text": [
      "\n",
      "Processing file: Papers/ESO201/Lecture 9.pdf\n",
      "Index 38 of 80 completed\n",
      "\n",
      "File at index 2 raised an exception: 403 Request had insufficient authentication scopes. [reason: \"ACCESS_TOKEN_SCOPE_INSUFFICIENT\"\n",
      "domain: \"googleapis.com\"\n",
      "metadata {\n",
      "  key: \"service\"\n",
      "  value: \"generativelanguage.googleapis.com\"\n",
      "}\n",
      "metadata {\n",
      "  key: \"method\"\n",
      "  value: \"google.ai.generativelanguage.v1beta.GenerativeService.GenerateContent\"\n",
      "}\n",
      "]\n",
      "\n",
      "Processing file: Papers/ESO201/Lecture 18.pdf\n",
      "Index 39 of 80 completed\n",
      "\n",
      "File at index 37 raised an exception: PyCryptodome is required for AES algorithm\n",
      "\n",
      "Processing file: Papers/ESO201/Lecture 12.pdf\n",
      "Index 40 of 80 completed\n",
      "\n",
      "File at index 38 raised an exception: PyCryptodome is required for AES algorithm\n"
     ]
    },
    {
     "name": "stderr",
     "output_type": "stream",
     "text": [
      "Retrying langchain_google_genai.chat_models._chat_with_retry.<locals>._chat_with_retry in 2.0 seconds as it raised PermissionDenied: 403 Request had insufficient authentication scopes. [reason: \"ACCESS_TOKEN_SCOPE_INSUFFICIENT\"\n",
      "domain: \"googleapis.com\"\n",
      "metadata {\n",
      "  key: \"service\"\n",
      "  value: \"generativelanguage.googleapis.com\"\n",
      "}\n",
      "metadata {\n",
      "  key: \"method\"\n",
      "  value: \"google.ai.generativelanguage.v1beta.GenerativeService.GenerateContent\"\n",
      "}\n",
      "].\n"
     ]
    },
    {
     "name": "stdout",
     "output_type": "stream",
     "text": [
      "\n",
      "Processing file: Papers/MSO notes/Lecture6_7.pdf\n",
      "Index 41 of 80 completed\n",
      "\n",
      "File at index 39 raised an exception: PyCryptodome is required for AES algorithm\n",
      "\n",
      "Processing file: Papers/MSO notes/MSO202Lect11.pdf\n",
      "Index 42 of 80 completed\n",
      "\n",
      "File at index 0 raised an exception: 403 Request had insufficient authentication scopes. [reason: \"ACCESS_TOKEN_SCOPE_INSUFFICIENT\"\n",
      "domain: \"googleapis.com\"\n",
      "metadata {\n",
      "  key: \"service\"\n",
      "  value: \"generativelanguage.googleapis.com\"\n",
      "}\n",
      "metadata {\n",
      "  key: \"method\"\n",
      "  value: \"google.ai.generativelanguage.v1beta.GenerativeService.GenerateContent\"\n",
      "}\n",
      "]\n"
     ]
    },
    {
     "name": "stderr",
     "output_type": "stream",
     "text": [
      "Retrying langchain_google_genai.chat_models._chat_with_retry.<locals>._chat_with_retry in 2.0 seconds as it raised PermissionDenied: 403 Request had insufficient authentication scopes. [reason: \"ACCESS_TOKEN_SCOPE_INSUFFICIENT\"\n",
      "domain: \"googleapis.com\"\n",
      "metadata {\n",
      "  key: \"service\"\n",
      "  value: \"generativelanguage.googleapis.com\"\n",
      "}\n",
      "metadata {\n",
      "  key: \"method\"\n",
      "  value: \"google.ai.generativelanguage.v1beta.GenerativeService.GenerateContent\"\n",
      "}\n",
      "].\n"
     ]
    },
    {
     "name": "stdout",
     "output_type": "stream",
     "text": [
      "\n",
      "Processing file: Papers/MSO notes/MSO202Lect6.pdf\n",
      "Index 43 of 80 completed\n",
      "\n",
      "File at index 10 raised an exception: 403 Request had insufficient authentication scopes. [reason: \"ACCESS_TOKEN_SCOPE_INSUFFICIENT\"\n",
      "domain: \"googleapis.com\"\n",
      "metadata {\n",
      "  key: \"service\"\n",
      "  value: \"generativelanguage.googleapis.com\"\n",
      "}\n",
      "metadata {\n",
      "  key: \"method\"\n",
      "  value: \"google.ai.generativelanguage.v1beta.GenerativeService.GenerateContent\"\n",
      "}\n",
      "]\n"
     ]
    },
    {
     "name": "stderr",
     "output_type": "stream",
     "text": [
      "Retrying langchain_google_genai.chat_models._chat_with_retry.<locals>._chat_with_retry in 2.0 seconds as it raised PermissionDenied: 403 Request had insufficient authentication scopes. [reason: \"ACCESS_TOKEN_SCOPE_INSUFFICIENT\"\n",
      "domain: \"googleapis.com\"\n",
      "metadata {\n",
      "  key: \"service\"\n",
      "  value: \"generativelanguage.googleapis.com\"\n",
      "}\n",
      "metadata {\n",
      "  key: \"method\"\n",
      "  value: \"google.ai.generativelanguage.v1beta.GenerativeService.GenerateContent\"\n",
      "}\n",
      "].\n"
     ]
    },
    {
     "name": "stdout",
     "output_type": "stream",
     "text": [
      "\n",
      "Processing file: Papers/MSO notes/MSO202Lect4.pdf\n",
      "Index 44 of 80 completed\n",
      "\n",
      "File at index 12 raised an exception: 403 Request had insufficient authentication scopes. [reason: \"ACCESS_TOKEN_SCOPE_INSUFFICIENT\"\n",
      "domain: \"googleapis.com\"\n",
      "metadata {\n",
      "  key: \"service\"\n",
      "  value: \"generativelanguage.googleapis.com\"\n",
      "}\n",
      "metadata {\n",
      "  key: \"method\"\n",
      "  value: \"google.ai.generativelanguage.v1beta.GenerativeService.GenerateContent\"\n",
      "}\n",
      "]\n"
     ]
    },
    {
     "name": "stderr",
     "output_type": "stream",
     "text": [
      "Retrying langchain_google_genai.chat_models._chat_with_retry.<locals>._chat_with_retry in 2.0 seconds as it raised PermissionDenied: 403 Request had insufficient authentication scopes. [reason: \"ACCESS_TOKEN_SCOPE_INSUFFICIENT\"\n",
      "domain: \"googleapis.com\"\n",
      "metadata {\n",
      "  key: \"service\"\n",
      "  value: \"generativelanguage.googleapis.com\"\n",
      "}\n",
      "metadata {\n",
      "  key: \"method\"\n",
      "  value: \"google.ai.generativelanguage.v1beta.GenerativeService.GenerateContent\"\n",
      "}\n",
      "].\n"
     ]
    },
    {
     "name": "stdout",
     "output_type": "stream",
     "text": [
      "\n",
      "Processing file: Papers/MSO notes/MSO202Lect15.pdf\n",
      "Index 45 of 80 completed\n",
      "\n",
      "File at index 43 raised an exception: 403 Request had insufficient authentication scopes. [reason: \"ACCESS_TOKEN_SCOPE_INSUFFICIENT\"\n",
      "domain: \"googleapis.com\"\n",
      "metadata {\n",
      "  key: \"service\"\n",
      "  value: \"generativelanguage.googleapis.com\"\n",
      "}\n",
      "metadata {\n",
      "  key: \"method\"\n",
      "  value: \"google.ai.generativelanguage.v1beta.GenerativeService.GenerateContent\"\n",
      "}\n",
      "]\n"
     ]
    },
    {
     "name": "stderr",
     "output_type": "stream",
     "text": [
      "Retrying langchain_google_genai.chat_models._chat_with_retry.<locals>._chat_with_retry in 2.0 seconds as it raised PermissionDenied: 403 Request had insufficient authentication scopes. [reason: \"ACCESS_TOKEN_SCOPE_INSUFFICIENT\"\n",
      "domain: \"googleapis.com\"\n",
      "metadata {\n",
      "  key: \"service\"\n",
      "  value: \"generativelanguage.googleapis.com\"\n",
      "}\n",
      "metadata {\n",
      "  key: \"method\"\n",
      "  value: \"google.ai.generativelanguage.v1beta.GenerativeService.GenerateContent\"\n",
      "}\n",
      "].\n"
     ]
    },
    {
     "name": "stdout",
     "output_type": "stream",
     "text": [
      "\n",
      "Processing file: Papers/MSO notes/MSO202Lect3.pdf\n",
      "Index 46 of 80 completed\n",
      "\n",
      "File at index 8 raised an exception: 403 Request had insufficient authentication scopes. [reason: \"ACCESS_TOKEN_SCOPE_INSUFFICIENT\"\n",
      "domain: \"googleapis.com\"\n",
      "metadata {\n",
      "  key: \"service\"\n",
      "  value: \"generativelanguage.googleapis.com\"\n",
      "}\n",
      "metadata {\n",
      "  key: \"method\"\n",
      "  value: \"google.ai.generativelanguage.v1beta.GenerativeService.GenerateContent\"\n",
      "}\n",
      "]\n"
     ]
    },
    {
     "name": "stderr",
     "output_type": "stream",
     "text": [
      "Retrying langchain_google_genai.chat_models._chat_with_retry.<locals>._chat_with_retry in 2.0 seconds as it raised PermissionDenied: 403 Request had insufficient authentication scopes. [reason: \"ACCESS_TOKEN_SCOPE_INSUFFICIENT\"\n",
      "domain: \"googleapis.com\"\n",
      "metadata {\n",
      "  key: \"service\"\n",
      "  value: \"generativelanguage.googleapis.com\"\n",
      "}\n",
      "metadata {\n",
      "  key: \"method\"\n",
      "  value: \"google.ai.generativelanguage.v1beta.GenerativeService.GenerateContent\"\n",
      "}\n",
      "].\n"
     ]
    },
    {
     "name": "stdout",
     "output_type": "stream",
     "text": [
      "\n",
      "Processing file: Papers/MSO notes/MSO202Lect13.pdf\n",
      "Index 47 of 80 completed\n",
      "\n",
      "File at index 42 raised an exception: 403 Request had insufficient authentication scopes. [reason: \"ACCESS_TOKEN_SCOPE_INSUFFICIENT\"\n",
      "domain: \"googleapis.com\"\n",
      "metadata {\n",
      "  key: \"service\"\n",
      "  value: \"generativelanguage.googleapis.com\"\n",
      "}\n",
      "metadata {\n",
      "  key: \"method\"\n",
      "  value: \"google.ai.generativelanguage.v1beta.GenerativeService.GenerateContent\"\n",
      "}\n",
      "]\n"
     ]
    },
    {
     "name": "stderr",
     "output_type": "stream",
     "text": [
      "Retrying langchain_google_genai.chat_models._chat_with_retry.<locals>._chat_with_retry in 2.0 seconds as it raised PermissionDenied: 403 Request had insufficient authentication scopes. [reason: \"ACCESS_TOKEN_SCOPE_INSUFFICIENT\"\n",
      "domain: \"googleapis.com\"\n",
      "metadata {\n",
      "  key: \"service\"\n",
      "  value: \"generativelanguage.googleapis.com\"\n",
      "}\n",
      "metadata {\n",
      "  key: \"method\"\n",
      "  value: \"google.ai.generativelanguage.v1beta.GenerativeService.GenerateContent\"\n",
      "}\n",
      "].\n"
     ]
    },
    {
     "name": "stdout",
     "output_type": "stream",
     "text": [
      "\n",
      "Processing file: Papers/MSO notes/MSO202Lect10.pdf\n",
      "Index 48 of 80 completed\n",
      "\n",
      "File at index 40 raised an exception: 403 Request had insufficient authentication scopes. [reason: \"ACCESS_TOKEN_SCOPE_INSUFFICIENT\"\n",
      "domain: \"googleapis.com\"\n",
      "metadata {\n",
      "  key: \"service\"\n",
      "  value: \"generativelanguage.googleapis.com\"\n",
      "}\n",
      "metadata {\n",
      "  key: \"method\"\n",
      "  value: \"google.ai.generativelanguage.v1beta.GenerativeService.GenerateContent\"\n",
      "}\n",
      "]\n"
     ]
    },
    {
     "name": "stderr",
     "output_type": "stream",
     "text": [
      "Retrying langchain_google_genai.chat_models._chat_with_retry.<locals>._chat_with_retry in 2.0 seconds as it raised PermissionDenied: 403 Request had insufficient authentication scopes. [reason: \"ACCESS_TOKEN_SCOPE_INSUFFICIENT\"\n",
      "domain: \"googleapis.com\"\n",
      "metadata {\n",
      "  key: \"service\"\n",
      "  value: \"generativelanguage.googleapis.com\"\n",
      "}\n",
      "metadata {\n",
      "  key: \"method\"\n",
      "  value: \"google.ai.generativelanguage.v1beta.GenerativeService.GenerateContent\"\n",
      "}\n",
      "].\n"
     ]
    },
    {
     "name": "stdout",
     "output_type": "stream",
     "text": [
      "\n",
      "Processing file: Papers/MSO notes/MSO202Lect9.pdf\n",
      "Index 49 of 80 completed\n",
      "\n",
      "File at index 9 raised an exception: 403 Request had insufficient authentication scopes. [reason: \"ACCESS_TOKEN_SCOPE_INSUFFICIENT\"\n",
      "domain: \"googleapis.com\"\n",
      "metadata {\n",
      "  key: \"service\"\n",
      "  value: \"generativelanguage.googleapis.com\"\n",
      "}\n",
      "metadata {\n",
      "  key: \"method\"\n",
      "  value: \"google.ai.generativelanguage.v1beta.GenerativeService.GenerateContent\"\n",
      "}\n",
      "]\n"
     ]
    },
    {
     "name": "stderr",
     "output_type": "stream",
     "text": [
      "Retrying langchain_google_genai.chat_models._chat_with_retry.<locals>._chat_with_retry in 2.0 seconds as it raised PermissionDenied: 403 Request had insufficient authentication scopes. [reason: \"ACCESS_TOKEN_SCOPE_INSUFFICIENT\"\n",
      "domain: \"googleapis.com\"\n",
      "metadata {\n",
      "  key: \"service\"\n",
      "  value: \"generativelanguage.googleapis.com\"\n",
      "}\n",
      "metadata {\n",
      "  key: \"method\"\n",
      "  value: \"google.ai.generativelanguage.v1beta.GenerativeService.GenerateContent\"\n",
      "}\n",
      "].\n"
     ]
    },
    {
     "name": "stdout",
     "output_type": "stream",
     "text": [
      "\n",
      "Processing file: Papers/MSO notes/MSO202M_Endsem_Y22.pdf\n",
      "Index 50 of 80 completed\n",
      "\n",
      "File at index 28 raised an exception: 403 Request had insufficient authentication scopes. [reason: \"ACCESS_TOKEN_SCOPE_INSUFFICIENT\"\n",
      "domain: \"googleapis.com\"\n",
      "metadata {\n",
      "  key: \"service\"\n",
      "  value: \"generativelanguage.googleapis.com\"\n",
      "}\n",
      "metadata {\n",
      "  key: \"method\"\n",
      "  value: \"google.ai.generativelanguage.v1beta.GenerativeService.GenerateContent\"\n",
      "}\n",
      "]\n",
      "\n",
      "Processing file: Papers/MSO notes/MSO202Lect8.pdf\n",
      "Index 51 of 80 completed\n",
      "\n",
      "File at index 49 raised an exception: 403 Request had insufficient authentication scopes. [reason: \"ACCESS_TOKEN_SCOPE_INSUFFICIENT\"\n",
      "domain: \"googleapis.com\"\n",
      "metadata {\n",
      "  key: \"service\"\n",
      "  value: \"generativelanguage.googleapis.com\"\n",
      "}\n",
      "metadata {\n",
      "  key: \"method\"\n",
      "  value: \"google.ai.generativelanguage.v1beta.GenerativeService.GenerateContent\"\n",
      "}\n",
      "]\n"
     ]
    },
    {
     "name": "stderr",
     "output_type": "stream",
     "text": [
      "Retrying langchain_google_genai.chat_models._chat_with_retry.<locals>._chat_with_retry in 2.0 seconds as it raised PermissionDenied: 403 Request had insufficient authentication scopes. [reason: \"ACCESS_TOKEN_SCOPE_INSUFFICIENT\"\n",
      "domain: \"googleapis.com\"\n",
      "metadata {\n",
      "  key: \"service\"\n",
      "  value: \"generativelanguage.googleapis.com\"\n",
      "}\n",
      "metadata {\n",
      "  key: \"method\"\n",
      "  value: \"google.ai.generativelanguage.v1beta.GenerativeService.GenerateContent\"\n",
      "}\n",
      "].\n"
     ]
    },
    {
     "name": "stdout",
     "output_type": "stream",
     "text": [
      "\n",
      "Processing file: Papers/MSO notes/MSO202Lect5.pdf\n",
      "Index 52 of 80 completed\n",
      "\n",
      "File at index 41 raised an exception: 403 Request had insufficient authentication scopes. [reason: \"ACCESS_TOKEN_SCOPE_INSUFFICIENT\"\n",
      "domain: \"googleapis.com\"\n",
      "metadata {\n",
      "  key: \"service\"\n",
      "  value: \"generativelanguage.googleapis.com\"\n",
      "}\n",
      "metadata {\n",
      "  key: \"method\"\n",
      "  value: \"google.ai.generativelanguage.v1beta.GenerativeService.GenerateContent\"\n",
      "}\n",
      "]\n"
     ]
    },
    {
     "name": "stderr",
     "output_type": "stream",
     "text": [
      "Retrying langchain_google_genai.chat_models._chat_with_retry.<locals>._chat_with_retry in 2.0 seconds as it raised PermissionDenied: 403 Request had insufficient authentication scopes. [reason: \"ACCESS_TOKEN_SCOPE_INSUFFICIENT\"\n",
      "domain: \"googleapis.com\"\n",
      "metadata {\n",
      "  key: \"service\"\n",
      "  value: \"generativelanguage.googleapis.com\"\n",
      "}\n",
      "metadata {\n",
      "  key: \"method\"\n",
      "  value: \"google.ai.generativelanguage.v1beta.GenerativeService.GenerateContent\"\n",
      "}\n",
      "].\n"
     ]
    },
    {
     "name": "stdout",
     "output_type": "stream",
     "text": [
      "\n",
      "Processing file: Papers/MSO notes/MSO202Lect1.pdf\n",
      "Index 53 of 80 completed\n",
      "\n",
      "File at index 1 raised an exception: 403 Request had insufficient authentication scopes. [reason: \"ACCESS_TOKEN_SCOPE_INSUFFICIENT\"\n",
      "domain: \"googleapis.com\"\n",
      "metadata {\n",
      "  key: \"service\"\n",
      "  value: \"generativelanguage.googleapis.com\"\n",
      "}\n",
      "metadata {\n",
      "  key: \"method\"\n",
      "  value: \"google.ai.generativelanguage.v1beta.GenerativeService.GenerateContent\"\n",
      "}\n",
      "]\n"
     ]
    },
    {
     "name": "stderr",
     "output_type": "stream",
     "text": [
      "Retrying langchain_google_genai.chat_models._chat_with_retry.<locals>._chat_with_retry in 2.0 seconds as it raised PermissionDenied: 403 Request had insufficient authentication scopes. [reason: \"ACCESS_TOKEN_SCOPE_INSUFFICIENT\"\n",
      "domain: \"googleapis.com\"\n",
      "metadata {\n",
      "  key: \"service\"\n",
      "  value: \"generativelanguage.googleapis.com\"\n",
      "}\n",
      "metadata {\n",
      "  key: \"method\"\n",
      "  value: \"google.ai.generativelanguage.v1beta.GenerativeService.GenerateContent\"\n",
      "}\n",
      "].\n"
     ]
    },
    {
     "name": "stdout",
     "output_type": "stream",
     "text": [
      "\n",
      "Processing file: Papers/MSO notes/MSO202Lect14.pdf\n",
      "Index 54 of 80 completed\n",
      "\n",
      "File at index 45 raised an exception: 403 Request had insufficient authentication scopes. [reason: \"ACCESS_TOKEN_SCOPE_INSUFFICIENT\"\n",
      "domain: \"googleapis.com\"\n",
      "metadata {\n",
      "  key: \"service\"\n",
      "  value: \"generativelanguage.googleapis.com\"\n",
      "}\n",
      "metadata {\n",
      "  key: \"method\"\n",
      "  value: \"google.ai.generativelanguage.v1beta.GenerativeService.GenerateContent\"\n",
      "}\n",
      "]\n"
     ]
    },
    {
     "name": "stderr",
     "output_type": "stream",
     "text": [
      "Retrying langchain_google_genai.chat_models._chat_with_retry.<locals>._chat_with_retry in 2.0 seconds as it raised PermissionDenied: 403 Request had insufficient authentication scopes. [reason: \"ACCESS_TOKEN_SCOPE_INSUFFICIENT\"\n",
      "domain: \"googleapis.com\"\n",
      "metadata {\n",
      "  key: \"service\"\n",
      "  value: \"generativelanguage.googleapis.com\"\n",
      "}\n",
      "metadata {\n",
      "  key: \"method\"\n",
      "  value: \"google.ai.generativelanguage.v1beta.GenerativeService.GenerateContent\"\n",
      "}\n",
      "].\n"
     ]
    },
    {
     "name": "stdout",
     "output_type": "stream",
     "text": [
      "\n",
      "Processing file: Papers/MSO notes/MSO202Lect7.pdf\n",
      "Index 55 of 80 completed\n",
      "\n",
      "File at index 24 raised an exception: 403 Request had insufficient authentication scopes. [reason: \"ACCESS_TOKEN_SCOPE_INSUFFICIENT\"\n",
      "domain: \"googleapis.com\"\n",
      "metadata {\n",
      "  key: \"service\"\n",
      "  value: \"generativelanguage.googleapis.com\"\n",
      "}\n",
      "metadata {\n",
      "  key: \"method\"\n",
      "  value: \"google.ai.generativelanguage.v1beta.GenerativeService.GenerateContent\"\n",
      "}\n",
      "]\n"
     ]
    },
    {
     "name": "stderr",
     "output_type": "stream",
     "text": [
      "Retrying langchain_google_genai.chat_models._chat_with_retry.<locals>._chat_with_retry in 2.0 seconds as it raised PermissionDenied: 403 Request had insufficient authentication scopes. [reason: \"ACCESS_TOKEN_SCOPE_INSUFFICIENT\"\n",
      "domain: \"googleapis.com\"\n",
      "metadata {\n",
      "  key: \"service\"\n",
      "  value: \"generativelanguage.googleapis.com\"\n",
      "}\n",
      "metadata {\n",
      "  key: \"method\"\n",
      "  value: \"google.ai.generativelanguage.v1beta.GenerativeService.GenerateContent\"\n",
      "}\n",
      "].\n"
     ]
    },
    {
     "name": "stdout",
     "output_type": "stream",
     "text": [
      "\n",
      "Processing file: Papers/MSO notes/MSO202Lect2.pdf\n",
      "Index 56 of 80 completed\n",
      "\n",
      "File at index 53 raised an exception: 403 Request had insufficient authentication scopes. [reason: \"ACCESS_TOKEN_SCOPE_INSUFFICIENT\"\n",
      "domain: \"googleapis.com\"\n",
      "metadata {\n",
      "  key: \"service\"\n",
      "  value: \"generativelanguage.googleapis.com\"\n",
      "}\n",
      "metadata {\n",
      "  key: \"method\"\n",
      "  value: \"google.ai.generativelanguage.v1beta.GenerativeService.GenerateContent\"\n",
      "}\n",
      "]\n"
     ]
    },
    {
     "name": "stderr",
     "output_type": "stream",
     "text": [
      "Retrying langchain_google_genai.chat_models._chat_with_retry.<locals>._chat_with_retry in 2.0 seconds as it raised PermissionDenied: 403 Request had insufficient authentication scopes. [reason: \"ACCESS_TOKEN_SCOPE_INSUFFICIENT\"\n",
      "domain: \"googleapis.com\"\n",
      "metadata {\n",
      "  key: \"service\"\n",
      "  value: \"generativelanguage.googleapis.com\"\n",
      "}\n",
      "metadata {\n",
      "  key: \"method\"\n",
      "  value: \"google.ai.generativelanguage.v1beta.GenerativeService.GenerateContent\"\n",
      "}\n",
      "].\n"
     ]
    },
    {
     "name": "stdout",
     "output_type": "stream",
     "text": [
      "\n",
      "Processing file: Papers/MSO notes/Lecture5.pdf\n",
      "Index 57 of 80 completed\n",
      "\n",
      "File at index 51 raised an exception: 403 Request had insufficient authentication scopes. [reason: \"ACCESS_TOKEN_SCOPE_INSUFFICIENT\"\n",
      "domain: \"googleapis.com\"\n",
      "metadata {\n",
      "  key: \"service\"\n",
      "  value: \"generativelanguage.googleapis.com\"\n",
      "}\n",
      "metadata {\n",
      "  key: \"method\"\n",
      "  value: \"google.ai.generativelanguage.v1beta.GenerativeService.GenerateContent\"\n",
      "}\n",
      "]\n"
     ]
    },
    {
     "name": "stderr",
     "output_type": "stream",
     "text": [
      "Retrying langchain_google_genai.chat_models._chat_with_retry.<locals>._chat_with_retry in 2.0 seconds as it raised PermissionDenied: 403 Request had insufficient authentication scopes. [reason: \"ACCESS_TOKEN_SCOPE_INSUFFICIENT\"\n",
      "domain: \"googleapis.com\"\n",
      "metadata {\n",
      "  key: \"service\"\n",
      "  value: \"generativelanguage.googleapis.com\"\n",
      "}\n",
      "metadata {\n",
      "  key: \"method\"\n",
      "  value: \"google.ai.generativelanguage.v1beta.GenerativeService.GenerateContent\"\n",
      "}\n",
      "].\n"
     ]
    },
    {
     "name": "stdout",
     "output_type": "stream",
     "text": [
      "\n",
      "Processing file: Papers/MSO notes/MSO202Lect12.pdf\n",
      "Index 58 of 80 completed\n",
      "\n",
      "File at index 56 raised an exception: 403 Request had insufficient authentication scopes. [reason: \"ACCESS_TOKEN_SCOPE_INSUFFICIENT\"\n",
      "domain: \"googleapis.com\"\n",
      "metadata {\n",
      "  key: \"service\"\n",
      "  value: \"generativelanguage.googleapis.com\"\n",
      "}\n",
      "metadata {\n",
      "  key: \"method\"\n",
      "  value: \"google.ai.generativelanguage.v1beta.GenerativeService.GenerateContent\"\n",
      "}\n",
      "]\n",
      "\n",
      "Processing file: Papers/ESC201/Lecture6_7.pdfFile at index 46 raised an exception: 403 Request had insufficient authentication scopes. [reason: \"ACCESS_TOKEN_SCOPE_INSUFFICIENT\"\n",
      "domain: \"googleapis.com\"\n",
      "metadata {\n",
      "  key: \"service\"\n",
      "  value: \"generativelanguage.googleapis.com\"\n",
      "}\n",
      "metadata {\n",
      "  key: \"method\"\n",
      "  value: \"google.ai.generativelanguage.v1beta.GenerativeService.GenerateContent\"\n",
      "}\n",
      "]\n",
      "\n",
      "Index 59 of 80 completed\n",
      "\n"
     ]
    },
    {
     "name": "stderr",
     "output_type": "stream",
     "text": [
      "Retrying langchain_google_genai.chat_models._chat_with_retry.<locals>._chat_with_retry in 2.0 seconds as it raised PermissionDenied: 403 Request had insufficient authentication scopes. [reason: \"ACCESS_TOKEN_SCOPE_INSUFFICIENT\"\n",
      "domain: \"googleapis.com\"\n",
      "metadata {\n",
      "  key: \"service\"\n",
      "  value: \"generativelanguage.googleapis.com\"\n",
      "}\n",
      "metadata {\n",
      "  key: \"method\"\n",
      "  value: \"google.ai.generativelanguage.v1beta.GenerativeService.GenerateContent\"\n",
      "}\n",
      "].\n"
     ]
    },
    {
     "name": "stdout",
     "output_type": "stream",
     "text": [
      "\n",
      "Processing file: Papers/ESC201/Lecture9.pdfFile at index 57 raised an exception: 403 Request had insufficient authentication scopes. [reason: \"ACCESS_TOKEN_SCOPE_INSUFFICIENT\"\n",
      "domain: \"googleapis.com\"\n",
      "metadata {\n",
      "  key: \"service\"\n",
      "  value: \"generativelanguage.googleapis.com\"\n",
      "}\n",
      "metadata {\n",
      "  key: \"method\"\n",
      "  value: \"google.ai.generativelanguage.v1beta.GenerativeService.GenerateContent\"\n",
      "}\n",
      "]\n",
      "\n",
      "Index 60 of 80 completed\n",
      "\n"
     ]
    },
    {
     "name": "stderr",
     "output_type": "stream",
     "text": [
      "Retrying langchain_google_genai.chat_models._chat_with_retry.<locals>._chat_with_retry in 2.0 seconds as it raised PermissionDenied: 403 Request had insufficient authentication scopes. [reason: \"ACCESS_TOKEN_SCOPE_INSUFFICIENT\"\n",
      "domain: \"googleapis.com\"\n",
      "metadata {\n",
      "  key: \"service\"\n",
      "  value: \"generativelanguage.googleapis.com\"\n",
      "}\n",
      "metadata {\n",
      "  key: \"method\"\n",
      "  value: \"google.ai.generativelanguage.v1beta.GenerativeService.GenerateContent\"\n",
      "}\n",
      "].\n"
     ]
    },
    {
     "name": "stdout",
     "output_type": "stream",
     "text": [
      "\n",
      "Processing file: Papers/ESC201/Lecture17.pdf\n",
      "Index 61 of 80 completed\n",
      "\n",
      "File at index 4 raised an exception: 403 Request had insufficient authentication scopes. [reason: \"ACCESS_TOKEN_SCOPE_INSUFFICIENT\"\n",
      "domain: \"googleapis.com\"\n",
      "metadata {\n",
      "  key: \"service\"\n",
      "  value: \"generativelanguage.googleapis.com\"\n",
      "}\n",
      "metadata {\n",
      "  key: \"method\"\n",
      "  value: \"google.ai.generativelanguage.v1beta.GenerativeService.GenerateContent\"\n",
      "}\n",
      "]\n"
     ]
    },
    {
     "name": "stderr",
     "output_type": "stream",
     "text": [
      "Retrying langchain_google_genai.chat_models._chat_with_retry.<locals>._chat_with_retry in 2.0 seconds as it raised PermissionDenied: 403 Request had insufficient authentication scopes. [reason: \"ACCESS_TOKEN_SCOPE_INSUFFICIENT\"\n",
      "domain: \"googleapis.com\"\n",
      "metadata {\n",
      "  key: \"service\"\n",
      "  value: \"generativelanguage.googleapis.com\"\n",
      "}\n",
      "metadata {\n",
      "  key: \"method\"\n",
      "  value: \"google.ai.generativelanguage.v1beta.GenerativeService.GenerateContent\"\n",
      "}\n",
      "].\n"
     ]
    },
    {
     "name": "stdout",
     "output_type": "stream",
     "text": [
      "\n",
      "Processing file: Papers/ESC201/Lecture19.pdf\n",
      "Index 62 of 80 completed\n",
      "\n",
      "File at index 11 raised an exception: 403 Request had insufficient authentication scopes. [reason: \"ACCESS_TOKEN_SCOPE_INSUFFICIENT\"\n",
      "domain: \"googleapis.com\"\n",
      "metadata {\n",
      "  key: \"service\"\n",
      "  value: \"generativelanguage.googleapis.com\"\n",
      "}\n",
      "metadata {\n",
      "  key: \"method\"\n",
      "  value: \"google.ai.generativelanguage.v1beta.GenerativeService.GenerateContent\"\n",
      "}\n",
      "]\n"
     ]
    },
    {
     "name": "stderr",
     "output_type": "stream",
     "text": [
      "Retrying langchain_google_genai.chat_models._chat_with_retry.<locals>._chat_with_retry in 2.0 seconds as it raised PermissionDenied: 403 Request had insufficient authentication scopes. [reason: \"ACCESS_TOKEN_SCOPE_INSUFFICIENT\"\n",
      "domain: \"googleapis.com\"\n",
      "metadata {\n",
      "  key: \"service\"\n",
      "  value: \"generativelanguage.googleapis.com\"\n",
      "}\n",
      "metadata {\n",
      "  key: \"method\"\n",
      "  value: \"google.ai.generativelanguage.v1beta.GenerativeService.GenerateContent\"\n",
      "}\n",
      "].\n"
     ]
    },
    {
     "name": "stdout",
     "output_type": "stream",
     "text": [
      "\n",
      "Processing file: Papers/ESC201/Lecture12b.pdf\n",
      "Index 63 of 80 completed\n",
      "\n",
      "File at index 47 raised an exception: 403 Request had insufficient authentication scopes. [reason: \"ACCESS_TOKEN_SCOPE_INSUFFICIENT\"\n",
      "domain: \"googleapis.com\"\n",
      "metadata {\n",
      "  key: \"service\"\n",
      "  value: \"generativelanguage.googleapis.com\"\n",
      "}\n",
      "metadata {\n",
      "  key: \"method\"\n",
      "  value: \"google.ai.generativelanguage.v1beta.GenerativeService.GenerateContent\"\n",
      "}\n",
      "]\n"
     ]
    },
    {
     "name": "stderr",
     "output_type": "stream",
     "text": [
      "Retrying langchain_google_genai.chat_models._chat_with_retry.<locals>._chat_with_retry in 2.0 seconds as it raised PermissionDenied: 403 Request had insufficient authentication scopes. [reason: \"ACCESS_TOKEN_SCOPE_INSUFFICIENT\"\n",
      "domain: \"googleapis.com\"\n",
      "metadata {\n",
      "  key: \"service\"\n",
      "  value: \"generativelanguage.googleapis.com\"\n",
      "}\n",
      "metadata {\n",
      "  key: \"method\"\n",
      "  value: \"google.ai.generativelanguage.v1beta.GenerativeService.GenerateContent\"\n",
      "}\n",
      "].\n"
     ]
    },
    {
     "name": "stdout",
     "output_type": "stream",
     "text": [
      "\n",
      "Processing file: Papers/ESC201/Lecture20_21.pdf\n",
      "Index 64 of 80 completed\n",
      "\n",
      "File at index 54 raised an exception: 403 Request had insufficient authentication scopes. [reason: \"ACCESS_TOKEN_SCOPE_INSUFFICIENT\"\n",
      "domain: \"googleapis.com\"\n",
      "metadata {\n",
      "  key: \"service\"\n",
      "  value: \"generativelanguage.googleapis.com\"\n",
      "}\n",
      "metadata {\n",
      "  key: \"method\"\n",
      "  value: \"google.ai.generativelanguage.v1beta.GenerativeService.GenerateContent\"\n",
      "}\n",
      "]\n"
     ]
    },
    {
     "name": "stderr",
     "output_type": "stream",
     "text": [
      "Retrying langchain_google_genai.chat_models._chat_with_retry.<locals>._chat_with_retry in 2.0 seconds as it raised PermissionDenied: 403 Request had insufficient authentication scopes. [reason: \"ACCESS_TOKEN_SCOPE_INSUFFICIENT\"\n",
      "domain: \"googleapis.com\"\n",
      "metadata {\n",
      "  key: \"service\"\n",
      "  value: \"generativelanguage.googleapis.com\"\n",
      "}\n",
      "metadata {\n",
      "  key: \"method\"\n",
      "  value: \"google.ai.generativelanguage.v1beta.GenerativeService.GenerateContent\"\n",
      "}\n",
      "].\n"
     ]
    },
    {
     "name": "stdout",
     "output_type": "stream",
     "text": [
      "\n",
      "Processing file: Papers/ESC201/Lecture12a.pdf\n",
      "Index 65 of 80 completed\n",
      "\n",
      "File at index 60 raised an exception: 403 Request had insufficient authentication scopes. [reason: \"ACCESS_TOKEN_SCOPE_INSUFFICIENT\"\n",
      "domain: \"googleapis.com\"\n",
      "metadata {\n",
      "  key: \"service\"\n",
      "  value: \"generativelanguage.googleapis.com\"\n",
      "}\n",
      "metadata {\n",
      "  key: \"method\"\n",
      "  value: \"google.ai.generativelanguage.v1beta.GenerativeService.GenerateContent\"\n",
      "}\n",
      "]\n"
     ]
    },
    {
     "name": "stderr",
     "output_type": "stream",
     "text": [
      "Retrying langchain_google_genai.chat_models._chat_with_retry.<locals>._chat_with_retry in 2.0 seconds as it raised PermissionDenied: 403 Request had insufficient authentication scopes. [reason: \"ACCESS_TOKEN_SCOPE_INSUFFICIENT\"\n",
      "domain: \"googleapis.com\"\n",
      "metadata {\n",
      "  key: \"service\"\n",
      "  value: \"generativelanguage.googleapis.com\"\n",
      "}\n",
      "metadata {\n",
      "  key: \"method\"\n",
      "  value: \"google.ai.generativelanguage.v1beta.GenerativeService.GenerateContent\"\n",
      "}\n",
      "].\n"
     ]
    },
    {
     "name": "stdout",
     "output_type": "stream",
     "text": [
      "\n",
      "Processing file: Papers/ESC201/Lecture22.pdfFile at index 52 raised an exception: 403 Request had insufficient authentication scopes. [reason: \"ACCESS_TOKEN_SCOPE_INSUFFICIENT\"\n",
      "domain: \"googleapis.com\"\n",
      "metadata {\n",
      "  key: \"service\"\n",
      "  value: \"generativelanguage.googleapis.com\"\n",
      "}\n",
      "metadata {\n",
      "  key: \"method\"\n",
      "  value: \"google.ai.generativelanguage.v1beta.GenerativeService.GenerateContent\"\n",
      "}\n",
      "]\n",
      "\n",
      "Index 66 of 80 completed\n",
      "\n"
     ]
    },
    {
     "name": "stderr",
     "output_type": "stream",
     "text": [
      "Retrying langchain_google_genai.chat_models._chat_with_retry.<locals>._chat_with_retry in 2.0 seconds as it raised PermissionDenied: 403 Request had insufficient authentication scopes. [reason: \"ACCESS_TOKEN_SCOPE_INSUFFICIENT\"\n",
      "domain: \"googleapis.com\"\n",
      "metadata {\n",
      "  key: \"service\"\n",
      "  value: \"generativelanguage.googleapis.com\"\n",
      "}\n",
      "metadata {\n",
      "  key: \"method\"\n",
      "  value: \"google.ai.generativelanguage.v1beta.GenerativeService.GenerateContent\"\n",
      "}\n",
      "].\n"
     ]
    },
    {
     "name": "stdout",
     "output_type": "stream",
     "text": [
      "\n",
      "Processing file: Papers/ESC201/Lecture10.pdf\n",
      "Index 67 of 80 completed\n",
      "\n",
      "File at index 65 raised an exception: 403 Request had insufficient authentication scopes. [reason: \"ACCESS_TOKEN_SCOPE_INSUFFICIENT\"\n",
      "domain: \"googleapis.com\"\n",
      "metadata {\n",
      "  key: \"service\"\n",
      "  value: \"generativelanguage.googleapis.com\"\n",
      "}\n",
      "metadata {\n",
      "  key: \"method\"\n",
      "  value: \"google.ai.generativelanguage.v1beta.GenerativeService.CountTokens\"\n",
      "}\n",
      "]\n",
      "\n",
      "Processing file: Papers/ESC201/Lecture18.pdf\n",
      "Processing file: Papers/ESC201/Lecture13.pdf\n",
      "Index 69 of 80 completed\n",
      "\n",
      "File at index 66 raised an exception: 403 Request had insufficient authentication scopes. [reason: \"ACCESS_TOKEN_SCOPE_INSUFFICIENT\"\n",
      "domain: \"googleapis.com\"\n",
      "metadata {\n",
      "  key: \"service\"\n",
      "  value: \"generativelanguage.googleapis.com\"\n",
      "}\n",
      "metadata {\n",
      "  key: \"method\"\n",
      "  value: \"google.ai.generativelanguage.v1beta.GenerativeService.CountTokens\"\n",
      "}\n",
      "]\n",
      "File at index 59 raised an exception: 403 Request had insufficient authentication scopes. [reason: \"ACCESS_TOKEN_SCOPE_INSUFFICIENT\"\n",
      "domain: \"googleapis.com\"\n",
      "metadata {\n",
      "  key: \"service\"\n",
      "  value: \"generativelanguage.googleapis.com\"\n",
      "}\n",
      "metadata {\n",
      "  key: \"method\"\n",
      "  value: \"google.ai.generativelanguage.v1beta.GenerativeService.GenerateContent\"\n",
      "}\n",
      "]\n",
      "\n",
      "Index 68 of 80 completed\n",
      "\n"
     ]
    },
    {
     "name": "stderr",
     "output_type": "stream",
     "text": [
      "Retrying langchain_google_genai.chat_models._chat_with_retry.<locals>._chat_with_retry in 2.0 seconds as it raised PermissionDenied: 403 Request had insufficient authentication scopes. [reason: \"ACCESS_TOKEN_SCOPE_INSUFFICIENT\"\n",
      "domain: \"googleapis.com\"\n",
      "metadata {\n",
      "  key: \"service\"\n",
      "  value: \"generativelanguage.googleapis.com\"\n",
      "}\n",
      "metadata {\n",
      "  key: \"method\"\n",
      "  value: \"google.ai.generativelanguage.v1beta.GenerativeService.GenerateContent\"\n",
      "}\n",
      "].\n"
     ]
    },
    {
     "name": "stdout",
     "output_type": "stream",
     "text": [
      "\n",
      "Processing file: Papers/ESC201/Lecture15.pdfFile at index 61 raised an exception: 403 Request had insufficient authentication scopes. [reason: \"ACCESS_TOKEN_SCOPE_INSUFFICIENT\"\n",
      "domain: \"googleapis.com\"\n",
      "metadata {\n",
      "  key: \"service\"\n",
      "  value: \"generativelanguage.googleapis.com\"\n",
      "}\n",
      "metadata {\n",
      "  key: \"method\"\n",
      "  value: \"google.ai.generativelanguage.v1beta.GenerativeService.GenerateContent\"\n",
      "}\n",
      "]\n",
      "\n",
      "Index 70 of 80 completed\n",
      "\n"
     ]
    },
    {
     "name": "stderr",
     "output_type": "stream",
     "text": [
      "Retrying langchain_google_genai.chat_models._chat_with_retry.<locals>._chat_with_retry in 2.0 seconds as it raised PermissionDenied: 403 Request had insufficient authentication scopes. [reason: \"ACCESS_TOKEN_SCOPE_INSUFFICIENT\"\n",
      "domain: \"googleapis.com\"\n",
      "metadata {\n",
      "  key: \"service\"\n",
      "  value: \"generativelanguage.googleapis.com\"\n",
      "}\n",
      "metadata {\n",
      "  key: \"method\"\n",
      "  value: \"google.ai.generativelanguage.v1beta.GenerativeService.GenerateContent\"\n",
      "}\n",
      "].\n"
     ]
    },
    {
     "name": "stdout",
     "output_type": "stream",
     "text": [
      "\n",
      "Processing file: Papers/ESC201/Lecture8.pdf\n",
      "Index 71 of 80 completed\n",
      "\n",
      "File at index 36 raised an exception: 403 Request had insufficient authentication scopes. [reason: \"ACCESS_TOKEN_SCOPE_INSUFFICIENT\"\n",
      "domain: \"googleapis.com\"\n",
      "metadata {\n",
      "  key: \"service\"\n",
      "  value: \"generativelanguage.googleapis.com\"\n",
      "}\n",
      "metadata {\n",
      "  key: \"method\"\n",
      "  value: \"google.ai.generativelanguage.v1beta.GenerativeService.GenerateContent\"\n",
      "}\n",
      "]\n"
     ]
    },
    {
     "name": "stderr",
     "output_type": "stream",
     "text": [
      "Retrying langchain_google_genai.chat_models._chat_with_retry.<locals>._chat_with_retry in 2.0 seconds as it raised PermissionDenied: 403 Request had insufficient authentication scopes. [reason: \"ACCESS_TOKEN_SCOPE_INSUFFICIENT\"\n",
      "domain: \"googleapis.com\"\n",
      "metadata {\n",
      "  key: \"service\"\n",
      "  value: \"generativelanguage.googleapis.com\"\n",
      "}\n",
      "metadata {\n",
      "  key: \"method\"\n",
      "  value: \"google.ai.generativelanguage.v1beta.GenerativeService.GenerateContent\"\n",
      "}\n",
      "].\n"
     ]
    },
    {
     "name": "stdout",
     "output_type": "stream",
     "text": [
      "\n",
      "Processing file: Papers/ESC201/Lecture16.pdf\n",
      "Index 72 of 80 completed\n",
      "\n",
      "File at index 48 raised an exception: 403 Request had insufficient authentication scopes. [reason: \"ACCESS_TOKEN_SCOPE_INSUFFICIENT\"\n",
      "domain: \"googleapis.com\"\n",
      "metadata {\n",
      "  key: \"service\"\n",
      "  value: \"generativelanguage.googleapis.com\"\n",
      "}\n",
      "metadata {\n",
      "  key: \"method\"\n",
      "  value: \"google.ai.generativelanguage.v1beta.GenerativeService.GenerateContent\"\n",
      "}\n",
      "]\n"
     ]
    },
    {
     "name": "stderr",
     "output_type": "stream",
     "text": [
      "Retrying langchain_google_genai.chat_models._chat_with_retry.<locals>._chat_with_retry in 2.0 seconds as it raised PermissionDenied: 403 Request had insufficient authentication scopes. [reason: \"ACCESS_TOKEN_SCOPE_INSUFFICIENT\"\n",
      "domain: \"googleapis.com\"\n",
      "metadata {\n",
      "  key: \"service\"\n",
      "  value: \"generativelanguage.googleapis.com\"\n",
      "}\n",
      "metadata {\n",
      "  key: \"method\"\n",
      "  value: \"google.ai.generativelanguage.v1beta.GenerativeService.GenerateContent\"\n",
      "}\n",
      "].\n"
     ]
    },
    {
     "name": "stdout",
     "output_type": "stream",
     "text": [
      "\n",
      "Processing file: Papers/ESC201/Lecture5.pdf\n",
      "Index 73 of 80 completed\n",
      "\n",
      "File at index 58 raised an exception: 403 Request had insufficient authentication scopes. [reason: \"ACCESS_TOKEN_SCOPE_INSUFFICIENT\"\n",
      "domain: \"googleapis.com\"\n",
      "metadata {\n",
      "  key: \"service\"\n",
      "  value: \"generativelanguage.googleapis.com\"\n",
      "}\n",
      "metadata {\n",
      "  key: \"method\"\n",
      "  value: \"google.ai.generativelanguage.v1beta.GenerativeService.GenerateContent\"\n",
      "}\n",
      "]\n",
      "\n",
      "Processing file: Papers/ESC201/Lecture9b.pdf\n",
      "Index 74 of 80 completed\n",
      "\n",
      "File at index 72 raised an exception: 403 Request had insufficient authentication scopes. [reason: \"ACCESS_TOKEN_SCOPE_INSUFFICIENT\"\n",
      "domain: \"googleapis.com\"\n",
      "metadata {\n",
      "  key: \"service\"\n",
      "  value: \"generativelanguage.googleapis.com\"\n",
      "}\n",
      "metadata {\n",
      "  key: \"method\"\n",
      "  value: \"google.ai.generativelanguage.v1beta.GenerativeService.GenerateContent\"\n",
      "}\n",
      "]\n"
     ]
    },
    {
     "name": "stderr",
     "output_type": "stream",
     "text": [
      "Retrying langchain_google_genai.chat_models._chat_with_retry.<locals>._chat_with_retry in 2.0 seconds as it raised PermissionDenied: 403 Request had insufficient authentication scopes. [reason: \"ACCESS_TOKEN_SCOPE_INSUFFICIENT\"\n",
      "domain: \"googleapis.com\"\n",
      "metadata {\n",
      "  key: \"service\"\n",
      "  value: \"generativelanguage.googleapis.com\"\n",
      "}\n",
      "metadata {\n",
      "  key: \"method\"\n",
      "  value: \"google.ai.generativelanguage.v1beta.GenerativeService.GenerateContent\"\n",
      "}\n",
      "].\n"
     ]
    },
    {
     "name": "stdout",
     "output_type": "stream",
     "text": [
      "\n",
      "Processing file: Papers/ESC201/Lecture11.pdf\n",
      "Index 75 of 80 completed\n",
      "\n",
      "File at index 73 raised an exception: 403 Request had insufficient authentication scopes. [reason: \"ACCESS_TOKEN_SCOPE_INSUFFICIENT\"\n",
      "domain: \"googleapis.com\"\n",
      "metadata {\n",
      "  key: \"service\"\n",
      "  value: \"generativelanguage.googleapis.com\"\n",
      "}\n",
      "metadata {\n",
      "  key: \"method\"\n",
      "  value: \"google.ai.generativelanguage.v1beta.GenerativeService.CountTokens\"\n",
      "}\n",
      "]\n",
      "\n",
      "Processing file: Papers/ESC201/PYQ/Midsem 2020 II.pdf\n",
      "Index 76 of 80 completed\n",
      "\n",
      "File at index 70 raised an exception: 403 Request had insufficient authentication scopes. [reason: \"ACCESS_TOKEN_SCOPE_INSUFFICIENT\"\n",
      "domain: \"googleapis.com\"\n",
      "metadata {\n",
      "  key: \"service\"\n",
      "  value: \"generativelanguage.googleapis.com\"\n",
      "}\n",
      "metadata {\n",
      "  key: \"method\"\n",
      "  value: \"google.ai.generativelanguage.v1beta.GenerativeService.GenerateContent\"\n",
      "}\n",
      "]\n"
     ]
    },
    {
     "name": "stderr",
     "output_type": "stream",
     "text": [
      "Retrying langchain_google_genai.chat_models._chat_with_retry.<locals>._chat_with_retry in 2.0 seconds as it raised PermissionDenied: 403 Request had insufficient authentication scopes. [reason: \"ACCESS_TOKEN_SCOPE_INSUFFICIENT\"\n",
      "domain: \"googleapis.com\"\n",
      "metadata {\n",
      "  key: \"service\"\n",
      "  value: \"generativelanguage.googleapis.com\"\n",
      "}\n",
      "metadata {\n",
      "  key: \"method\"\n",
      "  value: \"google.ai.generativelanguage.v1beta.GenerativeService.GenerateContent\"\n",
      "}\n",
      "].\n"
     ]
    },
    {
     "name": "stdout",
     "output_type": "stream",
     "text": [
      "\n",
      "Processing file: Papers/ESC201/PYQ/Midsem 2020 I.pdf\n",
      "Index 77 of 80 completed\n",
      "\n",
      "File at index 13 raised an exception: 403 Request had insufficient authentication scopes. [reason: \"ACCESS_TOKEN_SCOPE_INSUFFICIENT\"\n",
      "domain: \"googleapis.com\"\n",
      "metadata {\n",
      "  key: \"service\"\n",
      "  value: \"generativelanguage.googleapis.com\"\n",
      "}\n",
      "metadata {\n",
      "  key: \"method\"\n",
      "  value: \"google.ai.generativelanguage.v1beta.GenerativeService.GenerateContent\"\n",
      "}\n",
      "]\n"
     ]
    },
    {
     "name": "stderr",
     "output_type": "stream",
     "text": [
      "Retrying langchain_google_genai.chat_models._chat_with_retry.<locals>._chat_with_retry in 2.0 seconds as it raised PermissionDenied: 403 Request had insufficient authentication scopes. [reason: \"ACCESS_TOKEN_SCOPE_INSUFFICIENT\"\n",
      "domain: \"googleapis.com\"\n",
      "metadata {\n",
      "  key: \"service\"\n",
      "  value: \"generativelanguage.googleapis.com\"\n",
      "}\n",
      "metadata {\n",
      "  key: \"method\"\n",
      "  value: \"google.ai.generativelanguage.v1beta.GenerativeService.GenerateContent\"\n",
      "}\n",
      "].\n"
     ]
    },
    {
     "name": "stdout",
     "output_type": "stream",
     "text": [
      "\n",
      "Processing file: Papers/ESC201/PYQ/Midsem sol_to_showw.pdfFile at index 71 raised an exception: 403 Request had insufficient authentication scopes. [reason: \"ACCESS_TOKEN_SCOPE_INSUFFICIENT\"\n",
      "domain: \"googleapis.com\"\n",
      "metadata {\n",
      "  key: \"service\"\n",
      "  value: \"generativelanguage.googleapis.com\"\n",
      "}\n",
      "metadata {\n",
      "  key: \"method\"\n",
      "  value: \"google.ai.generativelanguage.v1beta.GenerativeService.GenerateContent\"\n",
      "}\n",
      "]\n",
      "\n",
      "Index 78 of 80 completed\n",
      "\n"
     ]
    },
    {
     "name": "stderr",
     "output_type": "stream",
     "text": [
      "Retrying langchain_google_genai.chat_models._chat_with_retry.<locals>._chat_with_retry in 2.0 seconds as it raised PermissionDenied: 403 Request had insufficient authentication scopes. [reason: \"ACCESS_TOKEN_SCOPE_INSUFFICIENT\"\n",
      "domain: \"googleapis.com\"\n",
      "metadata {\n",
      "  key: \"service\"\n",
      "  value: \"generativelanguage.googleapis.com\"\n",
      "}\n",
      "metadata {\n",
      "  key: \"method\"\n",
      "  value: \"google.ai.generativelanguage.v1beta.GenerativeService.CountTokens\"\n",
      "}\n",
      "].\n"
     ]
    },
    {
     "name": "stdout",
     "output_type": "stream",
     "text": [
      "\n",
      "Processing file: Papers/ESC201/PYQ/1820448fe9c9eaac0b9d32f1384599b7c8fab6b5697e7748eafba52c66470b96_Midsem sol_to_showw.pdf\n",
      "Index 79 of 80 completed\n",
      "\n",
      "File at index 64 raised an exception: 403 Request had insufficient authentication scopes. [reason: \"ACCESS_TOKEN_SCOPE_INSUFFICIENT\"\n",
      "domain: \"googleapis.com\"\n",
      "metadata {\n",
      "  key: \"service\"\n",
      "  value: \"generativelanguage.googleapis.com\"\n",
      "}\n",
      "metadata {\n",
      "  key: \"method\"\n",
      "  value: \"google.ai.generativelanguage.v1beta.GenerativeService.GenerateContent\"\n",
      "}\n",
      "]\n"
     ]
    },
    {
     "name": "stderr",
     "output_type": "stream",
     "text": [
      "Retrying langchain_google_genai.chat_models._chat_with_retry.<locals>._chat_with_retry in 2.0 seconds as it raised PermissionDenied: 403 Request had insufficient authentication scopes. [reason: \"ACCESS_TOKEN_SCOPE_INSUFFICIENT\"\n",
      "domain: \"googleapis.com\"\n",
      "metadata {\n",
      "  key: \"service\"\n",
      "  value: \"generativelanguage.googleapis.com\"\n",
      "}\n",
      "metadata {\n",
      "  key: \"method\"\n",
      "  value: \"google.ai.generativelanguage.v1beta.GenerativeService.GenerateContent\"\n",
      "}\n",
      "].\n"
     ]
    },
    {
     "name": "stdout",
     "output_type": "stream",
     "text": [
      "\n",
      "Processing file: Papers/ESC201/PYQ/Lec14_MOSFET_I-V_characteristics.pdf\n",
      "Index 80 of 80 completed\n",
      "\n",
      "File at index 55 raised an exception: 403 Request had insufficient authentication scopes. [reason: \"ACCESS_TOKEN_SCOPE_INSUFFICIENT\"\n",
      "domain: \"googleapis.com\"\n",
      "metadata {\n",
      "  key: \"service\"\n",
      "  value: \"generativelanguage.googleapis.com\"\n",
      "}\n",
      "metadata {\n",
      "  key: \"method\"\n",
      "  value: \"google.ai.generativelanguage.v1beta.GenerativeService.GenerateContent\"\n",
      "}\n",
      "]\n"
     ]
    },
    {
     "name": "stderr",
     "output_type": "stream",
     "text": [
      "Retrying langchain_google_genai.chat_models._chat_with_retry.<locals>._chat_with_retry in 2.0 seconds as it raised PermissionDenied: 403 Request had insufficient authentication scopes. [reason: \"ACCESS_TOKEN_SCOPE_INSUFFICIENT\"\n",
      "domain: \"googleapis.com\"\n",
      "metadata {\n",
      "  key: \"service\"\n",
      "  value: \"generativelanguage.googleapis.com\"\n",
      "}\n",
      "metadata {\n",
      "  key: \"method\"\n",
      "  value: \"google.ai.generativelanguage.v1beta.GenerativeService.GenerateContent\"\n",
      "}\n",
      "].\n"
     ]
    },
    {
     "name": "stdout",
     "output_type": "stream",
     "text": [
      "File at index 69 raised an exception: 403 Request had insufficient authentication scopes. [reason: \"ACCESS_TOKEN_SCOPE_INSUFFICIENT\"\n",
      "domain: \"googleapis.com\"\n",
      "metadata {\n",
      "  key: \"service\"\n",
      "  value: \"generativelanguage.googleapis.com\"\n",
      "}\n",
      "metadata {\n",
      "  key: \"method\"\n",
      "  value: \"google.ai.generativelanguage.v1beta.GenerativeService.GenerateContent\"\n",
      "}\n",
      "]\n"
     ]
    },
    {
     "name": "stderr",
     "output_type": "stream",
     "text": [
      "Retrying langchain_google_genai.chat_models._chat_with_retry.<locals>._chat_with_retry in 2.0 seconds as it raised PermissionDenied: 403 Request had insufficient authentication scopes. [reason: \"ACCESS_TOKEN_SCOPE_INSUFFICIENT\"\n",
      "domain: \"googleapis.com\"\n",
      "metadata {\n",
      "  key: \"service\"\n",
      "  value: \"generativelanguage.googleapis.com\"\n",
      "}\n",
      "metadata {\n",
      "  key: \"method\"\n",
      "  value: \"google.ai.generativelanguage.v1beta.GenerativeService.GenerateContent\"\n",
      "}\n",
      "].\n",
      "Retrying langchain_google_genai.chat_models._chat_with_retry.<locals>._chat_with_retry in 2.0 seconds as it raised PermissionDenied: 403 Request had insufficient authentication scopes. [reason: \"ACCESS_TOKEN_SCOPE_INSUFFICIENT\"\n",
      "domain: \"googleapis.com\"\n",
      "metadata {\n",
      "  key: \"service\"\n",
      "  value: \"generativelanguage.googleapis.com\"\n",
      "}\n",
      "metadata {\n",
      "  key: \"method\"\n",
      "  value: \"google.ai.generativelanguage.v1beta.GenerativeService.CountTokens\"\n",
      "}\n",
      "].\n"
     ]
    },
    {
     "name": "stdout",
     "output_type": "stream",
     "text": [
      "File at index 50 raised an exception: 403 Request had insufficient authentication scopes. [reason: \"ACCESS_TOKEN_SCOPE_INSUFFICIENT\"\n",
      "domain: \"googleapis.com\"\n",
      "metadata {\n",
      "  key: \"service\"\n",
      "  value: \"generativelanguage.googleapis.com\"\n",
      "}\n",
      "metadata {\n",
      "  key: \"method\"\n",
      "  value: \"google.ai.generativelanguage.v1beta.GenerativeService.GenerateContent\"\n",
      "}\n",
      "]\n",
      "File at index 68 raised an exception: 403 Request had insufficient authentication scopes. [reason: \"ACCESS_TOKEN_SCOPE_INSUFFICIENT\"\n",
      "domain: \"googleapis.com\"\n",
      "metadata {\n",
      "  key: \"service\"\n",
      "  value: \"generativelanguage.googleapis.com\"\n",
      "}\n",
      "metadata {\n",
      "  key: \"method\"\n",
      "  value: \"google.ai.generativelanguage.v1beta.GenerativeService.GenerateContent\"\n",
      "}\n",
      "]\n"
     ]
    },
    {
     "name": "stderr",
     "output_type": "stream",
     "text": [
      "Retrying langchain_google_genai.chat_models._chat_with_retry.<locals>._chat_with_retry in 2.0 seconds as it raised PermissionDenied: 403 Request had insufficient authentication scopes. [reason: \"ACCESS_TOKEN_SCOPE_INSUFFICIENT\"\n",
      "domain: \"googleapis.com\"\n",
      "metadata {\n",
      "  key: \"service\"\n",
      "  value: \"generativelanguage.googleapis.com\"\n",
      "}\n",
      "metadata {\n",
      "  key: \"method\"\n",
      "  value: \"google.ai.generativelanguage.v1beta.GenerativeService.GenerateContent\"\n",
      "}\n",
      "].\n"
     ]
    },
    {
     "name": "stdout",
     "output_type": "stream",
     "text": [
      "File at index 67 raised an exception: 403 Request had insufficient authentication scopes. [reason: \"ACCESS_TOKEN_SCOPE_INSUFFICIENT\"\n",
      "domain: \"googleapis.com\"\n",
      "metadata {\n",
      "  key: \"service\"\n",
      "  value: \"generativelanguage.googleapis.com\"\n",
      "}\n",
      "metadata {\n",
      "  key: \"method\"\n",
      "  value: \"google.ai.generativelanguage.v1beta.GenerativeService.GenerateContent\"\n",
      "}\n",
      "]\n"
     ]
    },
    {
     "name": "stderr",
     "output_type": "stream",
     "text": [
      "Retrying langchain_google_genai.chat_models._chat_with_retry.<locals>._chat_with_retry in 2.0 seconds as it raised PermissionDenied: 403 Request had insufficient authentication scopes. [reason: \"ACCESS_TOKEN_SCOPE_INSUFFICIENT\"\n",
      "domain: \"googleapis.com\"\n",
      "metadata {\n",
      "  key: \"service\"\n",
      "  value: \"generativelanguage.googleapis.com\"\n",
      "}\n",
      "metadata {\n",
      "  key: \"method\"\n",
      "  value: \"google.ai.generativelanguage.v1beta.GenerativeService.GenerateContent\"\n",
      "}\n",
      "].\n"
     ]
    },
    {
     "name": "stdout",
     "output_type": "stream",
     "text": [
      "File at index 77 raised an exception: 403 Request had insufficient authentication scopes. [reason: \"ACCESS_TOKEN_SCOPE_INSUFFICIENT\"\n",
      "domain: \"googleapis.com\"\n",
      "metadata {\n",
      "  key: \"service\"\n",
      "  value: \"generativelanguage.googleapis.com\"\n",
      "}\n",
      "metadata {\n",
      "  key: \"method\"\n",
      "  value: \"google.ai.generativelanguage.v1beta.GenerativeService.GenerateContent\"\n",
      "}\n",
      "]\n"
     ]
    },
    {
     "name": "stderr",
     "output_type": "stream",
     "text": [
      "Retrying langchain_google_genai.chat_models._chat_with_retry.<locals>._chat_with_retry in 2.0 seconds as it raised PermissionDenied: 403 Request had insufficient authentication scopes. [reason: \"ACCESS_TOKEN_SCOPE_INSUFFICIENT\"\n",
      "domain: \"googleapis.com\"\n",
      "metadata {\n",
      "  key: \"service\"\n",
      "  value: \"generativelanguage.googleapis.com\"\n",
      "}\n",
      "metadata {\n",
      "  key: \"method\"\n",
      "  value: \"google.ai.generativelanguage.v1beta.GenerativeService.GenerateContent\"\n",
      "}\n",
      "].\n"
     ]
    },
    {
     "name": "stdout",
     "output_type": "stream",
     "text": [
      "File at index 79 raised an exception: 403 Request had insufficient authentication scopes. [reason: \"ACCESS_TOKEN_SCOPE_INSUFFICIENT\"\n",
      "domain: \"googleapis.com\"\n",
      "metadata {\n",
      "  key: \"service\"\n",
      "  value: \"generativelanguage.googleapis.com\"\n",
      "}\n",
      "metadata {\n",
      "  key: \"method\"\n",
      "  value: \"google.ai.generativelanguage.v1beta.GenerativeService.GenerateContent\"\n",
      "}\n",
      "]\n"
     ]
    },
    {
     "name": "stderr",
     "output_type": "stream",
     "text": [
      "Retrying langchain_google_genai.chat_models._chat_with_retry.<locals>._chat_with_retry in 2.0 seconds as it raised PermissionDenied: 403 Request had insufficient authentication scopes. [reason: \"ACCESS_TOKEN_SCOPE_INSUFFICIENT\"\n",
      "domain: \"googleapis.com\"\n",
      "metadata {\n",
      "  key: \"service\"\n",
      "  value: \"generativelanguage.googleapis.com\"\n",
      "}\n",
      "metadata {\n",
      "  key: \"method\"\n",
      "  value: \"google.ai.generativelanguage.v1beta.GenerativeService.GenerateContent\"\n",
      "}\n",
      "].\n"
     ]
    },
    {
     "name": "stdout",
     "output_type": "stream",
     "text": [
      "File at index 75 raised an exception: 403 Request had insufficient authentication scopes. [reason: \"ACCESS_TOKEN_SCOPE_INSUFFICIENT\"\n",
      "domain: \"googleapis.com\"\n",
      "metadata {\n",
      "  key: \"service\"\n",
      "  value: \"generativelanguage.googleapis.com\"\n",
      "}\n",
      "metadata {\n",
      "  key: \"method\"\n",
      "  value: \"google.ai.generativelanguage.v1beta.GenerativeService.GenerateContent\"\n",
      "}\n",
      "]\n"
     ]
    },
    {
     "name": "stderr",
     "output_type": "stream",
     "text": [
      "Retrying langchain_google_genai.chat_models._chat_with_retry.<locals>._chat_with_retry in 2.0 seconds as it raised PermissionDenied: 403 Request had insufficient authentication scopes. [reason: \"ACCESS_TOKEN_SCOPE_INSUFFICIENT\"\n",
      "domain: \"googleapis.com\"\n",
      "metadata {\n",
      "  key: \"service\"\n",
      "  value: \"generativelanguage.googleapis.com\"\n",
      "}\n",
      "metadata {\n",
      "  key: \"method\"\n",
      "  value: \"google.ai.generativelanguage.v1beta.GenerativeService.CountTokens\"\n",
      "}\n",
      "].\n"
     ]
    },
    {
     "name": "stdout",
     "output_type": "stream",
     "text": [
      "File at index 74 raised an exception: 403 Request had insufficient authentication scopes. [reason: \"ACCESS_TOKEN_SCOPE_INSUFFICIENT\"\n",
      "domain: \"googleapis.com\"\n",
      "metadata {\n",
      "  key: \"service\"\n",
      "  value: \"generativelanguage.googleapis.com\"\n",
      "}\n",
      "metadata {\n",
      "  key: \"method\"\n",
      "  value: \"google.ai.generativelanguage.v1beta.GenerativeService.GenerateContent\"\n",
      "}\n",
      "]\n"
     ]
    },
    {
     "name": "stderr",
     "output_type": "stream",
     "text": [
      "Retrying langchain_google_genai.chat_models._chat_with_retry.<locals>._chat_with_retry in 2.0 seconds as it raised PermissionDenied: 403 Request had insufficient authentication scopes. [reason: \"ACCESS_TOKEN_SCOPE_INSUFFICIENT\"\n",
      "domain: \"googleapis.com\"\n",
      "metadata {\n",
      "  key: \"service\"\n",
      "  value: \"generativelanguage.googleapis.com\"\n",
      "}\n",
      "metadata {\n",
      "  key: \"method\"\n",
      "  value: \"google.ai.generativelanguage.v1beta.GenerativeService.GenerateContent\"\n",
      "}\n",
      "].\n"
     ]
    },
    {
     "name": "stdout",
     "output_type": "stream",
     "text": [
      "File at index 62 raised an exception: 403 Request had insufficient authentication scopes. [reason: \"ACCESS_TOKEN_SCOPE_INSUFFICIENT\"\n",
      "domain: \"googleapis.com\"\n",
      "metadata {\n",
      "  key: \"service\"\n",
      "  value: \"generativelanguage.googleapis.com\"\n",
      "}\n",
      "metadata {\n",
      "  key: \"method\"\n",
      "  value: \"google.ai.generativelanguage.v1beta.GenerativeService.GenerateContent\"\n",
      "}\n",
      "]\n"
     ]
    },
    {
     "name": "stderr",
     "output_type": "stream",
     "text": [
      "Retrying langchain_google_genai.chat_models._chat_with_retry.<locals>._chat_with_retry in 2.0 seconds as it raised PermissionDenied: 403 Request had insufficient authentication scopes. [reason: \"ACCESS_TOKEN_SCOPE_INSUFFICIENT\"\n",
      "domain: \"googleapis.com\"\n",
      "metadata {\n",
      "  key: \"service\"\n",
      "  value: \"generativelanguage.googleapis.com\"\n",
      "}\n",
      "metadata {\n",
      "  key: \"method\"\n",
      "  value: \"google.ai.generativelanguage.v1beta.GenerativeService.GenerateContent\"\n",
      "}\n",
      "].\n"
     ]
    },
    {
     "name": "stdout",
     "output_type": "stream",
     "text": [
      "File at index 44 raised an exception: 403 Request had insufficient authentication scopes. [reason: \"ACCESS_TOKEN_SCOPE_INSUFFICIENT\"\n",
      "domain: \"googleapis.com\"\n",
      "metadata {\n",
      "  key: \"service\"\n",
      "  value: \"generativelanguage.googleapis.com\"\n",
      "}\n",
      "metadata {\n",
      "  key: \"method\"\n",
      "  value: \"google.ai.generativelanguage.v1beta.GenerativeService.GenerateContent\"\n",
      "}\n",
      "]\n"
     ]
    },
    {
     "name": "stderr",
     "output_type": "stream",
     "text": [
      "Retrying langchain_google_genai.chat_models._chat_with_retry.<locals>._chat_with_retry in 2.0 seconds as it raised PermissionDenied: 403 Request had insufficient authentication scopes. [reason: \"ACCESS_TOKEN_SCOPE_INSUFFICIENT\"\n",
      "domain: \"googleapis.com\"\n",
      "metadata {\n",
      "  key: \"service\"\n",
      "  value: \"generativelanguage.googleapis.com\"\n",
      "}\n",
      "metadata {\n",
      "  key: \"method\"\n",
      "  value: \"google.ai.generativelanguage.v1beta.GenerativeService.GenerateContent\"\n",
      "}\n",
      "].\n"
     ]
    },
    {
     "name": "stdout",
     "output_type": "stream",
     "text": [
      "File at index 63 raised an exception: 403 Request had insufficient authentication scopes. [reason: \"ACCESS_TOKEN_SCOPE_INSUFFICIENT\"\n",
      "domain: \"googleapis.com\"\n",
      "metadata {\n",
      "  key: \"service\"\n",
      "  value: \"generativelanguage.googleapis.com\"\n",
      "}\n",
      "metadata {\n",
      "  key: \"method\"\n",
      "  value: \"google.ai.generativelanguage.v1beta.GenerativeService.GenerateContent\"\n",
      "}\n",
      "]\n"
     ]
    },
    {
     "name": "stderr",
     "output_type": "stream",
     "text": [
      "Retrying langchain_google_genai.chat_models._chat_with_retry.<locals>._chat_with_retry in 2.0 seconds as it raised PermissionDenied: 403 Request had insufficient authentication scopes. [reason: \"ACCESS_TOKEN_SCOPE_INSUFFICIENT\"\n",
      "domain: \"googleapis.com\"\n",
      "metadata {\n",
      "  key: \"service\"\n",
      "  value: \"generativelanguage.googleapis.com\"\n",
      "}\n",
      "metadata {\n",
      "  key: \"method\"\n",
      "  value: \"google.ai.generativelanguage.v1beta.GenerativeService.GenerateContent\"\n",
      "}\n",
      "].\n"
     ]
    },
    {
     "name": "stdout",
     "output_type": "stream",
     "text": [
      "File at index 78 raised an exception: 403 Request had insufficient authentication scopes. [reason: \"ACCESS_TOKEN_SCOPE_INSUFFICIENT\"\n",
      "domain: \"googleapis.com\"\n",
      "metadata {\n",
      "  key: \"service\"\n",
      "  value: \"generativelanguage.googleapis.com\"\n",
      "}\n",
      "metadata {\n",
      "  key: \"method\"\n",
      "  value: \"google.ai.generativelanguage.v1beta.GenerativeService.GenerateContent\"\n",
      "}\n",
      "]\n"
     ]
    },
    {
     "name": "stderr",
     "output_type": "stream",
     "text": [
      "Retrying langchain_google_genai.chat_models._chat_with_retry.<locals>._chat_with_retry in 2.0 seconds as it raised PermissionDenied: 403 Request had insufficient authentication scopes. [reason: \"ACCESS_TOKEN_SCOPE_INSUFFICIENT\"\n",
      "domain: \"googleapis.com\"\n",
      "metadata {\n",
      "  key: \"service\"\n",
      "  value: \"generativelanguage.googleapis.com\"\n",
      "}\n",
      "metadata {\n",
      "  key: \"method\"\n",
      "  value: \"google.ai.generativelanguage.v1beta.GenerativeService.GenerateContent\"\n",
      "}\n",
      "].\n"
     ]
    },
    {
     "name": "stdout",
     "output_type": "stream",
     "text": [
      "File at index 76 raised an exception: 403 Request had insufficient authentication scopes. [reason: \"ACCESS_TOKEN_SCOPE_INSUFFICIENT\"\n",
      "domain: \"googleapis.com\"\n",
      "metadata {\n",
      "  key: \"service\"\n",
      "  value: \"generativelanguage.googleapis.com\"\n",
      "}\n",
      "metadata {\n",
      "  key: \"method\"\n",
      "  value: \"google.ai.generativelanguage.v1beta.GenerativeService.GenerateContent\"\n",
      "}\n",
      "]\n"
     ]
    },
    {
     "name": "stderr",
     "output_type": "stream",
     "text": [
      "Retrying langchain_google_genai.chat_models._chat_with_retry.<locals>._chat_with_retry in 2.0 seconds as it raised PermissionDenied: 403 Request had insufficient authentication scopes. [reason: \"ACCESS_TOKEN_SCOPE_INSUFFICIENT\"\n",
      "domain: \"googleapis.com\"\n",
      "metadata {\n",
      "  key: \"service\"\n",
      "  value: \"generativelanguage.googleapis.com\"\n",
      "}\n",
      "metadata {\n",
      "  key: \"method\"\n",
      "  value: \"google.ai.generativelanguage.v1beta.GenerativeService.GenerateContent\"\n",
      "}\n",
      "].\n"
     ]
    },
    {
     "name": "stdout",
     "output_type": "stream",
     "text": [
      "File at index 30 raised an exception: 403 Request had insufficient authentication scopes. [reason: \"ACCESS_TOKEN_SCOPE_INSUFFICIENT\"\n",
      "domain: \"googleapis.com\"\n",
      "metadata {\n",
      "  key: \"service\"\n",
      "  value: \"generativelanguage.googleapis.com\"\n",
      "}\n",
      "metadata {\n",
      "  key: \"method\"\n",
      "  value: \"google.ai.generativelanguage.v1beta.GenerativeService.GenerateContent\"\n",
      "}\n",
      "]\n"
     ]
    },
    {
     "name": "stderr",
     "output_type": "stream",
     "text": [
      "FloatObject (b'0..992') invalid; use 0.0 instead\n",
      "FloatObject (b'1.50.975') invalid; use 0.0 instead\n",
      "FloatObject (b'0.1.50.911') invalid; use 0.0 instead\n",
      "FloatObject (b'1.00.962801') invalid; use 0.0 instead\n",
      "FloatObject (b'0.999-0.02930.999-05') invalid; use 0.0 instead\n",
      "FloatObject (b'0..92') invalid; use 0.0 instead\n",
      "FloatObject (b'0.56-0.0611') invalid; use 0.0 instead\n",
      "FloatObject (b'-0-0.99220.59') invalid; use 0.0 instead\n",
      "FloatObject (b'0.46681.0167') invalid; use 0.0 instead\n",
      "FloatObject (b'0..31.011') invalid; use 0.0 instead\n",
      "FloatObject (b'1.28.79.46681.28.79.4') invalid; use 0.0 instead\n",
      "FloatObject (b'0.55.79.-46681.0..31.-011') invalid; use 0.0 instead\n",
      "FloatObject (b'1.-011') invalid; use 0.0 instead\n",
      "FloatObject (b'1.0.-46681..029') invalid; use 0.0 instead\n",
      "FloatObject (b'0.4360-1.045') invalid; use 0.0 instead\n",
      "FloatObject (b'2.003820.59') invalid; use 0.0 instead\n",
      "FloatObject (b'0..222.0038205559') invalid; use 0.0 instead\n",
      "FloatObject (b'0.4360-15559') invalid; use 0.0 instead\n",
      "FloatObject (b'0.55599.515') invalid; use 0.0 instead\n",
      "FloatObject (b'1.00435.022') invalid; use 0.0 instead\n",
      "FloatObject (b'1.-0.9928.022') invalid; use 0.0 instead\n",
      "FloatObject (b'1..555') invalid; use 0.0 instead\n",
      "FloatObject (b'2.03264.03264.03264.5') invalid; use 0.0 instead\n",
      "FloatObject (b'0..51.03264.28.79.434') invalid; use 0.0 instead\n",
      "FloatObject (b'28.79.4') invalid; use 0.0 instead\n",
      "FloatObject (b'0.55.6') invalid; use 0.0 instead\n",
      "FloatObject (b'0..51.-03264.03264.-03264.5') invalid; use 0.0 instead\n",
      "FloatObject (b'2.-03264.00') invalid; use 0.0 instead\n",
      "FloatObject (b'-052.032130.999') invalid; use 0.0 instead\n",
      "FloatObject (b'-0.91070.999') invalid; use 0.0 instead\n",
      "FloatObject (b'0.7010.999') invalid; use 0.0 instead\n",
      "FloatObject (b'-052.55.834') invalid; use 0.0 instead\n",
      "FloatObject (b'0.43491.04') invalid; use 0.0 instead\n",
      "FloatObject (b'0..7.019') invalid; use 0.0 instead\n",
      "FloatObject (b'1.55.') invalid; use 0.0 instead\n",
      "FloatObject (b'1.58594.55.') invalid; use 0.0 instead\n",
      "FloatObject (b'1.070.999') invalid; use 0.0 instead\n",
      "FloatObject (b'1.-019') invalid; use 0.0 instead\n",
      "NumberObject(b'820-019') invalid; use 0 instead\n",
      "FloatObject (b'1.02.051') invalid; use 0.0 instead\n",
      "FloatObject (b'-05-0.021') invalid; use 0.0 instead\n",
      "FloatObject (b'2.003460.91192.0034605') invalid; use 0.0 instead\n",
      "FloatObject (b'0.7192.0034602.20747') invalid; use 0.0 instead\n",
      "FloatObject (b'-05-02.2074') invalid; use 0.0 instead\n",
      "FloatObject (b'0.971192.91') invalid; use 0.0 instead\n",
      "FloatObject (b'0.0.042182.91') invalid; use 0.0 instead\n",
      "FloatObject (b'0.640.041') invalid; use 0.0 instead\n",
      "FloatObject (b'0.43-1.04') invalid; use 0.0 instead\n",
      "FloatObject (b'0..88') invalid; use 0.0 instead\n",
      "FloatObject (b'055.750.4360.9.88') invalid; use 0.0 instead\n",
      "FloatObject (b'-1.0524.-032') invalid; use 0.0 instead\n",
      "FloatObject (b'2.00131.-032') invalid; use 0.0 instead\n",
      "FloatObject (b'0.738.-032') invalid; use 0.0 instead\n",
      "FloatObject (b'-0.9131.001') invalid; use 0.0 instead\n",
      "FloatObject (b'-00.04224.001') invalid; use 0.0 instead\n",
      "FloatObject (b'0.648.041') invalid; use 0.0 instead\n",
      "FloatObject (b'0.7070.91') invalid; use 0.0 instead\n",
      "FloatObject (b'55.99.51660') invalid; use 0.0 instead\n",
      "FloatObject (b'.99.50') invalid; use 0.0 instead\n",
      "FloatObject (b'0.7070-.910.910-.9105') invalid; use 0.0 instead\n",
      "FloatObject (b'2.034692.00130.90832.001305') invalid; use 0.0 instead\n",
      "FloatObject (b'0..962.0013055.940.436') invalid; use 0.0 instead\n",
      "FloatObject (b'2.55.940.43051') invalid; use 0.0 instead\n",
      "FloatObject (b'0.55191.048') invalid; use 0.0 instead\n",
      "FloatObject (b'2.05.962.90930.90832.909309904') invalid; use 0.0 instead\n",
      "FloatObject (b'192.90930.555') invalid; use 0.0 instead\n",
      "FloatObject (b'0.46611.04') invalid; use 0.0 instead\n",
      "FloatObject (b'98.00112.00112.00112.5') invalid; use 0.0 instead\n",
      "FloatObject (b'0.725.00112.552234') invalid; use 0.0 instead\n",
      "FloatObject (b'0725.-00112.00112.-00112.5') invalid; use 0.0 instead\n",
      "FloatObject (b'98.-00112.047') invalid; use 0.0 instead\n",
      "FloatObject (b'-.992.029') invalid; use 0.0 instead\n",
      "FloatObject (b'-1.0374.-031220.598') invalid; use 0.0 instead\n",
      "FloatObject (b'1.021220552180.436') invalid; use 0.0 instead\n",
      "FloatObject (b'0.552180436020.5715.001050.598') invalid; use 0.0 instead\n",
      "FloatObject (b'-0.060200.019') invalid; use 0.0 instead\n",
      "FloatObject (b'0.4662.032030.9124.00124.00124.5') invalid; use 0.0 instead\n",
      "FloatObject (b'0.744.00124.552') invalid; use 0.0 instead\n",
      "FloatObject (b'-1.062.552') invalid; use 0.0 instead\n",
      "FloatObject (b'-6-0.0744.-00124.00124.-00124.5') invalid; use 0.0 instead\n",
      "FloatObject (b'032030-00124.047') invalid; use 0.0 instead\n",
      "FloatObject (b'-6-0.029') invalid; use 0.0 instead\n",
      "FloatObject (b'0.436451.04') invalid; use 0.0 instead\n",
      "FloatObject (b'0-0015-0.91070.9915-05') invalid; use 0.0 instead\n",
      "FloatObject (b'0.7330.9915-0552420.436451552420.43051') invalid; use 0.0 instead\n",
      "FloatObject (b'0.55240.04608.027330.91170.91070.911700.04480.91170.555') invalid; use 0.0 instead\n",
      "FloatObject (b'-0.060800.019') invalid; use 0.0 instead\n",
      "FloatObject (b'0.46621.566092.9135.021362.9135.5') invalid; use 0.0 instead\n",
      "FloatObject (b'0.76-0.01') invalid; use 0.0 instead\n",
      "FloatObject (b'1621..5271') invalid; use 0.0 instead\n",
      "NumberObject(b'-6-7') invalid; use 0 instead\n",
      "FloatObject (b'0.762.-001362.9136.-0013625') invalid; use 0.0 instead\n",
      "FloatObject (b'03209.-001362047') invalid; use 0.0 instead\n",
      "NumberObject(b'-6-7') invalid; use 0 instead\n",
      "FloatObject (b'0.43652.0349') invalid; use 0.0 instead\n",
      "FloatObject (b'2.051660.91192.0016605') invalid; use 0.0 instead\n",
      "FloatObject (b'1.-011') invalid; use 0.0 instead\n",
      "FloatObject (b'-1552660.43652.552660.43051') invalid; use 0.0 instead\n",
      "FloatObject (b'-1.0615.007') invalid; use 0.0 instead\n",
      "FloatObject (b'0.971192.91') invalid; use 0.0 instead\n",
      "FloatObject (b'0.0.044') invalid; use 0.0 instead\n",
      "FloatObject (b'-0.0615.0.019') invalid; use 0.0 instead\n",
      "NumberObject(b'-') invalid; use 0 instead\n",
      "FloatObject (b'0.466330.0214.001') invalid; use 0.0 instead\n",
      "FloatObject (b'0.781.001') invalid; use 0.0 instead\n",
      "FloatObject (b'7.55295.46633055295.4') invalid; use 0.0 instead\n",
      "FloatObject (b'-0.06330.9781..02128.001') invalid; use 0.0 instead\n",
      "FloatObject (b'7..02128.0.04214..02128.0-0.06330.029') invalid; use 0.0 instead\n",
      "FloatObject (b'0.4365-1.0391..02172.00131.-03172.5') invalid; use 0.0 instead\n",
      "FloatObject (b'0.771.-03172.55290.4365-155290.43051') invalid; use 0.0 instead\n",
      "FloatObject (b'0.552-0.06') invalid; use 0.0 instead\n",
      "FloatObject (b'1.02771.001') invalid; use 0.0 instead\n",
      "FloatObject (b'-0.9131.001') invalid; use 0.0 instead\n",
      "FloatObject (b'-00.04391.001') invalid; use 0.0 instead\n",
      "NumberObject(b'-') invalid; use 0 instead\n",
      "FloatObject (b'0.4661.048192.91592.91592.915925') invalid; use 0.0 instead\n",
      "FloatObject (b'0.7992.915922.319.4661.2.319.4') invalid; use 0.0 instead\n",
      "FloatObject (b'0.55319..4364') invalid; use 0.0 instead\n",
      "FloatObject (b'0.7992-.91592.91592-.915925') invalid; use 0.0 instead\n",
      "FloatObject (b'048192-.915920..4364') invalid; use 0.0 instead\n",
      "FloatObject (b'0.436651.04962.00192.91432.001925') invalid; use 0.0 instead\n",
      "FloatObject (b'0.7892.00192553140.436651553140.43051') invalid; use 0.0 instead\n",
      "FloatObject (b'0.55311.04') invalid; use 0.0 instead\n",
      "FloatObject (b'0.7892.91532.91432.915320.043962.91532.549') invalid; use 0.0 instead\n",
      "FloatObject (b'-0.069800.019') invalid; use 0.0 instead\n",
      "NumberObject(b'650961-') invalid; use 0 instead\n",
      "FloatObject (b'0.46611.56625.00171.00171.00171.5') invalid; use 0.0 instead\n",
      "FloatObject (b'0.8182.9171') invalid; use 0.0 instead\n",
      "FloatObject (b'55343.46611.55343.4') invalid; use 0.0 instead\n",
      "FloatObject (b'-.') invalid; use 0.0 instead\n",
      "FloatObject (b'2.00171.00171.-00171.5') invalid; use 0.0 instead\n",
      "FloatObject (b'56625.-00171.047') invalid; use 0.0 instead\n",
      "FloatObject (b'-.') invalid; use 0.0 instead\n",
      "FloatObject (b'7..029') invalid; use 0.0 instead\n",
      "FloatObject (b'0.43672.03201.-002020.515-0-0020205') invalid; use 0.0 instead\n",
      "FloatObject (b'0.8080-002020553380.43672.553380.43051') invalid; use 0.0 instead\n",
      "FloatObject (b'0015-0.916525') invalid; use 0.0 instead\n",
      "FloatObject (b'032010.91652.549') invalid; use 0.0 instead\n",
      "FloatObject (b'0.098.0') invalid; use 0.0 instead\n",
      "FloatObject (b'0.43-530.0232.91832.91832.918325') invalid; use 0.0 instead\n",
      "FloatObject (b'0.8372.9183255367.43-53055367.4') invalid; use 0.0 instead\n",
      "FloatObject (b'-6232.98372-.91832.91832-.918325') invalid; use 0.0 instead\n",
      "FloatObject (b'.0232-.91832047') invalid; use 0.0 instead\n",
      "FloatObject (b'-6180435670-0015-0.92260.9915-05') invalid; use 0.0 instead\n",
      "FloatObject (b'0.8860.9915-05542247') invalid; use 0.0 instead\n",
      "FloatObject (b'.02.7.012372041') invalid; use 0.0 instead\n",
      "FloatObject (b'0.43--1.0535.02195.02195.02195.5') invalid; use 0.0 instead\n",
      "FloatObject (b'0.855.02195.55391.43--155391.4') invalid; use 0.0 instead\n",
      "FloatObject (b'0.5539.47') invalid; use 0.0 instead\n",
      "FloatObject (b'-660.9855.-02195.02195.-02195.5') invalid; use 0.0 instead\n",
      "FloatObject (b'.0535.-02195.047') invalid; use 0.0 instead\n",
      "FloatObject (b'0.5722.051660.9238.-0316605') invalid; use 0.0 instead\n",
      "FloatObject (b'0.905.-011') invalid; use 0.0 instead\n",
      "FloatObject (b'.0572..52490041') invalid; use 0.0 instead\n",
      "FloatObject (b'0.708.041') invalid; use 0.0 instead\n",
      "FloatObject (b'0.43---1.05') invalid; use 0.0 instead\n",
      "FloatObject (b'-0.92070.92070.920705') invalid; use 0.0 instead\n",
      "FloatObject (b'0554140.436660.987-0-002070.92070-.920705') invalid; use 0.0 instead\n",
      "FloatObject (b'-0-.9207000.436660031') invalid; use 0.0 instead\n",
      "FloatObject (b'2.03577..02172.0025.-00172.5') invalid; use 0.0 instead\n",
      "FloatObject (b'0.923.-03172.554747') invalid; use 0.0 instead\n",
      "FloatObject (b'2.5511.56') invalid; use 0.0 instead\n",
      "FloatObject (b'05541.56714.00923.00261.0025.00261.5') invalid; use 0.0 instead\n",
      "FloatObject (b'.0577.00261.041') invalid; use 0.0 instead\n",
      "FloatObject (b'0.711.041') invalid; use 0.0 instead\n",
      "FloatObject (b'0.466730.02460.92192.92192.921925') invalid; use 0.0 instead\n",
      "FloatObject (b'0.8922.92192554384') invalid; use 0.0 instead\n",
      "FloatObject (b'0554380.436732.98922.052192.92192-.921925') invalid; use 0.0 instead\n",
      "FloatObject (b'.02460-.9219200.436732.029') invalid; use 0.0 instead\n",
      "FloatObject (b'0.43698043523.-0325.00202.-0325.5') invalid; use 0.0 instead\n",
      "FloatObject (b'0.882.-0325.554330.436980554330.43051') invalid; use 0.0 instead\n",
      "FloatObject (b'0.554330.06610.98822.9213') invalid; use 0.0 instead\n",
      "FloatObject (b'.0223.002132.549') invalid; use 0.0 instead\n",
      "FloatObject (b'1.01231.00231.00231.5') invalid; use 0.0 instead\n",
      "FloatObject (b'0.911.00231.55462.0368.55462.0') invalid; use 0.0 instead\n",
      "FloatObject (b'-68.0291-0-.9231.00231.-00231.5') invalid; use 0.0 instead\n",
      "FloatObject (b'1.-00231.047') invalid; use 0.0 instead\n",
      "FloatObject (b'-68..029') invalid; use 0.0 instead\n",
      "FloatObject (b'0.5280-002620.52140-0026205') invalid; use 0.0 instead\n",
      "FloatObject (b'0.90-002620554570.4370') invalid; use 0.0 instead\n",
      "FloatObject (b'0.55457.43-68.0292.92240.52140.922405') invalid; use 0.0 instead\n",
      "FloatObject (b'.02280.92240.549') invalid; use 0.0 instead\n",
      "FloatObject (b'-0.066800.019') invalid; use 0.0 instead\n",
      "FloatObject (b'0.4668-1.0557.002432.92432.924325') invalid; use 0.0 instead\n",
      "FloatObject (b'0.9292.924325548-1.068-15548-1.') invalid; use 0.0 instead\n",
      "FloatObject (b'-6860.99292-.92432.92432-.924325') invalid; use 0.0 instead\n",
      "FloatObject (b'.0557.-.92432047') invalid; use 0.0 instead\n",
      "FloatObject (b'0.437111.05332-.927-0.92260.9927-05') invalid; use 0.0 instead\n",
      "FloatObject (b'0.9190.9927-0554810.437111554810.43051') invalid; use 0.0 instead\n",
      "FloatObject (b'0.55481.43-7-0.99192.92362.92260.923625') invalid; use 0.0 instead\n",
      "FloatObject (b'032330.92362.549') invalid; use 0.0 instead\n",
      "FloatObject (b'-0.06740.555') invalid; use 0.0 instead\n",
      "FloatObject (b'0.466930.02620.5255.02255.02255.5') invalid; use 0.0 instead\n",
      "FloatObject (b'0.948.02255.2481.4669302481.4') invalid; use 0.0 instead\n",
      "FloatObject (b'0.555.47') invalid; use 0.0 instead\n",
      "FloatObject (b'0-00255.02255.-02255.5') invalid; use 0.0 instead\n",
      "FloatObject (b'.02620-02255.047') invalid; use 0.0 instead\n",
      "FloatObject (b'0.437180435390.992860.9238.-0328605') invalid; use 0.0 instead\n",
      "FloatObject (b'0.938.-032860555050.437180555050.43051') invalid; use 0.0 instead\n",
      "FloatObject (b'0.681.00938..52480.9238..5248.0.04239..5248..549') invalid; use 0.0 instead\n",
      "FloatObject (b'0.466990.0268..52.7.012.7.012.7.5') invalid; use 0.0 instead\n",
      "FloatObject (b'0.9660.9260') invalid; use 0.0 instead\n",
      "FloatObject (b'0.555340.436992.99660-012.7.012.7.-012.7.5') invalid; use 0.0 instead\n",
      "FloatObject (b'.0268.-012.7.00.436992.029') invalid; use 0.0 instead\n",
      "FloatObject (b'0.5440-00292.0025.-00292.5') invalid; use 0.0 instead\n",
      "FloatObject (b'0.956.-00292.5553') invalid; use 0.0 instead\n",
      "FloatObject (b'-0.0687.01956.012..0025.002625') invalid; use 0.0 instead\n",
      "FloatObject (b'.0244.00262.549') invalid; use 0.0 instead\n",
      "FloatObject (b'-0.06870.555') invalid; use 0.0 instead\n",
      "FloatObject (b'0.4670-1.05732.92792.92792.927925') invalid; use 0.0 instead\n",
      "FloatObject (b'0.9852.9279255558.4670-155558.4') invalid; use 0.0 instead\n",
      "FloatObject (b'0.555580.437060.9985.-002792.92792-.927925') invalid; use 0.0 instead\n",
      "FloatObject (b'.05732-.9279200.437060.029') invalid; use 0.0 instead\n",
      "FloatObject (b'0.9750-0231.555530.437') invalid; use 0.0 instead\n",
      "FloatObject (b'0.555530.069-0.99752.9272') invalid; use 0.0 instead\n",
      "FloatObject (b'.02490.52722.549') invalid; use 0.0 instead\n",
      "FloatObject (b'-0.06940.555') invalid; use 0.0 instead\n",
      "FloatObject (b'0.467130.0272.00291.00291.00291.0.55004.00291.55582.46713055582.4') invalid; use 0.0 instead\n",
      "FloatObject (b'0.555820.43713055004.-00291.00291.-00291.0..0272.-00291.00.437130.029') invalid; use 0.0 instead\n",
      "FloatObject (b'50-023220.52740-0232205') invalid; use 0.0 instead\n",
      "FloatObject (b'0.9930-02322023577..437') invalid; use 0.0 instead\n",
      "FloatObject (b'8023577..43051') invalid; use 0.0 instead\n",
      "FloatObject (b'.927-0.928405') invalid; use 0.0 instead\n",
      "FloatObject (b'.0255.022840.549') invalid; use 0.0 instead\n",
      "FloatObject (b'-0.07010.555') invalid; use 0.0 instead\n",
      "FloatObject (b'0.437190.0284') invalid; use 0.0 instead\n",
      "FloatObject (b'0.550220.5303') invalid; use 0.0 instead\n",
      "FloatObject (b'2.60-1.071925560-1.') invalid; use 0.0 instead\n",
      "FloatObject (b'0.5560-1-.07192550220-.9303') invalid; use 0.0 instead\n",
      "FloatObject (b'0..0284') invalid; use 0.0 instead\n",
      "FloatObject (b'01-.07192.029') invalid; use 0.0 instead\n",
      "FloatObject (b'0.436840.0262-.92730.92862-.927300.550122-.92730556010.43684055601056') invalid; use 0.0 instead\n",
      "FloatObject (b'0122.9356.012860.9356.5') invalid; use 0.0 instead\n",
      "FloatObject (b'.0260.9356..549') invalid; use 0.0 instead\n",
      "FloatObject (b'0.4372-1.05890.53150.53150.531500.550') invalid; use 0.0 instead\n",
      "FloatObject (b'-0.931505563.4372-15563.40') invalid; use 0.0 instead\n",
      "FloatObject (b'055630.4372-1550') invalid; use 0.0 instead\n",
      "FloatObject (b'-0-.93150.53150-.531500..05890-.5315000.4372-1031') invalid; use 0.0 instead\n",
      "FloatObject (b'-691.43-260.992852.93580.9928520.55090.9928525568547') invalid; use 0.0 instead\n",
      "FloatObject (b'05568545677-055090.5368..53580.5368.0.0462..00368.041') invalid; use 0.0 instead\n",
      "FloatObject (b'2.0359-0.93270.93270.932700.550590.9327055654.437') invalid; use 0.0 instead\n",
      "FloatObject (b'2.55654.40') invalid; use 0.0 instead\n",
      "FloatObject (b'055654..437') invalid; use 0.0 instead\n",
      "FloatObject (b'2.550590-.93270.93270-.932700.0359-0-.932700..437') invalid; use 0.0 instead\n",
      "FloatObject (b'05672.551090.5380.937..53800.04631.0038.041') invalid; use 0.0 instead\n",
      "FloatObject (b'0.4673-0.06.00339..5339..5339.0.55072.00339.556774') invalid; use 0.0 instead\n",
      "FloatObject (b'055677..437') invalid; use 0.0 instead\n",
      "FloatObject (b'9255072.-00339..5339.-.5339.0..06.-.5339.0..437') invalid; use 0.0 instead\n",
      "FloatObject (b'0.437640.0276.-.53690.9322.-.536900.550.7.-013690556720.437640556720.43051') invalid; use 0.0 instead\n",
      "FloatObject (b'0.7.01332') invalid; use 0.0 instead\n",
      "FloatObject (b'0..02760.5332') invalid; use 0.0 instead\n",
      "FloatObject (b'-0.07270.555') invalid; use 0.0 instead\n",
      "FloatObject (b'0.4674-1.06052.93512.93512.935120.550962.935122070104674-120701040') invalid; use 0.0 instead\n",
      "FloatObject (b'0557010.4374-1200962-.93512.93512-.935120..06052-.9351200.4374-1.029') invalid; use 0.0 instead\n",
      "FloatObject (b'0.5569-1.073-0550860.9344.00334..9344.0..0582..9344..549') invalid; use 0.0 instead\n",
      "FloatObject (b'-0.07340.555') invalid; use 0.0 instead\n",
      "FloatObject (b'0.4675204361.00363.00363.00363.') invalid; use 0.0 instead\n",
      "FloatObject (b'0557250.437520551150-.5363.00363.-00363.') invalid; use 0.0 instead\n",
      "FloatObject (b'04361.-00363.00.437520.029') invalid; use 0.0 instead\n",
      "FloatObject (b'055104.-01393055720.43777') invalid; use 0.0 instead\n",
      "FloatObject (b'55104..9356.01346..9356.5') invalid; use 0.0 instead\n",
      "FloatObject (b'.0287.01356..549') invalid; use 0.0 instead\n",
      "FloatObject (b'-0.0740.555') invalid; use 0.0 instead\n",
      "FloatObject (b'0.4675-0.0616..93752.93752.93752') invalid; use 0.0 instead\n",
      "FloatObject (b'0551330.9375255749.4675-055749.4') invalid; use 0.0 instead\n",
      "FloatObject (b'0.4375-0551332-.93752.93752-.93752') invalid; use 0.0 instead\n",
      "FloatObject (b'0.0616.-.9375200.4375-0.029') invalid; use 0.0 instead\n",
      "FloatObject (b'0.437840.0292.-.54052.93580.994052') invalid; use 0.0 instead\n",
      "FloatObject (b'0551230.994052557440.437840557440.43051') invalid; use 0.0 instead\n",
      "FloatObject (b'0.55744.43747') invalid; use 0.0 instead\n",
      "FloatObject (b'551230.5368..53580.5368.0.04292..5368..549') invalid; use 0.0 instead\n",
      "FloatObject (b'-0.07470.555') invalid; use 0.0 instead\n",
      "NumberObject(b'650745-0') invalid; use 0 instead\n",
      "FloatObject (b'0.621.00386..9387.0138605') invalid; use 0.0 instead\n",
      "FloatObject (b'55152.01386055773.4676') invalid; use 0.0 instead\n",
      "FloatObject (b'0.557730.4376') invalid; use 0.0 instead\n",
      "FloatObject (b'55152.-.9387.01387.-.9387.0.04621.-.9387.00.4376') invalid; use 0.0 instead\n",
      "FloatObject (b'0.43791.435980.994170.937.-0041705') invalid; use 0.0 instead\n",
      "FloatObject (b'55142.-00417055768..54791.55768..54051') invalid; use 0.0 instead\n",
      "FloatObject (b'0.55768.04753055142..5380.937..53800.04592.0038..549') invalid; use 0.0 instead\n",
      "FloatObject (b'-0.07530.430') invalid; use 0.0 instead\n",
      "FloatObject (b'0.467720436270.9392.00392.00392.5') invalid; use 0.0 instead\n",
      "FloatObject (b'55170.9392.55797.46772055797.4') invalid; use 0.0 instead\n",
      "FloatObject (b'0.55797..4377205517.-01392.00392.-00392.5') invalid; use 0.0 instead\n",
      "FloatObject (b'436270-00392.0..437720.029') invalid; use 0.0 instead\n",
      "FloatObject (b'0.437971.06030.994290.53820.9942905') invalid; use 0.0 instead\n",
      "FloatObject (b'55160.994290557920.437971557920.43051') invalid; use 0.0 instead\n",
      "FloatObject (b'0.557920437605516..9392..5382..939220..0603..93922.549') invalid; use 0.0 instead\n",
      "FloatObject (b'-0.0760.555') invalid; use 0.0 instead\n",
      "FloatObject (b'0.4677-0.0632') invalid; use 0.0 instead\n",
      "FloatObject (b'551890.541.55821.4677-055821.405') invalid; use 0.0 instead\n",
      "FloatObject (b'55821.-4677-0551890-.5') invalid; use 0.0 instead\n",
      "FloatObject (b'-0-.9') invalid; use 0.0 instead\n",
      "FloatObject (b'-00.-4677-0.029') invalid; use 0.0 instead\n",
      "FloatObject (b'0.438041.06080.994') invalid; use 0.0 instead\n",
      "FloatObject (b'-0.93930-024') invalid; use 0.0 instead\n",
      "NumberObject(b'551790-024') invalid; use 0 instead\n",
      "FloatObject (b'-0558160.438041558160.43051') invalid; use 0.0 instead\n",
      "FloatObject (b'0.558160.07660551790.5404..93930.9404.0..06080.9404..549') invalid; use 0.0 instead\n",
      "FloatObject (b'-0.07660.555') invalid; use 0.0 instead\n",
      "FloatObject (b'0.43785456637..54220.54220.542200.552080.9422023845.43785423845.4') invalid; use 0.0 instead\n",
      "FloatObject (b'0.558450.437854232080.994220.54220-.542200.56637.-.5422000.437854.029') invalid; use 0.0 instead\n",
      "FloatObject (b'0.4375456614.-013930.94052-.93930') invalid; use 0.0 instead\n",
      "FloatObject (b'055197.-01393055840.437545584056') invalid; use 0.0 instead\n",
      "FloatObject (b'055840568330551970.94760.54052.94760') invalid; use 0.0 instead\n",
      "FloatObject (b'0.06142.947600.019') invalid; use 0.0 instead\n",
      "FloatObject (b'0.437920436430.9434..9434..9434.0.5522..0043-055869.43792055869.40') invalid; use 0.0 instead\n",
      "FloatObject (b'0.437920552260.99434..9434.-.9434.0.436430-.9434.00.437920031') invalid; use 0.0 instead\n",
      "FloatObject (b'-7270436790-024052.94770.994052') invalid; use 0.0 instead\n",
      "FloatObject (b'055276.-.540525592447') invalid; use 0.0 instead\n",
      "FloatObject (b'055924456840552760.54882.94770.548820.436790.54880041') invalid; use 0.0 instead\n",
      "FloatObject (b'65062.1.') invalid; use 0.0 instead\n",
      "FloatObject (b'055245..9446.55893.43798455893.40') invalid; use 0.0 instead\n",
      "FloatObject (b'0558930.43798455245.-.9446..9446.-.9446.') invalid; use 0.0 instead\n",
      "FloatObject (b'-7640.06840.994170.94890-.5') invalid; use 0.0 instead\n",
      "FloatObject (b'55294.-004170559480.43764055948056') invalid; use 0.0 instead\n",
      "FloatObject (b'055948056846.5529-0.950.94890.950') invalid; use 0.0 instead\n",
      "FloatObject (b'0.438054566530.94580.54580.545805') invalid; use 0.0 instead\n",
      "FloatObject (b'552630.94580559160.08052559160.0') invalid; use 0.0 instead\n",
      "FloatObject (b'0559160.43805423263.-004580.54580-.545805') invalid; use 0.0 instead\n",
      "FloatObject (b'566530-.5458000.438054.029') invalid; use 0.0 instead\n",
      "FloatObject (b'0.4377043630.994290.54') invalid; use 0.0 instead\n",
      "FloatObject (b'-0-.9') invalid; use 0.0 instead\n",
      "FloatObject (b'552530.99429055911.-4677055911.56') invalid; use 0.0 instead\n",
      "FloatObject (b'055911.568530552530.9512') invalid; use 0.0 instead\n",
      "FloatObject (b'0.56630.9512') invalid; use 0.0 instead\n",
      "FloatObject (b'0.468120436590.5470.5470.54705') invalid; use 0.0 instead\n",
      "FloatObject (b'55282..94705594.4681205594.40') invalid; use 0.0 instead\n",
      "FloatObject (b'055940.438120552820.99470.5470-.54705') invalid; use 0.0 instead\n",
      "FloatObject (b'436590-.547000.438120.029') invalid; use 0.0 instead\n",
      "FloatObject (b'0.43837043635.-.950-0.9') invalid; use 0.0 instead\n",
      "FloatObject (b'530.9950-0') invalid; use 0.0 instead\n",
      "FloatObject (b'0552710.9950-0559350.438370559350.43051') invalid; use 0.0 instead\n",
      "FloatObject (b'6400.566350.9') invalid; use 0.0 instead\n",
      "FloatObject (b'-0.07990.555') invalid; use 0.0 instead\n",
      "FloatObject (b'82..9482..9482.0.553..9482.55964.46818455964.4') invalid; use 0.0 instead\n",
      "FloatObject (b'0.559640.4381845530.99482..9482.-.9482.0.') invalid; use 0.0 instead\n",
      "FloatObject (b'0.5595-0.0806.55290.54750.9') invalid; use 0.0 instead\n",
      "FloatObject (b'0.468254566690.549-0.949-0.949-00.553190.549-05598800482545598800') invalid; use 0.0 instead\n",
      "FloatObject (b'0.559880.438254553190-.949-0.949-0-.949-00.566690-.949-000.438254.029') invalid; use 0.0 instead\n",
      "FloatObject (b'0.4385456646.-.95252.94770.9952520.553090.995252559830.43854559830.43051') invalid; use 0.0 instead\n",
      "FloatObject (b'0.55983.468134553090.94872.94770.548705') invalid; use 0.0 instead\n",
      "FloatObject (b'43646..948700.019') invalid; use 0.0 instead\n",
      "FloatObject (b'65062.3.') invalid; use 0.0 instead\n"
     ]
    },
    {
     "name": "stdout",
     "output_type": "stream",
     "text": [
      "File at index 20 raised an exception: Invalid Elementary Object starting with b'*' @927187: b'..550603*\\nQ2.468 c\\n3*\\nQ2.400.3*\\nQ2.-468 c\\n55337.-.95060.95060-.950600.f*6750-.95'\n"
     ]
    }
   ],
   "execution_count": 37
  },
  {
   "cell_type": "code",
   "metadata": {},
   "source": [
    "summarized_documents"
   ],
   "outputs": [
    {
     "data": {
      "text/plain": [
       "[]"
      ]
     },
     "execution_count": 38,
     "metadata": {},
     "output_type": "execute_result"
    }
   ],
   "execution_count": 38
  },
  {
   "cell_type": "markdown",
   "metadata": {},
   "source": [
    "### GROQ"
   ]
  },
  {
   "cell_type": "code",
   "execution_count": 13,
   "metadata": {},
   "outputs": [
    {
     "ename": "NameError",
     "evalue": "name 'InMemoryRateLimiter' is not defined",
     "output_type": "error",
     "traceback": [
      "\u001B[0;31m---------------------------------------------------------------------------\u001B[0m",
      "\u001B[0;31mNameError\u001B[0m                                 Traceback (most recent call last)",
      "Cell \u001B[0;32mIn[13], line 3\u001B[0m\n\u001B[1;32m      1\u001B[0m \u001B[38;5;28;01mfrom\u001B[39;00m \u001B[38;5;21;01mlangchain_groq\u001B[39;00m \u001B[38;5;28;01mimport\u001B[39;00m ChatGroq\n\u001B[1;32m      2\u001B[0m model_id \u001B[38;5;241m=\u001B[39m  \u001B[38;5;124m\"\u001B[39m\u001B[38;5;124mllama-3.1-70b-versatile\u001B[39m\u001B[38;5;124m\"\u001B[39m\n\u001B[0;32m----> 3\u001B[0m rate_limiter \u001B[38;5;241m=\u001B[39m \u001B[43mInMemoryRateLimiter\u001B[49m(\n\u001B[1;32m      4\u001B[0m     requests_per_second\u001B[38;5;241m=\u001B[39m\u001B[38;5;241m0.067\u001B[39m,  \u001B[38;5;66;03m# <-- Super slow! We can only make a request once every 10 seconds!!\u001B[39;00m\n\u001B[1;32m      5\u001B[0m     check_every_n_seconds\u001B[38;5;241m=\u001B[39m\u001B[38;5;241m0.1\u001B[39m,  \u001B[38;5;66;03m# Wake up every 100 ms to check whether allowed to make a request,\u001B[39;00m\n\u001B[1;32m      6\u001B[0m     max_bucket_size \u001B[38;5;241m=\u001B[39m \u001B[38;5;241m15\u001B[39m,  \u001B[38;5;66;03m# Controls the maximum burst size.\u001B[39;00m\n\u001B[1;32m      7\u001B[0m )\n\u001B[1;32m      8\u001B[0m llm \u001B[38;5;241m=\u001B[39m ChatGroq(\n\u001B[1;32m      9\u001B[0m     model\u001B[38;5;241m=\u001B[39mmodel_id,\n\u001B[1;32m     10\u001B[0m     temperature\u001B[38;5;241m=\u001B[39m\u001B[38;5;241m0\u001B[39m,\n\u001B[0;32m   (...)\u001B[0m\n\u001B[1;32m     15\u001B[0m     \u001B[38;5;66;03m# other params...\u001B[39;00m\n\u001B[1;32m     16\u001B[0m )\n",
      "\u001B[0;31mNameError\u001B[0m: name 'InMemoryRateLimiter' is not defined"
     ]
    }
   ],
   "source": [
    "from langchain_groq import ChatGroq\n",
    "model_id =  \"llama-3.1-70b-versatile\"\n",
    "rate_limiter = InMemoryRateLimiter(\n",
    "    requests_per_second=0.067,  # <-- Super slow! We can only make a request once every 10 seconds!!\n",
    "    check_every_n_seconds=0.1,  # Wake up every 100 ms to check whether allowed to make a request,\n",
    "    max_bucket_size = 15,  # Controls the maximum burst size.\n",
    ")\n",
    "llm = ChatGroq(\n",
    "    model=model_id,\n",
    "    temperature=0,\n",
    "    max_tokens=None,\n",
    "    timeout=None,\n",
    "    max_retries=2,\n",
    "    api_key=GROQ_API_KEY,\n",
    "    # other params...\n",
    ")"
   ]
  },
  {
   "cell_type": "code",
   "execution_count": 41,
   "metadata": {},
   "outputs": [
    {
     "data": {
      "text/plain": [
       "'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'"
      ]
     },
     "execution_count": 41,
     "metadata": {},
     "output_type": "execute_result"
    }
   ],
   "source": [
    "GROQ_API_KEY=os.environ.get(\"GROQ_WHISPER_KEY\")\n",
    "GROQ_API_KEY"
   ]
  },
  {
   "cell_type": "code",
   "execution_count": 44,
   "metadata": {},
   "outputs": [
    {
     "data": {
      "text/plain": [
       "AIMessage(content='Hello. How can I assist you today?', additional_kwargs={}, response_metadata={'token_usage': {'completion_tokens': 10, 'prompt_tokens': 39, 'total_tokens': 49, 'completion_time': 0.04, 'prompt_time': 0.009308826, 'queue_time': 0.004998464000000001, 'total_time': 0.049308826}, 'model_name': 'llama-3.1-70b-versatile', 'system_fingerprint': 'fp_b3ae7e594e', 'finish_reason': 'stop', 'logprobs': None}, id='run-6c613c6a-39f4-4bf1-8bb8-184bc2dde7c9-0', usage_metadata={'input_tokens': 39, 'output_tokens': 10, 'total_tokens': 49})"
      ]
     },
     "execution_count": 44,
     "metadata": {},
     "output_type": "execute_result"
    }
   ],
   "source": [
    "llm.invoke(\"Hello, world!\")"
   ]
  },
  {
   "cell_type": "code",
   "execution_count": 14,
   "metadata": {},
   "outputs": [],
   "source": [
    "from langchain_google_genai import GoogleGenerativeAIEmbeddings\n",
    "embeddings = GoogleGenerativeAIEmbeddings(model=\"models/text-embedding-004\",google_api_key=GEMINI_API_KEY)"
   ]
  },
  {
   "cell_type": "code",
   "execution_count": 15,
   "metadata": {},
   "outputs": [
    {
     "ename": "NameError",
     "evalue": "name 'summarized_documents' is not defined",
     "output_type": "error",
     "traceback": [
      "\u001B[0;31m---------------------------------------------------------------------------\u001B[0m",
      "\u001B[0;31mNameError\u001B[0m                                 Traceback (most recent call last)",
      "Cell \u001B[0;32mIn[15], line 1\u001B[0m\n\u001B[0;32m----> 1\u001B[0m \u001B[38;5;28mlen\u001B[39m(\u001B[43msummarized_documents\u001B[49m),\u001B[38;5;28mlen\u001B[39m(File_paths)\n",
      "\u001B[0;31mNameError\u001B[0m: name 'summarized_documents' is not defined"
     ]
    }
   ],
   "source": [
    "len(summarized_documents),len(File_paths)"
   ]
  },
  {
   "cell_type": "code",
   "execution_count": 16,
   "metadata": {},
   "outputs": [
    {
     "name": "stderr",
     "output_type": "stream",
     "text": [
      "/tmp/ipykernel_11015/2633589271.py:12: LangChainDeprecationWarning: The class `Chroma` was deprecated in LangChain 0.2.9 and will be removed in 1.0. An updated version of the class exists in the :class:`~langchain-chroma package and should be used instead. To use it run `pip install -U :class:`~langchain-chroma` and import as `from :class:`~langchain_chroma import Chroma``.\n",
      "  vector_store = Chroma(embedding_function=embeddings, persist_directory=\"Summaries-2\")\n"
     ]
    }
   ],
   "source": [
    "from langchain.vectorstores import Chroma\n",
    "from langchain.embeddings import OpenAIEmbeddings\n",
    "from langchain.document_loaders import TextLoader\n",
    "from langchain.text_splitter import CharacterTextSplitter\n",
    "from langchain.docstore.document import Document\n",
    "import os\n",
    "from langchain_google_genai import GoogleGenerativeAIEmbeddings\n",
    "GEMINI_API_KEY = os.environ.get(\"GEMINI_API\")\n",
    "embeddings = GoogleGenerativeAIEmbeddings(model=\"models/text-embedding-004\",google_api_key=GEMINI_API_KEY)\n",
    "\n",
    "# Create a Chroma instance\n",
    "vector_store = Chroma(embedding_function=embeddings, persist_directory=\"Summaries-2\")\n",
    "\n",
    "# Load documents (replace with your own document loading logic)\n"
   ]
  },
  {
   "cell_type": "code",
   "execution_count": 17,
   "metadata": {},
   "outputs": [],
   "source": [
    "\n",
    "#! Saving the summarized documents, for future use\n",
    "# with open('summaries.txt', 'w') as f:\n",
    "#     for item in summarized_documents:\n",
    "#         f.write(\"%s\\n\" % item)"
   ]
  },
  {
   "cell_type": "code",
   "execution_count": 18,
   "metadata": {},
   "outputs": [
    {
     "ename": "NameError",
     "evalue": "name 'summarized_documents' is not defined",
     "output_type": "error",
     "traceback": [
      "\u001B[0;31m---------------------------------------------------------------------------\u001B[0m",
      "\u001B[0;31mNameError\u001B[0m                                 Traceback (most recent call last)",
      "Cell \u001B[0;32mIn[18], line 1\u001B[0m\n\u001B[0;32m----> 1\u001B[0m \u001B[38;5;28;01mfor\u001B[39;00m x \u001B[38;5;129;01min\u001B[39;00m \u001B[43msummarized_documents\u001B[49m: \n\u001B[1;32m      2\u001B[0m     vector_store\u001B[38;5;241m.\u001B[39madd_documents(x)\n",
      "\u001B[0;31mNameError\u001B[0m: name 'summarized_documents' is not defined"
     ]
    }
   ],
   "source": [
    "for x in summarized_documents: \n",
    "    vector_store.add_documents(x)\n"
   ]
  },
  {
   "cell_type": "code",
   "execution_count": 19,
   "metadata": {},
   "outputs": [],
   "source": [
    "retriever_or = vector_store.as_retriever()"
   ]
  },
  {
   "cell_type": "code",
   "execution_count": 20,
   "metadata": {},
   "outputs": [
    {
     "data": {
      "text/plain": [
       "[Document(metadata={}, page_content='File_path: Papers/ESO201/Chem Thermo 1.pdf \\n## Summary:\\n\\nThis document provides a comprehensive overview of fundamental concepts in chemical thermodynamics, focusing on predicting the spontaneity of chemical reactions and processes. It begins by introducing internal energy, its relationship to heat transfer, work, and matter exchange, and the first law of thermodynamics, which states that the energy of an isolated system remains constant. \\n\\nThe document explores pressure-volume work, relevant for gases, and the concept of reversible processes involving infinitesimal changes in pressure and volume. It then delves into heat capacity, the amount of heat required to raise the temperature of a system, distinguishing between specific and molar heat capacities. \\n\\nThe document introduces entropy, a thermodynamic state function representing the randomness or disorder of a system, highlighting factors that affect it, such as randomness, heat absorption, temperature, volume, and molecular complexity. The third law of thermodynamics, stating that the entropy of a perfectly crystalline substance is zero at absolute zero, is also discussed. \\n\\nThe document explores spontaneity, the tendency of a process to occur naturally. It explains that spontaneity is governed by a decrease in energy (exothermic reactions) and an increase in entropy, with both factors needing to be considered simultaneously.\\n\\nThe document introduces Gibbs free energy (G = H - TS), where H is enthalpy, T is temperature, and S is entropy. It explains that Gibbs free energy change (ΔG) provides a direct measure of spontaneity: a negative ΔG indicates a spontaneous process, a positive ΔG indicates a non-spontaneous process, and a ΔG of zero signifies equilibrium.\\n\\nFinally, the document discusses the equilibrium constant (K_eq), a measure of the extent to which a reaction proceeds to completion at equilibrium. The document explains that the magnitude of ΔG° (standard Gibbs free energy change) determines the value of K_eq. A large K_eq indicates a reaction that favors product formation, while a small K_eq indicates a reaction that favors reactant formation. \\n\\n## Keywords:\\n\\nInternal Energy, Work, Heat Capacity, Entropy, Gibbs Free Energy, Spontaneity, Equilibrium Constant, First Law of Thermodynamics, Second Law of Thermodynamics, Third Law of Thermodynamics, Reversible Process, Irreversible Process, Exothermic, Endothermic, Enthalpy, Temperature, Pressure, Volume, Reaction Quotient, Standard Conditions, Standard Gibbs Free Energy of Formation, Phase Transition, Absolute Entropy. \\n'),\n",
       " Document(metadata={}, page_content='File_path: Papers/ESO201/Lecture 6.pdf \\n## Summary:\\n\\nThis document delves into the concept of potential energy (P.E.) and its various forms: intermolecular, intramolecular, and intra-atomic. It explores how these forms influence physical properties and processes, including phase transitions, dissolution, chemical reactions, and nuclear fission. \\n\\n**Intermolecular P.E.** plays a crucial role in phase changes, such as liquid to vapor, as well as in processes like dissolution, osmosis, and reverse osmosis. **Intramolecular P.E.** is significant during chemical reactions, including combustion and methane reforming. **Intra-atomic P.E.** is involved in nuclear fission.\\n\\nThe document further examines the properties of compressed liquids and provides an approximation method for calculating their enthalpy. It defines relative humidity and highlights its impact on thermal comfort and environmental processes, such as drying and precipitation.\\n\\n**Keywords:** Potential Energy, Intermolecular P.E., Intramolecular P.E., Intra-atomic P.E., Phase Changes, Dissolution, Osmosis, Reverse Osmosis, Chemical Reactions, Combustion, Reforming, Nuclear Fission, Compressed Liquids, Relative Humidity, Thermal Comfort, Precipitation. \\n'),\n",
       " Document(metadata={}, page_content=\"File_path: Papers/ESO201/Lecture 3.pdf \\nThis document provides a comprehensive explanation of internal energy, its relationship to the first law of thermodynamics, and its applications. It defines internal energy as the energy associated with the microscopic components of a system, excluding external forces. The state postulate is introduced, stating that two independent variables are sufficient to determine all other properties for a simple compressible system. Joule's experiments are highlighted, proving the equivalence of different energy forms in changing internal energy and establishing it as a state function.\\n\\nThe first law of thermodynamics is introduced, initially for adiabatic processes, where work done on the system equals the change in internal energy. This law is then generalized to encompass heat transfer and changes in kinetic and potential energy. The document explains heat transfer and its relationship to internal energy changes, emphasizing that both heat transfer and work are path-dependent.\\n\\nThe document further explores the calculation of work due to volume changes, particularly for slow expansion processes. Two illustrative examples demonstrate applying the first law of thermodynamics: an object falling through a height and the acceleration of air by a fan. These examples showcase the universality of the first law, regardless of system definition or external forces.\\n\\n**Keywords:** Internal energy, state postulate, Joule's experiments, adiabatic process, first law of thermodynamics, heat transfer, work, state function, path-dependent, volume change, kinetic energy, potential energy, control mass, system, equilibrium states. \\n\"),\n",
       " Document(metadata={}, page_content='File_path: Papers/ESO201/thermo_solution_8thedi.pdf \\nThis document is a solutions manual for the textbook \"Thermodynamics: An Engineering Approach\" by Yunus A. Cengel and Michael A. Boles, covering Chapters 1 and 2. It provides comprehensive solutions to problems related to fundamental thermodynamic concepts, energy transfer, and energy analysis for closed and open systems. The manual covers a wide range of topics including the First Law of Thermodynamics, energy conversion efficiencies, energy and environmental concerns, mechanisms of heat transfer, closed system energy analysis, control volume mass and energy analysis, compressor and turbine operations, nozzle and diffuser dynamics, throttling valve applications, mixing chambers and heat exchangers, pipe and duct flow, charging and discharging processes, thermodynamic cycles like Carnot, Otto, and Diesel cycles, refrigeration cycles, combined cycles, exergy analysis, compressible flow, stagnation properties, speed of sound, Mach number, one-dimensional isentropic flow, shock waves, expansion waves, Rayleigh flow, steam nozzles, and FE exam problems. The document utilizes EES software for complex problems and provides numerous solved problems, explanations of common mistakes, and practical tips for improving the efficiency of various thermodynamic systems.\\n\\nKeywords: Thermodynamics, Solutions Manual, Chapter 1, Introduction, Basic Concepts, Chapter 2, Energy, Energy Transfer, General Energy Analysis, Classical vs. Statistical Thermodynamics, Conservation of Energy Principle, Mass, Force, Units, Gravitational Acceleration, Weight, Density, Specific Gravity, Temperature, Pressure, Absolute vs. Gage Pressure, Manometer, Barometer, Systems, Properties, State, Processes, Closed System, Open System, Intensive Property, Extensive Property, State, Process, Quasi-equilibrium Process, Isothermal, Isobaric, Isochoric Processes, Forms of Energy, Total Energy, Kinetic Energy, Potential Energy, Internal Energy, Thermal Energy, Mechanical Energy, Energy Transfer by Heat and Work, Heat, Work, Mechanical Forms of Work, Shaft Work, Spring Work, Boundary Work, The First Law of Thermodynamics, Energy Conversion Efficiencies, Pump Efficiency, Turbine Efficiency, Generator Efficiency, Energy and Environment, Environmental Pollution, Greenhouse Effect, Global Warming, Smog, Acid Rain, Mechanisms of Heat Transfer, Conduction, Convection, Radiation, Blackbody, Emissivity, Absorptivity, Compressibility Factor, Ideal Gas, Reduced Pressure, Reduced Temperature, Boundary Work, Isothermal Process, Polytropic Process, Isentropic Process, Adiabatic Process, Closed System, Control Volume, Steady-Flow Process, Unsteady-Flow Process, Mass Flow Rate, Volume Flow Rate, Flow Work, Enthalpy, Specific Heat, Internal Energy, Kinetic Energy, Potential Energy, Metabolizable Energy, Basal Metabolic Rate, Body Mass Index (BMI), Compressor, Turbine, Nozzle, Diffuser, Throttling Valve, Mixing Chamber, Heat Exchanger, Pipe Flow, Duct Flow, Charging, Discharging, Heat Transfer, Work, Enthalpy, Internal Energy, Specific Heat, Specific Volume, Temperature, Pressure, Velocity, Mass Flow Rate, Volume Flow Rate, Quality, Efficiency, EES Software, Ideal Gas, Incompressible Fluid, Air, Steam, Refrigerant, Water, Helium, Nitrogen, Oxygen, Combustion Gases, Geothermal Water, Electronic Devices, Air Conditioning, Ventilation, Infiltration, Exfiltration, Heat Loss, Heat Gain, Power, Flow Work, Boundary Work, Heat of Vaporization, Heat of Hydration, Specific Heat Ratio, Immersion Chilling, Regeneration, Aftercooler, Turbocharger, Flash Chamber, Separator, Air Bag, Showerhead, Heat Exchanger Effectiveness, Air Ballast Tank, Submarine, Electric Resistance Heater, Power Rating, Average Velocity, Draining Time, Air Changes per Hour (ACH), Productivity, Respiratory Illnesses, Cost-Benefit Analysis, Electric Energy Savings, Net Monetary Benefit, Heat Engine, Refrigerator, Heat Pump, Thermal Efficiency, Coefficient of Performance, Entropy Change, Isentropic Efficiency, Reversible Process, Irreversible Process, Carnot Cycle, Energy Balance, Entropy Balance, Steady-Flow, Closed System, Ideal Gas, Specific Heat, Specific Volume, Enthalpy, Internal Energy, Pressure, Temperature, Steam, R-134a, Air, Nitrogen, Helium, Compressor, Turbine, Pump, Nozzle, Isentropic Process, Polytropic Process, Isothermal Process, Two-Stage Compression, Intercooling, Entropy Generation, Isentropic Efficiency, Common Mistakes, Exergy, Irreversibility, Second-Law Efficiency, Combined Gas-Vapor Power Cycle, FE Exam Problems, Compressible Flow, Stagnation Properties, Stagnation Temperature, Stagnation Pressure, Dynamic Temperature, Speed of Sound, Mach Number, Isentropic Flow, Converging-Diverging Nozzle, Choked Flow, Critical Properties, Shock Waves, Expansion Waves, Normal Shock Waves, Oblique Shock Waves, Prandtl-Meyer Expansion Waves, Rayleigh Flow, Rayleigh Line, Steam Nozzles, Supersaturation, Nozzle Efficiency, FE Exam Problems, Equilibrium Constant, Henry\\'s Law, Solubility. \\n')]"
      ]
     },
     "execution_count": 20,
     "metadata": {},
     "output_type": "execute_result"
    }
   ],
   "source": [
    "retriever_or.invoke(\"What is exergy?\")"
   ]
  },
  {
   "cell_type": "code",
   "execution_count": 21,
   "metadata": {},
   "outputs": [],
   "source": [
    "chunks_prompt=\"\"\"\n",
    "Using the Context bellow answer the question {question}, mention the path of the MOST RELAVENT documents.\n",
    "\n",
    "NOTE: The contexts are summaries of maybe very large documents, so scrutinize it well and at the end of each summary keywords are also mentioned, use these also to answer the question.RETURN ONLY PATHS TO THE MOST RELEVANT DOCUMENTS\n",
    "Context:\n",
    "{text}\n",
    "\n",
    "IMPORTANT: The answer should be in the following format:\n",
    "RETURN ONLY JSON DATA NOTHING ELSE\n",
    "```\n",
    "    {{\n",
    "    \"files\": [\n",
    "        {{\n",
    "        \"file_path\": \"path to the file \",\n",
    "        \"reason\":\"How is the file relevant to the question\"\n",
    "        }}\n",
    "    ]\n",
    "    }}\n",
    "    ```\n",
    "\"\"\"\n",
    "RAG_prompt_template=PromptTemplate(input_variables=['text','question'],\n",
    "                                    template=chunks_prompt)"
   ]
  },
  {
   "cell_type": "code",
   "execution_count": 22,
   "metadata": {},
   "outputs": [],
   "source": [
    "def format_docs(docs):\n",
    "    return \"\\n\\n\".join(doc.page_content for doc in docs)"
   ]
  },
  {
   "cell_type": "code",
   "execution_count": 23,
   "metadata": {},
   "outputs": [
    {
     "ename": "NameError",
     "evalue": "name 'gemini_llm' is not defined",
     "output_type": "error",
     "traceback": [
      "\u001B[0;31m---------------------------------------------------------------------------\u001B[0m",
      "\u001B[0;31mNameError\u001B[0m                                 Traceback (most recent call last)",
      "Cell \u001B[0;32mIn[23], line 6\u001B[0m\n\u001B[1;32m      1\u001B[0m \u001B[38;5;66;03m# question = \"Explain me what is the attention mechanism in 100 words\"\u001B[39;00m\n\u001B[1;32m      2\u001B[0m \u001B[38;5;66;03m# context = retriever.invoke(question)\u001B[39;00m\n\u001B[1;32m      3\u001B[0m rag_chain \u001B[38;5;241m=\u001B[39m (\n\u001B[1;32m      4\u001B[0m     {\u001B[38;5;124m\"\u001B[39m\u001B[38;5;124mtext\u001B[39m\u001B[38;5;124m\"\u001B[39m: retriever_or \u001B[38;5;241m|\u001B[39m format_docs, \u001B[38;5;124m\"\u001B[39m\u001B[38;5;124mquestion\u001B[39m\u001B[38;5;124m\"\u001B[39m: RunnablePassthrough()}\n\u001B[1;32m      5\u001B[0m     \u001B[38;5;241m|\u001B[39m RAG_prompt_template\n\u001B[0;32m----> 6\u001B[0m     \u001B[38;5;241m|\u001B[39m \u001B[43mgemini_llm\u001B[49m\n\u001B[1;32m      7\u001B[0m     \u001B[38;5;241m|\u001B[39m StrOutputParser()\n\u001B[1;32m      8\u001B[0m )\n",
      "\u001B[0;31mNameError\u001B[0m: name 'gemini_llm' is not defined"
     ]
    }
   ],
   "source": [
    "# question = \"Explain me what is the attention mechanism in 100 words\"\n",
    "# context = retriever.invoke(question)\n",
    "rag_chain = (\n",
    "    {\"text\": retriever_or | format_docs, \"question\": RunnablePassthrough()}\n",
    "    | RAG_prompt_template\n",
    "    | gemini_llm\n",
    "    | StrOutputParser()\n",
    ")\n"
   ]
  },
  {
   "cell_type": "code",
   "execution_count": 190,
   "metadata": {},
   "outputs": [],
   "source": [
    "question = \"What is entropy?\"\n"
   ]
  },
  {
   "cell_type": "code",
   "execution_count": 1,
   "metadata": {},
   "outputs": [
    {
     "ename": "NameError",
     "evalue": "name 'rag_chain' is not defined",
     "output_type": "error",
     "traceback": [
      "\u001B[0;31m---------------------------------------------------------------------------\u001B[0m",
      "\u001B[0;31mNameError\u001B[0m                                 Traceback (most recent call last)",
      "Cell \u001B[0;32mIn[1], line 2\u001B[0m\n\u001B[1;32m      1\u001B[0m response \u001B[38;5;241m=\u001B[39m \u001B[38;5;124m\"\u001B[39m\u001B[38;5;124m\"\u001B[39m\n\u001B[0;32m----> 2\u001B[0m \u001B[38;5;28;01mfor\u001B[39;00m s \u001B[38;5;129;01min\u001B[39;00m \u001B[43mrag_chain\u001B[49m\u001B[38;5;241m.\u001B[39mstream(question):\n\u001B[1;32m      3\u001B[0m     \u001B[38;5;28mprint\u001B[39m(s)\n\u001B[1;32m      4\u001B[0m     response \u001B[38;5;241m+\u001B[39m\u001B[38;5;241m=\u001B[39m s\n",
      "\u001B[0;31mNameError\u001B[0m: name 'rag_chain' is not defined"
     ]
    }
   ],
   "source": [
    "response = \"\"\n",
    "for s in rag_chain.stream(question):\n",
    "    print(s)\n",
    "    response += s"
   ]
  },
  {
   "cell_type": "code",
   "execution_count": 192,
   "metadata": {},
   "outputs": [
    {
     "data": {
      "text/plain": [
       "'```json\\n{\\n\"files\": [\\n{\\n\"file_path\": \"Papers/ESO201/Chem Thermo 1.pdf\",\\n\"reason\": \"This document provides a comprehensive overview of chemical thermodynamics, including entropy, its definition, and its role in predicting the spontaneity of reactions. It also explores the third law of thermodynamics, which is related to entropy at absolute zero.\"\\n},\\n{\\n\"file_path\": \"Papers/ESO201/Lecture 15.pdf\",\\n\"reason\": \"This document focuses on the concept of entropy, defining it as a thermodynamic property representing a system\\'s energy change due to heat transfer. It explores entropy\\'s role in reversible and irreversible processes, aligning with the second law of thermodynamics.\"\\n},\\n{\\n\"file_path\": \"Papers/ESO201/Lecture 16.pdf\",\\n\"reason\": \"This document delves into entropy change in thermodynamic systems, focusing on pure substances and ideal gases. It explores the Clausius equation, the Increase of entropy principle, and the Gibbs equation, all of which are related to entropy calculations and its implications for different processes.\"\\n},\\n{\\n\"file_path\": \"Papers/ESO201/Chem Thermo 2.pdf\",\\n\"reason\": \"This document offers a comprehensive explanation of chemical thermodynamics, including a thorough discussion of entropy, its role in predicting spontaneity, and its connection to Gibbs free energy and the third law of thermodynamics.\"\\n}\\n]\\n}\\n```'"
      ]
     },
     "execution_count": 192,
     "metadata": {},
     "output_type": "execute_result"
    }
   ],
   "source": [
    "response"
   ]
  },
  {
   "cell_type": "code",
   "execution_count": 152,
   "metadata": {},
   "outputs": [],
   "source": [
    "formated_response = response.strip('`').split('json')[1]"
   ]
  },
  {
   "cell_type": "code",
   "execution_count": 153,
   "metadata": {},
   "outputs": [],
   "source": [
    "json_response = json.loads(formated_response)"
   ]
  },
  {
   "cell_type": "code",
   "execution_count": 154,
   "metadata": {},
   "outputs": [
    {
     "data": {
      "text/plain": [
       "{'files': [{'file_path': 'Papers/ESO201/thermo_solution_8thedi.pdf',\n",
       "   'reason': 'This document provides a comprehensive overview of thermodynamics concepts, including exergy analysis, which directly addresses the question of what exergy is.'}]}"
      ]
     },
     "execution_count": 154,
     "metadata": {},
     "output_type": "execute_result"
    }
   ],
   "source": [
    "json_response"
   ]
  },
  {
   "cell_type": "code",
   "execution_count": 155,
   "metadata": {},
   "outputs": [
    {
     "data": {
      "text/plain": [
       "['Papers/ESO201/thermo_solution_8thedi.pdf']"
      ]
     },
     "execution_count": 155,
     "metadata": {},
     "output_type": "execute_result"
    }
   ],
   "source": [
    "File_paths_relavent = [x['file_path'] for x in json_response['files']]\n",
    "File_paths_relavent"
   ]
  },
  {
   "cell_type": "code",
   "execution_count": 156,
   "metadata": {},
   "outputs": [],
   "source": [
    "from langchain_google_genai import GoogleGenerativeAIEmbeddings\n",
    "embeddings = GoogleGenerativeAIEmbeddings(model=\"models/text-embedding-004\",google_api_key=GEMINI_API_KEY)"
   ]
  },
  {
   "cell_type": "code",
   "execution_count": 157,
   "metadata": {},
   "outputs": [],
   "source": [
    "# Functionizing till split_chunks for vectorization\n",
    "def input_llm_embeddings_pdf(File_path): #!Pass the file path of the pdf, this function will return the split_chunks\n",
    "    # Reading the pdf file\n",
    "    pdfreader = PdfReader(File_path)\n",
    "    text = ''\n",
    "    for i, page in enumerate(pdfreader.pages):\n",
    "        content = page.extract_text()\n",
    "        if content:\n",
    "            text += content\n",
    "    # Converting the text of the pdf of Document object\n",
    "    docs = [Document(page_content=text)]\n",
    "    docs\n",
    "    ## Splittting the text\n",
    "    text_splitter = RecursiveCharacterTextSplitter(chunk_size=5000, chunk_overlap=200) # 300k characters per chunk, or nearly 75,000 tokens\n",
    "    chunks = text_splitter.create_documents([text])\n",
    "    print(chunks)\n",
    "    split_chunks = []\n",
    "    for x in range(0,len(chunks),1400):\n",
    "        split_chunks.append(chunks[x:x+1400])\n",
    "    return split_chunks"
   ]
  },
  {
   "cell_type": "code",
   "execution_count": 159,
   "metadata": {},
   "outputs": [
    {
     "name": "stderr",
     "output_type": "stream",
     "text": [
      "I0000 00:00:1728561119.819930    6090 fork_posix.cc:77] Other threads are currently calling into gRPC, skipping fork() handlers\n"
     ]
    }
   ],
   "source": [
    "!mkdir -p VectorDatabases"
   ]
  },
  {
   "cell_type": "code",
   "execution_count": 160,
   "metadata": {},
   "outputs": [
    {
     "data": {
      "text/plain": [
       "['Papers/ESO201/thermo_solution_8thedi.pdf']"
      ]
     },
     "execution_count": 160,
     "metadata": {},
     "output_type": "execute_result"
    }
   ],
   "source": [
    "File_paths_relavent"
   ]
  },
  {
   "cell_type": "code",
   "execution_count": 169,
   "metadata": {},
   "outputs": [
    {
     "name": "stdout",
     "output_type": "stream",
     "text": [
      "Processing file: Papers/ESO201/thermo_solution_8thedi.pdf\n",
      "Index 1 of 1 completed\n"
     ]
    }
   ],
   "source": [
    "index = 0\n",
    "path_vector_database = Path('VectorDatabases')\n",
    "while index < len(File_paths_relavent):\n",
    "    file_path = File_paths_relavent[index]\n",
    "    print(f\"Processing file: {file_path}\")\n",
    "    print(f\"Index {index+1} of {len(File_paths_relavent)} completed\")\n",
    "\n",
    "    path_vector_db_folder = Path.joinpath(path_vector_database,file_path)\n",
    "    # path_vector_db_folder.mkdir(parents)\n",
    "    path_vector_db_folder.mkdir(parents=True, exist_ok=True)\n",
    "    if not path_vector_db_folder.exists():\n",
    "        split_chunks = input_llm_embeddings_pdf(file_path)\n",
    "        try:\n",
    "            for chunks in split_chunks:\n",
    "                vector_store = Chroma(embedding_function=embeddings, persist_directory=str(path_vector_db_folder))\n",
    "                # print(f\"Adding document {docs}\")\n",
    "                vector_store.add_documents(chunks)\n",
    "        except Exception as e:\n",
    "            print(f\"Exception: {e}\")\n",
    "            print(\"Resource exhausted, waiting for 60 seconds...\")\n",
    "            index -= 1\n",
    "            time.sleep(60)\n",
    "    index += 1\n"
   ]
  },
  {
   "cell_type": "code",
   "execution_count": 170,
   "metadata": {},
   "outputs": [],
   "source": [
    "retriever = vector_store.as_retriever()"
   ]
  },
  {
   "cell_type": "code",
   "execution_count": 173,
   "metadata": {},
   "outputs": [],
   "source": [
    "chunks_prompt=\"\"\"\n",
    "Using the Context bellow answer the question {question}, also mention the page number, name of the doc, etc relavent details at /the end of the response.Try to gatter as much information as possible from the context, and answer on the basis of that, if the context is not enough to answer the question, then mention that in the response, along with what you were able to gather from the context.\n",
    "\n",
    "Context:\n",
    "{text}\n",
    "\"\"\"\n",
    "RAG_prompt_template=PromptTemplate(input_variables=['text','question'],\n",
    "                                    template=chunks_prompt)\n",
    "def format_docs(docs):\n",
    "    return \"\\n\\n\".join(doc.page_content for doc in docs)\n",
    "context = retriever.invoke(question)\n",
    "rag_chain = (\n",
    "    {\"text\": retriever | format_docs, \"question\": RunnablePassthrough()}\n",
    "    | RAG_prompt_template\n",
    "    | gemini_llm\n",
    "    | StrOutputParser()\n",
    ")\n",
    "\n",
    "from langchain_google_genai import ChatGoogleGenerativeAI\n",
    "GEMINI_API_KEY=os.environ.get(\"GEMINI_API\")\n",
    "llm = ChatGoogleGenerativeAI(model=\"gemini-1.5-flash\",api_key=GEMINI_API_KEY)\n",
    "os.environ[\"LANGCHAIN_TRACING_V2\"] = \"true\"\n",
    "os.environ[\"LANGCHAIN_API_KEY\"]=os.environ.get(\"LANGCHAIN_API\")\n",
    "os.environ[\"LANGCHAIN_ENDPOINT\"]=\"https://api.smith.langchain.com\"\n",
    "os.environ[\"LANGCHAIN_PROJECT\"]=\"LearnLang\""
   ]
  },
  {
   "cell_type": "code",
   "execution_count": 174,
   "metadata": {},
   "outputs": [],
   "source": [
    "# context = list()\n",
    "# index = 0\n",
    "# path_vector_database = Path('VectorDatabases')\n",
    "# while index < len(File_paths_relavent):\n",
    "#     file_path = File_paths_relavent[index]\n",
    "#     print(f\"Processing file: {file_path}\")\n",
    "#     print(f\"Index {index+1} of {len(File_paths_relavent)} completed\")\n",
    "\n",
    "#     path_vector_db_folder = Path.joinpath(path_vector_database,file_path)\n",
    "#     path_vector_db = Path.joinpath(path_vector_db_folder, \"faiss_index.index\")\n",
    "#     path_docstore = Path.joinpath(path_vector_db_folder, \"docstore.pkl\")\n",
    "#     loaded_faiss_index = faiss.read_index(str(path_vector_db))\n",
    "#     # Load the docstore and index_to_docstore_id\n",
    "#     with open(str(path_docstore), 'rb') as f:\n",
    "#         loaded_docstore = pickle.load(f)\n",
    "\n",
    "#     with open(str(path_index_to_docstore_id), 'rb') as f:\n",
    "#         loaded_index_to_docstore_id = pickle.load(f)\n",
    "\n",
    "\n",
    "#     vector_db_loaded = FAISS(\n",
    "#         embeddings.embed_query, \n",
    "#         loaded_faiss_index, \n",
    "#         loaded_docstore, \n",
    "#         loaded_index_to_docstore_id\n",
    "#     )\n",
    "#     retriever = vector_db_loaded.as_retriever()\n",
    "#     context.extend(retriever.invoke(question))\n",
    "#     index += 1"
   ]
  },
  {
   "cell_type": "code",
   "execution_count": 175,
   "metadata": {},
   "outputs": [
    {
     "name": "stdout",
     "output_type": "stream",
     "text": [
      "The\n",
      " context provided does not directly define exergy. However, it does mention it in\n",
      " relation to the work potential of various systems, such as blowing air for windmills and\n",
      " water stored at a high elevation for a hydroelectric power plant. \n",
      "\n",
      "Here's what we can gather from the context:\n",
      "\n",
      "* **Exergy is related to the work\n",
      " potential of a system.** This means it represents the maximum amount of useful work that can be extracted from a system as it comes to equilibrium with its surroundings.\n",
      "* **\n",
      "Exergy is a function of the state of the surroundings as well as the state of the system.** This implies that exergy is not just an intrinsic property of the system itself, but also depends on the environment it is in.\n",
      "*\n",
      " **Exergy can be expressed in units of energy.** The context shows examples using kJ/kg and kWh.\n",
      "\n",
      "**Based on the context, we can infer that exergy is a measure of the potential for useful work that a system possesses\n",
      ", taking into account both the system's state and the state of its surroundings.**\n",
      "\n",
      "**For a more comprehensive definition of exergy, you would need to refer to a thermodynamics textbook or other reliable source.**\n",
      "\n",
      "**Relevant details:**\n",
      "\n",
      "* **Source:** Solutions Manual for Thermodynamics: An Engineering Approach 8th Edition\n",
      " by Yunus A. Çengel, Michael A. Boles\n",
      "* **Page:** 8-2\n",
      "* **Chapter:** 8: Exergy \n",
      "\n"
     ]
    }
   ],
   "source": [
    "for s in rag_chain.stream(question):\n",
    "    print(s)"
   ]
  },
  {
   "cell_type": "code",
   "execution_count": 177,
   "metadata": {},
   "outputs": [
    {
     "name": "stderr",
     "output_type": "stream",
     "text": [
      "2024-10-10 17:34:47.730 Thread 'MainThread': missing ScriptRunContext! This warning can be ignored when running in bare mode.\n",
      "2024-10-10 17:34:47.733 Thread 'MainThread': missing ScriptRunContext! This warning can be ignored when running in bare mode.\n",
      "2024-10-10 17:34:47.734 Thread 'MainThread': missing ScriptRunContext! This warning can be ignored when running in bare mode.\n",
      "2024-10-10 17:34:47.735 Thread 'MainThread': missing ScriptRunContext! This warning can be ignored when running in bare mode.\n",
      "2024-10-10 17:34:47.736 Thread 'MainThread': missing ScriptRunContext! This warning can be ignored when running in bare mode.\n",
      "2024-10-10 17:34:47.737 Thread 'MainThread': missing ScriptRunContext! This warning can be ignored when running in bare mode.\n",
      "2024-10-10 17:34:47.739 Thread 'MainThread': missing ScriptRunContext! This warning can be ignored when running in bare mode.\n",
      "2024-10-10 17:34:47.740 Thread 'MainThread': missing ScriptRunContext! This warning can be ignored when running in bare mode.\n"
     ]
    },
    {
     "data": {
      "text/plain": [
       "<Popen: returncode: None args: ['streamlit', 'run', 'app.py']>"
      ]
     },
     "execution_count": 177,
     "metadata": {},
     "output_type": "execute_result"
    },
    {
     "name": "stderr",
     "output_type": "stream",
     "text": [
      "Usage: streamlit run [OPTIONS] TARGET [ARGS]...\n",
      "Try 'streamlit run --help' for help.\n",
      "\n",
      "Error: Invalid value: File does not exist: app.py\n"
     ]
    }
   ],
   "source": [
    "import streamlit as st\n",
    "\n",
    "# Assuming rag_chain is already defined and set up\n",
    "# Example:\n",
    "# rag_chain = YourChainObject()\n",
    "\n",
    "def stream_question(question):\n",
    "    # Stream each result from the chain\n",
    "    for s in rag_chain.stream(question):\n",
    "        # Print each result in the Streamlit app\n",
    "        st.write(s)  # You can use st.text(s) or st.markdown(s) for different formatting\n",
    "\n",
    "# Streamlit UI\n",
    "st.title(\"Streaming Question Answering\")\n",
    "\n",
    "# Input question from user\n",
    "question = st.text_input(\"Enter your question:\")\n",
    "\n",
    "# When a question is provided, stream the output\n"
   ]
  },
  {
   "cell_type": "code",
   "execution_count": 49,
   "metadata": {},
   "outputs": [],
   "source": [
    "# file_path = File_paths_relavent[0]\n",
    "# def return_context(question):\n",
    "#     index = 0\n",
    "#     while index < len(File_paths_relavent):\n",
    "#         file_path = File_paths_relavent[index]\n",
    "#         print(f\"Processing file: {file_path}\")\n",
    "#         print(f\"Index {index+1} of {len(File_paths_relavent)} completed\")\n",
    "\n",
    "#         path_vector_db_folder = Path.joinpath(path_vector_database,file_path)\n",
    "#         path_vector_db = Path.joinpath(path_vector_db_folder, \"faiss_index.index\")\n",
    "#         path_docstore = Path.joinpath(path_vector_db_folder, \"docstore.pkl\")\n",
    "#         loaded_faiss_index = faiss.read_index(str(path_vector_db))\n",
    "#         # Load the docstore and index_to_docstore_id\n",
    "#         with open(str(path_docstore), 'rb') as f:\n",
    "#             loaded_docstore = pickle.load(f)\n",
    "\n",
    "#         with open(str(path_index_to_docstore_id), 'rb') as f:\n",
    "#             loaded_index_to_docstore_id = pickle.load(f)\n",
    "\n",
    "\n",
    "#         vector_db_loaded = FAISS(\n",
    "#             embeddings.embed_query, \n",
    "#             loaded_faiss_index, \n",
    "#             loaded_docstore, \n",
    "#             loaded_index_to_docstore_id\n",
    "#         )\n",
    "#         retriever = vector_db_loaded.as_retriever()\n",
    "#         context.extend(retriever.invoke(question))\n",
    "#         index +=1 \n",
    "#     return context"
   ]
  },
  {
   "cell_type": "code",
   "execution_count": 72,
   "metadata": {},
   "outputs": [
    {
     "ename": "NameError",
     "evalue": "name 'return_context' is not defined",
     "output_type": "error",
     "traceback": [
      "\u001B[0;31m---------------------------------------------------------------------------\u001B[0m",
      "\u001B[0;31mNameError\u001B[0m                                 Traceback (most recent call last)",
      "Cell \u001B[0;32mIn[72], line 13\u001B[0m\n\u001B[1;32m     10\u001B[0m     \u001B[38;5;28;01mreturn\u001B[39;00m \u001B[38;5;124m\"\u001B[39m\u001B[38;5;130;01m\\n\u001B[39;00m\u001B[38;5;130;01m\\n\u001B[39;00m\u001B[38;5;124m\"\u001B[39m\u001B[38;5;241m.\u001B[39mjoin(doc\u001B[38;5;241m.\u001B[39mpage_content \u001B[38;5;28;01mfor\u001B[39;00m doc \u001B[38;5;129;01min\u001B[39;00m docs)\n\u001B[1;32m     11\u001B[0m context \u001B[38;5;241m=\u001B[39m retriever\u001B[38;5;241m.\u001B[39minvoke(question)\n\u001B[1;32m     12\u001B[0m rag_chain \u001B[38;5;241m=\u001B[39m (\n\u001B[0;32m---> 13\u001B[0m     {\u001B[38;5;124m\"\u001B[39m\u001B[38;5;124mtext\u001B[39m\u001B[38;5;124m\"\u001B[39m: \u001B[43mreturn_context\u001B[49m , \u001B[38;5;124m\"\u001B[39m\u001B[38;5;124mquestion\u001B[39m\u001B[38;5;124m\"\u001B[39m: RunnablePassthrough()}\n\u001B[1;32m     14\u001B[0m     \u001B[38;5;241m|\u001B[39m RAG_prompt_template\n\u001B[1;32m     15\u001B[0m     \u001B[38;5;241m|\u001B[39m llm\n\u001B[1;32m     16\u001B[0m     \u001B[38;5;241m|\u001B[39m StrOutputParser()\n\u001B[1;32m     17\u001B[0m )\n",
      "\u001B[0;31mNameError\u001B[0m: name 'return_context' is not defined"
     ]
    }
   ],
   "source": [
    "chunks_prompt=\"\"\"\n",
    "Using the Context bellow answer the question {question}, also mention the page number, name of the doc, etc relavent details at /the end of the response.\n",
    "\n",
    "Context:\n",
    "{text}\n",
    "\"\"\"\n",
    "RAG_prompt_template=PromptTemplate(input_variables=['text','question'],\n",
    "                                    template=chunks_prompt)\n",
    "def format_docs(docs):\n",
    "    return \"\\n\\n\".join(doc.page_content for doc in docs)\n",
    "context = retriever.invoke(question)\n",
    "rag_chain = (\n",
    "    {\"text\": return_context , \"question\": RunnablePassthrough()}\n",
    "    | RAG_prompt_template\n",
    "    | llm\n",
    "    | StrOutputParser()\n",
    ")"
   ]
  },
  {
   "cell_type": "code",
   "execution_count": 52,
   "metadata": {},
   "outputs": [
    {
     "name": "stderr",
     "output_type": "stream",
     "text": [
      "`embedding_function` is expected to be an Embeddings object, support for passing in a function will soon be removed.\n"
     ]
    },
    {
     "name": "stdout",
     "output_type": "stream",
     "text": [
      "Processing file: Papers/Attention_is_all_you_need.pdf\n",
      "Index 1 of 1 completed\n"
     ]
    }
   ],
   "source": [
    "response = rag_chain.invoke(question)"
   ]
  },
  {
   "cell_type": "code",
   "execution_count": 53,
   "metadata": {},
   "outputs": [
    {
     "data": {
      "text/plain": [
       "'The attention mechanism in a neural network allows the model to focus on specific parts of the input sequence when processing information. It assigns weights to different parts of the input, giving more importance to relevant elements. This is done by calculating a \"compatibility function\" between a \"query\" and a set of \"key-value\" pairs.  The weights are then used to compute a weighted sum of the \"values,\" yielding an output that reflects the attended information.\\n\\nThis explanation is from the document titled \"Attention is All You Need\", on page 3. \\n'"
      ]
     },
     "execution_count": 53,
     "metadata": {},
     "output_type": "execute_result"
    }
   ],
   "source": [
    "response"
   ]
  },
  {
   "cell_type": "code",
   "execution_count": null,
   "metadata": {},
   "outputs": [],
   "source": []
  }
 ],
 "metadata": {
  "kernelspec": {
   "display_name": "GlobalPythonEnv",
   "language": "python",
   "name": "python3"
  },
  "language_info": {
   "codemirror_mode": {
    "name": "ipython",
    "version": 3
   },
   "file_extension": ".py",
   "mimetype": "text/x-python",
   "name": "python",
   "nbconvert_exporter": "python",
   "pygments_lexer": "ipython3",
   "version": "3.12.3"
  }
 },
 "nbformat": 4,
 "nbformat_minor": 2
}
