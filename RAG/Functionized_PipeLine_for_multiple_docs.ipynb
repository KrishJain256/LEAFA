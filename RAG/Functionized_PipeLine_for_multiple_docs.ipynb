{
 "cells": [
  {
   "cell_type": "code",
   "execution_count": 5,
   "metadata": {},
   "outputs": [
    {
     "name": "stderr",
     "output_type": "stream",
     "text": [
      "/run/media/aasiku/Vault/GlobalPythonEnv/lib/python3.12/site-packages/tqdm/auto.py:21: TqdmWarning: IProgress not found. Please update jupyter and ipywidgets. See https://ipywidgets.readthedocs.io/en/stable/user_install.html\n",
      "  from .autonotebook import tqdm as notebook_tqdm\n"
     ]
    }
   ],
   "source": [
    "import os\n",
    "import os\n",
    "import json\n",
    "from llama_index.core import SimpleDirectoryReader\n",
    "import ollama\n",
    "from groq import Groq\n",
    "from langchain import PromptTemplate\n",
    "# from langchain.chat_models import ChatOpenAI\n",
    "from langchain.chains.summarize import load_summarize_chain\n",
    "from langchain.text_splitter import RecursiveCharacterTextSplitter\n",
    "from PyPDF2 import PdfReader\n",
    "from langchain.docstore.document import Document\n",
    "from langchain_community.vectorstores import FAISS\n",
    "from pathlib import Path\n",
    "import json\n",
    "from langchain_google_genai import ChatGoogleGenerativeAI\n",
    "from langchain_core.output_parsers import StrOutputParser\n",
    "from langchain_core.runnables import RunnablePassthrough\n",
    "import pickle\n",
    "import time"
   ]
  },
  {
   "cell_type": "code",
   "execution_count": 6,
   "metadata": {},
   "outputs": [],
   "source": [
    "#Importiong api keys\n",
    "GROQ_API_KEY = os.getenv(\"GROQ_API_KEY\")\n",
    "GEMINI_API_KEY = os.getenv(\"GEMINI_API\")"
   ]
  },
  {
   "cell_type": "code",
   "execution_count": 7,
   "metadata": {},
   "outputs": [],
   "source": [
    "Parent_directory = Path('Papers')\n",
    "File_paths = Path.rglob(Parent_directory, '*.pdf')"
   ]
  },
  {
   "cell_type": "code",
   "execution_count": 8,
   "metadata": {},
   "outputs": [
    {
     "data": {
      "text/plain": [
       "<generator object Path.rglob at 0x71a1ff2317a0>"
      ]
     },
     "execution_count": 8,
     "metadata": {},
     "output_type": "execute_result"
    }
   ],
   "source": [
    "File_paths"
   ]
  },
  {
   "cell_type": "code",
   "execution_count": 6,
   "metadata": {},
   "outputs": [],
   "source": [
    "File_paths = [str(i) for i in File_paths]"
   ]
  },
  {
   "cell_type": "code",
   "execution_count": 7,
   "metadata": {},
   "outputs": [
    {
     "data": {
      "text/plain": [
       "['Papers/Attention_is_all_you_need.pdf',\n",
       " 'Papers/DCGAN-notes.pdf',\n",
       " 'Papers/DeepSORT.pdf',\n",
       " 'Papers/Fast-RCNN.pdf',\n",
       " 'Papers/GANs_Paper.pdf',\n",
       " 'Papers/Image_Augmentation_IllusionCraft.pdf',\n",
       " 'Papers/Mamba.pdf',\n",
       " 'Papers/Mask RCNN.pdf',\n",
       " 'Papers/Mismatching_images___Keeping_a_check_on_the_generator (1).pdf',\n",
       " 'Papers/SORT.pdf',\n",
       " 'Papers/StackGAN.pdf',\n",
       " 'Papers/StackGAN_original_paper.pdf',\n",
       " 'Papers/The Power of Linear Recurrent Neural Networks.pdf',\n",
       " 'Papers/Variational Auto encoders.pdf',\n",
       " 'Papers/Word2Vec Paper.pdf',\n",
       " 'Papers/ESC201/Lecture10.pdf',\n",
       " 'Papers/ESC201/Lecture11.pdf',\n",
       " 'Papers/ESC201/Lecture12a.pdf',\n",
       " 'Papers/ESC201/Lecture12b.pdf',\n",
       " 'Papers/ESC201/Lecture13.pdf',\n",
       " 'Papers/ESC201/Lecture15.pdf',\n",
       " 'Papers/ESC201/Lecture16.pdf',\n",
       " 'Papers/ESC201/Lecture17.pdf',\n",
       " 'Papers/ESC201/Lecture18.pdf',\n",
       " 'Papers/ESC201/Lecture19.pdf',\n",
       " 'Papers/ESC201/Lecture20_21.pdf',\n",
       " 'Papers/ESC201/Lecture22.pdf',\n",
       " 'Papers/ESC201/Lecture5.pdf',\n",
       " 'Papers/ESC201/Lecture6_7.pdf',\n",
       " 'Papers/ESC201/Lecture8.pdf',\n",
       " 'Papers/ESC201/Lecture9.pdf',\n",
       " 'Papers/ESC201/Lecture9b.pdf',\n",
       " 'Papers/ESO201/Chem Thermo 1.pdf',\n",
       " 'Papers/ESO201/Chem Thermo 2.pdf',\n",
       " 'Papers/ESO201/Lecture 1.pdf',\n",
       " 'Papers/ESO201/Lecture 10.pdf',\n",
       " 'Papers/ESO201/Lecture 11.pdf',\n",
       " 'Papers/ESO201/Lecture 12.pdf',\n",
       " 'Papers/ESO201/Lecture 13.pdf',\n",
       " 'Papers/ESO201/Lecture 14.pdf',\n",
       " 'Papers/ESO201/Lecture 15.pdf',\n",
       " 'Papers/ESO201/Lecture 16.pdf',\n",
       " 'Papers/ESO201/Lecture 17.pdf',\n",
       " 'Papers/ESO201/Lecture 18.pdf',\n",
       " 'Papers/ESO201/Lecture 19.pdf',\n",
       " 'Papers/ESO201/Lecture 19_0.pdf',\n",
       " 'Papers/ESO201/Lecture 2.pdf',\n",
       " 'Papers/ESO201/Lecture 3.pdf',\n",
       " 'Papers/ESO201/Lecture 4.pdf',\n",
       " 'Papers/ESO201/Lecture 5.pdf',\n",
       " 'Papers/ESO201/Lecture 6.pdf',\n",
       " 'Papers/ESO201/Lecture 7.pdf',\n",
       " 'Papers/ESO201/Lecture 8.pdf',\n",
       " 'Papers/ESO201/Lecture 9.pdf',\n",
       " 'Papers/ESO201/Property tables and charts.pdf',\n",
       " 'Papers/ESO201/thermo_solution_8thedi.pdf',\n",
       " 'Papers/ESO201/T_H_E_R_M_O_D_Y_N_A_M_I_C_S_AN_ENGINEERI.pdf',\n",
       " 'Papers/MSO notes/Lecture5.pdf',\n",
       " 'Papers/MSO notes/Lecture6_7.pdf',\n",
       " 'Papers/MSO notes/MSO202Lect1.pdf',\n",
       " 'Papers/MSO notes/MSO202Lect10.pdf',\n",
       " 'Papers/MSO notes/MSO202Lect11.pdf',\n",
       " 'Papers/MSO notes/MSO202Lect12.pdf',\n",
       " 'Papers/MSO notes/MSO202Lect13.pdf',\n",
       " 'Papers/MSO notes/MSO202Lect14.pdf',\n",
       " 'Papers/MSO notes/MSO202Lect15.pdf',\n",
       " 'Papers/MSO notes/MSO202Lect2.pdf',\n",
       " 'Papers/MSO notes/MSO202Lect3.pdf',\n",
       " 'Papers/MSO notes/MSO202Lect4.pdf',\n",
       " 'Papers/MSO notes/MSO202Lect5.pdf',\n",
       " 'Papers/MSO notes/MSO202Lect6.pdf',\n",
       " 'Papers/MSO notes/MSO202Lect7.pdf',\n",
       " 'Papers/MSO notes/MSO202Lect8.pdf',\n",
       " 'Papers/MSO notes/MSO202Lect9.pdf',\n",
       " 'Papers/MSO notes/MSO202M_Endsem_Y22.pdf',\n",
       " 'Papers/ESC201/PYQ/1820448fe9c9eaac0b9d32f1384599b7c8fab6b5697e7748eafba52c66470b96_Midsem sol_to_showw.pdf',\n",
       " 'Papers/ESC201/PYQ/Lec14_MOSFET_I-V_characteristics.pdf',\n",
       " 'Papers/ESC201/PYQ/Midsem 2020 I.pdf',\n",
       " 'Papers/ESC201/PYQ/Midsem 2020 II.pdf',\n",
       " 'Papers/ESC201/PYQ/Midsem sol_to_showw.pdf']"
      ]
     },
     "execution_count": 7,
     "metadata": {},
     "output_type": "execute_result"
    }
   ],
   "source": [
    "File_paths"
   ]
  },
  {
   "cell_type": "markdown",
   "metadata": {},
   "source": [
    "#### Using LangSimth for monitoring"
   ]
  },
  {
   "cell_type": "code",
   "execution_count": 11,
   "metadata": {},
   "outputs": [],
   "source": [
    "# Using langsmith to monitor the progress of the summarization\n",
    "#! If you want to use langsmith, please set the environment variable LANGCHAIN_API to your langsmith api key\n",
    "if os.environ.get(\"LANGCHAIN_API\")!=\"\":\n",
    "    os.environ[\"LANGCHAIN_TRACING_V2\"] = \"true\"\n",
    "    os.environ[\"LANGCHAIN_API_KEY\"]=os.environ.get(\"LANGCHAIN_API\")\n",
    "    os.environ[\"LANGCHAIN_ENDPOINT\"]=\"https://api.smith.langchain.com\"\n",
    "    os.environ[\"LANGCHAIN_PROJECT\"]=\"LearnLang\""
   ]
  },
  {
   "cell_type": "markdown",
   "metadata": {},
   "source": [
    "### Summarization"
   ]
  },
  {
   "cell_type": "code",
   "execution_count": 9,
   "metadata": {},
   "outputs": [],
   "source": [
    "# Functionizing till split_chunks\n",
    "def input_llm_pdf(File_path): #!Pass the file path of the pdf, this function will return the split_chunks\n",
    "    # Reading the pdf file\n",
    "    pdfreader = PdfReader(File_path)\n",
    "    text = ''\n",
    "    for i, page in enumerate(pdfreader.pages):\n",
    "        content = page.extract_text()\n",
    "        if content:\n",
    "            text += content\n",
    "    # Converting the text of the pdf of Document object\n",
    "    docs = [Document(page_content=text)]\n",
    "    docs\n",
    "    ## Splittting the text\n",
    "    text_splitter = RecursiveCharacterTextSplitter(chunk_size=300000, chunk_overlap=200) # 300k characters per chunk, or nearly 75,000 tokens\n",
    "    chunks = text_splitter.create_documents([text])\n",
    "    split_chunks = []\n",
    "    for x in range(0,len(chunks),12):\n",
    "        split_chunks.append(chunks[x:x+12])\n",
    "    return split_chunks"
   ]
  },
  {
   "cell_type": "code",
   "execution_count": 10,
   "metadata": {},
   "outputs": [],
   "source": [
    "# Functionizing till split_chunks\n",
    "def input_llm_pdf_hf(File_path): #!Pass the file path of the pdf, this function will return the split_chunks\n",
    "    # Reading the pdf file\n",
    "    pdfreader = PdfReader(File_path)\n",
    "    text = ''\n",
    "    for i, page in enumerate(pdfreader.pages):\n",
    "        content = page.extract_text()\n",
    "        if content:\n",
    "            text += content\n",
    "    # Converting the text of the pdf of Document object\n",
    "    docs = [Document(page_content=text)]\n",
    "    docs\n",
    "    ## Splittting the text\n",
    "    text_splitter = RecursiveCharacterTextSplitter(chunk_size=70000, chunk_overlap=200) # 300k characters per chunk, or nearly 75,000 tokens\n",
    "    chunks = text_splitter.create_documents([text])\n",
    "    return chunks"
   ]
  },
  {
   "cell_type": "markdown",
   "metadata": {},
   "source": [
    "#### Prompts for summarizing"
   ]
  },
  {
   "cell_type": "code",
   "execution_count": 9,
   "metadata": {},
   "outputs": [],
   "source": [
    "chunks_prompt=\"\"\"\n",
    "Sumarise the bellow document, it will be used to later match the document with a user query, so capture the most important informations.\n",
    "Document:`{text}'.Also in a line return the keywords in the document, these keywords must include the vast majority of the important points in the document.Use the maximum number of characters to express the summary under 20,000 characters.\n",
    "Summary:\n",
    "\"\"\"\n",
    "map_prompt_template=PromptTemplate(input_variables=['text'],\n",
    "                                    template=chunks_prompt)"
   ]
  },
  {
   "cell_type": "code",
   "execution_count": 10,
   "metadata": {},
   "outputs": [],
   "source": [
    "final_combine_prompt='''\n",
    "Provide a final summary of the entire document with these important points, this will be used to match the document with a user query, so capture the most important informations.Also in a line return the keywords in the document, these keywords must include the vast majority of the important points in the document.Use the maximum number of characters to express the summary under 20,000 characters.\n",
    "Document: `{text}`\n",
    "'''\n",
    "final_combine_prompt_template=PromptTemplate(input_variables=['text'],\n",
    "                                             template=final_combine_prompt)"
   ]
  },
  {
   "cell_type": "code",
   "execution_count": 13,
   "metadata": {},
   "outputs": [
    {
     "name": "stderr",
     "output_type": "stream",
     "text": [
      "/tmp/ipykernel_6090/925386506.py:4: LangChainBetaWarning: Introduced in 0.2.24. API subject to change.\n",
      "  rate_limiter = InMemoryRateLimiter(\n"
     ]
    }
   ],
   "source": [
    "from langchain_google_genai import ChatGoogleGenerativeAI\n",
    "from langchain_core.rate_limiters import InMemoryRateLimiter\n",
    "\n",
    "rate_limiter = InMemoryRateLimiter(\n",
    "    requests_per_second=0.25,  # <-- Super slow! We can only make a request once every 10 seconds!!\n",
    "    check_every_n_seconds=0.1,  # Wake up every 100 ms to check whether allowed to make a request,\n",
    "    max_bucket_size = 15,  # Controls the maximum burst size.\n",
    ")\n",
    "GEMINI_API_KEY=os.environ.get(\"GEMINI_API\")\n",
    "gemini_llm = ChatGoogleGenerativeAI(model=\"gemini-1.5-flash\",api_key=GEMINI_API_KEY,rate_limiter=rate_limiter)"
   ]
  },
  {
   "cell_type": "code",
   "execution_count": 14,
   "metadata": {},
   "outputs": [],
   "source": [
    "from langchain_huggingface import ChatHuggingFace\n",
    "from langchain_huggingface import HuggingFaceEndpoint\n",
    "import os"
   ]
  },
  {
   "cell_type": "code",
   "execution_count": 15,
   "metadata": {},
   "outputs": [],
   "source": [
    "# if os.getenv(\"HUGGINGFACE_API\"):\n",
    "#     os.environ[\"HUGGINGFACEHUB_API_TOKEN\"] = os.getenv(\"HUGGINGFACE_API\")"
   ]
  },
  {
   "cell_type": "code",
   "execution_count": 21,
   "metadata": {},
   "outputs": [
    {
     "name": "stdout",
     "output_type": "stream",
     "text": [
      "The token has not been saved to the git credentials helper. Pass `add_to_git_credential=True` in this function directly or `--add-to-git-credential` if using via `huggingface-cli` if you want to set the git credential as well.\n",
      "Token is valid (permission: read).\n",
      "Your token has been saved to /home/aasiku/.cache/huggingface/token\n",
      "Login successful\n"
     ]
    }
   ],
   "source": [
    "# llm = HuggingFaceEndpoint(\n",
    "#     repo_id=\"HuggingFaceH4/zephyr-7b-beta\",\n",
    "#     # model_id=model_id,\n",
    "#     task=\"text-generation\",\n",
    "#     max_new_tokens=2048,\n",
    "#     do_sample=False,\n",
    "#     repetition_penalty=1.03,\n",
    "# )\n",
    "\n",
    "# # pipeline = transformers.pipeline(\n",
    "# #     \"text-generation\",\n",
    "# #     model=model_id,\n",
    "# #     model_kwargs={\"torch_dtype\": torch.bfloat16},\n",
    "# #     device_map=\"auto\",\n",
    "# # )\n",
    "# chat_model = ChatHuggingFace(llm=llm)"
   ]
  },
  {
   "cell_type": "code",
   "execution_count": 18,
   "metadata": {},
   "outputs": [
    {
     "name": "stdout",
     "output_type": "stream",
     "text": [
      "\n",
      "Processing file: Papers/Attention_is_all_you_need.pdf\n",
      "Index 1 of 80 completed\n",
      "\n",
      "\n",
      "Processing file: Papers/DCGAN-notes.pdf\n",
      "Index 2 of 80 completed\n",
      "\n",
      "\n",
      "Processing file: Papers/DeepSORT.pdf\n",
      "Index 3 of 80 completed\n",
      "\n",
      "\n",
      "Processing file: Papers/Fast-RCNN.pdf\n",
      "Index 4 of 80 completed\n",
      "\n",
      "\n",
      "Processing file: Papers/GANs_Paper.pdf\n",
      "Index 5 of 80 completed\n",
      "\n",
      "\n",
      "Processing file: Papers/Image_Augmentation_IllusionCraft.pdf\n",
      "Index 6 of 80 completed\n",
      "\n",
      "\n",
      "Processing file: Papers/Mamba.pdf\n",
      "Index 7 of 80 completed\n",
      "\n",
      "\n",
      "Processing file: Papers/Mask RCNN.pdf\n",
      "Index 8 of 80 completed\n",
      "\n",
      "\n",
      "Processing file: Papers/Mismatching_images___Keeping_a_check_on_the_generator (1).pdf\n",
      "Index 9 of 80 completed\n",
      "\n",
      "\n",
      "Processing file: Papers/SORT.pdf\n",
      "Index 10 of 80 completed\n",
      "\n",
      "\n",
      "Processing file: Papers/StackGAN.pdf\n",
      "Index 11 of 80 completed\n",
      "\n",
      "\n",
      "Processing file: Papers/StackGAN_original_paper.pdf\n",
      "Index 12 of 80 completed\n",
      "\n",
      "\n",
      "Processing file: Papers/The Power of Linear Recurrent Neural Networks.pdf\n",
      "Index 13 of 80 completed\n",
      "\n",
      "\n",
      "Processing file: Papers/Variational Auto encoders.pdf\n",
      "Index 14 of 80 completed\n",
      "\n",
      "\n",
      "Processing file: Papers/Word2Vec Paper.pdf\n",
      "Index 15 of 80 completed\n",
      "\n"
     ]
    },
    {
     "name": "stderr",
     "output_type": "stream",
     "text": [
      "/tmp/ipykernel_6090/1762470873.py:25: LangChainDeprecationWarning: The method `Chain.run` was deprecated in langchain 0.1.0 and will be removed in 1.0. Use :meth:`~invoke` instead.\n",
      "  output += summary_chain.run(chunks)\n",
      "/tmp/ipykernel_6090/1762470873.py:25: LangChainDeprecationWarning: The method `Chain.run` was deprecated in langchain 0.1.0 and will be removed in 1.0. Use :meth:`~invoke` instead.\n",
      "  output += summary_chain.run(chunks)\n",
      "/tmp/ipykernel_6090/1762470873.py:25: LangChainDeprecationWarning: The method `Chain.run` was deprecated in langchain 0.1.0 and will be removed in 1.0. Use :meth:`~invoke` instead.\n",
      "  output += summary_chain.run(chunks)\n",
      "/tmp/ipykernel_6090/1762470873.py:25: LangChainDeprecationWarning: The method `Chain.run` was deprecated in langchain 0.1.0 and will be removed in 1.0. Use :meth:`~invoke` instead.\n",
      "  output += summary_chain.run(chunks)\n",
      "/tmp/ipykernel_6090/1762470873.py:25: LangChainDeprecationWarning: The method `Chain.run` was deprecated in langchain 0.1.0 and will be removed in 1.0. Use :meth:`~invoke` instead.\n",
      "  output += summary_chain.run(chunks)\n",
      "Retrying langchain_google_genai.chat_models._chat_with_retry.<locals>._chat_with_retry in 2.0 seconds as it raised ResourceExhausted: 429 Resource has been exhausted (e.g. check quota)..\n"
     ]
    },
    {
     "name": "stdout",
     "output_type": "stream",
     "text": [
      "\n",
      "Processed file: Papers/Fast-RCNN.pdf\n",
      "\n",
      "Processing file: Papers/ESC201/Lecture10.pdf\n",
      "Index 16 of 80 completed\n",
      "\n",
      "\n",
      "Processed file: Papers/DeepSORT.pdf\n",
      "\n",
      "Processing file: Papers/ESC201/Lecture11.pdf\n",
      "Index 17 of 80 completed\n",
      "\n",
      "\n",
      "Processed file: Papers/Word2Vec Paper.pdf\n",
      "\n",
      "Processing file: Papers/ESC201/Lecture12a.pdf\n",
      "Index 18 of 80 completed\n",
      "\n",
      "\n",
      "Processed file: Papers/GANs_Paper.pdf\n",
      "\n",
      "Processing file: Papers/ESC201/Lecture12b.pdf\n",
      "Index 19 of 80 completed\n",
      "\n",
      "\n",
      "Processed file: Papers/Attention_is_all_you_need.pdf\n",
      "\n",
      "Processing file: Papers/ESC201/Lecture13.pdf\n",
      "Index 20 of 80 completed\n",
      "\n",
      "\n",
      "Processed file: Papers/SORT.pdf\n",
      "\n",
      "Processing file: Papers/ESC201/Lecture15.pdf\n",
      "Index 21 of 80 completed\n",
      "\n",
      "\n",
      "Processed file: Papers/ESC201/Lecture10.pdf\n",
      "\n",
      "Processing file: Papers/ESC201/Lecture16.pdf\n",
      "Index 22 of 80 completed\n",
      "\n",
      "\n",
      "Processed file: Papers/Mask RCNN.pdf\n",
      "\n",
      "Processing file: Papers/ESC201/Lecture17.pdf\n",
      "Index 23 of 80 completed\n",
      "\n",
      "\n",
      "Processed file: Papers/StackGAN_original_paper.pdf\n",
      "\n",
      "Processing file: Papers/ESC201/Lecture18.pdf\n",
      "Index 24 of 80 completed\n",
      "\n",
      "\n",
      "Processed file: Papers/Variational Auto encoders.pdf\n",
      "\n",
      "Processing file: Papers/ESC201/Lecture19.pdf\n",
      "Index 25 of 80 completed\n",
      "\n",
      "\n",
      "Processed file: Papers/DCGAN-notes.pdf\n",
      "\n",
      "Processing file: Papers/ESC201/Lecture20_21.pdf\n",
      "Index 26 of 80 completed\n",
      "\n",
      "\n",
      "Processed file: Papers/Image_Augmentation_IllusionCraft.pdf\n",
      "\n",
      "Processing file: Papers/ESC201/Lecture22.pdf\n",
      "Index 27 of 80 completed\n",
      "\n",
      "\n",
      "Processed file: Papers/ESC201/Lecture12a.pdf\n",
      "\n",
      "Processing file: Papers/ESC201/Lecture5.pdf\n",
      "Index 28 of 80 completed\n",
      "\n",
      "\n",
      "Processed file: Papers/StackGAN.pdf\n",
      "\n",
      "Processing file: Papers/ESC201/Lecture6_7.pdf\n",
      "Index 29 of 80 completed\n",
      "\n",
      "\n",
      "Processed file: Papers/The Power of Linear Recurrent Neural Networks.pdf\n",
      "\n",
      "Processing file: Papers/ESC201/Lecture8.pdf\n",
      "Index 30 of 80 completed\n",
      "\n",
      "\n",
      "Processed file: Papers/ESC201/Lecture5.pdf\n",
      "\n",
      "Processing file: Papers/ESC201/Lecture9.pdf\n",
      "Index 31 of 80 completed\n",
      "\n",
      "\n",
      "Processed file: Papers/Mismatching_images___Keeping_a_check_on_the_generator (1).pdf\n",
      "\n",
      "Processing file: Papers/ESC201/Lecture9b.pdf\n",
      "Index 32 of 80 completed\n",
      "\n",
      "\n",
      "Processed file: Papers/ESC201/Lecture9b.pdf\n",
      "\n",
      "Processing file: Papers/ESO201/Chem Thermo 1.pdf\n",
      "Index 33 of 80 completed\n",
      "\n",
      "\n",
      "Processed file: Papers/ESC201/Lecture22.pdf\n",
      "\n",
      "Processing file: Papers/ESO201/Chem Thermo 2.pdf\n",
      "Index 34 of 80 completed\n",
      "\n",
      "\n",
      "Processed file: Papers/ESC201/Lecture12b.pdf\n",
      "\n",
      "Processing file: Papers/ESO201/Lecture 1.pdf\n",
      "Index 35 of 80 completed\n",
      "\n",
      "\n",
      "Processed file: Papers/ESC201/Lecture13.pdf\n",
      "\n",
      "Processing file: Papers/ESO201/Lecture 10.pdf\n",
      "Index 36 of 80 completed\n",
      "\n",
      "\n",
      "Processed file: Papers/Mamba.pdf\n",
      "\n",
      "Processing file: Papers/ESO201/Lecture 11.pdf\n",
      "Index 37 of 80 completed\n",
      "\n",
      "\n",
      "Processed file: Papers/ESC201/Lecture15.pdf\n",
      "\n",
      "Processing file: Papers/ESO201/Lecture 12.pdf\n",
      "Index 38 of 80 completed\n",
      "\n",
      "\n",
      "Processed file: Papers/ESC201/Lecture8.pdf\n",
      "\n",
      "Processing file: Papers/ESO201/Lecture 13.pdf\n",
      "Index 39 of 80 completed\n",
      "\n",
      "\n",
      "Processed file: Papers/ESC201/Lecture18.pdf\n",
      "\n",
      "Processing file: Papers/ESO201/Lecture 14.pdf\n",
      "Index 40 of 80 completed\n",
      "\n"
     ]
    },
    {
     "name": "stderr",
     "output_type": "stream",
     "text": [
      "Retrying langchain_google_genai.chat_models._chat_with_retry.<locals>._chat_with_retry in 2.0 seconds as it raised ResourceExhausted: 429 Resource has been exhausted (e.g. check quota)..\n"
     ]
    },
    {
     "name": "stdout",
     "output_type": "stream",
     "text": [
      "\n",
      "Processed file: Papers/ESC201/Lecture9.pdf\n",
      "\n",
      "Processing file: Papers/ESO201/Lecture 15.pdf\n",
      "Index 41 of 80 completed\n",
      "\n",
      "\n",
      "Processed file: Papers/ESC201/Lecture19.pdf\n",
      "\n",
      "Processing file: Papers/ESO201/Lecture 16.pdf\n",
      "Index 42 of 80 completed\n",
      "\n",
      "\n",
      "Processed file: Papers/ESC201/Lecture6_7.pdf\n",
      "\n",
      "Processing file: Papers/ESO201/Lecture 17.pdf\n",
      "Index 43 of 80 completed\n",
      "\n",
      "\n",
      "Processed file: Papers/ESO201/Lecture 1.pdf\n",
      "\n",
      "Processing file: Papers/ESO201/Lecture 18.pdf\n",
      "Index 44 of 80 completed\n",
      "\n",
      "\n",
      "Processed file: Papers/ESO201/Lecture 13.pdf\n",
      "\n",
      "Processing file: Papers/ESO201/Lecture 19.pdf\n",
      "Index 45 of 80 completed\n",
      "\n",
      "\n",
      "Processed file: Papers/ESO201/Lecture 11.pdf\n",
      "\n",
      "Processing file: Papers/ESO201/Lecture 19_0.pdf\n",
      "Index 46 of 80 completed\n",
      "\n",
      "\n",
      "Processed file: Papers/ESC201/Lecture20_21.pdf\n",
      "\n",
      "Processing file: Papers/ESO201/Lecture 2.pdf\n",
      "Index 47 of 80 completed\n",
      "\n",
      "\n",
      "Processed file: Papers/ESC201/Lecture16.pdf\n",
      "\n",
      "Processing file: Papers/ESO201/Lecture 3.pdf\n",
      "Index 48 of 80 completed\n",
      "\n",
      "\n",
      "Processed file: Papers/ESO201/Chem Thermo 2.pdf\n",
      "\n",
      "Processing file: Papers/ESO201/Lecture 4.pdf\n",
      "Index 49 of 80 completed\n",
      "\n",
      "\n",
      "Processed file: Papers/ESC201/Lecture17.pdf\n",
      "\n",
      "Processing file: Papers/ESO201/Lecture 5.pdf\n",
      "Index 50 of 80 completed\n",
      "\n",
      "\n",
      "Processed file: Papers/ESO201/Lecture 10.pdf\n",
      "\n",
      "Processing file: Papers/ESO201/Lecture 6.pdf\n",
      "Index 51 of 80 completed\n",
      "\n",
      "\n",
      "Processed file: Papers/ESC201/Lecture11.pdf\n",
      "\n",
      "Processing file: Papers/ESO201/Lecture 7.pdf\n",
      "Index 52 of 80 completed\n",
      "\n",
      "\n",
      "Processed file: Papers/ESO201/Lecture 5.pdf\n",
      "\n",
      "Processing file: Papers/ESO201/Lecture 8.pdf\n",
      "Index 53 of 80 completed\n",
      "\n",
      "\n",
      "Processed file: Papers/ESO201/Chem Thermo 1.pdf\n",
      "\n",
      "Processing file: Papers/ESO201/Lecture 9.pdf\n",
      "Index 54 of 80 completed\n",
      "\n",
      "\n",
      "Processed file: Papers/ESO201/Lecture 14.pdf\n",
      "\n",
      "Processing file: Papers/ESO201/Property tables and charts.pdf\n",
      "Index 55 of 80 completed\n",
      "\n",
      "\n",
      "Processed file: Papers/ESO201/Lecture 16.pdf\n",
      "\n",
      "Processing file: Papers/ESO201/thermo_solution_8thedi.pdf\n",
      "Index 56 of 80 completed\n",
      "\n",
      "\n",
      "Processed file: Papers/ESO201/Lecture 18.pdf\n",
      "\n",
      "Processing file: Papers/ESO201/T_H_E_R_M_O_D_Y_N_A_M_I_C_S_AN_ENGINEERI.pdf\n",
      "Index 57 of 80 completed\n",
      "\n",
      "\n",
      "Processed file: Papers/ESO201/Lecture 12.pdf\n",
      "\n",
      "Processing file: Papers/MSO notes/Lecture5.pdf\n",
      "Index 58 of 80 completed\n",
      "\n",
      "\n",
      "Processed file: Papers/ESO201/Lecture 9.pdf\n",
      "\n",
      "Processing file: Papers/MSO notes/Lecture6_7.pdf\n",
      "Index 59 of 80 completed\n",
      "\n",
      "\n",
      "Processed file: Papers/MSO notes/Lecture5.pdf\n",
      "\n",
      "Processing file: Papers/MSO notes/MSO202Lect1.pdf\n",
      "Index 60 of 80 completed\n",
      "\n",
      "\n",
      "Processed file: Papers/ESO201/Lecture 7.pdf\n",
      "\n",
      "Processing file: Papers/MSO notes/MSO202Lect10.pdf\n",
      "Index 61 of 80 completed\n",
      "\n",
      "\n",
      "Processed file: Papers/ESO201/Lecture 4.pdf\n",
      "\n",
      "Processing file: Papers/MSO notes/MSO202Lect11.pdf\n",
      "Index 62 of 80 completed\n",
      "\n",
      "\n",
      "Processed file: Papers/ESO201/Lecture 8.pdf\n",
      "\n",
      "Processing file: Papers/MSO notes/MSO202Lect12.pdf\n",
      "Index 63 of 80 completed\n",
      "\n",
      "\n",
      "Processed file: Papers/ESO201/Property tables and charts.pdf\n",
      "\n",
      "Processing file: Papers/MSO notes/MSO202Lect13.pdf\n",
      "Index 64 of 80 completed\n",
      "\n",
      "\n",
      "Processed file: Papers/ESO201/Lecture 3.pdf\n",
      "\n",
      "Processing file: Papers/MSO notes/MSO202Lect14.pdf\n",
      "Index 65 of 80 completed\n",
      "\n",
      "\n",
      "Processed file: Papers/ESO201/Lecture 17.pdf\n",
      "\n",
      "Processing file: Papers/MSO notes/MSO202Lect15.pdf\n",
      "Index 66 of 80 completed\n",
      "\n",
      "\n",
      "Processed file: Papers/MSO notes/Lecture6_7.pdf\n",
      "\n",
      "Processing file: Papers/MSO notes/MSO202Lect2.pdf\n",
      "Index 67 of 80 completed\n",
      "\n",
      "\n",
      "Processed file: Papers/ESO201/Lecture 19_0.pdf\n",
      "\n",
      "Processing file: Papers/MSO notes/MSO202Lect3.pdf\n",
      "Index 68 of 80 completed\n",
      "\n"
     ]
    },
    {
     "name": "stderr",
     "output_type": "stream",
     "text": [
      "Retrying langchain_google_genai.chat_models._chat_with_retry.<locals>._chat_with_retry in 2.0 seconds as it raised ResourceExhausted: 429 Resource has been exhausted (e.g. check quota)..\n"
     ]
    },
    {
     "name": "stdout",
     "output_type": "stream",
     "text": [
      "\n",
      "Processed file: Papers/MSO notes/MSO202Lect1.pdf\n",
      "\n",
      "Processing file: Papers/MSO notes/MSO202Lect4.pdf\n",
      "Index 69 of 80 completed\n",
      "\n",
      "\n",
      "Processed file: Papers/ESO201/Lecture 6.pdf\n",
      "\n",
      "Processing file: Papers/MSO notes/MSO202Lect5.pdf\n",
      "Index 70 of 80 completed\n",
      "\n",
      "\n",
      "Processed file: Papers/ESO201/Lecture 2.pdf\n",
      "\n",
      "Processing file: Papers/MSO notes/MSO202Lect6.pdf\n",
      "Index 71 of 80 completed\n",
      "\n",
      "\n",
      "Processed file: Papers/ESO201/Lecture 15.pdf\n",
      "\n",
      "Processing file: Papers/MSO notes/MSO202Lect7.pdf\n",
      "Index 72 of 80 completed\n",
      "\n",
      "\n",
      "Processed file: Papers/ESO201/Lecture 19.pdf\n",
      "\n",
      "Processing file: Papers/MSO notes/MSO202Lect8.pdf\n",
      "Index 73 of 80 completed\n",
      "\n",
      "\n",
      "Processed file: Papers/MSO notes/MSO202Lect14.pdf\n",
      "\n",
      "Processing file: Papers/MSO notes/MSO202Lect9.pdf\n",
      "Index 74 of 80 completed\n",
      "\n",
      "\n",
      "Processed file: Papers/MSO notes/MSO202Lect2.pdf\n",
      "\n",
      "Processing file: Papers/MSO notes/MSO202M_Endsem_Y22.pdf\n",
      "Index 75 of 80 completed\n",
      "\n",
      "\n",
      "Processed file: Papers/MSO notes/MSO202Lect6.pdf\n",
      "\n",
      "Processing file: Papers/ESC201/PYQ/1820448fe9c9eaac0b9d32f1384599b7c8fab6b5697e7748eafba52c66470b96_Midsem sol_to_showw.pdf\n",
      "Index 76 of 80 completed\n",
      "\n",
      "\n",
      "Processed file: Papers/MSO notes/MSO202Lect10.pdf\n",
      "\n",
      "Processing file: Papers/ESC201/PYQ/Lec14_MOSFET_I-V_characteristics.pdf\n",
      "Index 77 of 80 completed\n",
      "\n",
      "\n",
      "Processed file: Papers/MSO notes/MSO202Lect11.pdf\n",
      "\n",
      "Processing file: Papers/ESC201/PYQ/Midsem 2020 I.pdf\n",
      "Index 78 of 80 completed\n",
      "\n",
      "\n",
      "Processed file: Papers/MSO notes/MSO202Lect12.pdf\n",
      "\n",
      "Processing file: Papers/ESC201/PYQ/Midsem 2020 II.pdf\n",
      "Index 79 of 80 completed\n",
      "\n",
      "\n",
      "Processed file: Papers/MSO notes/MSO202Lect5.pdf\n",
      "\n",
      "Processing file: Papers/ESC201/PYQ/Midsem sol_to_showw.pdf\n",
      "Index 80 of 80 completed\n",
      "\n",
      "\n",
      "Processed file: Papers/MSO notes/MSO202M_Endsem_Y22.pdf\n",
      "\n",
      "Processed file: Papers/MSO notes/MSO202Lect4.pdf\n",
      "\n",
      "Processed file: Papers/MSO notes/MSO202Lect7.pdf\n"
     ]
    },
    {
     "name": "stderr",
     "output_type": "stream",
     "text": [
      "FloatObject (b'0..992') invalid; use 0.0 instead\n",
      "FloatObject (b'1.50.975') invalid; use 0.0 instead\n",
      "FloatObject (b'0.1.50.911') invalid; use 0.0 instead\n",
      "FloatObject (b'1.00.962801') invalid; use 0.0 instead\n",
      "FloatObject (b'0.999-0.02930.999-05') invalid; use 0.0 instead\n",
      "FloatObject (b'0..92') invalid; use 0.0 instead\n",
      "FloatObject (b'0.56-0.0611') invalid; use 0.0 instead\n",
      "FloatObject (b'-0-0.99220.59') invalid; use 0.0 instead\n",
      "FloatObject (b'0.46681.0167') invalid; use 0.0 instead\n",
      "FloatObject (b'0..31.011') invalid; use 0.0 instead\n",
      "FloatObject (b'1.28.79.46681.28.79.4') invalid; use 0.0 instead\n",
      "FloatObject (b'0.55.79.-46681.0..31.-011') invalid; use 0.0 instead\n",
      "FloatObject (b'1.-011') invalid; use 0.0 instead\n",
      "FloatObject (b'1.0.-46681..029') invalid; use 0.0 instead\n",
      "FloatObject (b'0.4360-1.045') invalid; use 0.0 instead\n",
      "FloatObject (b'2.003820.59') invalid; use 0.0 instead\n",
      "FloatObject (b'0..222.0038205559') invalid; use 0.0 instead\n",
      "FloatObject (b'0.4360-15559') invalid; use 0.0 instead\n",
      "FloatObject (b'0.55599.515') invalid; use 0.0 instead\n",
      "FloatObject (b'1.00435.022') invalid; use 0.0 instead\n",
      "FloatObject (b'1.-0.9928.022') invalid; use 0.0 instead\n",
      "FloatObject (b'1..555') invalid; use 0.0 instead\n",
      "FloatObject (b'2.03264.03264.03264.5') invalid; use 0.0 instead\n",
      "FloatObject (b'0..51.03264.28.79.434') invalid; use 0.0 instead\n",
      "FloatObject (b'28.79.4') invalid; use 0.0 instead\n",
      "FloatObject (b'0.55.6') invalid; use 0.0 instead\n",
      "FloatObject (b'0..51.-03264.03264.-03264.5') invalid; use 0.0 instead\n",
      "FloatObject (b'2.-03264.00') invalid; use 0.0 instead\n",
      "FloatObject (b'-052.032130.999') invalid; use 0.0 instead\n",
      "FloatObject (b'-0.91070.999') invalid; use 0.0 instead\n",
      "FloatObject (b'0.7010.999') invalid; use 0.0 instead\n",
      "FloatObject (b'-052.55.834') invalid; use 0.0 instead\n",
      "FloatObject (b'0.43491.04') invalid; use 0.0 instead\n",
      "FloatObject (b'0..7.019') invalid; use 0.0 instead\n",
      "FloatObject (b'1.55.') invalid; use 0.0 instead\n",
      "FloatObject (b'1.58594.55.') invalid; use 0.0 instead\n",
      "FloatObject (b'1.070.999') invalid; use 0.0 instead\n",
      "FloatObject (b'1.-019') invalid; use 0.0 instead\n",
      "NumberObject(b'820-019') invalid; use 0 instead\n",
      "FloatObject (b'1.02.051') invalid; use 0.0 instead\n",
      "FloatObject (b'-05-0.021') invalid; use 0.0 instead\n",
      "FloatObject (b'2.003460.91192.0034605') invalid; use 0.0 instead\n",
      "FloatObject (b'0.7192.0034602.20747') invalid; use 0.0 instead\n",
      "FloatObject (b'-05-02.2074') invalid; use 0.0 instead\n",
      "FloatObject (b'0.971192.91') invalid; use 0.0 instead\n",
      "FloatObject (b'0.0.042182.91') invalid; use 0.0 instead\n",
      "FloatObject (b'0.640.041') invalid; use 0.0 instead\n",
      "FloatObject (b'0.43-1.04') invalid; use 0.0 instead\n",
      "FloatObject (b'0..88') invalid; use 0.0 instead\n",
      "FloatObject (b'055.750.4360.9.88') invalid; use 0.0 instead\n",
      "FloatObject (b'-1.0524.-032') invalid; use 0.0 instead\n",
      "FloatObject (b'2.00131.-032') invalid; use 0.0 instead\n",
      "FloatObject (b'0.738.-032') invalid; use 0.0 instead\n",
      "FloatObject (b'-0.9131.001') invalid; use 0.0 instead\n",
      "FloatObject (b'-00.04224.001') invalid; use 0.0 instead\n",
      "FloatObject (b'0.648.041') invalid; use 0.0 instead\n",
      "FloatObject (b'0.7070.91') invalid; use 0.0 instead\n",
      "FloatObject (b'55.99.51660') invalid; use 0.0 instead\n",
      "FloatObject (b'.99.50') invalid; use 0.0 instead\n",
      "FloatObject (b'0.7070-.910.910-.9105') invalid; use 0.0 instead\n",
      "FloatObject (b'2.034692.00130.90832.001305') invalid; use 0.0 instead\n",
      "FloatObject (b'0..962.0013055.940.436') invalid; use 0.0 instead\n",
      "FloatObject (b'2.55.940.43051') invalid; use 0.0 instead\n",
      "FloatObject (b'0.55191.048') invalid; use 0.0 instead\n",
      "FloatObject (b'2.05.962.90930.90832.909309904') invalid; use 0.0 instead\n",
      "FloatObject (b'192.90930.555') invalid; use 0.0 instead\n",
      "FloatObject (b'0.46611.04') invalid; use 0.0 instead\n",
      "FloatObject (b'98.00112.00112.00112.5') invalid; use 0.0 instead\n",
      "FloatObject (b'0.725.00112.552234') invalid; use 0.0 instead\n",
      "FloatObject (b'0725.-00112.00112.-00112.5') invalid; use 0.0 instead\n",
      "FloatObject (b'98.-00112.047') invalid; use 0.0 instead\n",
      "FloatObject (b'-.992.029') invalid; use 0.0 instead\n",
      "FloatObject (b'-1.0374.-031220.598') invalid; use 0.0 instead\n",
      "FloatObject (b'1.021220552180.436') invalid; use 0.0 instead\n",
      "FloatObject (b'0.552180436020.5715.001050.598') invalid; use 0.0 instead\n",
      "FloatObject (b'-0.060200.019') invalid; use 0.0 instead\n",
      "FloatObject (b'0.4662.032030.9124.00124.00124.5') invalid; use 0.0 instead\n",
      "FloatObject (b'0.744.00124.552') invalid; use 0.0 instead\n",
      "FloatObject (b'-1.062.552') invalid; use 0.0 instead\n",
      "FloatObject (b'-6-0.0744.-00124.00124.-00124.5') invalid; use 0.0 instead\n",
      "FloatObject (b'032030-00124.047') invalid; use 0.0 instead\n",
      "FloatObject (b'-6-0.029') invalid; use 0.0 instead\n",
      "FloatObject (b'0.436451.04') invalid; use 0.0 instead\n",
      "FloatObject (b'0-0015-0.91070.9915-05') invalid; use 0.0 instead\n",
      "FloatObject (b'0.7330.9915-0552420.436451552420.43051') invalid; use 0.0 instead\n",
      "FloatObject (b'0.55240.04608.027330.91170.91070.911700.04480.91170.555') invalid; use 0.0 instead\n",
      "FloatObject (b'-0.060800.019') invalid; use 0.0 instead\n",
      "FloatObject (b'0.46621.566092.9135.021362.9135.5') invalid; use 0.0 instead\n",
      "FloatObject (b'0.76-0.01') invalid; use 0.0 instead\n",
      "FloatObject (b'1621..5271') invalid; use 0.0 instead\n",
      "NumberObject(b'-6-7') invalid; use 0 instead\n",
      "FloatObject (b'0.762.-001362.9136.-0013625') invalid; use 0.0 instead\n",
      "FloatObject (b'03209.-001362047') invalid; use 0.0 instead\n",
      "NumberObject(b'-6-7') invalid; use 0 instead\n",
      "FloatObject (b'0.43652.0349') invalid; use 0.0 instead\n",
      "FloatObject (b'2.051660.91192.0016605') invalid; use 0.0 instead\n",
      "FloatObject (b'1.-011') invalid; use 0.0 instead\n",
      "FloatObject (b'-1552660.43652.552660.43051') invalid; use 0.0 instead\n",
      "FloatObject (b'-1.0615.007') invalid; use 0.0 instead\n",
      "FloatObject (b'0.971192.91') invalid; use 0.0 instead\n",
      "FloatObject (b'0.0.044') invalid; use 0.0 instead\n",
      "FloatObject (b'-0.0615.0.019') invalid; use 0.0 instead\n",
      "NumberObject(b'-') invalid; use 0 instead\n",
      "FloatObject (b'0.466330.0214.001') invalid; use 0.0 instead\n",
      "FloatObject (b'0.781.001') invalid; use 0.0 instead\n",
      "FloatObject (b'7.55295.46633055295.4') invalid; use 0.0 instead\n",
      "FloatObject (b'-0.06330.9781..02128.001') invalid; use 0.0 instead\n",
      "FloatObject (b'7..02128.0.04214..02128.0-0.06330.029') invalid; use 0.0 instead\n",
      "FloatObject (b'0.4365-1.0391..02172.00131.-03172.5') invalid; use 0.0 instead\n",
      "FloatObject (b'0.771.-03172.55290.4365-155290.43051') invalid; use 0.0 instead\n",
      "FloatObject (b'0.552-0.06') invalid; use 0.0 instead\n",
      "FloatObject (b'1.02771.001') invalid; use 0.0 instead\n",
      "FloatObject (b'-0.9131.001') invalid; use 0.0 instead\n",
      "FloatObject (b'-00.04391.001') invalid; use 0.0 instead\n",
      "NumberObject(b'-') invalid; use 0 instead\n",
      "FloatObject (b'0.4661.048192.91592.91592.915925') invalid; use 0.0 instead\n",
      "FloatObject (b'0.7992.915922.319.4661.2.319.4') invalid; use 0.0 instead\n",
      "FloatObject (b'0.55319..4364') invalid; use 0.0 instead\n",
      "FloatObject (b'0.7992-.91592.91592-.915925') invalid; use 0.0 instead\n",
      "FloatObject (b'048192-.915920..4364') invalid; use 0.0 instead\n",
      "FloatObject (b'0.436651.04962.00192.91432.001925') invalid; use 0.0 instead\n",
      "FloatObject (b'0.7892.00192553140.436651553140.43051') invalid; use 0.0 instead\n",
      "FloatObject (b'0.55311.04') invalid; use 0.0 instead\n",
      "FloatObject (b'0.7892.91532.91432.915320.043962.91532.549') invalid; use 0.0 instead\n",
      "FloatObject (b'-0.069800.019') invalid; use 0.0 instead\n",
      "NumberObject(b'650961-') invalid; use 0 instead\n",
      "FloatObject (b'0.46611.56625.00171.00171.00171.5') invalid; use 0.0 instead\n",
      "FloatObject (b'0.8182.9171') invalid; use 0.0 instead\n",
      "FloatObject (b'55343.46611.55343.4') invalid; use 0.0 instead\n",
      "FloatObject (b'-.') invalid; use 0.0 instead\n",
      "FloatObject (b'2.00171.00171.-00171.5') invalid; use 0.0 instead\n",
      "FloatObject (b'56625.-00171.047') invalid; use 0.0 instead\n",
      "FloatObject (b'-.') invalid; use 0.0 instead\n",
      "FloatObject (b'7..029') invalid; use 0.0 instead\n",
      "FloatObject (b'0.43672.03201.-002020.515-0-0020205') invalid; use 0.0 instead\n",
      "FloatObject (b'0.8080-002020553380.43672.553380.43051') invalid; use 0.0 instead\n",
      "FloatObject (b'0015-0.916525') invalid; use 0.0 instead\n",
      "FloatObject (b'032010.91652.549') invalid; use 0.0 instead\n",
      "FloatObject (b'0.098.0') invalid; use 0.0 instead\n",
      "FloatObject (b'0.43-530.0232.91832.91832.918325') invalid; use 0.0 instead\n",
      "FloatObject (b'0.8372.9183255367.43-53055367.4') invalid; use 0.0 instead\n",
      "FloatObject (b'-6232.98372-.91832.91832-.918325') invalid; use 0.0 instead\n",
      "FloatObject (b'.0232-.91832047') invalid; use 0.0 instead\n",
      "FloatObject (b'-6180435670-0015-0.92260.9915-05') invalid; use 0.0 instead\n",
      "FloatObject (b'0.8860.9915-05542247') invalid; use 0.0 instead\n",
      "FloatObject (b'.02.7.012372041') invalid; use 0.0 instead\n",
      "FloatObject (b'0.43--1.0535.02195.02195.02195.5') invalid; use 0.0 instead\n",
      "FloatObject (b'0.855.02195.55391.43--155391.4') invalid; use 0.0 instead\n",
      "FloatObject (b'0.5539.47') invalid; use 0.0 instead\n",
      "FloatObject (b'-660.9855.-02195.02195.-02195.5') invalid; use 0.0 instead\n",
      "FloatObject (b'.0535.-02195.047') invalid; use 0.0 instead\n",
      "FloatObject (b'0.5722.051660.9238.-0316605') invalid; use 0.0 instead\n",
      "FloatObject (b'0.905.-011') invalid; use 0.0 instead\n",
      "FloatObject (b'.0572..52490041') invalid; use 0.0 instead\n",
      "FloatObject (b'0.708.041') invalid; use 0.0 instead\n",
      "FloatObject (b'0.43---1.05') invalid; use 0.0 instead\n",
      "FloatObject (b'-0.92070.92070.920705') invalid; use 0.0 instead\n",
      "FloatObject (b'0554140.436660.987-0-002070.92070-.920705') invalid; use 0.0 instead\n",
      "FloatObject (b'-0-.9207000.436660031') invalid; use 0.0 instead\n",
      "FloatObject (b'2.03577..02172.0025.-00172.5') invalid; use 0.0 instead\n",
      "FloatObject (b'0.923.-03172.554747') invalid; use 0.0 instead\n",
      "FloatObject (b'2.5511.56') invalid; use 0.0 instead\n",
      "FloatObject (b'05541.56714.00923.00261.0025.00261.5') invalid; use 0.0 instead\n",
      "FloatObject (b'.0577.00261.041') invalid; use 0.0 instead\n",
      "FloatObject (b'0.711.041') invalid; use 0.0 instead\n",
      "FloatObject (b'0.466730.02460.92192.92192.921925') invalid; use 0.0 instead\n",
      "FloatObject (b'0.8922.92192554384') invalid; use 0.0 instead\n",
      "FloatObject (b'0554380.436732.98922.052192.92192-.921925') invalid; use 0.0 instead\n",
      "FloatObject (b'.02460-.9219200.436732.029') invalid; use 0.0 instead\n",
      "FloatObject (b'0.43698043523.-0325.00202.-0325.5') invalid; use 0.0 instead\n",
      "FloatObject (b'0.882.-0325.554330.436980554330.43051') invalid; use 0.0 instead\n",
      "FloatObject (b'0.554330.06610.98822.9213') invalid; use 0.0 instead\n",
      "FloatObject (b'.0223.002132.549') invalid; use 0.0 instead\n",
      "FloatObject (b'1.01231.00231.00231.5') invalid; use 0.0 instead\n",
      "FloatObject (b'0.911.00231.55462.0368.55462.0') invalid; use 0.0 instead\n",
      "FloatObject (b'-68.0291-0-.9231.00231.-00231.5') invalid; use 0.0 instead\n",
      "FloatObject (b'1.-00231.047') invalid; use 0.0 instead\n",
      "FloatObject (b'-68..029') invalid; use 0.0 instead\n",
      "FloatObject (b'0.5280-002620.52140-0026205') invalid; use 0.0 instead\n",
      "FloatObject (b'0.90-002620554570.4370') invalid; use 0.0 instead\n",
      "FloatObject (b'0.55457.43-68.0292.92240.52140.922405') invalid; use 0.0 instead\n",
      "FloatObject (b'.02280.92240.549') invalid; use 0.0 instead\n",
      "FloatObject (b'-0.066800.019') invalid; use 0.0 instead\n",
      "FloatObject (b'0.4668-1.0557.002432.92432.924325') invalid; use 0.0 instead\n",
      "FloatObject (b'0.9292.924325548-1.068-15548-1.') invalid; use 0.0 instead\n",
      "FloatObject (b'-6860.99292-.92432.92432-.924325') invalid; use 0.0 instead\n",
      "FloatObject (b'.0557.-.92432047') invalid; use 0.0 instead\n",
      "FloatObject (b'0.437111.05332-.927-0.92260.9927-05') invalid; use 0.0 instead\n",
      "FloatObject (b'0.9190.9927-0554810.437111554810.43051') invalid; use 0.0 instead\n",
      "FloatObject (b'0.55481.43-7-0.99192.92362.92260.923625') invalid; use 0.0 instead\n",
      "FloatObject (b'032330.92362.549') invalid; use 0.0 instead\n",
      "FloatObject (b'-0.06740.555') invalid; use 0.0 instead\n",
      "FloatObject (b'0.466930.02620.5255.02255.02255.5') invalid; use 0.0 instead\n",
      "FloatObject (b'0.948.02255.2481.4669302481.4') invalid; use 0.0 instead\n",
      "FloatObject (b'0.555.47') invalid; use 0.0 instead\n",
      "FloatObject (b'0-00255.02255.-02255.5') invalid; use 0.0 instead\n",
      "FloatObject (b'.02620-02255.047') invalid; use 0.0 instead\n",
      "FloatObject (b'0.437180435390.992860.9238.-0328605') invalid; use 0.0 instead\n",
      "FloatObject (b'0.938.-032860555050.437180555050.43051') invalid; use 0.0 instead\n",
      "FloatObject (b'0.681.00938..52480.9238..5248.0.04239..5248..549') invalid; use 0.0 instead\n",
      "FloatObject (b'0.466990.0268..52.7.012.7.012.7.5') invalid; use 0.0 instead\n",
      "FloatObject (b'0.9660.9260') invalid; use 0.0 instead\n",
      "FloatObject (b'0.555340.436992.99660-012.7.012.7.-012.7.5') invalid; use 0.0 instead\n",
      "FloatObject (b'.0268.-012.7.00.436992.029') invalid; use 0.0 instead\n",
      "FloatObject (b'0.5440-00292.0025.-00292.5') invalid; use 0.0 instead\n",
      "FloatObject (b'0.956.-00292.5553') invalid; use 0.0 instead\n",
      "FloatObject (b'-0.0687.01956.012..0025.002625') invalid; use 0.0 instead\n",
      "FloatObject (b'.0244.00262.549') invalid; use 0.0 instead\n",
      "FloatObject (b'-0.06870.555') invalid; use 0.0 instead\n",
      "FloatObject (b'0.4670-1.05732.92792.92792.927925') invalid; use 0.0 instead\n",
      "FloatObject (b'0.9852.9279255558.4670-155558.4') invalid; use 0.0 instead\n",
      "FloatObject (b'0.555580.437060.9985.-002792.92792-.927925') invalid; use 0.0 instead\n",
      "FloatObject (b'.05732-.9279200.437060.029') invalid; use 0.0 instead\n",
      "FloatObject (b'0.9750-0231.555530.437') invalid; use 0.0 instead\n",
      "FloatObject (b'0.555530.069-0.99752.9272') invalid; use 0.0 instead\n",
      "FloatObject (b'.02490.52722.549') invalid; use 0.0 instead\n",
      "FloatObject (b'-0.06940.555') invalid; use 0.0 instead\n",
      "FloatObject (b'0.467130.0272.00291.00291.00291.0.55004.00291.55582.46713055582.4') invalid; use 0.0 instead\n",
      "FloatObject (b'0.555820.43713055004.-00291.00291.-00291.0..0272.-00291.00.437130.029') invalid; use 0.0 instead\n",
      "FloatObject (b'50-023220.52740-0232205') invalid; use 0.0 instead\n",
      "FloatObject (b'0.9930-02322023577..437') invalid; use 0.0 instead\n",
      "FloatObject (b'8023577..43051') invalid; use 0.0 instead\n",
      "FloatObject (b'.927-0.928405') invalid; use 0.0 instead\n",
      "FloatObject (b'.0255.022840.549') invalid; use 0.0 instead\n",
      "FloatObject (b'-0.07010.555') invalid; use 0.0 instead\n",
      "FloatObject (b'0.437190.0284') invalid; use 0.0 instead\n",
      "FloatObject (b'0.550220.5303') invalid; use 0.0 instead\n",
      "FloatObject (b'2.60-1.071925560-1.') invalid; use 0.0 instead\n",
      "FloatObject (b'0.5560-1-.07192550220-.9303') invalid; use 0.0 instead\n",
      "FloatObject (b'0..0284') invalid; use 0.0 instead\n",
      "FloatObject (b'01-.07192.029') invalid; use 0.0 instead\n",
      "FloatObject (b'0.436840.0262-.92730.92862-.927300.550122-.92730556010.43684055601056') invalid; use 0.0 instead\n",
      "FloatObject (b'0122.9356.012860.9356.5') invalid; use 0.0 instead\n",
      "FloatObject (b'.0260.9356..549') invalid; use 0.0 instead\n",
      "FloatObject (b'0.4372-1.05890.53150.53150.531500.550') invalid; use 0.0 instead\n",
      "FloatObject (b'-0.931505563.4372-15563.40') invalid; use 0.0 instead\n",
      "FloatObject (b'055630.4372-1550') invalid; use 0.0 instead\n",
      "FloatObject (b'-0-.93150.53150-.531500..05890-.5315000.4372-1031') invalid; use 0.0 instead\n",
      "FloatObject (b'-691.43-260.992852.93580.9928520.55090.9928525568547') invalid; use 0.0 instead\n",
      "FloatObject (b'05568545677-055090.5368..53580.5368.0.0462..00368.041') invalid; use 0.0 instead\n",
      "FloatObject (b'2.0359-0.93270.93270.932700.550590.9327055654.437') invalid; use 0.0 instead\n",
      "FloatObject (b'2.55654.40') invalid; use 0.0 instead\n",
      "FloatObject (b'055654..437') invalid; use 0.0 instead\n",
      "FloatObject (b'2.550590-.93270.93270-.932700.0359-0-.932700..437') invalid; use 0.0 instead\n",
      "FloatObject (b'05672.551090.5380.937..53800.04631.0038.041') invalid; use 0.0 instead\n",
      "FloatObject (b'0.4673-0.06.00339..5339..5339.0.55072.00339.556774') invalid; use 0.0 instead\n",
      "FloatObject (b'055677..437') invalid; use 0.0 instead\n",
      "FloatObject (b'9255072.-00339..5339.-.5339.0..06.-.5339.0..437') invalid; use 0.0 instead\n",
      "FloatObject (b'0.437640.0276.-.53690.9322.-.536900.550.7.-013690556720.437640556720.43051') invalid; use 0.0 instead\n",
      "FloatObject (b'0.7.01332') invalid; use 0.0 instead\n",
      "FloatObject (b'0..02760.5332') invalid; use 0.0 instead\n",
      "FloatObject (b'-0.07270.555') invalid; use 0.0 instead\n",
      "FloatObject (b'0.4674-1.06052.93512.93512.935120.550962.935122070104674-120701040') invalid; use 0.0 instead\n",
      "FloatObject (b'0557010.4374-1200962-.93512.93512-.935120..06052-.9351200.4374-1.029') invalid; use 0.0 instead\n",
      "FloatObject (b'0.5569-1.073-0550860.9344.00334..9344.0..0582..9344..549') invalid; use 0.0 instead\n",
      "FloatObject (b'-0.07340.555') invalid; use 0.0 instead\n",
      "FloatObject (b'0.4675204361.00363.00363.00363.') invalid; use 0.0 instead\n",
      "FloatObject (b'0557250.437520551150-.5363.00363.-00363.') invalid; use 0.0 instead\n",
      "FloatObject (b'04361.-00363.00.437520.029') invalid; use 0.0 instead\n",
      "FloatObject (b'055104.-01393055720.43777') invalid; use 0.0 instead\n",
      "FloatObject (b'55104..9356.01346..9356.5') invalid; use 0.0 instead\n",
      "FloatObject (b'.0287.01356..549') invalid; use 0.0 instead\n",
      "FloatObject (b'-0.0740.555') invalid; use 0.0 instead\n",
      "FloatObject (b'0.4675-0.0616..93752.93752.93752') invalid; use 0.0 instead\n",
      "FloatObject (b'0551330.9375255749.4675-055749.4') invalid; use 0.0 instead\n",
      "FloatObject (b'0.4375-0551332-.93752.93752-.93752') invalid; use 0.0 instead\n",
      "FloatObject (b'0.0616.-.9375200.4375-0.029') invalid; use 0.0 instead\n",
      "FloatObject (b'0.437840.0292.-.54052.93580.994052') invalid; use 0.0 instead\n",
      "FloatObject (b'0551230.994052557440.437840557440.43051') invalid; use 0.0 instead\n",
      "FloatObject (b'0.55744.43747') invalid; use 0.0 instead\n",
      "FloatObject (b'551230.5368..53580.5368.0.04292..5368..549') invalid; use 0.0 instead\n",
      "FloatObject (b'-0.07470.555') invalid; use 0.0 instead\n",
      "NumberObject(b'650745-0') invalid; use 0 instead\n",
      "FloatObject (b'0.621.00386..9387.0138605') invalid; use 0.0 instead\n",
      "FloatObject (b'55152.01386055773.4676') invalid; use 0.0 instead\n",
      "FloatObject (b'0.557730.4376') invalid; use 0.0 instead\n",
      "FloatObject (b'55152.-.9387.01387.-.9387.0.04621.-.9387.00.4376') invalid; use 0.0 instead\n",
      "FloatObject (b'0.43791.435980.994170.937.-0041705') invalid; use 0.0 instead\n",
      "FloatObject (b'55142.-00417055768..54791.55768..54051') invalid; use 0.0 instead\n",
      "FloatObject (b'0.55768.04753055142..5380.937..53800.04592.0038..549') invalid; use 0.0 instead\n",
      "FloatObject (b'-0.07530.430') invalid; use 0.0 instead\n",
      "FloatObject (b'0.467720436270.9392.00392.00392.5') invalid; use 0.0 instead\n",
      "FloatObject (b'55170.9392.55797.46772055797.4') invalid; use 0.0 instead\n",
      "FloatObject (b'0.55797..4377205517.-01392.00392.-00392.5') invalid; use 0.0 instead\n",
      "FloatObject (b'436270-00392.0..437720.029') invalid; use 0.0 instead\n",
      "FloatObject (b'0.437971.06030.994290.53820.9942905') invalid; use 0.0 instead\n",
      "FloatObject (b'55160.994290557920.437971557920.43051') invalid; use 0.0 instead\n",
      "FloatObject (b'0.557920437605516..9392..5382..939220..0603..93922.549') invalid; use 0.0 instead\n",
      "FloatObject (b'-0.0760.555') invalid; use 0.0 instead\n",
      "FloatObject (b'0.4677-0.0632') invalid; use 0.0 instead\n",
      "FloatObject (b'551890.541.55821.4677-055821.405') invalid; use 0.0 instead\n",
      "FloatObject (b'55821.-4677-0551890-.5') invalid; use 0.0 instead\n",
      "FloatObject (b'-0-.9') invalid; use 0.0 instead\n",
      "FloatObject (b'-00.-4677-0.029') invalid; use 0.0 instead\n",
      "FloatObject (b'0.438041.06080.994') invalid; use 0.0 instead\n",
      "FloatObject (b'-0.93930-024') invalid; use 0.0 instead\n",
      "NumberObject(b'551790-024') invalid; use 0 instead\n",
      "FloatObject (b'-0558160.438041558160.43051') invalid; use 0.0 instead\n",
      "FloatObject (b'0.558160.07660551790.5404..93930.9404.0..06080.9404..549') invalid; use 0.0 instead\n",
      "FloatObject (b'-0.07660.555') invalid; use 0.0 instead\n",
      "FloatObject (b'0.43785456637..54220.54220.542200.552080.9422023845.43785423845.4') invalid; use 0.0 instead\n",
      "FloatObject (b'0.558450.437854232080.994220.54220-.542200.56637.-.5422000.437854.029') invalid; use 0.0 instead\n",
      "FloatObject (b'0.4375456614.-013930.94052-.93930') invalid; use 0.0 instead\n",
      "FloatObject (b'055197.-01393055840.437545584056') invalid; use 0.0 instead\n",
      "FloatObject (b'055840568330551970.94760.54052.94760') invalid; use 0.0 instead\n",
      "FloatObject (b'0.06142.947600.019') invalid; use 0.0 instead\n",
      "FloatObject (b'0.437920436430.9434..9434..9434.0.5522..0043-055869.43792055869.40') invalid; use 0.0 instead\n",
      "FloatObject (b'0.437920552260.99434..9434.-.9434.0.436430-.9434.00.437920031') invalid; use 0.0 instead\n",
      "FloatObject (b'-7270436790-024052.94770.994052') invalid; use 0.0 instead\n",
      "FloatObject (b'055276.-.540525592447') invalid; use 0.0 instead\n",
      "FloatObject (b'055924456840552760.54882.94770.548820.436790.54880041') invalid; use 0.0 instead\n",
      "FloatObject (b'65062.1.') invalid; use 0.0 instead\n",
      "FloatObject (b'055245..9446.55893.43798455893.40') invalid; use 0.0 instead\n",
      "FloatObject (b'0558930.43798455245.-.9446..9446.-.9446.') invalid; use 0.0 instead\n",
      "FloatObject (b'-7640.06840.994170.94890-.5') invalid; use 0.0 instead\n",
      "FloatObject (b'55294.-004170559480.43764055948056') invalid; use 0.0 instead\n",
      "FloatObject (b'055948056846.5529-0.950.94890.950') invalid; use 0.0 instead\n",
      "FloatObject (b'0.438054566530.94580.54580.545805') invalid; use 0.0 instead\n",
      "FloatObject (b'552630.94580559160.08052559160.0') invalid; use 0.0 instead\n",
      "FloatObject (b'0559160.43805423263.-004580.54580-.545805') invalid; use 0.0 instead\n",
      "FloatObject (b'566530-.5458000.438054.029') invalid; use 0.0 instead\n",
      "FloatObject (b'0.4377043630.994290.54') invalid; use 0.0 instead\n",
      "FloatObject (b'-0-.9') invalid; use 0.0 instead\n",
      "FloatObject (b'552530.99429055911.-4677055911.56') invalid; use 0.0 instead\n",
      "FloatObject (b'055911.568530552530.9512') invalid; use 0.0 instead\n",
      "FloatObject (b'0.56630.9512') invalid; use 0.0 instead\n",
      "FloatObject (b'0.468120436590.5470.5470.54705') invalid; use 0.0 instead\n",
      "FloatObject (b'55282..94705594.4681205594.40') invalid; use 0.0 instead\n",
      "FloatObject (b'055940.438120552820.99470.5470-.54705') invalid; use 0.0 instead\n",
      "FloatObject (b'436590-.547000.438120.029') invalid; use 0.0 instead\n",
      "FloatObject (b'0.43837043635.-.950-0.9') invalid; use 0.0 instead\n",
      "FloatObject (b'530.9950-0') invalid; use 0.0 instead\n",
      "FloatObject (b'0552710.9950-0559350.438370559350.43051') invalid; use 0.0 instead\n",
      "FloatObject (b'6400.566350.9') invalid; use 0.0 instead\n",
      "FloatObject (b'-0.07990.555') invalid; use 0.0 instead\n",
      "FloatObject (b'82..9482..9482.0.553..9482.55964.46818455964.4') invalid; use 0.0 instead\n",
      "FloatObject (b'0.559640.4381845530.99482..9482.-.9482.0.') invalid; use 0.0 instead\n",
      "FloatObject (b'0.5595-0.0806.55290.54750.9') invalid; use 0.0 instead\n",
      "FloatObject (b'0.468254566690.549-0.949-0.949-00.553190.549-05598800482545598800') invalid; use 0.0 instead\n",
      "FloatObject (b'0.559880.438254553190-.949-0.949-0-.949-00.566690-.949-000.438254.029') invalid; use 0.0 instead\n",
      "FloatObject (b'0.4385456646.-.95252.94770.9952520.553090.995252559830.43854559830.43051') invalid; use 0.0 instead\n",
      "FloatObject (b'0.55983.468134553090.94872.94770.548705') invalid; use 0.0 instead\n",
      "FloatObject (b'43646..948700.019') invalid; use 0.0 instead\n",
      "FloatObject (b'65062.3.') invalid; use 0.0 instead\n"
     ]
    },
    {
     "name": "stdout",
     "output_type": "stream",
     "text": [
      "File at index 56 raised an exception: Invalid Elementary Object starting with b'*' @927187: b'..550603*\\nQ2.468 c\\n3*\\nQ2.400.3*\\nQ2.-468 c\\n55337.-.95060.95060-.950600.f*6750-.95'\n",
      "\n",
      "Processed file: Papers/MSO notes/MSO202Lect15.pdf\n",
      "\n",
      "Processed file: Papers/MSO notes/MSO202Lect8.pdf\n",
      "\n",
      "Processed file: Papers/MSO notes/MSO202Lect3.pdf\n",
      "\n",
      "Processed file: Papers/ESC201/PYQ/1820448fe9c9eaac0b9d32f1384599b7c8fab6b5697e7748eafba52c66470b96_Midsem sol_to_showw.pdf\n",
      "\n",
      "Processed file: Papers/ESC201/PYQ/Lec14_MOSFET_I-V_characteristics.pdf\n",
      "\n",
      "Processed file: Papers/ESC201/PYQ/Midsem sol_to_showw.pdf\n",
      "\n",
      "Processed file: Papers/MSO notes/MSO202Lect13.pdf\n",
      "\n",
      "Processed file: Papers/MSO notes/MSO202Lect9.pdf\n",
      "\n",
      "Processed file: Papers/ESC201/PYQ/Midsem 2020 II.pdf\n",
      "\n",
      "Processed file: Papers/ESC201/PYQ/Midsem 2020 I.pdf\n",
      "\n",
      "Processed file: Papers/ESO201/thermo_solution_8thedi.pdf\n"
     ]
    }
   ],
   "source": [
    "import concurrent.futures\n",
    "import time\n",
    "os.environ[\"LANGCHAIN_TRACING_V2\"] = \"false\"\n",
    "os.environ[\"LANGCHAIN_API_KEY\"]=os.environ.get(\"LANGCHAIN_API\")\n",
    "os.environ[\"LANGCHAIN_ENDPOINT\"]=\"https://api.smith.langchain.com\"\n",
    "os.environ[\"LANGCHAIN_PROJECT\"]=\"LearnLang\"\n",
    "## Splittting the text\n",
    "text_splitter = RecursiveCharacterTextSplitter(chunk_size=200000, chunk_overlap=200) # 300k characters per chunk, or nearly 75,000 tokens\n",
    "# summary_chain = []\n",
    "summary_chain = load_summarize_chain(\n",
    "    llm=gemini_llm,\n",
    "    chain_type='map_reduce',\n",
    "    map_prompt=map_prompt_template,\n",
    "    combine_prompt=final_combine_prompt_template,\n",
    "    verbose=False\n",
    ")\n"
   ]
  },
  {
   "cell_type": "code",
   "execution_count": 12,
   "metadata": {},
   "outputs": [],
   "source": [
    "#  llama-3.1-70b-versatile\n",
    "def process_file(index, file_path, requests_in_this_minute, start_time):\n",
    "    output = ''\n",
    "    file_path = str(File_paths[index])\n",
    "    print(f\"\\nProcessing file: {file_path}\")\n",
    "    print(f\"Index {index+1} of {len(File_paths)} completed\\n\")  \n",
    "    split_chunks = input_llm_pdf(file_path)\n",
    "    for chunks in split_chunks:\n",
    "        output += summary_chain.run(chunks)\n",
    "        endtime = time.time()\n",
    "    # output_doc = Document(page_content=output)\n",
    "    chunks = text_splitter.create_documents([output])\n",
    "    requests_in_this_minute += len(chunks)\n",
    "\n",
    "    final_summary = summary_chain.run(chunks)\n",
    "    final_summary = f\"File_path: {File_paths[index]} \\n\"+final_summary\n",
    "    index+=1\n",
    "    # summarized_documents.append([Document(page_content=final_summary)])\n",
    "    print(f\"\\nProcessed file: {file_path}\")\n",
    "    return final_summary\n",
    "def process_file_hf(index, file_path, requests_in_this_minute, start_time):\n",
    "    output = ''\n",
    "    file_path = str(File_paths[index])\n",
    "    print(f\"\\nProcessing file: {file_path}\")\n",
    "    print(f\"Index {index+1} of {len(File_paths)} completed\\n\")  \n",
    "    chunks = input_llm_pdf_hf(file_path)\n",
    "    output += summary_chain.run(chunks)\n",
    "    endtime = time.time()\n",
    "    # output_doc = Document(page_content=output)\n",
    "    chunks = text_splitter.create_documents([output])\n",
    "    requests_in_this_minute += len(chunks)\n",
    "\n",
    "    final_summary = summary_chain.run(chunks)\n",
    "    final_summary = f\"File_path: {File_paths[index]} \\n\"+final_summary\n",
    "    index+=1\n",
    "    # summarized_documents.append([Document(page_content=final_summary)])\n",
    "    print(f\"\\nProcessed file: {file_path}\")\n",
    "    return final_summary\n",
    "\n",
    "\n",
    "\n",
    "def parallel_process_files():\n",
    "    # Initialize some shared variables\n",
    "    requests_in_this_minute = 0\n",
    "    start_time = time.time()\n",
    "    summarized_documents = []\n",
    "    \n",
    "    # Create a ThreadPoolExecutor for parallelizing the operations\n",
    "    with concurrent.futures.ThreadPoolExecutor(max_workers=15) as executor:\n",
    "        future_to_index = {executor.submit(process_file, i, File_paths[i], requests_in_this_minute, start_time): i for i in range(len(File_paths))}\n",
    "        \n",
    "        # Collect results\n",
    "        for future in concurrent.futures.as_completed(future_to_index):\n",
    "            index = future_to_index[future]\n",
    "            try:\n",
    "                result = future.result()\n",
    "                if result is not None:\n",
    "                    summarized_documents.append([Document(page_content=result)])\n",
    "            except Exception as e:\n",
    "                print(f\"File at index {index} raised an exception: {e}\")\n",
    "    \n",
    "    return summarized_documents\n",
    "\n"
   ]
  },
  {
   "cell_type": "code",
   "execution_count": null,
   "metadata": {},
   "outputs": [],
   "source": [
    "\n",
    "# Start the parallel processing\n",
    "summarized_documents = parallel_process_files()\n"
   ]
  },
  {
   "cell_type": "code",
   "execution_count": 19,
   "metadata": {},
   "outputs": [
    {
     "data": {
      "text/plain": [
       "[[Document(metadata={}, page_content=\"File_path: Papers/Fast-RCNN.pdf \\n## Summary:\\n\\nFast R-CNN is a groundbreaking object detection method that significantly outperforms previous approaches like R-CNN and SPPnet by achieving faster training and testing speeds while simultaneously boosting detection accuracy. It introduces single-stage training, where object classification and bounding-box refinement are learned jointly using a multi-task loss function, optimizing both tasks. Back-propagation through RoI pooling enables efficient learning by updating all network layers, eliminating the need for feature caching.\\n\\nFast R-CNN demonstrates impressive speed improvements: 213 times faster testing and 9 times faster training compared to R-CNN. It also achieves a higher mean Average Precision (mAP) on the PASCAL VOC 2012 dataset, reaching 66% compared to R-CNN's 62%.\\n\\nThe paper explores various design choices, revealing that multi-task training enhances both classification and localization accuracy. Single-scale training achieves comparable accuracy to multi-scale approaches while being faster. Increased training data improves mAP. Softmax outperforms SVMs for classification. Sparse object proposals, like those from selective search, improve detector quality compared to dense proposals.\\n\\nFast R-CNN represents a significant advancement in object detection, offering a faster, more efficient, and more accurate approach. Its high-speed training and testing capabilities, coupled with high accuracy, make it invaluable for real-world applications.\\n\\n## Keywords: \\n\\nObject Detection, Fast R-CNN, Deep Convolutional Networks, Region of Interest (RoI) Pooling, Multi-task Loss, Single-stage Training, Back-propagation, PASCAL VOC, Mean Average Precision (mAP), Scale Invariance, Object Proposals, Sparse vs. Dense Proposals, Selective Search, Average Recall (AR), Training Speed, Testing Speed, Accuracy, Efficiency, Softmax, SVM, MS COCO \\n\")],\n",
       " [Document(metadata={}, page_content='File_path: Papers/DeepSORT.pdf \\n## Summary:\\n\\nDeep SORT is an advanced multiple object tracking algorithm that significantly improves upon the SORT algorithm by tackling the challenge of identity switches caused by occlusions. It leverages a pre-trained CNN for person re-identification, generating appearance descriptors for bounding boxes that are used to measure track-detection similarity in appearance space. This approach enhances tracking accuracy, precision, and overall performance by minimizing identity switches. Deep SORT operates online, enabling real-time tracking and allowing for identity recovery even after prolonged occlusions. Its effectiveness is validated by its strong performance on the MOT16 benchmark, achieving high MOTA, MOTP, and a substantial reduction in identity switches. \\n\\n**Keywords:** Multiple Object Tracking, SORT, Deep SORT, Data Association, Appearance Information, Convolutional Neural Network (CNN), Person Re-identification, Kalman Filter, Hungarian Algorithm, Online Tracking, Real-time Tracking, Occlusion Handling, Identity Switch Reduction, MOT16 Benchmark \\n')],\n",
       " [Document(metadata={}, page_content='File_path: Papers/Word2Vec Paper.pdf \\nThis paper introduces two novel neural network architectures, CBOW and Skip-gram, for generating continuous vector representations of words, known as word embeddings. These models outperform previous methods in accuracy and computational efficiency, allowing for the training of high-quality word vectors from massive datasets. Their effectiveness is showcased through a word similarity task, where the models successfully capture semantic and syntactic relationships between words. The paper emphasizes the ability to perform simple algebraic operations on these vectors to predict relationships between words, demonstrating their potential for semantic analysis.  Furthermore, the word vectors achieve state-of-the-art performance on a sentence completion task, surpassing previous results. The authors conclude that these architectures provide a powerful tool for representing and understanding word meaning, potentially revolutionizing natural language processing applications.\\n\\n**Keywords:** Word embeddings, continuous vector representations, word similarity, semantic relationships, syntactic relationships, CBOW, Skip-gram, neural networks, language modeling, natural language processing, distributed representations, computational efficiency, large-scale datasets, Microsoft Sentence Completion Challenge, knowledge bases, machine translation, DistBelief, Adagrad. \\n')],\n",
       " [Document(metadata={}, page_content='File_path: Papers/GANs_Paper.pdf \\n## Summary:\\n\\nThis paper introduces Generative Adversarial Networks (GANs), a novel framework for estimating generative models. GANs utilize an adversarial process involving two models: a generative model \"G\" that learns the data distribution and a discriminative model \"D\" that distinguishes between real and generated samples. The training objective for \"G\" is to maximize the probability of \"D\" making a mistake, resulting in a minimax game where \"G\" recovers the training data distribution and \"D\" becomes indistinguishable. The paper demonstrates that using multilayer perceptrons for \"G\" and \"D\" allows for efficient training with backpropagation, eliminating the need for Markov chains or approximate inference methods. The framework\\'s effectiveness is showcased through qualitative and quantitative evaluations of generated samples.\\n\\n## Keywords:\\n\\nGenerative Adversarial Networks (GANs), Generative Models, Discriminative Models, Adversarial Process, Minimax Game, Multilayer Perceptrons, Backpropagation, Training, Data Distribution, Sampling, Evaluation, Deep Learning, Markov Chains, Approximate Inference, Likelihood Estimation, Probability Density, Parzen Windows, Log-Likelihood, MNIST, Toronto Face Database (TFD), CIFAR-10, Dropout, Rectifier Linear Units (ReLUs), Maxout Activations, Stochastic Gradient Descent, Jensen-Shannon Divergence, Kullback-Leibler Divergence, Conditional Generative Models, Learned Approximate Inference, Semi-Supervised Learning, Efficiency Improvements, Deep Directed Graphical Models, Deep Undirected Graphical Models, Generative Autoencoders, Stochastic Backpropagation, Auto-Encoding Variational Bayes, Noise-Contrastive Estimation (NCE), Score Matching, Denoising Autoencoders, Contractive Autoencoders, Generative Stochastic Networks (GSNs) \\n')],\n",
       " [Document(metadata={}, page_content='File_path: Papers/Attention_is_all_you_need.pdf \\nThe Transformer is a novel neural network architecture designed for sequence transduction tasks like machine translation. It utilizes attention mechanisms to process sequences efficiently and learn long-range dependencies, eliminating the need for recurrent neural networks. The Transformer consists of an encoder and a decoder, both built with stacked self-attention and fully connected layers. The encoder maps the input sequence into a representation, while the decoder generates the output sequence based on this encoded representation. The Transformer incorporates multi-head attention, which allows the model to attend to information from various representation subspaces, and positional encoding, which provides information about the sequence order.  The Transformer achieves groundbreaking results on English-to-German and English-to-French translation tasks, surpassing even ensembles of existing models. It also demonstrates excellent generalization capabilities in English constituency parsing, outperforming previous models even with limited data. Future research directions include extending the Transformer to other tasks involving different modalities and exploring local, restricted attention mechanisms for handling large inputs and outputs.\\n\\nKeywords: Transformer, attention mechanism, multi-head attention, positional encoding, self-attention, sequence transduction, machine translation, English constituency parsing, parallelization, computational complexity, state-of-the-art. \\n')],\n",
       " [Document(metadata={}, page_content='File_path: Papers/SORT.pdf \\n## Summary:\\n\\nThis paper presents SORT, a straightforward and efficient online multiple object tracking (MOT) framework designed for real-time applications. SORT leverages the strength of convolutional neural networks (CNNs) for object detection, boosting tracking accuracy compared to conventional approaches. It integrates this with established techniques like the Kalman filter for motion estimation and the Hungarian algorithm for data association. While it avoids complex components for occlusion and re-identification, focusing on robust frame-to-frame associations, SORT achieves remarkable speed, exceeding 20 times the performance of other cutting-edge trackers. The paper demonstrates the significant influence of detection quality on tracking performance, highlighting the potential of CNN-based detectors like Faster R-CNN in improving accuracy. Despite its simplicity, SORT achieves accuracy comparable to more intricate online trackers while maintaining high speed, making it suitable for real-time applications like pedestrian tracking for autonomous vehicles. The paper emphasizes the importance of detection quality in tracking and suggests future research into tightly coupled detection and tracking frameworks.\\n\\n## Keywords:\\n\\nMultiple Object Tracking (MOT), Online Tracking, Real-time Tracking, Convolutional Neural Networks (CNNs), Detection, Kalman Filter, Hungarian Algorithm, Data Association, Faster R-CNN, SORT (Simple Online and Realtime Tracking), Efficiency, Accuracy, Speed, Pedestrian Tracking, Autonomous Vehicles \\n')],\n",
       " [Document(metadata={}, page_content='File_path: Papers/ESC201/Lecture10.pdf \\nPlease provide me with the document you would like me to summarize. I need the text of the document to be able to extract the most important information and create a summary. Once you provide the document, I can generate a concise summary, highlighting the key points and identifying relevant keywords. \\n')],\n",
       " [Document(metadata={}, page_content=\"File_path: Papers/Mask RCNN.pdf \\n## Summary:\\n\\nThis paper introduces Mask R-CNN, a state-of-the-art framework for object instance segmentation. Building upon Faster R-CNN, Mask R-CNN adds a branch for predicting object masks in addition to bounding box recognition.  The key innovations include RoIAlign, a quantization-free layer that preserves spatial locations accurately, and decoupled mask and class prediction, enabling independent binary mask prediction for each class.  Mask R-CNN demonstrates versatility by achieving impressive results in human pose estimation, treating each keypoint as a one-hot binary mask.  Extensive ablation experiments reveal the key factors contributing to Mask R-CNN's success, including backbone architecture, mask representation, RoIAlign, and mask branch design.  Mask R-CNN is fast to train and test, showcasing effectiveness and robustness on COCO and Cityscapes datasets.  The paper concludes by highlighting Mask R-CNN's potential as a flexible framework for instance-level recognition, adaptable to complex tasks.\\n\\n## Keywords:\\n\\nMask R-CNN, Instance Segmentation, Object Detection, Faster R-CNN, RoIAlign, Pixel-to-Pixel Alignment, Human Pose Estimation, COCO Dataset, Cityscapes Dataset, Multi-Task Learning, Deep Learning, Convolutional Neural Networks, Feature Pyramid Network (FPN), ResNet, ResNeXt, Non-Local Networks, Data Distillation, Ablation Experiments. \\n\")],\n",
       " [Document(metadata={}, page_content=\"File_path: Papers/StackGAN_original_paper.pdf \\n## Summary:\\n\\nStackGAN is a deep learning method for generating realistic images from text descriptions. It utilizes a stacked Generative Adversarial Network (GAN) architecture with two stages. Stage-I generates a basic sketch based on the text, while Stage-II refines this sketch, adding details and correcting errors while referencing the text again. This approach simplifies the complex task of generating high-resolution images by breaking it down into manageable sub-problems.\\n\\nStackGAN incorporates Conditioning Augmentation, a technique that introduces random variations in the conditioning data, leading to more diverse images and a more stable training process. Experiments on various datasets, including CUB, Oxford-102, and MS COCO, demonstrate StackGAN's superiority in generating photo-realistic images with intricate details and compelling object parts. It outperforms existing methods in both quantitative (inception score) and qualitative (human evaluation) metrics.\\n\\n## Keywords:\\n\\nText-to-Image Synthesis, Generative Adversarial Networks (GANs), Stacked GANs, Conditioning Augmentation, Photo-realistic Images, Image Generation, Deep Learning, Computer Vision, Inception Score, Human Evaluation, CUB, Oxford-102, MS COCO \\n\")],\n",
       " [Document(metadata={}, page_content=\"File_path: Papers/Variational Auto encoders.pdf \\nThis paper presents a novel approach called Stochastic Gradient Variational Bayes (SGVB) for efficient inference in probabilistic models with continuous latent variables. The SGVB estimator allows for easy differentiation and optimization using standard stochastic gradient techniques. For datasets with continuous latent variables per datapoint, the authors propose the Auto-Encoding Variational Bayes (AEVB) algorithm, which leverages the SGVB estimator to learn an approximate inference model, resulting in highly efficient inference and learning. AEVB employs a probabilistic encoder (recognition model) to approximate the intractable posterior distribution and a probabilistic decoder (generative model) to generate data based on the latent representation. The paper demonstrates AEVB's superior performance compared to existing methods like Wake-Sleep and Monte Carlo EM in optimizing the lower bound and estimating the marginal likelihood. Additionally, AEVB's application in visualizing high-dimensional data by projecting it onto a low-dimensional manifold is showcased.  The paper concludes by discussing future directions, including applying AEVB to deep generative architectures, time-series models, and supervised models with latent variables.\\n\\nKeywords: Stochastic Gradient Variational Bayes (SGVB), Auto-Encoding Variational Bayes (AEVB), Variational Inference, Continuous Latent Variables, Directed Probabilistic Models, Auto-Encoders, Probabilistic Encoder (Recognition Model), Probabilistic Decoder (Generative Model), Approximate Posterior Inference, Marginal Likelihood Estimation, Data Visualization, Deep Generative Architectures, Time-Series Models, Supervised Models. \\n\")],\n",
       " [Document(metadata={}, page_content='File_path: Papers/DCGAN-notes.pdf \\n## Summary:\\n\\nThis document provides an in-depth explanation of Deep Convolutional Generative Adversarial Networks (DCGANs), a powerful type of Generative Adversarial Network (GAN) that leverages deep convolutional networks to produce high-quality images. \\n\\nDCGANs consist of two main components: a Generator and a Discriminator. The Generator, responsible for creating realistic images, uses transposed convolutions, batch normalization, and activation functions like ReLU and Tanh to transform random noise into visually convincing images. The Discriminator, on the other hand, acts as a binary classifier, tasked with distinguishing between real and fake images. It employs convolutional layers, Leaky ReLU activations, and a sigmoid function to perform this task.\\n\\nThe training process for DCGANs involves an adversarial approach. The Discriminator strives to maximize its accuracy in classifying real and fake images, while the Generator aims to minimize the probability of the Discriminator correctly identifying its generated images as fake. This competitive training process leads to both networks continuously improving their capabilities. \\n\\nThis document provides a comprehensive understanding of the architecture, components, and training process of DCGANs, highlighting the key elements that enable their ability to generate realistic images. \\n\\n## Keywords: \\n\\nDCGAN, Deep Convolutional Generative Adversarial Network, GAN, Generative Adversarial Network, Generator, Discriminator, Transposed Convolution, Batch Normalization, Activation Functions, ReLU, Tanh, Leaky ReLU, Sigmoid, Adversarial Training, Discriminator Loss, Generator Loss \\n')],\n",
       " [Document(metadata={}, page_content='File_path: Papers/Image_Augmentation_IllusionCraft.pdf \\n## Summary:\\n\\nThis document discusses image augmentation techniques, vital for improving computer vision tasks by addressing challenges like diverse image variations, imbalanced datasets, domain shifts, and overfitting. It covers both traditional methods (flipping, rotating, cropping, color jittering, adding noise, image warping, random erasing) and advanced techniques (Cutout, Mixup, Cutmix, Augmix). \\n\\nTraditional methods are simple and effective, while advanced techniques generate more varied and realistic training data. Cutout helps models recognize partially or occluded objects, Mixup mitigates overfitting and provides smoother uncertainty estimates, Cutmix avoids uninformative pixels, and Augmix creates diverse randomness with a consistency loss to preserve semantic meaning. \\n\\nData augmentation significantly improves image classification and object detection models by increasing training data variability and reducing overfitting, resulting in more robust and reliable models.\\n\\n## Keywords:\\n\\nImage Augmentation, Computer Vision, Deep Learning, Image Variations, Class Imbalance, Domain Shift, Overfitting, Classical Techniques, Flipping, Rotating, Cropping, Color Jittering, Adding Noise, Image Warping, Random Erasing, Advanced Techniques, Cutout, Mixup, Cutmix, Augmix, Consistency Loss, Performance Improvement, Robustness, Uncertainty. \\n')],\n",
       " [Document(metadata={}, page_content='File_path: Papers/ESC201/Lecture12a.pdf \\nThis document provides information about a lecture titled \"Lecture 12a\" that took place on August 21, 2024 at 1:34 AM. \\n\\nKeywords: Lecture 12a, August 21, 2024, 01:34 AM \\n')],\n",
       " [Document(metadata={}, page_content='File_path: Papers/StackGAN.pdf \\n## Summary:\\n\\nStackGAN is a groundbreaking two-stage generative adversarial network (GAN) designed to create high-resolution images from text descriptions. This innovative approach utilizes a two-stage process to generate images. The first stage (Stage-I) focuses on generating low-resolution images that capture the basic shape and colors of the described object. These low-resolution images are then refined in the second stage (Stage-II) where details are added and any defects are corrected. To ensure accurate image generation, both stages use text embeddings to represent the input text description and Gaussian conditioning variables to handle variations in the meaning of the text. Stage-I uses a generator (G0) and discriminator (D0) specifically designed for this purpose. The reparameterization trick is employed to learn the conditioning variables effectively. Stage-II utilizes a matching-aware discriminator (D) for stronger alignment between the generated images and the text descriptions. The generator (G) in Stage-II employs an encoder-decoder network with residual blocks to process image and text features effectively.\\n\\n## Keywords:\\n\\nStackGAN, GAN, text-to-image synthesis, high-resolution image generation, two-stage process, low-resolution image, text embedding, Gaussian conditioning variables, reparameterization trick, text encoder, generator, discriminator, matching-aware discriminator, residual blocks, model architecture, training objectives. \\n')],\n",
       " [Document(metadata={}, page_content=\"File_path: Papers/The Power of Linear Recurrent Neural Networks.pdf \\n## Summary:\\n\\nThis paper introduces a novel approach to modeling time-dependent functions called Linear Recurrent Neural Networks (LRNNs). Unlike traditional recurrent neural networks (RNNs), LRNNs utilize linear activation functions, enabling efficient parameter learning and architecture optimization. The paper demonstrates LRNNs' effectiveness through various experiments, including modeling complex systems like multiple superimposed oscillators and robot soccer simulations, as well as predicting stock prices. \\n\\nThe key contributions of the paper include:\\n\\n* **Approximation Theorem:** LRNNs can accurately approximate any time-dependent function with a sufficient number of reservoir neurons.\\n* **Dimensionality Reduction:** LRNNs enable dimensionality reduction by analyzing the eigenvalues of the network transition matrix, selecting only the most relevant components.\\n* **Efficient Learning:** LRNNs leverage linear equation systems for learning, eliminating the need for backpropagation or gradient-descent methods.\\n\\nLRNNs exhibit unique properties, such as converging to ellipse trajectories in the state space and their ability to model diverse time-dependent functions. The paper concludes by highlighting the potential applications of LRNNs in hardware implementations for neuromorphic computing and reservoir computing, as well as future research directions in enhancing their predictive and memory capabilities.\\n\\n## Keywords: \\n\\nLinear Recurrent Neural Network (LRNN), Time Series Analysis, Approximation Theorem, Dimensionality Reduction, Network Architecture Learning, Eigenvalues, Ellipse Trajectories, Multiple Superimposed Oscillators (MSO), Robot Soccer Simulation, Stock Price Prediction, Machine Learning, Neuromorphic Computing, Reservoir Computing, Backpropagation, Gradient Descent, Linear Algebra, Matrix Analysis. \\n\")],\n",
       " [Document(metadata={}, page_content='File_path: Papers/ESC201/Lecture5.pdf \\nPlease provide me with the document you want me to summarize. I need the text of the document to be able to extract the important points and keywords. \\n')],\n",
       " [Document(metadata={}, page_content='File_path: Papers/Mismatching_images___Keeping_a_check_on_the_generator (1).pdf \\nThis document focuses on the use of \"mismatched images\" in the Stage1 model of a StackGAN, a type of conditional Generative Adversarial Network (GAN) that generates images based on text descriptions. By introducing mismatched image-text pairs as negative examples during training, the discriminator is forced to learn to identify correctly aligned image-text pairs, leading to improved image-text alignment and higher quality generated images. This technique effectively leverages negative examples to enhance the training process. \\n\\n**Keywords:** mismatched images, StackGAN, discriminator, training, text embeddings, image-text alignment, conditional GANs, negative examples \\n')],\n",
       " [Document(metadata={}, page_content='File_path: Papers/ESC201/Lecture9b.pdf \\nPlease provide me with the document you want me to summarize. I need the content of the document to be able to extract the important points and generate keywords. \\n')],\n",
       " [Document(metadata={}, page_content=\"File_path: Papers/ESC201/Lecture22.pdf \\nPlease provide me with the document you would like me to summarize. I need the actual text of the document to be able to extract the important points and generate a summary. \\n\\nOnce you provide the document, I can:\\n\\n1. **Summarize the entire document:** I will capture the most important information in a concise and clear manner, focusing on the key takeaways.\\n2. **Extract keywords:** I will identify the most relevant terms and concepts within the document, ensuring they reflect the essential content.\\n\\nI'm ready to help you analyze and understand your document! \\n\")],\n",
       " [Document(metadata={}, page_content='File_path: Papers/ESC201/Lecture12b.pdf \\nThis document, \"ESC201: Introduction to Electronics\" by Dr. Imon Mondal, serves as a fundamental introduction to digital logic and Boolean algebra. It lays the groundwork for understanding digital circuits and systems by covering essential concepts like logic gates (AND, OR, NOT, NAND, NOR, XOR) and their truth tables. The document explores the implementation of these gates using NMOS transistors and highlights the importance of universal gates (NAND and NOR) in constructing complex circuits.\\n\\nThe document delves into Boolean operators and postulates, including DeMorgan\\'s theorem, which aids in simplifying logical expressions. It explains binary addition and subtraction, illustrating how these operations are performed using logic gates. The document introduces half-adders and full-adders as fundamental components for constructing multi-bit adders and subtractors, addressing the potential issue of overflow and its consequences.\\n\\nFinally, the document emphasizes the modular approach to digital system design, showcasing the utilization of pre-designed subsystems like adders, decoders, encoders, multiplexers, demultiplexers, and comparators to build more complex circuits.\\n\\n**Keywords:** Logic Gates, Boolean Algebra, AND, OR, NOT, NAND, NOR, XOR, Truth Table, Universal Gates, DeMorgan\\'s Theorem, Binary Addition, Half Adder, Full Adder, Multi-bit Adder, Subtractor, Overflow, Modular Approach, Digital Design, System Design. \\n')],\n",
       " [Document(metadata={}, page_content=\"File_path: Papers/ESC201/Lecture13.pdf \\nThis document provides a comprehensive introduction to digital system design using Boolean expressions and truth tables. It covers fundamental concepts like Boolean expressions, truth tables, Sum of Products (SOP), and Product of Sum (POS) forms, and emphasizes a modular approach to design. The document explores subsystems like adders, subtractors, decoders, encoders, multiplexers, demultiplexers, and comparators. It delves into adder design, including half and full adders, multi-bit adders, overflow detection, and subtraction using 2's complement representation. The document also introduces multiplexers (MUX) and their applications in resource sharing. It further explores decoders, their functionality, and their use in vending machines and term generation for SOP expressions. The document explains how to implement functions using decoders and how to build bigger decoders from smaller ones. Finally, it explores demultiplexers and their relationship to decoders.\\n\\nKeywords: Boolean Expressions, Truth Tables, Sum of Products (SOP), Product of Sum (POS), Modular Approach, Digital Design, Adder, Subtractor, Decoder, Encoder, Multiplexer, Demultiplexer, Half Adder, Full Adder, Overflow, 2's Complement, MUX, De-Mux, System Description, Truth Table, Boolean Expression, Minimized Boolean Expression, Gate Netlist, System Modular Approach, Binary Addition, Half Adder, Full Adder, Multi-bit Adder, Addition/Subtraction Computation, Overflow, 4-bit Adder, 4-bit Subtractor, 4-bit Adder and Subtractor, Multiplexers (MUX), Bigger Multiplexers, Bigger MUX from Smaller MUX, Bigger MUX from Smaller MUX with Enable, Implementation of a Function using Mux, Mux Applications, Decoders, Decoders with ‘Enable’ input, Decoders in Vending Machine, Term Generator for SOP Expression of a Function, Implementation of a Function using Decoders, Bigger Decoders, De-Multiplexer, De-Mux vs Decoder. \\n\")],\n",
       " [Document(metadata={}, page_content=\"File_path: Papers/Mamba.pdf \\n## Summary:\\n\\nMamba is a novel linear-time sequence modeling architecture that overcomes the computational limitations of Transformers while achieving comparable or even superior performance in language, audio, and genomics. Its key innovation is a selection mechanism that allows input-dependent structured state space model (SSM) parameters, enabling content-based reasoning and selective information propagation or forgetting. This addresses a major limitation of prior SSMs. Mamba leverages a hardware-aware algorithm to tackle the computational challenges of time-varying SSMs.\\n\\nMamba offers several advantages:\\n\\n* **Linear scaling in sequence length:** Enables fast inference and training, scaling linearly with the sequence length.\\n* **High quality:** Achieves state-of-the-art performance on various modalities, particularly on dense modalities like language and genomics.\\n* **Long context:** Excels in modeling long sequences, even exceeding million-length sequences.\\n\\nEmpirical evaluations demonstrate Mamba's capabilities:\\n\\n* **Synthetic tasks:** Solves tasks like selective copying and induction heads, exhibiting strong generalization and extrapolation abilities to million-length sequences.\\n* **Language modeling:** Matches the performance of Transformers twice its size, both in pretraining and downstream evaluations, achieving a 5x generation throughput compared to Transformers of similar size.\\n* **Genomics:** Outperforms existing models in pretraining and downstream tasks, demonstrating its ability to model long-range dependencies in DNA sequences.\\n* **Audio:** Surpasses prior state-of-the-art models in autoregressive audio modeling and speech generation, achieving significant improvements in quality and fidelity.\\n\\nThe paper explores the properties of selection mechanisms, highlighting their connection to RNN gating mechanisms and their ability to filter out irrelevant information and compress context. \\n\\n**Keywords:** Mamba, Selective Structured State Space Model (SSM), Linear-time Sequence Modeling, Transformer, Attention, Selection Mechanism, Hardware-aware Algorithm, Language Modeling, Genomics, Audio, Speech Generation, Long Context, Scaling Laws, Gating Mechanism, In-context Learning, Foundation Models. \\n\")],\n",
       " [Document(metadata={}, page_content='File_path: Papers/ESC201/Lecture15.pdf \\nThis lecture note focuses on simplifying Boolean expressions using Karnaugh Maps (K-maps) in an introductory electronics course. K-maps are a graphical representation that helps minimize the number of product terms and literals in a Sum of Products (SOP) expression. The lecture covers simplification principles, including the strategic use of \"don\\'t care\" terms, and introduces decimal encoding using Binary Coded Decimal (BCD) and encoders, which are the inverse of decoders.\\n\\nKeywords: Boolean expression, simplification, Karnaugh map, K-map, SOP, product terms, literals, truth table, minimization, don\\'t care terms, decimal encoding, BCD, encoder, decoder \\n')],\n",
       " [Document(metadata={}, page_content=\"File_path: Papers/ESC201/Lecture8.pdf \\n## Summary:\\n\\nThis document provides a comprehensive guide to various number systems, including decimal, octal, hexadecimal, and binary. It delves into the concept of base or radix, explaining how it determines the symbols used in each system. The document highlights positional notation, emphasizing the role of digit position in determining its value. \\n\\nThe document presents methods for converting between these number systems, covering:\\n* **Decimal to binary conversion:** using successive division by 2 and successive multiplication by 2.\\n* **Decimal to octal conversion:** using successive division by 8.\\n* **Decimal to hexadecimal conversion:** using successive division by 16.\\n* **Binary to decimal conversion.**\\n\\nThe document also explores binary arithmetic operations, including addition and subtraction, and introduces the concept of complements (9's, 10's, 1's, and 2's complements).\\n\\n## Keywords:\\n\\nNumber systems, Decimal, Octal, Hexadecimal, Binary, Base, Radix, Positional notation, Conversion, Decimal to binary, Decimal to octal, Decimal to hexadecimal, Binary to decimal, Binary addition, Binary subtraction, Complement, 9's complement, 10's complement, 1's complement, 2's complement. \\n\")],\n",
       " [Document(metadata={}, page_content='File_path: Papers/ESC201/Lecture18.pdf \\nThis lecture by Dr. Imon Mondal focuses on synchronous clocked sequential circuits, a type of circuit that utilizes memory elements like flip-flops (FFs) to store information and relies on past inputs and outputs. The lecture covers the fundamental concepts of sequential circuits, including their dependence on past inputs and outputs, the role of memory, and the use of flip-flops (FFs) for storing information. It analyzes a specific sequential circuit with two FFs, demonstrating how the circuit transitions between states based on input changes and how the output reacts to input in each state. The analysis includes a state transition table and a state transition graph. Finally, the lecture outlines the design process for sequential circuits, covering the synthesis of combinational circuits, the selection of FFs, and state encoding. It includes examples of designing sequential circuits using different types of FFs (D FF, JK FF) and demonstrates the design of a sequence detector. \\n\\nKeywords: Sequential Circuits, Synchronous Clocked Sequential Circuits, Flip-flops (FFs), Combinational Circuits, Memory, Clock, State, State Transition Table, State Transition Graph, Design of Sequential Circuits, State Encoding, Sequence Detector, Input Stream, D FF, JK FF \\n')],\n",
       " [Document(metadata={}, page_content=\"File_path: Papers/ESC201/Lecture9.pdf \\nThis document explains how to represent numbers in binary form, focusing on the 1's complement and 2's complement systems. It details how to calculate these complements and emphasizes the advantages of using 2's complement for subtraction operations. The document demonstrates how subtraction can be achieved using a binary adder by converting the subtrahend into its 2's complement and performing addition. It also discusses the use of a sign bit to represent positive and negative numbers and compares the signed magnitude, 1's complement, and 2's complement representations for various decimal numbers. Finally, the document introduces the fundamental concepts of Boolean algebra, defining basic operations like AND, OR, and NOT with their corresponding truth tables.\\n\\nKeywords: Binary number, 1's complement, 2's complement, subtraction, binary adder, carry output, signed magnitude, sign bit, Boolean algebra, AND, OR, NOT, truth table. \\n\")],\n",
       " [Document(metadata={}, page_content='File_path: Papers/ESC201/Lecture19.pdf \\nThis document comprehensively explores synchronous clocked sequential circuits, a fundamental building block in digital design. It delves into their core concepts, including the role of flip-flops in information storage and state transitions, the synchronized operation driven by clock signals, and the analysis and design methods for these circuits. It then focuses on practical applications, showcasing the construction and operation of various counter types such as binary up counters, counters with enable and asynchronous reset, decade counters, 4-bit up-down counters, and counters with unused states.  The document also examines ripple counters, both up and down, highlighting their unique characteristics.  The document emphasizes the crucial role of flip-flops in storing information and influencing the next state, as well as the importance of clock signals for synchronizing circuit operation.\\n\\nKeywords: Sequential Circuits, Synchronous Clocked Sequential Circuits, Flip-flops (FFs), State Transition Table, State Transition Graph, State Diagram, State Table, Combinational Circuit, Sequence Detector, Counters, Binary Up Counter, Counter with Enable, Counter with Asynchronous Reset, Decade Counter, 4-bit Up-Down Counter, Counter with Unused States, Ripple Counter, Ripple Up Counter, Ripple Down Counter, Clock Signal, Memory, Input, Output, Next State, Present State, Design, Analysis, Synthesis \\n')],\n",
       " [Document(metadata={}, page_content=\"File_path: Papers/ESC201/Lecture6_7.pdf \\n## Summary:\\n\\nThis document provides a comprehensive overview of Thevenin Equivalents and its application in circuit analysis, especially for circuits containing non-linear elements like diodes. It begins by explaining Thevenin's theorem which simplifies complex linear circuits into a voltage source (VTH) and a series resistor (RTH). The document then delves into the characteristics of diodes, emphasizing their unidirectional current flow from anode to cathode. It explores different diode models, including the ideal model and more realistic models incorporating a constant voltage drop (VF) or a series resistance (rf). The internal structure of a PN junction diode is discussed, along with the impact of built-in voltage and applied bias on its behavior. Various circuit analysis methods for circuits containing diodes are presented, such as approximate diode models and the self-consistent analysis method. The document further introduces Zener diodes, which are specifically designed to exhibit a breakdown phenomenon, allowing significant reverse current flow at a specific voltage (VZ). A piecewise linear model for the Zener diode is presented, considering its forward bias and breakdown regions. This document is crucial for understanding circuit analysis involving diodes and Zener diodes, offering a thorough introduction to their properties, models, and analysis methods.\\n\\n## Keywords:\\n\\nThevenin Equivalent, Linear Circuits, Non-Linear Circuits, Diodes, PN Junction Diode, Forward Bias, Reverse Bias, Ideal Diode Model, Constant Voltage Drop, Series Resistance, Circuit Analysis, Self-Consistent Analysis, Zener Diode, Breakdown Phenomenon, Voltage Regulation,  \\n\")],\n",
       " [Document(metadata={}, page_content=\"File_path: Papers/ESO201/Lecture 1.pdf \\nThis document provides a comprehensive overview of thermodynamics, covering fundamental concepts like work, heat, and the first and second laws. It delves into how these concepts relate to energy transfer, internal energy, and process efficiency, determining the direction of processes. By combining the first and second laws, the document enables the estimation of maximum work extraction, calculation of device efficiency, and establishes relationships between thermodynamic properties like pressure, temperature, volume, and composition. The document concludes with an explanation of pressure as a statistical mechanical property, highlighting its application in hydraulic lifts through Pascal's Law.\\n\\nKeywords: Thermodynamics, Work, Heat, First Law, Second Law, Internal Energy, Efficiency, Pressure, Pascal's Law, Mechanical Equilibrium, Hydraulic Lift, Heat Transfer, Mechanical Work, Non-Mechanical Work, Temperature, Volume, Composition, Phase, Equilibrium \\n\")],\n",
       " [Document(metadata={}, page_content='File_path: Papers/ESO201/Lecture 13.pdf \\nThis document delves into the concept of irreversibility in thermodynamics, focusing on the second law of thermodynamics and its implications for heat engines and refrigerators. Irreversible processes, driven by factors like friction and heat transfer due to temperature differences, always proceed in one direction. The second law dictates that heat cannot spontaneously flow from a cold body to a hot body, defining the direction of natural processes.\\n\\nHeat engines, devices converting heat into work, utilize a working fluid undergoing a cyclic process. The second law mandates that even in ideal conditions, heat engines must reject some heat to a low-temperature reservoir, resulting in a thermal efficiency always less than 1. The Kelvin-Planck statement of the second law emphasizes the necessity of rejecting heat to a lower-temperature reservoir by stating that no device operating in a cycle can absorb heat from a single reservoir and produce a net amount of work.\\n\\nRefrigerators, devices transferring heat from a low-temperature reservoir to a high-temperature reservoir using work input, operate on the vapor compression refrigeration cycle. Their efficiency is measured by the coefficient of performance (COP), representing the ratio of heat transferred to work input.\\n\\nThe Clausius statement of the second law, another equivalent expression of the second law, prohibits devices operating in a cycle from solely transferring heat from a low-temperature body to a higher-temperature body, aligning with the observed direction of heat transfer.\\n\\nThe Kelvin-Planck and Clausius statements are equivalent expressions of the second law of thermodynamics, meaning that violating one automatically violates the other.\\n\\n**Keywords:** Irreversible processes, second law of thermodynamics, heat engines, thermal efficiency, Kelvin-Planck statement, refrigerators, coefficient of performance (COP), Clausius statement, equivalence of statements, natural processes, friction, heat transfer, working fluid, cyclic process, thermal energy reservoirs, source, sink, power plant. \\n')],\n",
       " [Document(metadata={}, page_content='File_path: Papers/ESO201/Lecture 11.pdf \\nThis document delves into the application of the First Law of Thermodynamics to control volumes under steady-flow conditions, focusing on its relevance to various flow equipment like pumps, compressors, diffusers, and nozzles. It explains the concept of control volume, steady-flow, and the First Law itself, emphasizing the principle of energy conservation. The document simplifies the First Law for steady-flow, considering changes in enthalpy, kinetic energy, potential energy, heat transfer, and work done. It provides examples of how the First Law applies to specific flow equipment, including nozzles, diffusers, compressors, and turbines. The document highlights practical applications in jet engine design, illustrating how diffusers slow down air for efficient combustion, and in steam turbine design, analyzing energy transfer during steam expansion and its interaction with turbine blades. \\n\\nKeywords: Control Volume, Steady-Flow, First Law of Thermodynamics, Nozzles, Diffusers, Compressors, Turbines, Mass Flow Rate, Enthalpy, Kinetic Energy, Potential Energy, Heat Transfer, Work, Jet Engine, Steam Turbine \\n')],\n",
       " [Document(metadata={}, page_content='File_path: Papers/ESC201/Lecture20_21.pdf \\nThis document outlines the file naming convention for a lecture titled \"Lecture 20-21\" that was held on September 9, 2024 at 00:13. \\n\\nKeywords: Lecture 20-21, September 9, 2024, 00:13, file naming convention, lecture \\n')],\n",
       " [Document(metadata={}, page_content='File_path: Papers/ESC201/Lecture16.pdf \\n## Summary:\\n\\nThis document, part of a lecture series on \"Introduction to Electronics\" by Dr. Imon Mondal at IIT Kanpur, introduces the fundamental concepts of digital circuits, focusing specifically on sequential circuits. Unlike combinational circuits that only rely on present inputs, sequential circuits incorporate memory elements and consider past input/output states. The document delves into the SR latch, a basic memory element capable of storing one bit of information. The SR latch can be in one of two states, controlled by set and reset inputs. The document illustrates the set, reset, and hold states of the SR latch using NOR and NAND gate implementations. The document then explores potential issues with invalid inputs and gate delays in SR latches, highlighting their impact on output unpredictability. It contrasts the behavior of NOR-based and NAND-based SR latches, emphasizing the specific invalid input conditions for each. Finally, the document introduces an SR latch with enable, allowing for controlled operation through an additional input. This enables the latch to operate in a hold state when the enable input is low, and to be set, reset, or hold based on the S and R inputs when the enable input is high.\\n\\n## Keywords:\\n\\nDigital circuits, Combinational circuits, Sequential circuits, SR latch, Set, Reset, Hold, NOR gate, NAND gate, Invalid input, Gate delays, Enable input, Memory element, Storage element \\n')],\n",
       " [Document(metadata={}, page_content='File_path: Papers/ESO201/Chem Thermo 2.pdf \\nThis document offers a thorough explanation of chemical thermodynamics, covering essential concepts like heat capacity, work, entropy, and Gibbs free energy. It delves into the first and second laws of thermodynamics, highlighting the role of entropy in predicting the spontaneity of processes and reactions. The document also explores the third law of thermodynamics and its application in entropy calculations. Additionally, it examines Gibbs free energy, its connection to enthalpy and entropy, and its role in determining the spontaneity of reactions. The document further discusses various types of processes including isothermal, adiabatic, isochoric, and isobaric processes.\\n\\n**Keywords:** Heat capacity, specific heat capacity, molar heat capacity, reversible process, irreversible process, work, isothermal process, adiabatic process, isochoric process, isobaric process, enthalpy, internal energy, first law of thermodynamics, second law of thermodynamics, entropy, spontaneity, Gibbs free energy, third law of thermodynamics, phase change, mixing of gases, equilibrium, reaction quotient. \\n')],\n",
       " [Document(metadata={}, page_content='File_path: Papers/ESC201/Lecture17.pdf \\nThis lecture provides a comprehensive introduction to digital circuits, focusing on the fundamental differences between combinational and sequential circuits. Combinational circuits produce outputs based solely on current inputs, while sequential circuits take into account both current inputs and past input/output values, relying on memory elements. The lecture dives deep into the SR latch, a basic memory unit built using NOR or NAND gates, illustrating its two states (set and reset) and the impact of input signals (S and R). The concept of an enable signal for latches is introduced, leading to the D latch, which operates in a \"transparent\" mode when the enable signal is high. The lecture then transitions to sequential circuits, emphasizing their reliance on memory elements and clocked operation. The D flip-flop, a fundamental building block for sequential circuits, is presented, allowing for the storage of one bit of information. The lecture concludes by discussing synchronous clocked sequential circuits, where the entire operation is synchronized by a clock signal, showcasing the intricate relationship between input, state, and output in these circuits.\\n\\nKeywords: Combinational Circuits, Sequential Circuits, Digital Circuits, SR Latch, NOR Gate, NAND Gate, Memory, Enable Signal, D Latch, D Flip Flop, Clock, Synchronous Clocked Sequential Circuits, State, Input, Output. \\n')],\n",
       " [Document(metadata={}, page_content='File_path: Papers/ESO201/Lecture 10.pdf \\nThis document provides a comprehensive explanation of the first law of thermodynamics for both control masses and control volumes. It defines the rate form of the first law for a control mass, emphasizing the role of internal, kinetic, and potential energy. The document then breaks down the first law equation, explaining components like heat transfer rate, work done by the control mass, and total energy per unit mass. The concept of flow work, work done by the control mass due to pressure, is introduced using a pressure cooker example. Work is categorized into non-flow work (including shaft, moving boundary, and non-mechanical work) and flow work. The document derives the first law for a control volume using Reynolds transport theorem, simplifying the equation for a control surface perpendicular to the flow direction. A simplified expression for the first law for a control volume is provided assuming constant properties across the control surface. Finally, the document applies the first law for a control volume to the pressure cooker example, calculating energy loss associated with exiting steam and utilizing these values to obtain the final result.\\n\\n**Keywords:** First law of thermodynamics, control mass, control volume, total energy, internal energy, kinetic energy, potential energy, heat transfer rate, work done, flow work, non-flow work, Reynolds transport theorem, pressure cooker, steam, energy loss. \\n')],\n",
       " [Document(metadata={}, page_content='File_path: Papers/ESC201/Lecture11.pdf \\nThis document is a placeholder for a lecture scheduled for August 19, 2024, at 00:07. \\n\\nKeywords: Lecture, August 19, 2024, 00:07 \\n')],\n",
       " [Document(metadata={}, page_content='File_path: Papers/ESO201/Lecture 5.pdf \\n## Summary:\\n\\nThis document explains the P-v diagram, a graphical representation of pressure (P) versus specific volume (v) for a substance, illustrating phase changes. It explores decompression stages for water at constant temperature, covering compressed liquid to saturated liquid, saturated liquid to saturated vapor, and saturated vapor to superheated vapor. The document also discusses various phase transitions, including sublimation, liquid-solid equilibrium, and the triple point.\\n\\nThe document then introduces the P-v-T surface, a three-dimensional representation of phase changes, considering substances that contract or expand upon freezing. It highlights applications of phase change processes, such as heat pipes for cooling, cryogenic applications, cooling using latent heat of evaporation, and human body temperature regulation through sweating.\\n\\nFinally, the document defines internal energy (U) as the sum of kinetic (K.E.) and potential (P.E.) energy of atoms and molecules, exploring different forms of kinetic energy and their impact on specific heat. \\n\\n**Keywords:** P-v diagram, phase change, decompression, saturated liquid, saturated vapor, superheated vapor, sublimation, triple point, P-v-T surface, heat pipe, cryogenic applications, cooling applications, sweating, internal energy, kinetic energy, potential energy, specific heat. \\n')],\n",
       " [Document(metadata={}, page_content='File_path: Papers/ESO201/Chem Thermo 1.pdf \\n## Summary:\\n\\nThis document provides a comprehensive overview of fundamental concepts in chemical thermodynamics, focusing on predicting the spontaneity of chemical reactions and processes. It begins by introducing internal energy, its relationship to heat transfer, work, and matter exchange, and the first law of thermodynamics, which states that the energy of an isolated system remains constant. \\n\\nThe document explores pressure-volume work, relevant for gases, and the concept of reversible processes involving infinitesimal changes in pressure and volume. It then delves into heat capacity, the amount of heat required to raise the temperature of a system, distinguishing between specific and molar heat capacities. \\n\\nThe document introduces entropy, a thermodynamic state function representing the randomness or disorder of a system, highlighting factors that affect it, such as randomness, heat absorption, temperature, volume, and molecular complexity. The third law of thermodynamics, stating that the entropy of a perfectly crystalline substance is zero at absolute zero, is also discussed. \\n\\nThe document explores spontaneity, the tendency of a process to occur naturally. It explains that spontaneity is governed by a decrease in energy (exothermic reactions) and an increase in entropy, with both factors needing to be considered simultaneously.\\n\\nThe document introduces Gibbs free energy (G = H - TS), where H is enthalpy, T is temperature, and S is entropy. It explains that Gibbs free energy change (ΔG) provides a direct measure of spontaneity: a negative ΔG indicates a spontaneous process, a positive ΔG indicates a non-spontaneous process, and a ΔG of zero signifies equilibrium.\\n\\nFinally, the document discusses the equilibrium constant (K_eq), a measure of the extent to which a reaction proceeds to completion at equilibrium. The document explains that the magnitude of ΔG° (standard Gibbs free energy change) determines the value of K_eq. A large K_eq indicates a reaction that favors product formation, while a small K_eq indicates a reaction that favors reactant formation. \\n\\n## Keywords:\\n\\nInternal Energy, Work, Heat Capacity, Entropy, Gibbs Free Energy, Spontaneity, Equilibrium Constant, First Law of Thermodynamics, Second Law of Thermodynamics, Third Law of Thermodynamics, Reversible Process, Irreversible Process, Exothermic, Endothermic, Enthalpy, Temperature, Pressure, Volume, Reaction Quotient, Standard Conditions, Standard Gibbs Free Energy of Formation, Phase Transition, Absolute Entropy. \\n')],\n",
       " [Document(metadata={}, page_content='File_path: Papers/ESO201/Lecture 14.pdf \\nThis document explores the significance of reversible processes in thermodynamics, particularly in contrast to real-world irreversible processes. It examines the theoretical Carnot cycle, composed of four reversible stages: isothermal expansion, adiabatic expansion, isothermal compression, and adiabatic compression. Each process is detailed, and a pressure-volume diagram illustrates the cycle. The document also investigates the reversed Carnot cycle, which operates in reverse, consuming work and transferring heat from a low-temperature reservoir to a high-temperature reservoir.\\n\\nThe document then introduces the Carnot principles, based on the Second Law of Thermodynamics, which state that irreversible heat engines are always less efficient than reversible ones operating between the same reservoirs, and that all reversible heat engines operating between the same reservoirs have identical efficiency. The first Carnot principle is proven by demonstrating that violating it would contradict the Kelvin-Planck statement.\\n\\nThe document further introduces the thermodynamic temperature scale, based on the Second Law of Thermodynamics, which defines temperature as the ratio of heat absorbed and rejected by a reversible heat engine. This scale is also known as the Kelvin scale.\\n\\nFinally, the document discusses the thermal efficiency of a Carnot heat engine and the coefficients of performance for a Carnot refrigerator and Carnot heat pump, highlighting the crucial role of reversible processes in maximizing the efficiency of thermodynamic systems.\\n\\n**Keywords:** Reversible processes, Irreversible processes, Carnot cycle, Isothermal expansion, Adiabatic expansion, Isothermal compression, Adiabatic compression, Reversed Carnot cycle, Carnot principles, Second Law of Thermodynamics, Kelvin-Planck statement, Thermodynamic temperature scale, Kelvin scale, Thermal efficiency, Carnot heat engine, Carnot refrigerator, Carnot heat pump. \\n')],\n",
       " [Document(metadata={}, page_content='File_path: Papers/ESO201/Lecture 16.pdf \\nThis document provides a comprehensive explanation of entropy change in thermodynamic systems, focusing on pure substances and ideal gases. It explores the Clausius equation, which describes entropy change during quasi-static irreversible processes, emphasizing the importance of internal equilibrium and uniform temperature. The document then introduces the \"Increase of entropy principle,\" a fundamental statement of the Second Law of Thermodynamics, highlighting the increase of entropy during irreversible processes and its constancy during reversible processes in isolated systems. The Gibbs equation is presented, linking changes in internal energy to changes in entropy and volume, even for non-quasi-static processes. The document further explores calculating entropy changes between equilibrium states of a pure substance using equations for enthalpy and entropy, considering heat transfer in both quasi-static and non-quasi-static processes. Finally, it discusses specific entropy changes of ideal gases, utilizing simplified expressions assuming constant specific heat and rigorous methods employing ideal gas property tables. The document demonstrates calculating entropy changes using different paths through the zero pressure or infinite specific volume limits, emphasizing the state function nature of entropy. \\n\\nKeywords: Entropy, Clausius equation, quasi-static, irreversible process, internal equilibrium, uniform temperature, Increase of entropy principle, isolated system, Gibbs equation, enthalpy, specific heat, ideal gas, property tables, zero pressure limit, infinite specific volume. \\n')],\n",
       " [Document(metadata={}, page_content='File_path: Papers/ESO201/Lecture 18.pdf \\n## Summary:\\n\\nThis document provides a comprehensive exploration of entropy changes in various thermodynamic systems, including liquids, solids, ideal gases, and adiabatic processes. It begins by deriving the ideal gas equation through the Carnot cycle, defining temperature based on the isotherm equation. Entropy changes in liquids and solids are approximated using a simplified formula, assuming constant specific volume and average specific heat. \\n\\nThe document then delves into entropy changes in adiabatic processes, applying the Clausius equation and considering the surroundings. It further examines entropy changes over time, defining rates of heat transfer, entropy increase, and entropy generation. \\n\\nThe document also analyzes the rate of entropy change for a control mass and a control volume, utilizing the Reynolds transport theorem. It emphasizes that the rate of entropy generation is positive for irreversible processes and zero for reversible processes. \\n\\n**Keywords:** Entropy change, liquids, solids, ideal gas, adiabatic process, Clausius equation, Carnot cycle, rate processes, control mass, control volume, Reynolds transport theorem, irreversible process, reversible process, entropy generation, thermal energy reservoir, heat transfer, temperature, specific heat, specific volume, specific entropy, mass density, rate of change, quasi-static process, internal equilibrium, surroundings, system, inlet, outlet, control surface, steady-flow. \\n')],\n",
       " [Document(metadata={}, page_content='File_path: Papers/ESO201/Lecture 12.pdf \\nThis document explores the application of mass and energy balance equations to unsteady flow problems in thermodynamics, specifically focusing on a tank being filled with steam. It delves into concepts like throttling valves, mixing chambers, and heat exchangers, emphasizing the importance of defining a suitable control volume for analysis. By applying uniform flow assumptions, the document analyzes the steam flow and determines the final temperature of the steam inside the tank. The analysis reveals that the steam inside the tank reaches a higher temperature compared to the steam in the supply line due to the work done in pushing the steam into the tank, highlighting the impact of energy transfer on temperature changes.\\n\\nKeywords: Unsteady flow, Mass balance, Energy balance, Control volume, Uniform flow assumptions, Throttling valve, Mixing chamber, Heat exchanger, Steam, Temperature, Tank, Inlet, Outlet, First law of thermodynamics. \\n')],\n",
       " [Document(metadata={}, page_content='File_path: Papers/ESO201/Lecture 9.pdf \\n## Summary:\\n\\nThis document provides a comprehensive overview of key concepts in thermodynamics and fluid mechanics. It starts by explaining the polytropic process, demonstrating its practical application through a helium compression example. The document then delves into heat transfer principles, analyzing the amount of ice needed to cool a glass of water.\\n\\nThe document introduces the Reynolds Transport Theorem, a fundamental concept in fluid mechanics, which relates the rate of change of a property within a control volume to the rate of change of that property within a control mass. It also discusses the principle of mass balance, emphasizing that the rate of change of mass within a control volume is equal to the net mass flow rate. The document underscores the importance of selecting an appropriate control volume for simplified calculations.\\n\\nThe document differentiates between steady and unsteady flow problems, defining steady flow as a scenario where the mass within the control volume remains constant over time. It provides illustrative examples of both steady and unsteady flow problems, showcasing the practical applications of these concepts.\\n\\n## Keywords:\\n\\nPolytropic process, heat loss, work done, internal energy, first law of thermodynamics, specific heat capacity, heat of fusion, Reynolds Transport Theorem, control volume, control mass, mass balance, steady flow, unsteady flow. \\n')],\n",
       " [Document(metadata={}, page_content='File_path: Papers/MSO notes/Lecture5.pdf \\nPlease provide me with the document you want me to summarize. I need the text of the document to be able to identify the important points and extract keywords. \\n')],\n",
       " [Document(metadata={}, page_content=\"File_path: Papers/ESO201/Lecture 7.pdf \\nThis document explores the cooling effect of evaporation from water surfaces, contrasting it with boiling. It examines the behavior of water vapor as an ideal gas and explores deviations from ideality at higher pressures and near saturation, introducing various equations of state like Van der Waals, Beattie-Bridgemann, and Benedict-Webb-Rubin to account for these deviations. \\n\\nThe document then delves into Joule's experiment, demonstrating the independence of internal energy from volume for ideal gases, leading to the concept of specific heats. It examines the relationships between specific heats for ideal gases and introduces zero-pressure specific heats, providing their values for various gases and their temperature dependence. Finally, the document outlines methods for calculating changes in internal energy and enthalpy using tabulated specific heat data.\\n\\nKeywords: Temperature difference, evaporation, cooling, boiling, ideal gas, equation of state, Van der Waals, Beattie-Bridgemann, Benedict-Webb-Rubin, Joule's experiment, specific heats, zero-pressure specific heats, internal energy, enthalpy. \\n\")],\n",
       " [Document(metadata={}, page_content='File_path: Papers/ESO201/Lecture 4.pdf \\nThis document comprehensively explores the behavior of pure substances, focusing on their properties and changes under various conditions. It begins by defining a pure substance and examining its three phases: solid, liquid, and gas. The document then delves into the properties of gases, emphasizing their dependence on temperature and pressure.\\n\\nThe document introduces the state postulate, which dictates that two independent intensive variables (like temperature and pressure) completely define the state of a pure substance. It then explores the equation of state, a fundamental relationship between specific volume, temperature, and pressure. The ideal gas model, a simplified representation that assumes negligible intermolecular interactions, is also presented.\\n\\nThe document further examines the compressibility factor (Z), which quantifies the deviation of real gases from ideal gas behavior. It introduces the principle of corresponding states, which suggests that gases exhibit similar Z values at the same reduced temperature and pressure.\\n\\nThe document then transitions to the expansion of a pure substance, applying the first law of thermodynamics to analyze the energy balance during expansion processes. It distinguishes between slow and fast expansion processes and emphasizes the importance of pressure changes.\\n\\nFocusing on water, the document explores its constant pressure expansion from liquid to vapor, introducing the concept of saturation temperature (Tsat) and its dependence on pressure. It illustrates the T-v plot of water, highlighting the critical point and different regions of the plot.\\n\\nThe document then introduces property tables for water, including saturated water, superheated water, and compressed liquid water, providing a comprehensive overview of their properties. It clarifies the reference state used for these tables and explains the significance of various properties like enthalpy and entropy.\\n\\nFinally, the document concludes by examining the mixture of saturated liquid and saturated vapor, defining the dryness fraction (quality) and its significance in calculating specific properties of the mixture.\\n\\nKeywords: Pure substance, phase, state postulate, equation of state, ideal gas, compressibility factor, principle of corresponding states, expansion process, first law of thermodynamics, water, saturation temperature, critical point, property tables, enthalpy, entropy, dryness fraction. \\n')],\n",
       " [Document(metadata={}, page_content='File_path: Papers/ESO201/Lecture 8.pdf \\n## Summary:\\n\\nThis document delves into the dynamics of gas expansion and compression under conditions of mechanical equilibrium, specifically focusing on quasi-equilibrium processes where the system maintains internal equilibrium throughout, ensuring thermal equilibrium at all times. The document introduces the polytropic process, a quasi-static process characterized by constant energy transfer ratio and specific heat ratio, and examines specific cases such as isothermal and adiabatic expansion/compression. The document further explores the specific heats of solids and liquids, emphasizing their near-incompressibility and the resulting near-equality of specific heats at constant pressure and constant volume. Illustrative examples are provided to demonstrate the application of these concepts in real-world scenarios. \\n\\n**Keywords:** Slow expansion/compression, mechanical equilibrium, quasi-equilibrium process, polytropic process, isothermal expansion/compression, adiabatic expansion/compression, specific heats, solids, liquids, example problems, piston-cylinder device, work, heat transfer, internal energy. \\n')],\n",
       " [Document(metadata={}, page_content='File_path: Papers/ESO201/Property tables and charts.pdf \\nThis document is a comprehensive resource for thermodynamic properties of various substances, including gases, liquids, solids, and even foods. It provides detailed property tables and charts encompassing a wide range of parameters, such as molar mass, gas constant, critical point properties, ideal gas specific heats, density, specific heat, latent heat of vaporization, and latent heat of fusion. The document covers specific properties of water in various states (saturated, superheated, compressed liquid, and ice-water vapor) and refrigerant-134a. It also includes visual representations of thermodynamic properties through T-s, Mollier, and P-h diagrams for water and refrigerant-134a, as well as a Nelson-Obert generalized compressibility chart. The document further presents tables for ideal gas properties of common gases like air, nitrogen, oxygen, carbon dioxide, carbon monoxide, hydrogen, water vapor, monatomic oxygen, and hydroxyl. Finally, it concludes with tables for enthalpy of formation, Gibbs function of formation, and absolute entropy at standard conditions, along with generalized enthalpy and entropy departure charts.\\n\\nKeywords: Property tables, charts, substances, gases, liquids, solids, foods, molar mass, gas constant, critical point properties, ideal gas specific heats, density, specific heat, latent heat of vaporization, latent heat of fusion, saturated water, superheated water, compressed liquid water, saturated ice-water vapor, saturated refrigerant-134a, T-s diagram, Mollier diagram, P-h diagram, Nelson-Obert generalized compressibility chart, ideal gas properties, air, nitrogen, oxygen, carbon dioxide, carbon monoxide, hydrogen, water vapor, monatomic oxygen, hydroxyl, enthalpy of formation, Gibbs function of formation, absolute entropy, generalized enthalpy departure chart, generalized entropy departure chart. \\n')],\n",
       " [Document(metadata={}, page_content=\"File_path: Papers/ESO201/Lecture 3.pdf \\nThis document provides a comprehensive explanation of internal energy, its relationship to the first law of thermodynamics, and its applications. It defines internal energy as the energy associated with the microscopic components of a system, excluding external forces. The state postulate is introduced, stating that two independent variables are sufficient to determine all other properties for a simple compressible system. Joule's experiments are highlighted, proving the equivalence of different energy forms in changing internal energy and establishing it as a state function.\\n\\nThe first law of thermodynamics is introduced, initially for adiabatic processes, where work done on the system equals the change in internal energy. This law is then generalized to encompass heat transfer and changes in kinetic and potential energy. The document explains heat transfer and its relationship to internal energy changes, emphasizing that both heat transfer and work are path-dependent.\\n\\nThe document further explores the calculation of work due to volume changes, particularly for slow expansion processes. Two illustrative examples demonstrate applying the first law of thermodynamics: an object falling through a height and the acceleration of air by a fan. These examples showcase the universality of the first law, regardless of system definition or external forces.\\n\\n**Keywords:** Internal energy, state postulate, Joule's experiments, adiabatic process, first law of thermodynamics, heat transfer, work, state function, path-dependent, volume change, kinetic energy, potential energy, control mass, system, equilibrium states. \\n\")],\n",
       " [Document(metadata={}, page_content=\"File_path: Papers/ESO201/Lecture 17.pdf \\n## Summary:\\n\\nThis document delves into the concept of isoentropic processes, which are reversible adiabatic processes where entropy remains constant. It focuses on ideal gases and explores both scenarios: constant and variable specific heats.  For ideal gases with constant specific heats, equations linking temperature, pressure, and volume are derived using the ratio of specific heats 'k' and the ideal gas equation of state. For variable specific heats, a more rigorous approach is presented utilizing relative pressure (Pr) and relative volume (vr) concepts. The document also provides methods for calculating pressure ratios using relative pressures from property tables.\\n\\nFurther, the document examines specific entropy changes for water and R-134a, utilizing property tables and defined reference states. An approximation for specific entropy of compressed liquids is presented. The document emphasizes the use of the T-S (temperature vs. entropy) diagram to visually understand thermodynamic processes. For quasi-static processes, the area under the curve on a T-S diagram represents heat absorbed by the system. The document includes a T-S diagram of the Carnot cycle, illustrating how the area under the curve corresponds to heat absorbed or rejected depending on the entropy change.\\n\\n## Keywords:\\n\\nIsoentropic process, adiabatic process, entropy, ideal gas, specific heats, constant specific heats, variable specific heats, relative pressure, relative volume, property tables, water, R-134a, specific entropy, T-S diagram, quasi-static process, Carnot cycle. \\n\")],\n",
       " [Document(metadata={}, page_content='File_path: Papers/MSO notes/Lecture6_7.pdf \\nThis lecture covers fundamental electronics concepts, focusing on simplifying circuits with **Thevenin Equivalent**, understanding the behavior of **Diodes**, and utilizing **Zener Diodes** for voltage regulation.  The Thevenin Equivalent replaces complex circuits with a voltage source and series resistor, calculated using open circuit voltage, short circuit current, and Thevenin resistance. Diodes are non-linear devices acting as one-way conductors, modeled with piecewise linear approximations.  Ideal diodes are perfect switches, while real diodes have constant voltage drops and series resistance. Zener diodes exhibit breakdown at a specific voltage, allowing current flow in reverse bias, making them suitable for voltage regulation. Their behavior is also approximated by piecewise linear models with forward, breakdown, and reverse bias regions.\\n\\nKeywords: Thevenin Equivalent, Open Circuit Voltage, Short Circuit Current, Thevenin Resistance, Diode, Ideal Diode, Constant Voltage Drop, Series Resistance, Zener Diode, Breakdown Voltage, Piecewise Linear Model, Forward Bias, Reverse Bias, Breakdown Region \\n')],\n",
       " [Document(metadata={}, page_content=\"File_path: Papers/ESO201/Lecture 19_0.pdf \\nThis document delves into the thermodynamics of adiabatic steady-flow equipment, specifically turbines, compressors, pumps, and nozzles. It introduces the concept of isentropic efficiency, which measures the performance of these devices against their ideal, reversible counterparts. The document leverages the first law of thermodynamics to analyze adiabatic steady-flow processes, deriving equations for entropy change and defining isentropic efficiency for each device. It highlights the difference between actual and ideal work outputs/inputs due to irreversibilities like friction. The document also emphasizes the use of Mollier diagrams and the importance of the state postulate in determining the state of the fluid in each device. \\n\\nKeywords: Adiabatic steady-flow equipment, Isentropic efficiency, Turbine, Compressor, Pump, Nozzle, First law of thermodynamics, Entropy, Enthalpy, Bernoulli's equation, Mollier diagram, Irreversibility, Friction, State postulate, Intensive variables, Work output, Work input, Kinetic energy, Potential energy, Specific volume, Outlet pressure, Inlet conditions, Cengel and Boles, 8th Edition, 2015, IIT Kanpur, ESO201A, Thermodynamics, Lecture 19. \\n\")],\n",
       " [Document(metadata={}, page_content=\"File_path: Papers/MSO notes/MSO202Lect1.pdf \\nThis document outlines the structure and content of the complex analysis course MSO202A, taught by Dr. G. P. Kapoor. The course introduces complex numbers, covering their representation in Cartesian and polar forms, essential properties like magnitude and argument, De Moivre's Theorem, and the concept of principal value. It also explores the field properties of complex numbers, emphasizing their lack of ordering. The course is evaluated through quizzes and a final exam, utilizing multiple textbooks and supplementary materials.\\n\\nKeywords: Complex Analysis, Complex Numbers, Cartesian Representation, Polar Representation, De Moivre's Theorem, Argument, Principal Value, Ordered Field, Course Structure, Evaluation, Textbooks, Reference Books, Supplementary Materials, Quizzes, Final Exam, Dr. G. P. Kapoor, MSO202A. \\n\")],\n",
       " [Document(metadata={}, page_content='File_path: Papers/ESO201/Lecture 6.pdf \\n## Summary:\\n\\nThis document delves into the concept of potential energy (P.E.) and its various forms: intermolecular, intramolecular, and intra-atomic. It explores how these forms influence physical properties and processes, including phase transitions, dissolution, chemical reactions, and nuclear fission. \\n\\n**Intermolecular P.E.** plays a crucial role in phase changes, such as liquid to vapor, as well as in processes like dissolution, osmosis, and reverse osmosis. **Intramolecular P.E.** is significant during chemical reactions, including combustion and methane reforming. **Intra-atomic P.E.** is involved in nuclear fission.\\n\\nThe document further examines the properties of compressed liquids and provides an approximation method for calculating their enthalpy. It defines relative humidity and highlights its impact on thermal comfort and environmental processes, such as drying and precipitation.\\n\\n**Keywords:** Potential Energy, Intermolecular P.E., Intramolecular P.E., Intra-atomic P.E., Phase Changes, Dissolution, Osmosis, Reverse Osmosis, Chemical Reactions, Combustion, Reforming, Nuclear Fission, Compressed Liquids, Relative Humidity, Thermal Comfort, Precipitation. \\n')],\n",
       " [Document(metadata={}, page_content='File_path: Papers/ESO201/Lecture 2.pdf \\n## Summary:\\n\\nThis document introduces fundamental concepts in thermodynamics, focusing on temperature, thermal equilibrium, density, specific volume, and energy transfer mechanisms. It defines temperature as a measure of the average kinetic energy of particles within a system, and explains the Zeroth Law of Thermodynamics, which states that systems in thermal equilibrium with a third system are also in equilibrium with each other.  Thermal equilibrium is achieved when systems in contact reach a shared temperature, with no further observable changes. The document discusses various temperature scales, including Celsius, Fahrenheit, Kelvin, and Rankine, and defines density and specific volume as crucial quantities describing the relationship between mass and volume within a system.\\n\\nThe document distinguishes between intensive properties, such as temperature and pressure, which are independent of system size, and extensive properties, such as mass and volume, which depend on system size. It defines equilibrium state as a condition where all macroscopic driving forces are balanced, resulting in no observable changes. Different types of equilibria, including mechanical, thermal, and chemical equilibrium, are explored.\\n\\nThe document defines systems based on their boundaries, which separate them from their surroundings. Closed systems allow energy exchange but not mass exchange, while open systems allow both. Isolated systems do not allow any exchange of mass or energy. Energy transfer by heat occurs due to temperature differences between systems and can occur through conduction, convection, and radiation. \\n\\nAdiabatic processes involve energy transfer solely through work, with no heat transfer. The concept of internal energy and the first law of thermodynamics emerged from careful work measurements in adiabatic processes.\\n\\n**Keywords:** Temperature, Thermal Equilibrium, Zeroth Law of Thermodynamics, Temperature Scales, Density, Specific Volume, Intensive and Extensive Properties, Equilibrium State, Mechanical, Thermal, and Chemical Equilibrium, Systems (Closed, Open, Isolated), Energy Transfer by Heat, Conduction, Convection, Radiation, Adiabatic Process, Internal Energy, First Law of Thermodynamics. \\n')],\n",
       " [Document(metadata={}, page_content=\"File_path: Papers/ESO201/Lecture 15.pdf \\nThis document delves into the concept of entropy, a thermodynamic property signifying a system's energy change due to heat transfer. It defines entropy through integration of infinitesimal heat absorbed during reversible processes and establishes its status as a state function, dependent solely on the initial and final states, not the path taken. The document achieves this by employing the Carnot cycle and extending its principles to encompass all reversible cycles.\\n\\nThe document then explores the implications of entropy for irreversible processes, demonstrating that entropy invariably increases in adiabatic irreversible processes while remaining constant in adiabatic reversible ones. This aligns with the Kelvin-Planck and Clausius statements of the second law of thermodynamics.\\n\\nFurthermore, the document applies the Clausius equation for entropy to quasi-static irreversible processes, arguing that for such processes, the heat transferred equals that in a reversible process between the same states. This enables the calculation of entropy changes in quasi-static irreversible processes using the Clausius equation.\\n\\n**Keywords:** Entropy, Second Law of Thermodynamics, Carnot Cycle, Reversible Process, Irreversible Process, Adiabatic Process, Quasi-static Process, Clausius Equation, Kelvin-Planck Statement, State Function, Internal Equilibrium, Thermal Energy Reservoir \\n\")],\n",
       " [Document(metadata={}, page_content='File_path: Papers/ESO201/Lecture 19.pdf \\nThis document investigates the maximum work attainable in a thermodynamic process between two states. It analyzes a closed system with fixed mass, exploring the relationship between heat absorption, work done, and entropy changes. The key finding is that reversible processes maximize work output, while irreversible processes result in less work due to entropy increase. The Clausius equation is applied to relate heat absorption to entropy change, even for irreversible processes. The document further analyzes adiabatic steady-flow equipment, deriving the entropy balance equation and examining reversible-adiabatic (isoentropic) processes. This analysis leads to a simplified equation resembling the Bernoulli equation in specific cases.\\n\\n**Keywords:** Maximum work, Reversible process, Irreversible process, Entropy, Clausius equation, Adiabatic steady-flow equipment, Entropy balance, Reversible-adiabatic process, Isoentropic process, Bernoulli equation. \\n')],\n",
       " [Document(metadata={}, page_content=\"File_path: Papers/MSO notes/MSO202Lect14.pdf \\nThis document focuses on evaluating integrals using the powerful method of residues. It covers three types: integrals with infinite limits, Fourier integrals, and Fourier integrals with singularities along the real axis. The document thoroughly explains how to utilize the method of residues, employing fundamental concepts like Cauchy's Theorem, Jordan's Lemma, and the Cauchy Principal Value. Illustrative examples are included to demonstrate these techniques.\\n\\nKeywords: Integrals, Method of residues, Cauchy Principal Value, Jordan's Lemma, Fourier Integrals, Singularities, Residues, Upper half-plane, Contour integration, Cauchy's Theorem, Jordan's inequality, Analytic functions, Even functions, Odd functions, Complex analysis. \\n\")],\n",
       " [Document(metadata={}, page_content='File_path: Papers/MSO notes/MSO202Lect2.pdf \\nThis document provides an introduction to complex analysis with a focus on the geometric interpretation of complex numbers. It explains how complex numbers can represent points and regions in the complex plane and how they can be used to describe geometric shapes. The document also covers key concepts related to sets in the complex plane, including definitions of interior points, exterior points, open sets, connected sets, and domains. It further explores the convergence of sequences of complex numbers and defines continuity, differentiability, and analyticity for complex functions. \\n\\nKeywords: Complex Numbers, Geometric Interpretation, Half-Plane, Ellipse, Hyperbola, Annulus, Interior Point, Exterior Point, Open Set, Connected Set, Domain, Convergent Sequence, Continuous Function, Differentiable Function, Analytic Function \\n')],\n",
       " [Document(metadata={}, page_content=\"File_path: Papers/MSO notes/MSO202Lect6.pdf \\n## Summary:\\n\\nThis document examines the radius of convergence for power series, demonstrating its connection to the ratio of consecutive terms. A theorem is presented for calculating the radius of convergence using the limit of this ratio, with an example illustrating its application. The document also investigates the radius of convergence for the product of power series, specifically the Hadamard and Cauchy products. It proves that the radius of convergence for the Hadamard product is at least the minimum of the individual series' radii of convergence, and demonstrates that the radius of convergence for the Cauchy product is equal to this minimum. \\n\\nThe document then introduces complex integration, defining it as the limit of a sum of products of the function and differences in curve points. It establishes its equivalence to the integral of the function's parametric representation and explores the properties of complex integration, including changes in curve direction, multiplication by constants, addition of integrals, and the union of curves. The document also presents the ML-Estimate of the integral, providing an upper bound for the integral as the product of the function's maximum value and the curve's length, and illustrates this estimate with an example for a specific integral along a line segment.\\n\\n## Keywords:\\n\\nRadius of Convergence, Power Series, Ratio of Consecutive Terms, Hadamard Product, Cauchy Product, Complex Integration, ML-Estimate, Parametric Representation, Continuous Curve, Line Segment, Limit, Theorem, Proof, Properties, Example \\n\")],\n",
       " [Document(metadata={}, page_content=\"File_path: Papers/MSO notes/MSO202Lect10.pdf \\n## Summary:\\n\\nThis document focuses on the Maximum Modulus Theorem and its related concepts in complex analysis. It establishes that an analytic function defined on a domain cannot attain its maximum value within the domain unless it's a constant function. This principle extends to compact sets, where the maximum value is achieved on the boundary. The document also delves into the Minimum Modulus Principle, a consequence of the Maximum Modulus Theorem, stating that a non-zero analytic function cannot reach its minimum value within the domain unless it's constant. The Schwarz Lemma offers bounds for analytic functions within a disk, given boundedness and a zero at the origin. The document provides proofs, examples, and applications of these theorems and lemmas, utilizing Cauchy's Integral Formula and other fundamental concepts.\\n\\n**Keywords:** Maximum Modulus Theorem, Analytic Function, Domain, Compact Set, Boundary, Minimum Modulus Principle, Schwarz Lemma, Cauchy Integral Formula, Proposition, Proof, Example, Bounded Function, Constant Function, Derivative, Absolute Value, Interior Point, Unbounded Domain, Linear Transformation, Power Series, Circle, Radius, Interval, Continuous Function, Integral. \\n\")],\n",
       " [Document(metadata={}, page_content=\"File_path: Papers/MSO notes/MSO202Lect11.pdf \\nThis document analyzes isolated singularities of complex functions through the lens of Laurent's Theorem. Laurent's Theorem allows for the expansion of a function within an annulus centered around a singularity using a Laurent series. The document categorizes singularities into three types: removable, pole, and essential, based on the behavior of the coefficients of the negative power terms in the Laurent series. It explores the connection between boundedness of a function near a singularity and its removability, proving a proposition that establishes this connection. An example demonstrates the application of Laurent's Theorem by finding the Laurent series expansion of a function across different regions in the complex plane. \\n\\nKeywords: Singularities, Isolated singularity, Laurent's Theorem, Laurent series, Principal part, Removable singularity, Pole, Essential singularity, Boundedness, Limit, Cauchy's Theorem, Cauchy's Integral Formula, Annulus, Taylor series. \\n\")],\n",
       " [Document(metadata={}, page_content='File_path: Papers/MSO notes/MSO202Lect12.pdf \\nThis document focuses on the behavior of complex functions near singularities, particularly poles and essential singularities. It introduces the concept of residues, which are essential for calculating complex integrals involving functions with singularities. The document defines key terms like poles, essential singularities, and residues, explaining their relationship to Laurent series expansions. The Cauchy Residue Theorem, a powerful tool for evaluating complex integrals with functions exhibiting singularities, is also explained. \\n\\nKeywords: Pole, Essential Singularity, Residue, Laurent Series, Cauchy Residue Theorem, Complex Integral, Singularities, Removable Singularity, Analytic Function, Isolated Singularity, Non-Isolated Singularity, Limit, Neighbourhood, Coefficient, Contour, Curve, Domain. \\n')],\n",
       " [Document(metadata={}, page_content='File_path: Papers/MSO notes/MSO202Lect5.pdf \\nThis document delves into the theory of power series, focusing on their convergence properties and the crucial role of the radius of convergence in defining their convergence region. It starts by defining a power series as a series of the form ∑_(n=0)^∞ a_n (z - z_0)^n, where a_n are complex coefficients and z_0 is the center. The document then introduces the concepts of lim sup and lim inf of a sequence, proving propositions that relate them to subsequences and the existence of limits. These concepts are crucial for determining the radius of convergence (R) of a power series, defined as R = 1 / lim sup_(n→∞) |a_n|^(1/n).\\n\\nTwo key theorems are presented: Theorem 1 establishes the relationship between the radius of convergence and the convergence of the power series. It states that the series converges absolutely within the disk |z - z_0| < R, does not converge outside the disk |z - z_0| > R, and converges uniformly within any closed disk |z - z_0| ≤ ρ < R. Theorem 2 proves that the function represented by a power series is analytic within its disk of convergence. It states that the radius of convergence remains the same after differentiating the power series k times, the function is infinitely differentiable within the disk of convergence, and the k-th derivative of the function is given by the k-th derivative of the power series. The document concludes with a detailed proof of Theorem 2. \\n\\n**Keywords:** Power Series, Radius of Convergence, Convergence, Absolute Convergence, Uniform Convergence, Lim Sup, Lim Inf, Analytic Function, Differentiation, Disk of Convergence, Coefficients, Center, Subsequences, Limit Points. \\n')],\n",
       " [Document(metadata={}, page_content='File_path: Papers/MSO notes/MSO202M_Endsem_Y22.pdf \\nPlease provide me with the document you would like me to summarize. I need the actual text of the document to be able to extract the important information and keywords. \\n')],\n",
       " [Document(metadata={}, page_content=\"File_path: Papers/MSO notes/MSO202Lect4.pdf \\nThis document explores the properties and relationships of logarithmic, exponential, trigonometric, and hyperbolic functions in the context of complex analysis. It delves into the concept of analytic functions, which are functions that satisfy the Cauchy-Riemann equations, and their connection to harmonic functions. The document examines methods for finding harmonic conjugates, functions that satisfy the Cauchy-Riemann equations alongside a given harmonic function, including integration techniques and specific methods for homogeneous functions. Key concepts covered include analytic functions, Cauchy-Riemann equations, harmonic functions, Laplace's equation, and homogeneous functions.\\n\\nKeywords: Logarithmic function, exponential function, trigonometric functions, hyperbolic functions, complex analysis, analytic function, Cauchy-Riemann equations, harmonic conjugate, harmonic function, Laplace's equation, Milne-Thompson method, homogeneous function, Euler's formula. \\n\")],\n",
       " [Document(metadata={}, page_content=\"File_path: Papers/MSO notes/MSO202Lect7.pdf \\nThis document provides a comprehensive exploration of Cauchy's Theorem in complex analysis, covering its proof, applications, and extensions. It starts by defining key concepts like simple, closed, and piecewise smooth curves, establishing the foundation for the theorem's statement and proof. The document then presents a rigorous proof of Cauchy's Theorem for analytic functions with continuous derivatives, leveraging Green's Theorem and the Cauchy-Riemann equations to demonstrate that the integral of such a function over a closed curve vanishes.\\n\\nMoving beyond simple domains, the document extends Cauchy's Theorem to encompass multiply connected domains, proving that the integral of an analytic function over the boundary of such a domain is equal to the sum of integrals over the boundaries of the holes within the domain.\\n\\nThe document concludes by introducing the Cauchy Integral Formula, a powerful tool that calculates the value of an analytic function at a point within a domain using an integral over the domain's boundary. The proof of this formula relies on Cauchy's Theorem for multiply connected domains and the ML-estimate for integrals.\\n\\n**Keywords:** Cauchy's Theorem, Simple curve, Closed curve, Piecewise smooth curve, Green's Theorem, Cauchy-Riemann equations, Multiply connected domain, Cauchy Integral Formula, ML-estimate, Analytic function, Complex analysis, Integral, Boundary, Domain, Hole. \\n\")],\n",
       " [Document(metadata={}, page_content=\"File_path: Papers/MSO notes/MSO202Lect15.pdf \\n## Summary:\\n\\nThis document delves into the analysis of complex functions within specific regions using the Argument Principle and Rouche's Theorem. The Argument Principle connects the change in argument of a function along a closed contour to the difference between its zeros and poles within that contour.  This principle relies on the winding number, which measures the number of times the function's image of the contour encircles the origin. Rouche's Theorem provides a method for determining the number of zeros of a complex function within a contour by comparing its magnitude to another function along the boundary. The document emphasizes essential concepts like analytic functions, contours, zeros, poles, multiplicity, residues, and winding numbers, highlighting their roles in understanding complex functions. It includes examples demonstrating the application of these principles and exercises for practice.\\n\\n## Keywords:\\n\\nAnalytic function, Argument Principle, Closed contour, Complex function, Poles, Zeros, Multiplicity, Residue, Winding number, Rouche's Theorem, Image curve, Parametric representation, Counterclockwise orientation. \\n\")],\n",
       " [Document(metadata={}, page_content=\"File_path: Papers/MSO notes/MSO202Lect8.pdf \\n## Document Summary:\\n\\nThis document delves into the crucial concept of Taylor series and its applications within complex analysis. It establishes the foundation with Taylor's Theorem, demonstrating that every analytic function can be represented as a power series, known as the Taylor series. The document proves this theorem through the utilization of Cauchy's Integral Formula and the Cauchy Theorem for Multiply Connected Domains. \\n\\nFurthermore, it explores the uniqueness of the Taylor series representation and its validity within the largest open disk centered at a point 'a' that lies within the domain of analyticity. The document examines key deductions from Taylor's Theorem, including propositions on the relationship between power series and Taylor series, bounds for coefficients, Liouville's Theorem, the Fundamental Theorem of Algebra, and the behavior of entire functions. \\n\\nIt also introduces the Complex Variable Boundary Element Method, a computational method utilizing Cauchy's Integral Formula for nth derivatives. This document provides a comprehensive understanding of Taylor series, its properties, and its applications within the realm of complex analysis. \\n\\n## Keywords:\\n\\nTaylor's Theorem, Analytic function, Power series, Taylor series, Cauchy's Integral Formula, Cauchy Theorem for Multiply Connected Domains, Cauchy's Estimate, Liouville's Theorem, Fundamental Theorem of Algebra, Entire function, Complex Variable Boundary Element Method, Radius of convergence, Complex zeros, Multiplicity, Derivatives, Proposition 1, Proposition 2, Proposition 3, Proposition 4, Proposition 5. \\n\")],\n",
       " [Document(metadata={}, page_content=\"File_path: Papers/MSO notes/MSO202Lect3.pdf \\nThis document explores the concept of differentiability in complex analysis, focusing on the relationship between differentiability and the existence of partial derivatives. It introduces the Cauchy-Riemann equations, both in Cartesian and polar forms, as a tool for determining differentiability. The document connects differentiability with harmonic functions, which satisfy Laplace's equation, and explores the relationship between harmonic functions and the real and imaginary parts of complex differentiable functions.  The document also examines the properties of the logarithmic function, particularly its principal branch, including continuity and mapping characteristics. Examples and exercises are provided throughout to solidify the understanding of the concepts presented.\\n\\nKeywords: Differentiable function, Cauchy-Riemann equations, harmonic function, Laplacian, complex analysis, logarithmic function, principal branch, domain, continuity, partial derivatives, polar coordinates, Cartesian coordinates, Laplace's equation, steady state temperatures, wave theory, two-dimensional electrostatics, fluid flow, robotics. \\n\")],\n",
       " [Document(metadata={}, page_content='File_path: Papers/ESC201/PYQ/1820448fe9c9eaac0b9d32f1384599b7c8fab6b5697e7748eafba52c66470b96_Midsem sol_to_showw.pdf \\n## Summary:\\n\\nThis document details the midsemester exam for ESC201: Introduction to Electronics. The exam covers fundamental electronic circuit concepts and device analysis through five questions. \\n\\n**Question 1** assesses understanding of linearity and equivalent resistance. **Question 2** analyzes RC circuits, including input and output signal behavior and circuit response to switch changes. **Question 3** examines AC circuits, specifically the response of an RC filter to a composite input signal. **Question 4** involves analyzing a circuit with two diodes, calculating voltage across a resistor and current through each diode. **Question 5** focuses on a transistor circuit, determining voltage and current gain, and exploring its ability to provide bias and amplification for a small signal.\\n\\nThe exam emphasizes clear justifications, step-by-step solutions, and proper labeling of axes and parameters in any plots.\\n\\n## Keywords: \\n\\nESC201, Introduction to Electronics, Midsemester Exam, Linearity, Equivalent Resistance, RC Circuit, Input Signal, Output Signal, Switch Change, AC Circuit, RC Filter, Composite Input Signal, Diode, Cut-in Voltage, Transistor, Voltage Gain, Current Gain, Bias, Amplification, Small Signal, Frequency, Peak-to-Peak Voltage. \\n')],\n",
       " [Document(metadata={}, page_content='File_path: Papers/ESC201/PYQ/Lec14_MOSFET_I-V_characteristics.pdf \\nThis document provides a comprehensive overview of Metal-Oxide-Semiconductor Field-Effect Transistors (MOSFETs), focusing on their current-voltage (I-V) characteristics. It explains the fundamental structure of MOSFETs, including the inversion layer, heavily-doped regions, and the four-terminal device configuration. The document then systematically explores the three distinct operating regimes of MOSFETs: cut-off, linear (triode), and saturation, analyzing the relationship between drain current (Id), gate-to-source voltage (VGS), and drain-to-source voltage (VDS). \\n\\nThe document further discusses the concept of channel debiasing and its impact on current saturation. It also explains the influence of backgate voltage (VBS) on threshold voltage (VT) and introduces the backgate effect parameter (γn). Practical examples are provided, including using MOSFETs as voltage-controlled resistors and experimentally determining the backgate effect parameter. Finally, a homework problem is included to reinforce the understanding of drain current calculation in different operating regimes.\\n\\nKeywords: MOSFET, I-V characteristics, inversion layer, heavily-doped regions, four-terminal device, body voltage, n-channel, p-channel, drain current (Id), gate-to-source voltage (VGS), drain-to-source voltage (VDS), threshold voltage (VT), cut-off region, linear region, saturation region, channel debiasing, backgate voltage (VBS), backgate effect parameter (γn), sheet resistance, voltage-controlled resistor, layout design, folded MOSFET, experimental determination, homework problem. \\n')],\n",
       " [Document(metadata={}, page_content=\"File_path: Papers/ESC201/PYQ/Midsem sol_to_showw.pdf \\nThis document details the midsemester exam for ESC201: Introduction to Electronics, held on September 19, 2023. The exam focuses on assessing students' understanding of fundamental electronics concepts through five questions.  The exam covers a range of topics, including analyzing circuit behavior, determining linearity, calculating equivalent resistance, analyzing RC circuits and their frequency response, understanding diode characteristics, and exploring transistor operation.  Students are tested on their ability to analyze V-I characteristics, apply time and frequency domain techniques,  analyze circuits with multiple frequencies, and calculate voltage and current gain in transistor circuits.  The exam also assesses their understanding of bias techniques and how to achieve specific amplification gain with different transistor models.\\n\\n\\nKeywords: Electronics, Midsemester Exam, V-I Characteristics, Linearity, Resistor, RC Circuit, Input Signal, Output Signal, Switch, Frequency, Diode, Transistor, Voltage Gain, Current Gain, Bias, Amplification, Cut-in Voltage, Semiconductor, Silicon, Germanium, Circuit Analysis, Time Domain, Frequency Domain. \\n\")],\n",
       " [Document(metadata={}, page_content='File_path: Papers/MSO notes/MSO202Lect13.pdf \\n## Summary:\\n\\nThis document delves into the concept of residues in complex analysis, emphasizing the residue at infinity and its role in evaluating integrals. It defines the residue at infinity as the negative coefficient of the z term in the Laurent expansion of f(1/z) around z=0. The document establishes a relationship between the sum of residues at finite singularities and the residue at infinity. \\n\\nVarious methods for calculating residues are explored, including techniques for simple poles and higher-order poles, with illustrative examples. The document demonstrates the application of the residue theorem to evaluate real integrals of the form ∫(0 to 2π) R(cos θ, sin θ) dθ, where R is a rational function, by transforming them into complex integrals and computing the residues of the corresponding complex function.\\n\\n**Keywords:** Residue, Residue at Infinity, Laurent Series, Simple Pole, Pole of Order m, Cauchy Residue Theorem, Real Integral, Complex Integral, Rational Function, Analytic Function, Singularity \\n')],\n",
       " [Document(metadata={}, page_content=\"File_path: Papers/MSO notes/MSO202Lect9.pdf \\nThis document examines the concept of line integrals independent of path within the realm of complex analysis. It explores the relationship between simply connected domains, analytic functions, and the independence of path. Key results include a theorem stating that the line integral of an analytic function within a simply connected domain is independent of the path taken. Morera's Theorem, a converse to Cauchy's Theorem, is also discussed, asserting that a continuous function with a line integral of 0 for every closed curve in a simply connected domain is analytic. The document also delves into the isolated nature of zeros of analytic functions.\\n\\nKeywords: Line integral, Independent of path, Simply connected domain, Analytic function, Morera's Theorem, Cauchy Theorem, Zeros of analytic functions, Isolated zeros, Taylor series, Continuity, Differentiability. \\n\")],\n",
       " [Document(metadata={}, page_content=\"File_path: Papers/ESC201/PYQ/Midsem 2020 II.pdf \\nThis document presents solutions to eight electronics problems, primarily focusing on circuit analysis and transfer functions. The problems cover various circuit configurations involving resistors, capacitors, and inductors, as well as voltage sources. The document explores a range of circuit analysis techniques including Thevenin's theorem, superposition theorem, Kirchhoff's voltage law, and mesh analysis. It delves into the behavior of RC and RLC circuits, encompassing charging and discharging of capacitors, the concept of maximum power transfer, and Bode plot analysis of transfer functions.\\n\\nKeywords: Electronics, Circuit, Capacitor, Voltage, Time constant, Charging, Discharging, Thevenin's theorem, Maximum power transfer, Superposition theorem, Mesh currents, Kirchhoff's voltage law, RC circuit, RLC circuit, Impedance, Bode plot, Transfer function, Corner frequency \\n\")],\n",
       " [Document(metadata={}, page_content='File_path: Papers/ESC201/PYQ/Midsem 2020 I.pdf \\nThis document serves as a repository of questions and solutions for the \"Introduction to Electronics\" (ESC201T) course. It covers essential circuit analysis topics, including basic circuit analysis, capacitor and inductor behavior, AC circuit analysis, circuit parameters, and diode circuits. The solutions often include detailed explanations.\\n\\n**Keywords:** Circuit analysis, Thevenin\\'s theorem, power dissipation, capacitors, inductors, time constant, Bode plot, frequency response, filter, source transformation, transfer function, phasor, Z-parameters, h-parameters, diode circuits, sinusoidal steady-state, quiz, exam, solution, ESC201T, Introduction to Electronics. \\n')],\n",
       " [Document(metadata={}, page_content='File_path: Papers/ESO201/thermo_solution_8thedi.pdf \\nThis document is a solutions manual for the textbook \"Thermodynamics: An Engineering Approach\" by Yunus A. Cengel and Michael A. Boles, covering Chapters 1 and 2. It provides comprehensive solutions to problems related to fundamental thermodynamic concepts, energy transfer, and energy analysis for closed and open systems. The manual covers a wide range of topics including the First Law of Thermodynamics, energy conversion efficiencies, energy and environmental concerns, mechanisms of heat transfer, closed system energy analysis, control volume mass and energy analysis, compressor and turbine operations, nozzle and diffuser dynamics, throttling valve applications, mixing chambers and heat exchangers, pipe and duct flow, charging and discharging processes, thermodynamic cycles like Carnot, Otto, and Diesel cycles, refrigeration cycles, combined cycles, exergy analysis, compressible flow, stagnation properties, speed of sound, Mach number, one-dimensional isentropic flow, shock waves, expansion waves, Rayleigh flow, steam nozzles, and FE exam problems. The document utilizes EES software for complex problems and provides numerous solved problems, explanations of common mistakes, and practical tips for improving the efficiency of various thermodynamic systems.\\n\\nKeywords: Thermodynamics, Solutions Manual, Chapter 1, Introduction, Basic Concepts, Chapter 2, Energy, Energy Transfer, General Energy Analysis, Classical vs. Statistical Thermodynamics, Conservation of Energy Principle, Mass, Force, Units, Gravitational Acceleration, Weight, Density, Specific Gravity, Temperature, Pressure, Absolute vs. Gage Pressure, Manometer, Barometer, Systems, Properties, State, Processes, Closed System, Open System, Intensive Property, Extensive Property, State, Process, Quasi-equilibrium Process, Isothermal, Isobaric, Isochoric Processes, Forms of Energy, Total Energy, Kinetic Energy, Potential Energy, Internal Energy, Thermal Energy, Mechanical Energy, Energy Transfer by Heat and Work, Heat, Work, Mechanical Forms of Work, Shaft Work, Spring Work, Boundary Work, The First Law of Thermodynamics, Energy Conversion Efficiencies, Pump Efficiency, Turbine Efficiency, Generator Efficiency, Energy and Environment, Environmental Pollution, Greenhouse Effect, Global Warming, Smog, Acid Rain, Mechanisms of Heat Transfer, Conduction, Convection, Radiation, Blackbody, Emissivity, Absorptivity, Compressibility Factor, Ideal Gas, Reduced Pressure, Reduced Temperature, Boundary Work, Isothermal Process, Polytropic Process, Isentropic Process, Adiabatic Process, Closed System, Control Volume, Steady-Flow Process, Unsteady-Flow Process, Mass Flow Rate, Volume Flow Rate, Flow Work, Enthalpy, Specific Heat, Internal Energy, Kinetic Energy, Potential Energy, Metabolizable Energy, Basal Metabolic Rate, Body Mass Index (BMI), Compressor, Turbine, Nozzle, Diffuser, Throttling Valve, Mixing Chamber, Heat Exchanger, Pipe Flow, Duct Flow, Charging, Discharging, Heat Transfer, Work, Enthalpy, Internal Energy, Specific Heat, Specific Volume, Temperature, Pressure, Velocity, Mass Flow Rate, Volume Flow Rate, Quality, Efficiency, EES Software, Ideal Gas, Incompressible Fluid, Air, Steam, Refrigerant, Water, Helium, Nitrogen, Oxygen, Combustion Gases, Geothermal Water, Electronic Devices, Air Conditioning, Ventilation, Infiltration, Exfiltration, Heat Loss, Heat Gain, Power, Flow Work, Boundary Work, Heat of Vaporization, Heat of Hydration, Specific Heat Ratio, Immersion Chilling, Regeneration, Aftercooler, Turbocharger, Flash Chamber, Separator, Air Bag, Showerhead, Heat Exchanger Effectiveness, Air Ballast Tank, Submarine, Electric Resistance Heater, Power Rating, Average Velocity, Draining Time, Air Changes per Hour (ACH), Productivity, Respiratory Illnesses, Cost-Benefit Analysis, Electric Energy Savings, Net Monetary Benefit, Heat Engine, Refrigerator, Heat Pump, Thermal Efficiency, Coefficient of Performance, Entropy Change, Isentropic Efficiency, Reversible Process, Irreversible Process, Carnot Cycle, Energy Balance, Entropy Balance, Steady-Flow, Closed System, Ideal Gas, Specific Heat, Specific Volume, Enthalpy, Internal Energy, Pressure, Temperature, Steam, R-134a, Air, Nitrogen, Helium, Compressor, Turbine, Pump, Nozzle, Isentropic Process, Polytropic Process, Isothermal Process, Two-Stage Compression, Intercooling, Entropy Generation, Isentropic Efficiency, Common Mistakes, Exergy, Irreversibility, Second-Law Efficiency, Combined Gas-Vapor Power Cycle, FE Exam Problems, Compressible Flow, Stagnation Properties, Stagnation Temperature, Stagnation Pressure, Dynamic Temperature, Speed of Sound, Mach Number, Isentropic Flow, Converging-Diverging Nozzle, Choked Flow, Critical Properties, Shock Waves, Expansion Waves, Normal Shock Waves, Oblique Shock Waves, Prandtl-Meyer Expansion Waves, Rayleigh Flow, Rayleigh Line, Steam Nozzles, Supersaturation, Nozzle Efficiency, FE Exam Problems, Equilibrium Constant, Henry\\'s Law, Solubility. \\n')]]"
      ]
     },
     "execution_count": 19,
     "metadata": {},
     "output_type": "execute_result"
    }
   ],
   "source": [
    "summarized_documents"
   ]
  },
  {
   "cell_type": "markdown",
   "metadata": {},
   "source": [
    "### GROQ"
   ]
  },
  {
   "cell_type": "code",
   "execution_count": 13,
   "metadata": {},
   "outputs": [
    {
     "ename": "NameError",
     "evalue": "name 'InMemoryRateLimiter' is not defined",
     "output_type": "error",
     "traceback": [
      "\u001b[0;31m---------------------------------------------------------------------------\u001b[0m",
      "\u001b[0;31mNameError\u001b[0m                                 Traceback (most recent call last)",
      "Cell \u001b[0;32mIn[13], line 3\u001b[0m\n\u001b[1;32m      1\u001b[0m \u001b[38;5;28;01mfrom\u001b[39;00m \u001b[38;5;21;01mlangchain_groq\u001b[39;00m \u001b[38;5;28;01mimport\u001b[39;00m ChatGroq\n\u001b[1;32m      2\u001b[0m model_id \u001b[38;5;241m=\u001b[39m  \u001b[38;5;124m\"\u001b[39m\u001b[38;5;124mllama-3.1-70b-versatile\u001b[39m\u001b[38;5;124m\"\u001b[39m\n\u001b[0;32m----> 3\u001b[0m rate_limiter \u001b[38;5;241m=\u001b[39m \u001b[43mInMemoryRateLimiter\u001b[49m(\n\u001b[1;32m      4\u001b[0m     requests_per_second\u001b[38;5;241m=\u001b[39m\u001b[38;5;241m0.067\u001b[39m,  \u001b[38;5;66;03m# <-- Super slow! We can only make a request once every 10 seconds!!\u001b[39;00m\n\u001b[1;32m      5\u001b[0m     check_every_n_seconds\u001b[38;5;241m=\u001b[39m\u001b[38;5;241m0.1\u001b[39m,  \u001b[38;5;66;03m# Wake up every 100 ms to check whether allowed to make a request,\u001b[39;00m\n\u001b[1;32m      6\u001b[0m     max_bucket_size \u001b[38;5;241m=\u001b[39m \u001b[38;5;241m15\u001b[39m,  \u001b[38;5;66;03m# Controls the maximum burst size.\u001b[39;00m\n\u001b[1;32m      7\u001b[0m )\n\u001b[1;32m      8\u001b[0m llm \u001b[38;5;241m=\u001b[39m ChatGroq(\n\u001b[1;32m      9\u001b[0m     model\u001b[38;5;241m=\u001b[39mmodel_id,\n\u001b[1;32m     10\u001b[0m     temperature\u001b[38;5;241m=\u001b[39m\u001b[38;5;241m0\u001b[39m,\n\u001b[0;32m   (...)\u001b[0m\n\u001b[1;32m     15\u001b[0m     \u001b[38;5;66;03m# other params...\u001b[39;00m\n\u001b[1;32m     16\u001b[0m )\n",
      "\u001b[0;31mNameError\u001b[0m: name 'InMemoryRateLimiter' is not defined"
     ]
    }
   ],
   "source": [
    "from langchain_groq import ChatGroq\n",
    "model_id =  \"llama-3.1-70b-versatile\"\n",
    "rate_limiter = InMemoryRateLimiter(\n",
    "    requests_per_second=0.067,  # <-- Super slow! We can only make a request once every 10 seconds!!\n",
    "    check_every_n_seconds=0.1,  # Wake up every 100 ms to check whether allowed to make a request,\n",
    "    max_bucket_size = 15,  # Controls the maximum burst size.\n",
    ")\n",
    "llm = ChatGroq(\n",
    "    model=model_id,\n",
    "    temperature=0,\n",
    "    max_tokens=None,\n",
    "    timeout=None,\n",
    "    max_retries=2,\n",
    "    api_key=GROQ_API_KEY,\n",
    "    # other params...\n",
    ")"
   ]
  },
  {
   "cell_type": "code",
   "execution_count": 41,
   "metadata": {},
   "outputs": [
    {
     "data": {
      "text/plain": [
       "'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'"
      ]
     },
     "execution_count": 41,
     "metadata": {},
     "output_type": "execute_result"
    }
   ],
   "source": [
    "GROQ_API_KEY=os.environ.get(\"GROQ_WHISPER_KEY\")\n",
    "GROQ_API_KEY"
   ]
  },
  {
   "cell_type": "code",
   "execution_count": 44,
   "metadata": {},
   "outputs": [
    {
     "data": {
      "text/plain": [
       "AIMessage(content='Hello. How can I assist you today?', additional_kwargs={}, response_metadata={'token_usage': {'completion_tokens': 10, 'prompt_tokens': 39, 'total_tokens': 49, 'completion_time': 0.04, 'prompt_time': 0.009308826, 'queue_time': 0.004998464000000001, 'total_time': 0.049308826}, 'model_name': 'llama-3.1-70b-versatile', 'system_fingerprint': 'fp_b3ae7e594e', 'finish_reason': 'stop', 'logprobs': None}, id='run-6c613c6a-39f4-4bf1-8bb8-184bc2dde7c9-0', usage_metadata={'input_tokens': 39, 'output_tokens': 10, 'total_tokens': 49})"
      ]
     },
     "execution_count": 44,
     "metadata": {},
     "output_type": "execute_result"
    }
   ],
   "source": [
    "llm.invoke(\"Hello, world!\")"
   ]
  },
  {
   "cell_type": "code",
   "execution_count": 14,
   "metadata": {},
   "outputs": [],
   "source": [
    "from langchain_google_genai import GoogleGenerativeAIEmbeddings\n",
    "embeddings = GoogleGenerativeAIEmbeddings(model=\"models/text-embedding-004\",google_api_key=GEMINI_API_KEY)"
   ]
  },
  {
   "cell_type": "code",
   "execution_count": 15,
   "metadata": {},
   "outputs": [
    {
     "ename": "NameError",
     "evalue": "name 'summarized_documents' is not defined",
     "output_type": "error",
     "traceback": [
      "\u001b[0;31m---------------------------------------------------------------------------\u001b[0m",
      "\u001b[0;31mNameError\u001b[0m                                 Traceback (most recent call last)",
      "Cell \u001b[0;32mIn[15], line 1\u001b[0m\n\u001b[0;32m----> 1\u001b[0m \u001b[38;5;28mlen\u001b[39m(\u001b[43msummarized_documents\u001b[49m),\u001b[38;5;28mlen\u001b[39m(File_paths)\n",
      "\u001b[0;31mNameError\u001b[0m: name 'summarized_documents' is not defined"
     ]
    }
   ],
   "source": [
    "len(summarized_documents),len(File_paths)"
   ]
  },
  {
   "cell_type": "code",
   "execution_count": 16,
   "metadata": {},
   "outputs": [
    {
     "name": "stderr",
     "output_type": "stream",
     "text": [
      "/tmp/ipykernel_11015/2633589271.py:12: LangChainDeprecationWarning: The class `Chroma` was deprecated in LangChain 0.2.9 and will be removed in 1.0. An updated version of the class exists in the :class:`~langchain-chroma package and should be used instead. To use it run `pip install -U :class:`~langchain-chroma` and import as `from :class:`~langchain_chroma import Chroma``.\n",
      "  vector_store = Chroma(embedding_function=embeddings, persist_directory=\"Summaries-2\")\n"
     ]
    }
   ],
   "source": [
    "from langchain.vectorstores import Chroma\n",
    "from langchain.embeddings import OpenAIEmbeddings\n",
    "from langchain.document_loaders import TextLoader\n",
    "from langchain.text_splitter import CharacterTextSplitter\n",
    "from langchain.docstore.document import Document\n",
    "import os\n",
    "from langchain_google_genai import GoogleGenerativeAIEmbeddings\n",
    "GEMINI_API_KEY = os.environ.get(\"GEMINI_API\")\n",
    "embeddings = GoogleGenerativeAIEmbeddings(model=\"models/text-embedding-004\",google_api_key=GEMINI_API_KEY)\n",
    "\n",
    "# Create a Chroma instance\n",
    "vector_store = Chroma(embedding_function=embeddings, persist_directory=\"Summaries-2\")\n",
    "\n",
    "# Load documents (replace with your own document loading logic)\n"
   ]
  },
  {
   "cell_type": "code",
   "execution_count": 17,
   "metadata": {},
   "outputs": [],
   "source": [
    "\n",
    "#! Saving the summarized documents, for future use\n",
    "# with open('summaries.txt', 'w') as f:\n",
    "#     for item in summarized_documents:\n",
    "#         f.write(\"%s\\n\" % item)"
   ]
  },
  {
   "cell_type": "code",
   "execution_count": 18,
   "metadata": {},
   "outputs": [
    {
     "ename": "NameError",
     "evalue": "name 'summarized_documents' is not defined",
     "output_type": "error",
     "traceback": [
      "\u001b[0;31m---------------------------------------------------------------------------\u001b[0m",
      "\u001b[0;31mNameError\u001b[0m                                 Traceback (most recent call last)",
      "Cell \u001b[0;32mIn[18], line 1\u001b[0m\n\u001b[0;32m----> 1\u001b[0m \u001b[38;5;28;01mfor\u001b[39;00m x \u001b[38;5;129;01min\u001b[39;00m \u001b[43msummarized_documents\u001b[49m: \n\u001b[1;32m      2\u001b[0m     vector_store\u001b[38;5;241m.\u001b[39madd_documents(x)\n",
      "\u001b[0;31mNameError\u001b[0m: name 'summarized_documents' is not defined"
     ]
    }
   ],
   "source": [
    "for x in summarized_documents: \n",
    "    vector_store.add_documents(x)\n"
   ]
  },
  {
   "cell_type": "code",
   "execution_count": 19,
   "metadata": {},
   "outputs": [],
   "source": [
    "retriever_or = vector_store.as_retriever()"
   ]
  },
  {
   "cell_type": "code",
   "execution_count": 20,
   "metadata": {},
   "outputs": [
    {
     "data": {
      "text/plain": [
       "[Document(metadata={}, page_content='File_path: Papers/ESO201/Chem Thermo 1.pdf \\n## Summary:\\n\\nThis document provides a comprehensive overview of fundamental concepts in chemical thermodynamics, focusing on predicting the spontaneity of chemical reactions and processes. It begins by introducing internal energy, its relationship to heat transfer, work, and matter exchange, and the first law of thermodynamics, which states that the energy of an isolated system remains constant. \\n\\nThe document explores pressure-volume work, relevant for gases, and the concept of reversible processes involving infinitesimal changes in pressure and volume. It then delves into heat capacity, the amount of heat required to raise the temperature of a system, distinguishing between specific and molar heat capacities. \\n\\nThe document introduces entropy, a thermodynamic state function representing the randomness or disorder of a system, highlighting factors that affect it, such as randomness, heat absorption, temperature, volume, and molecular complexity. The third law of thermodynamics, stating that the entropy of a perfectly crystalline substance is zero at absolute zero, is also discussed. \\n\\nThe document explores spontaneity, the tendency of a process to occur naturally. It explains that spontaneity is governed by a decrease in energy (exothermic reactions) and an increase in entropy, with both factors needing to be considered simultaneously.\\n\\nThe document introduces Gibbs free energy (G = H - TS), where H is enthalpy, T is temperature, and S is entropy. It explains that Gibbs free energy change (ΔG) provides a direct measure of spontaneity: a negative ΔG indicates a spontaneous process, a positive ΔG indicates a non-spontaneous process, and a ΔG of zero signifies equilibrium.\\n\\nFinally, the document discusses the equilibrium constant (K_eq), a measure of the extent to which a reaction proceeds to completion at equilibrium. The document explains that the magnitude of ΔG° (standard Gibbs free energy change) determines the value of K_eq. A large K_eq indicates a reaction that favors product formation, while a small K_eq indicates a reaction that favors reactant formation. \\n\\n## Keywords:\\n\\nInternal Energy, Work, Heat Capacity, Entropy, Gibbs Free Energy, Spontaneity, Equilibrium Constant, First Law of Thermodynamics, Second Law of Thermodynamics, Third Law of Thermodynamics, Reversible Process, Irreversible Process, Exothermic, Endothermic, Enthalpy, Temperature, Pressure, Volume, Reaction Quotient, Standard Conditions, Standard Gibbs Free Energy of Formation, Phase Transition, Absolute Entropy. \\n'),\n",
       " Document(metadata={}, page_content='File_path: Papers/ESO201/Lecture 6.pdf \\n## Summary:\\n\\nThis document delves into the concept of potential energy (P.E.) and its various forms: intermolecular, intramolecular, and intra-atomic. It explores how these forms influence physical properties and processes, including phase transitions, dissolution, chemical reactions, and nuclear fission. \\n\\n**Intermolecular P.E.** plays a crucial role in phase changes, such as liquid to vapor, as well as in processes like dissolution, osmosis, and reverse osmosis. **Intramolecular P.E.** is significant during chemical reactions, including combustion and methane reforming. **Intra-atomic P.E.** is involved in nuclear fission.\\n\\nThe document further examines the properties of compressed liquids and provides an approximation method for calculating their enthalpy. It defines relative humidity and highlights its impact on thermal comfort and environmental processes, such as drying and precipitation.\\n\\n**Keywords:** Potential Energy, Intermolecular P.E., Intramolecular P.E., Intra-atomic P.E., Phase Changes, Dissolution, Osmosis, Reverse Osmosis, Chemical Reactions, Combustion, Reforming, Nuclear Fission, Compressed Liquids, Relative Humidity, Thermal Comfort, Precipitation. \\n'),\n",
       " Document(metadata={}, page_content=\"File_path: Papers/ESO201/Lecture 3.pdf \\nThis document provides a comprehensive explanation of internal energy, its relationship to the first law of thermodynamics, and its applications. It defines internal energy as the energy associated with the microscopic components of a system, excluding external forces. The state postulate is introduced, stating that two independent variables are sufficient to determine all other properties for a simple compressible system. Joule's experiments are highlighted, proving the equivalence of different energy forms in changing internal energy and establishing it as a state function.\\n\\nThe first law of thermodynamics is introduced, initially for adiabatic processes, where work done on the system equals the change in internal energy. This law is then generalized to encompass heat transfer and changes in kinetic and potential energy. The document explains heat transfer and its relationship to internal energy changes, emphasizing that both heat transfer and work are path-dependent.\\n\\nThe document further explores the calculation of work due to volume changes, particularly for slow expansion processes. Two illustrative examples demonstrate applying the first law of thermodynamics: an object falling through a height and the acceleration of air by a fan. These examples showcase the universality of the first law, regardless of system definition or external forces.\\n\\n**Keywords:** Internal energy, state postulate, Joule's experiments, adiabatic process, first law of thermodynamics, heat transfer, work, state function, path-dependent, volume change, kinetic energy, potential energy, control mass, system, equilibrium states. \\n\"),\n",
       " Document(metadata={}, page_content='File_path: Papers/ESO201/thermo_solution_8thedi.pdf \\nThis document is a solutions manual for the textbook \"Thermodynamics: An Engineering Approach\" by Yunus A. Cengel and Michael A. Boles, covering Chapters 1 and 2. It provides comprehensive solutions to problems related to fundamental thermodynamic concepts, energy transfer, and energy analysis for closed and open systems. The manual covers a wide range of topics including the First Law of Thermodynamics, energy conversion efficiencies, energy and environmental concerns, mechanisms of heat transfer, closed system energy analysis, control volume mass and energy analysis, compressor and turbine operations, nozzle and diffuser dynamics, throttling valve applications, mixing chambers and heat exchangers, pipe and duct flow, charging and discharging processes, thermodynamic cycles like Carnot, Otto, and Diesel cycles, refrigeration cycles, combined cycles, exergy analysis, compressible flow, stagnation properties, speed of sound, Mach number, one-dimensional isentropic flow, shock waves, expansion waves, Rayleigh flow, steam nozzles, and FE exam problems. The document utilizes EES software for complex problems and provides numerous solved problems, explanations of common mistakes, and practical tips for improving the efficiency of various thermodynamic systems.\\n\\nKeywords: Thermodynamics, Solutions Manual, Chapter 1, Introduction, Basic Concepts, Chapter 2, Energy, Energy Transfer, General Energy Analysis, Classical vs. Statistical Thermodynamics, Conservation of Energy Principle, Mass, Force, Units, Gravitational Acceleration, Weight, Density, Specific Gravity, Temperature, Pressure, Absolute vs. Gage Pressure, Manometer, Barometer, Systems, Properties, State, Processes, Closed System, Open System, Intensive Property, Extensive Property, State, Process, Quasi-equilibrium Process, Isothermal, Isobaric, Isochoric Processes, Forms of Energy, Total Energy, Kinetic Energy, Potential Energy, Internal Energy, Thermal Energy, Mechanical Energy, Energy Transfer by Heat and Work, Heat, Work, Mechanical Forms of Work, Shaft Work, Spring Work, Boundary Work, The First Law of Thermodynamics, Energy Conversion Efficiencies, Pump Efficiency, Turbine Efficiency, Generator Efficiency, Energy and Environment, Environmental Pollution, Greenhouse Effect, Global Warming, Smog, Acid Rain, Mechanisms of Heat Transfer, Conduction, Convection, Radiation, Blackbody, Emissivity, Absorptivity, Compressibility Factor, Ideal Gas, Reduced Pressure, Reduced Temperature, Boundary Work, Isothermal Process, Polytropic Process, Isentropic Process, Adiabatic Process, Closed System, Control Volume, Steady-Flow Process, Unsteady-Flow Process, Mass Flow Rate, Volume Flow Rate, Flow Work, Enthalpy, Specific Heat, Internal Energy, Kinetic Energy, Potential Energy, Metabolizable Energy, Basal Metabolic Rate, Body Mass Index (BMI), Compressor, Turbine, Nozzle, Diffuser, Throttling Valve, Mixing Chamber, Heat Exchanger, Pipe Flow, Duct Flow, Charging, Discharging, Heat Transfer, Work, Enthalpy, Internal Energy, Specific Heat, Specific Volume, Temperature, Pressure, Velocity, Mass Flow Rate, Volume Flow Rate, Quality, Efficiency, EES Software, Ideal Gas, Incompressible Fluid, Air, Steam, Refrigerant, Water, Helium, Nitrogen, Oxygen, Combustion Gases, Geothermal Water, Electronic Devices, Air Conditioning, Ventilation, Infiltration, Exfiltration, Heat Loss, Heat Gain, Power, Flow Work, Boundary Work, Heat of Vaporization, Heat of Hydration, Specific Heat Ratio, Immersion Chilling, Regeneration, Aftercooler, Turbocharger, Flash Chamber, Separator, Air Bag, Showerhead, Heat Exchanger Effectiveness, Air Ballast Tank, Submarine, Electric Resistance Heater, Power Rating, Average Velocity, Draining Time, Air Changes per Hour (ACH), Productivity, Respiratory Illnesses, Cost-Benefit Analysis, Electric Energy Savings, Net Monetary Benefit, Heat Engine, Refrigerator, Heat Pump, Thermal Efficiency, Coefficient of Performance, Entropy Change, Isentropic Efficiency, Reversible Process, Irreversible Process, Carnot Cycle, Energy Balance, Entropy Balance, Steady-Flow, Closed System, Ideal Gas, Specific Heat, Specific Volume, Enthalpy, Internal Energy, Pressure, Temperature, Steam, R-134a, Air, Nitrogen, Helium, Compressor, Turbine, Pump, Nozzle, Isentropic Process, Polytropic Process, Isothermal Process, Two-Stage Compression, Intercooling, Entropy Generation, Isentropic Efficiency, Common Mistakes, Exergy, Irreversibility, Second-Law Efficiency, Combined Gas-Vapor Power Cycle, FE Exam Problems, Compressible Flow, Stagnation Properties, Stagnation Temperature, Stagnation Pressure, Dynamic Temperature, Speed of Sound, Mach Number, Isentropic Flow, Converging-Diverging Nozzle, Choked Flow, Critical Properties, Shock Waves, Expansion Waves, Normal Shock Waves, Oblique Shock Waves, Prandtl-Meyer Expansion Waves, Rayleigh Flow, Rayleigh Line, Steam Nozzles, Supersaturation, Nozzle Efficiency, FE Exam Problems, Equilibrium Constant, Henry\\'s Law, Solubility. \\n')]"
      ]
     },
     "execution_count": 20,
     "metadata": {},
     "output_type": "execute_result"
    }
   ],
   "source": [
    "retriever_or.invoke(\"What is exergy?\")"
   ]
  },
  {
   "cell_type": "code",
   "execution_count": 21,
   "metadata": {},
   "outputs": [],
   "source": [
    "chunks_prompt=\"\"\"\n",
    "Using the Context bellow answer the question {question}, mention the path of the MOST RELAVENT documents.\n",
    "\n",
    "NOTE: The contexts are summaries of maybe very large documents, so scrutinize it well and at the end of each summary keywords are also mentioned, use these also to answer the question.RETURN ONLY PATHS TO THE MOST RELEVANT DOCUMENTS\n",
    "Context:\n",
    "{text}\n",
    "\n",
    "IMPORTANT: The answer should be in the following format:\n",
    "RETURN ONLY JSON DATA NOTHING ELSE\n",
    "```\n",
    "    {{\n",
    "    \"files\": [\n",
    "        {{\n",
    "        \"file_path\": \"path to the file \",\n",
    "        \"reason\":\"How is the file relevant to the question\"\n",
    "        }}\n",
    "    ]\n",
    "    }}\n",
    "    ```\n",
    "\"\"\"\n",
    "RAG_prompt_template=PromptTemplate(input_variables=['text','question'],\n",
    "                                    template=chunks_prompt)"
   ]
  },
  {
   "cell_type": "code",
   "execution_count": 22,
   "metadata": {},
   "outputs": [],
   "source": [
    "def format_docs(docs):\n",
    "    return \"\\n\\n\".join(doc.page_content for doc in docs)"
   ]
  },
  {
   "cell_type": "code",
   "execution_count": 23,
   "metadata": {},
   "outputs": [
    {
     "ename": "NameError",
     "evalue": "name 'gemini_llm' is not defined",
     "output_type": "error",
     "traceback": [
      "\u001b[0;31m---------------------------------------------------------------------------\u001b[0m",
      "\u001b[0;31mNameError\u001b[0m                                 Traceback (most recent call last)",
      "Cell \u001b[0;32mIn[23], line 6\u001b[0m\n\u001b[1;32m      1\u001b[0m \u001b[38;5;66;03m# question = \"Explain me what is the attention mechanism in 100 words\"\u001b[39;00m\n\u001b[1;32m      2\u001b[0m \u001b[38;5;66;03m# context = retriever.invoke(question)\u001b[39;00m\n\u001b[1;32m      3\u001b[0m rag_chain \u001b[38;5;241m=\u001b[39m (\n\u001b[1;32m      4\u001b[0m     {\u001b[38;5;124m\"\u001b[39m\u001b[38;5;124mtext\u001b[39m\u001b[38;5;124m\"\u001b[39m: retriever_or \u001b[38;5;241m|\u001b[39m format_docs, \u001b[38;5;124m\"\u001b[39m\u001b[38;5;124mquestion\u001b[39m\u001b[38;5;124m\"\u001b[39m: RunnablePassthrough()}\n\u001b[1;32m      5\u001b[0m     \u001b[38;5;241m|\u001b[39m RAG_prompt_template\n\u001b[0;32m----> 6\u001b[0m     \u001b[38;5;241m|\u001b[39m \u001b[43mgemini_llm\u001b[49m\n\u001b[1;32m      7\u001b[0m     \u001b[38;5;241m|\u001b[39m StrOutputParser()\n\u001b[1;32m      8\u001b[0m )\n",
      "\u001b[0;31mNameError\u001b[0m: name 'gemini_llm' is not defined"
     ]
    }
   ],
   "source": [
    "# question = \"Explain me what is the attention mechanism in 100 words\"\n",
    "# context = retriever.invoke(question)\n",
    "rag_chain = (\n",
    "    {\"text\": retriever_or | format_docs, \"question\": RunnablePassthrough()}\n",
    "    | RAG_prompt_template\n",
    "    | gemini_llm\n",
    "    | StrOutputParser()\n",
    ")\n"
   ]
  },
  {
   "cell_type": "code",
   "execution_count": 190,
   "metadata": {},
   "outputs": [],
   "source": [
    "question = \"What is entropy?\"\n"
   ]
  },
  {
   "cell_type": "code",
   "execution_count": 1,
   "metadata": {},
   "outputs": [
    {
     "ename": "NameError",
     "evalue": "name 'rag_chain' is not defined",
     "output_type": "error",
     "traceback": [
      "\u001b[0;31m---------------------------------------------------------------------------\u001b[0m",
      "\u001b[0;31mNameError\u001b[0m                                 Traceback (most recent call last)",
      "Cell \u001b[0;32mIn[1], line 2\u001b[0m\n\u001b[1;32m      1\u001b[0m response \u001b[38;5;241m=\u001b[39m \u001b[38;5;124m\"\u001b[39m\u001b[38;5;124m\"\u001b[39m\n\u001b[0;32m----> 2\u001b[0m \u001b[38;5;28;01mfor\u001b[39;00m s \u001b[38;5;129;01min\u001b[39;00m \u001b[43mrag_chain\u001b[49m\u001b[38;5;241m.\u001b[39mstream(question):\n\u001b[1;32m      3\u001b[0m     \u001b[38;5;28mprint\u001b[39m(s)\n\u001b[1;32m      4\u001b[0m     response \u001b[38;5;241m+\u001b[39m\u001b[38;5;241m=\u001b[39m s\n",
      "\u001b[0;31mNameError\u001b[0m: name 'rag_chain' is not defined"
     ]
    }
   ],
   "source": [
    "response = \"\"\n",
    "for s in rag_chain.stream(question):\n",
    "    print(s)\n",
    "    response += s"
   ]
  },
  {
   "cell_type": "code",
   "execution_count": 192,
   "metadata": {},
   "outputs": [
    {
     "data": {
      "text/plain": [
       "'```json\\n{\\n\"files\": [\\n{\\n\"file_path\": \"Papers/ESO201/Chem Thermo 1.pdf\",\\n\"reason\": \"This document provides a comprehensive overview of chemical thermodynamics, including entropy, its definition, and its role in predicting the spontaneity of reactions. It also explores the third law of thermodynamics, which is related to entropy at absolute zero.\"\\n},\\n{\\n\"file_path\": \"Papers/ESO201/Lecture 15.pdf\",\\n\"reason\": \"This document focuses on the concept of entropy, defining it as a thermodynamic property representing a system\\'s energy change due to heat transfer. It explores entropy\\'s role in reversible and irreversible processes, aligning with the second law of thermodynamics.\"\\n},\\n{\\n\"file_path\": \"Papers/ESO201/Lecture 16.pdf\",\\n\"reason\": \"This document delves into entropy change in thermodynamic systems, focusing on pure substances and ideal gases. It explores the Clausius equation, the Increase of entropy principle, and the Gibbs equation, all of which are related to entropy calculations and its implications for different processes.\"\\n},\\n{\\n\"file_path\": \"Papers/ESO201/Chem Thermo 2.pdf\",\\n\"reason\": \"This document offers a comprehensive explanation of chemical thermodynamics, including a thorough discussion of entropy, its role in predicting spontaneity, and its connection to Gibbs free energy and the third law of thermodynamics.\"\\n}\\n]\\n}\\n```'"
      ]
     },
     "execution_count": 192,
     "metadata": {},
     "output_type": "execute_result"
    }
   ],
   "source": [
    "response"
   ]
  },
  {
   "cell_type": "code",
   "execution_count": 152,
   "metadata": {},
   "outputs": [],
   "source": [
    "formated_response = response.strip('`').split('json')[1]"
   ]
  },
  {
   "cell_type": "code",
   "execution_count": 153,
   "metadata": {},
   "outputs": [],
   "source": [
    "json_response = json.loads(formated_response)"
   ]
  },
  {
   "cell_type": "code",
   "execution_count": 154,
   "metadata": {},
   "outputs": [
    {
     "data": {
      "text/plain": [
       "{'files': [{'file_path': 'Papers/ESO201/thermo_solution_8thedi.pdf',\n",
       "   'reason': 'This document provides a comprehensive overview of thermodynamics concepts, including exergy analysis, which directly addresses the question of what exergy is.'}]}"
      ]
     },
     "execution_count": 154,
     "metadata": {},
     "output_type": "execute_result"
    }
   ],
   "source": [
    "json_response"
   ]
  },
  {
   "cell_type": "code",
   "execution_count": 155,
   "metadata": {},
   "outputs": [
    {
     "data": {
      "text/plain": [
       "['Papers/ESO201/thermo_solution_8thedi.pdf']"
      ]
     },
     "execution_count": 155,
     "metadata": {},
     "output_type": "execute_result"
    }
   ],
   "source": [
    "File_paths_relavent = [x['file_path'] for x in json_response['files']]\n",
    "File_paths_relavent"
   ]
  },
  {
   "cell_type": "code",
   "execution_count": 156,
   "metadata": {},
   "outputs": [],
   "source": [
    "from langchain_google_genai import GoogleGenerativeAIEmbeddings\n",
    "embeddings = GoogleGenerativeAIEmbeddings(model=\"models/text-embedding-004\",google_api_key=GEMINI_API_KEY)"
   ]
  },
  {
   "cell_type": "code",
   "execution_count": 157,
   "metadata": {},
   "outputs": [],
   "source": [
    "# Functionizing till split_chunks for vectorization\n",
    "def input_llm_embeddings_pdf(File_path): #!Pass the file path of the pdf, this function will return the split_chunks\n",
    "    # Reading the pdf file\n",
    "    pdfreader = PdfReader(File_path)\n",
    "    text = ''\n",
    "    for i, page in enumerate(pdfreader.pages):\n",
    "        content = page.extract_text()\n",
    "        if content:\n",
    "            text += content\n",
    "    # Converting the text of the pdf of Document object\n",
    "    docs = [Document(page_content=text)]\n",
    "    docs\n",
    "    ## Splittting the text\n",
    "    text_splitter = RecursiveCharacterTextSplitter(chunk_size=5000, chunk_overlap=200) # 300k characters per chunk, or nearly 75,000 tokens\n",
    "    chunks = text_splitter.create_documents([text])\n",
    "    print(chunks)\n",
    "    split_chunks = []\n",
    "    for x in range(0,len(chunks),1400):\n",
    "        split_chunks.append(chunks[x:x+1400])\n",
    "    return split_chunks"
   ]
  },
  {
   "cell_type": "code",
   "execution_count": 159,
   "metadata": {},
   "outputs": [
    {
     "name": "stderr",
     "output_type": "stream",
     "text": [
      "I0000 00:00:1728561119.819930    6090 fork_posix.cc:77] Other threads are currently calling into gRPC, skipping fork() handlers\n"
     ]
    }
   ],
   "source": [
    "!mkdir -p VectorDatabases"
   ]
  },
  {
   "cell_type": "code",
   "execution_count": 160,
   "metadata": {},
   "outputs": [
    {
     "data": {
      "text/plain": [
       "['Papers/ESO201/thermo_solution_8thedi.pdf']"
      ]
     },
     "execution_count": 160,
     "metadata": {},
     "output_type": "execute_result"
    }
   ],
   "source": [
    "File_paths_relavent"
   ]
  },
  {
   "cell_type": "code",
   "execution_count": 169,
   "metadata": {},
   "outputs": [
    {
     "name": "stdout",
     "output_type": "stream",
     "text": [
      "Processing file: Papers/ESO201/thermo_solution_8thedi.pdf\n",
      "Index 1 of 1 completed\n"
     ]
    }
   ],
   "source": [
    "index = 0\n",
    "path_vector_database = Path('VectorDatabases')\n",
    "while index < len(File_paths_relavent):\n",
    "    file_path = File_paths_relavent[index]\n",
    "    print(f\"Processing file: {file_path}\")\n",
    "    print(f\"Index {index+1} of {len(File_paths_relavent)} completed\")\n",
    "\n",
    "    path_vector_db_folder = Path.joinpath(path_vector_database,file_path)\n",
    "    # path_vector_db_folder.mkdir(parents)\n",
    "    path_vector_db_folder.mkdir(parents=True, exist_ok=True)\n",
    "    if not path_vector_db_folder.exists():\n",
    "        split_chunks = input_llm_embeddings_pdf(file_path)\n",
    "        try:\n",
    "            for chunks in split_chunks:\n",
    "                vector_store = Chroma(embedding_function=embeddings, persist_directory=str(path_vector_db_folder))\n",
    "                # print(f\"Adding document {docs}\")\n",
    "                vector_store.add_documents(chunks)\n",
    "        except Exception as e:\n",
    "            print(f\"Exception: {e}\")\n",
    "            print(\"Resource exhausted, waiting for 60 seconds...\")\n",
    "            index -= 1\n",
    "            time.sleep(60)\n",
    "    index += 1\n"
   ]
  },
  {
   "cell_type": "code",
   "execution_count": 170,
   "metadata": {},
   "outputs": [],
   "source": [
    "retriever = vector_store.as_retriever()"
   ]
  },
  {
   "cell_type": "code",
   "execution_count": 173,
   "metadata": {},
   "outputs": [],
   "source": [
    "chunks_prompt=\"\"\"\n",
    "Using the Context bellow answer the question {question}, also mention the page number, name of the doc, etc relavent details at /the end of the response.Try to gatter as much information as possible from the context, and answer on the basis of that, if the context is not enough to answer the question, then mention that in the response, along with what you were able to gather from the context.\n",
    "\n",
    "Context:\n",
    "{text}\n",
    "\"\"\"\n",
    "RAG_prompt_template=PromptTemplate(input_variables=['text','question'],\n",
    "                                    template=chunks_prompt)\n",
    "def format_docs(docs):\n",
    "    return \"\\n\\n\".join(doc.page_content for doc in docs)\n",
    "context = retriever.invoke(question)\n",
    "rag_chain = (\n",
    "    {\"text\": retriever | format_docs, \"question\": RunnablePassthrough()}\n",
    "    | RAG_prompt_template\n",
    "    | gemini_llm\n",
    "    | StrOutputParser()\n",
    ")\n",
    "\n",
    "from langchain_google_genai import ChatGoogleGenerativeAI\n",
    "GEMINI_API_KEY=os.environ.get(\"GEMINI_API\")\n",
    "llm = ChatGoogleGenerativeAI(model=\"gemini-1.5-flash\",api_key=GEMINI_API_KEY)\n",
    "os.environ[\"LANGCHAIN_TRACING_V2\"] = \"true\"\n",
    "os.environ[\"LANGCHAIN_API_KEY\"]=os.environ.get(\"LANGCHAIN_API\")\n",
    "os.environ[\"LANGCHAIN_ENDPOINT\"]=\"https://api.smith.langchain.com\"\n",
    "os.environ[\"LANGCHAIN_PROJECT\"]=\"LearnLang\""
   ]
  },
  {
   "cell_type": "code",
   "execution_count": 174,
   "metadata": {},
   "outputs": [],
   "source": [
    "# context = list()\n",
    "# index = 0\n",
    "# path_vector_database = Path('VectorDatabases')\n",
    "# while index < len(File_paths_relavent):\n",
    "#     file_path = File_paths_relavent[index]\n",
    "#     print(f\"Processing file: {file_path}\")\n",
    "#     print(f\"Index {index+1} of {len(File_paths_relavent)} completed\")\n",
    "\n",
    "#     path_vector_db_folder = Path.joinpath(path_vector_database,file_path)\n",
    "#     path_vector_db = Path.joinpath(path_vector_db_folder, \"faiss_index.index\")\n",
    "#     path_docstore = Path.joinpath(path_vector_db_folder, \"docstore.pkl\")\n",
    "#     loaded_faiss_index = faiss.read_index(str(path_vector_db))\n",
    "#     # Load the docstore and index_to_docstore_id\n",
    "#     with open(str(path_docstore), 'rb') as f:\n",
    "#         loaded_docstore = pickle.load(f)\n",
    "\n",
    "#     with open(str(path_index_to_docstore_id), 'rb') as f:\n",
    "#         loaded_index_to_docstore_id = pickle.load(f)\n",
    "\n",
    "\n",
    "#     vector_db_loaded = FAISS(\n",
    "#         embeddings.embed_query, \n",
    "#         loaded_faiss_index, \n",
    "#         loaded_docstore, \n",
    "#         loaded_index_to_docstore_id\n",
    "#     )\n",
    "#     retriever = vector_db_loaded.as_retriever()\n",
    "#     context.extend(retriever.invoke(question))\n",
    "#     index += 1"
   ]
  },
  {
   "cell_type": "code",
   "execution_count": 175,
   "metadata": {},
   "outputs": [
    {
     "name": "stdout",
     "output_type": "stream",
     "text": [
      "The\n",
      " context provided does not directly define exergy. However, it does mention it in\n",
      " relation to the work potential of various systems, such as blowing air for windmills and\n",
      " water stored at a high elevation for a hydroelectric power plant. \n",
      "\n",
      "Here's what we can gather from the context:\n",
      "\n",
      "* **Exergy is related to the work\n",
      " potential of a system.** This means it represents the maximum amount of useful work that can be extracted from a system as it comes to equilibrium with its surroundings.\n",
      "* **\n",
      "Exergy is a function of the state of the surroundings as well as the state of the system.** This implies that exergy is not just an intrinsic property of the system itself, but also depends on the environment it is in.\n",
      "*\n",
      " **Exergy can be expressed in units of energy.** The context shows examples using kJ/kg and kWh.\n",
      "\n",
      "**Based on the context, we can infer that exergy is a measure of the potential for useful work that a system possesses\n",
      ", taking into account both the system's state and the state of its surroundings.**\n",
      "\n",
      "**For a more comprehensive definition of exergy, you would need to refer to a thermodynamics textbook or other reliable source.**\n",
      "\n",
      "**Relevant details:**\n",
      "\n",
      "* **Source:** Solutions Manual for Thermodynamics: An Engineering Approach 8th Edition\n",
      " by Yunus A. Çengel, Michael A. Boles\n",
      "* **Page:** 8-2\n",
      "* **Chapter:** 8: Exergy \n",
      "\n"
     ]
    }
   ],
   "source": [
    "for s in rag_chain.stream(question):\n",
    "    print(s)"
   ]
  },
  {
   "cell_type": "code",
   "execution_count": 177,
   "metadata": {},
   "outputs": [
    {
     "name": "stderr",
     "output_type": "stream",
     "text": [
      "2024-10-10 17:34:47.730 Thread 'MainThread': missing ScriptRunContext! This warning can be ignored when running in bare mode.\n",
      "2024-10-10 17:34:47.733 Thread 'MainThread': missing ScriptRunContext! This warning can be ignored when running in bare mode.\n",
      "2024-10-10 17:34:47.734 Thread 'MainThread': missing ScriptRunContext! This warning can be ignored when running in bare mode.\n",
      "2024-10-10 17:34:47.735 Thread 'MainThread': missing ScriptRunContext! This warning can be ignored when running in bare mode.\n",
      "2024-10-10 17:34:47.736 Thread 'MainThread': missing ScriptRunContext! This warning can be ignored when running in bare mode.\n",
      "2024-10-10 17:34:47.737 Thread 'MainThread': missing ScriptRunContext! This warning can be ignored when running in bare mode.\n",
      "2024-10-10 17:34:47.739 Thread 'MainThread': missing ScriptRunContext! This warning can be ignored when running in bare mode.\n",
      "2024-10-10 17:34:47.740 Thread 'MainThread': missing ScriptRunContext! This warning can be ignored when running in bare mode.\n"
     ]
    },
    {
     "data": {
      "text/plain": [
       "<Popen: returncode: None args: ['streamlit', 'run', 'app.py']>"
      ]
     },
     "execution_count": 177,
     "metadata": {},
     "output_type": "execute_result"
    },
    {
     "name": "stderr",
     "output_type": "stream",
     "text": [
      "Usage: streamlit run [OPTIONS] TARGET [ARGS]...\n",
      "Try 'streamlit run --help' for help.\n",
      "\n",
      "Error: Invalid value: File does not exist: app.py\n"
     ]
    }
   ],
   "source": [
    "import streamlit as st\n",
    "\n",
    "# Assuming rag_chain is already defined and set up\n",
    "# Example:\n",
    "# rag_chain = YourChainObject()\n",
    "\n",
    "def stream_question(question):\n",
    "    # Stream each result from the chain\n",
    "    for s in rag_chain.stream(question):\n",
    "        # Print each result in the Streamlit app\n",
    "        st.write(s)  # You can use st.text(s) or st.markdown(s) for different formatting\n",
    "\n",
    "# Streamlit UI\n",
    "st.title(\"Streaming Question Answering\")\n",
    "\n",
    "# Input question from user\n",
    "question = st.text_input(\"Enter your question:\")\n",
    "\n",
    "# When a question is provided, stream the output\n"
   ]
  },
  {
   "cell_type": "code",
   "execution_count": 49,
   "metadata": {},
   "outputs": [],
   "source": [
    "# file_path = File_paths_relavent[0]\n",
    "# def return_context(question):\n",
    "#     index = 0\n",
    "#     while index < len(File_paths_relavent):\n",
    "#         file_path = File_paths_relavent[index]\n",
    "#         print(f\"Processing file: {file_path}\")\n",
    "#         print(f\"Index {index+1} of {len(File_paths_relavent)} completed\")\n",
    "\n",
    "#         path_vector_db_folder = Path.joinpath(path_vector_database,file_path)\n",
    "#         path_vector_db = Path.joinpath(path_vector_db_folder, \"faiss_index.index\")\n",
    "#         path_docstore = Path.joinpath(path_vector_db_folder, \"docstore.pkl\")\n",
    "#         loaded_faiss_index = faiss.read_index(str(path_vector_db))\n",
    "#         # Load the docstore and index_to_docstore_id\n",
    "#         with open(str(path_docstore), 'rb') as f:\n",
    "#             loaded_docstore = pickle.load(f)\n",
    "\n",
    "#         with open(str(path_index_to_docstore_id), 'rb') as f:\n",
    "#             loaded_index_to_docstore_id = pickle.load(f)\n",
    "\n",
    "\n",
    "#         vector_db_loaded = FAISS(\n",
    "#             embeddings.embed_query, \n",
    "#             loaded_faiss_index, \n",
    "#             loaded_docstore, \n",
    "#             loaded_index_to_docstore_id\n",
    "#         )\n",
    "#         retriever = vector_db_loaded.as_retriever()\n",
    "#         context.extend(retriever.invoke(question))\n",
    "#         index +=1 \n",
    "#     return context"
   ]
  },
  {
   "cell_type": "code",
   "execution_count": 72,
   "metadata": {},
   "outputs": [
    {
     "ename": "NameError",
     "evalue": "name 'return_context' is not defined",
     "output_type": "error",
     "traceback": [
      "\u001b[0;31m---------------------------------------------------------------------------\u001b[0m",
      "\u001b[0;31mNameError\u001b[0m                                 Traceback (most recent call last)",
      "Cell \u001b[0;32mIn[72], line 13\u001b[0m\n\u001b[1;32m     10\u001b[0m     \u001b[38;5;28;01mreturn\u001b[39;00m \u001b[38;5;124m\"\u001b[39m\u001b[38;5;130;01m\\n\u001b[39;00m\u001b[38;5;130;01m\\n\u001b[39;00m\u001b[38;5;124m\"\u001b[39m\u001b[38;5;241m.\u001b[39mjoin(doc\u001b[38;5;241m.\u001b[39mpage_content \u001b[38;5;28;01mfor\u001b[39;00m doc \u001b[38;5;129;01min\u001b[39;00m docs)\n\u001b[1;32m     11\u001b[0m context \u001b[38;5;241m=\u001b[39m retriever\u001b[38;5;241m.\u001b[39minvoke(question)\n\u001b[1;32m     12\u001b[0m rag_chain \u001b[38;5;241m=\u001b[39m (\n\u001b[0;32m---> 13\u001b[0m     {\u001b[38;5;124m\"\u001b[39m\u001b[38;5;124mtext\u001b[39m\u001b[38;5;124m\"\u001b[39m: \u001b[43mreturn_context\u001b[49m , \u001b[38;5;124m\"\u001b[39m\u001b[38;5;124mquestion\u001b[39m\u001b[38;5;124m\"\u001b[39m: RunnablePassthrough()}\n\u001b[1;32m     14\u001b[0m     \u001b[38;5;241m|\u001b[39m RAG_prompt_template\n\u001b[1;32m     15\u001b[0m     \u001b[38;5;241m|\u001b[39m llm\n\u001b[1;32m     16\u001b[0m     \u001b[38;5;241m|\u001b[39m StrOutputParser()\n\u001b[1;32m     17\u001b[0m )\n",
      "\u001b[0;31mNameError\u001b[0m: name 'return_context' is not defined"
     ]
    }
   ],
   "source": [
    "chunks_prompt=\"\"\"\n",
    "Using the Context bellow answer the question {question}, also mention the page number, name of the doc, etc relavent details at /the end of the response.\n",
    "\n",
    "Context:\n",
    "{text}\n",
    "\"\"\"\n",
    "RAG_prompt_template=PromptTemplate(input_variables=['text','question'],\n",
    "                                    template=chunks_prompt)\n",
    "def format_docs(docs):\n",
    "    return \"\\n\\n\".join(doc.page_content for doc in docs)\n",
    "context = retriever.invoke(question)\n",
    "rag_chain = (\n",
    "    {\"text\": return_context , \"question\": RunnablePassthrough()}\n",
    "    | RAG_prompt_template\n",
    "    | llm\n",
    "    | StrOutputParser()\n",
    ")"
   ]
  },
  {
   "cell_type": "code",
   "execution_count": 52,
   "metadata": {},
   "outputs": [
    {
     "name": "stderr",
     "output_type": "stream",
     "text": [
      "`embedding_function` is expected to be an Embeddings object, support for passing in a function will soon be removed.\n"
     ]
    },
    {
     "name": "stdout",
     "output_type": "stream",
     "text": [
      "Processing file: Papers/Attention_is_all_you_need.pdf\n",
      "Index 1 of 1 completed\n"
     ]
    }
   ],
   "source": [
    "response = rag_chain.invoke(question)"
   ]
  },
  {
   "cell_type": "code",
   "execution_count": 53,
   "metadata": {},
   "outputs": [
    {
     "data": {
      "text/plain": [
       "'The attention mechanism in a neural network allows the model to focus on specific parts of the input sequence when processing information. It assigns weights to different parts of the input, giving more importance to relevant elements. This is done by calculating a \"compatibility function\" between a \"query\" and a set of \"key-value\" pairs.  The weights are then used to compute a weighted sum of the \"values,\" yielding an output that reflects the attended information.\\n\\nThis explanation is from the document titled \"Attention is All You Need\", on page 3. \\n'"
      ]
     },
     "execution_count": 53,
     "metadata": {},
     "output_type": "execute_result"
    }
   ],
   "source": [
    "response"
   ]
  },
  {
   "cell_type": "code",
   "execution_count": null,
   "metadata": {},
   "outputs": [],
   "source": []
  }
 ],
 "metadata": {
  "kernelspec": {
   "display_name": "GlobalPythonEnv",
   "language": "python",
   "name": "python3"
  },
  "language_info": {
   "codemirror_mode": {
    "name": "ipython",
    "version": 3
   },
   "file_extension": ".py",
   "mimetype": "text/x-python",
   "name": "python",
   "nbconvert_exporter": "python",
   "pygments_lexer": "ipython3",
   "version": "3.12.3"
  }
 },
 "nbformat": 4,
 "nbformat_minor": 2
}
